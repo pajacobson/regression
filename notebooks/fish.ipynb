{
 "cells": [
  {
   "cell_type": "code",
   "execution_count": 1,
   "id": "fe5b5f9f",
   "metadata": {},
   "outputs": [],
   "source": [
    "import numpy as np\n",
    "import pandas as pd\n",
    "import matplotlib.pyplot as plt\n",
    "import seaborn as sns\n",
    "import statsmodels.formula.api as smf"
   ]
  },
  {
   "cell_type": "code",
   "execution_count": 2,
   "id": "cbb74754",
   "metadata": {},
   "outputs": [],
   "source": [
    "import warnings\n",
    "warnings.filterwarnings('ignore')"
   ]
  },
  {
   "cell_type": "code",
   "execution_count": 3,
   "id": "7c70fa0c",
   "metadata": {},
   "outputs": [],
   "source": [
    "sns.set_theme()\n",
    "plt.rcParams['figure.figsize'] = [8,8]"
   ]
  },
  {
   "cell_type": "code",
   "execution_count": 4,
   "id": "958e817f",
   "metadata": {},
   "outputs": [
    {
     "data": {
      "text/plain": [
       "(34299, 101)"
      ]
     },
     "execution_count": 4,
     "metadata": {},
     "output_type": "execute_result"
    }
   ],
   "source": [
    "fish = pd.read_csv(\"fish.csv\")\n",
    "fish.shape"
   ]
  },
  {
   "cell_type": "code",
   "execution_count": 5,
   "id": "cf8a5032",
   "metadata": {},
   "outputs": [
    {
     "data": {
      "text/plain": [
       "Index(['SpecCode', 'Species', 'Genus', 'SpeciesRefNo', 'Author', 'FBname',\n",
       "       'PicPreferredName', 'PicPreferredNameM', 'PicPreferredNameF',\n",
       "       'PicPreferredNameJ',\n",
       "       ...\n",
       "       'Profile', 'PD50', 'Emblematic', 'Entered', 'DateEntered', 'Modified',\n",
       "       'DateModified', 'Expert', 'DateChecked', 'TS'],\n",
       "      dtype='object', length=101)"
      ]
     },
     "execution_count": 5,
     "metadata": {},
     "output_type": "execute_result"
    }
   ],
   "source": [
    "fish.columns"
   ]
  },
  {
   "cell_type": "code",
   "execution_count": 6,
   "id": "d77bc999",
   "metadata": {},
   "outputs": [
    {
     "data": {
      "text/html": [
       "<div>\n",
       "<style scoped>\n",
       "    .dataframe tbody tr th:only-of-type {\n",
       "        vertical-align: middle;\n",
       "    }\n",
       "\n",
       "    .dataframe tbody tr th {\n",
       "        vertical-align: top;\n",
       "    }\n",
       "\n",
       "    .dataframe thead th {\n",
       "        text-align: right;\n",
       "    }\n",
       "</style>\n",
       "<table border=\"1\" class=\"dataframe\">\n",
       "  <thead>\n",
       "    <tr style=\"text-align: right;\">\n",
       "      <th></th>\n",
       "      <th>Species</th>\n",
       "      <th>Length</th>\n",
       "      <th>Weight</th>\n",
       "    </tr>\n",
       "  </thead>\n",
       "  <tbody>\n",
       "    <tr>\n",
       "      <th>0</th>\n",
       "      <td>Aapticheilichthys websteri</td>\n",
       "      <td>3.08</td>\n",
       "      <td>NaN</td>\n",
       "    </tr>\n",
       "    <tr>\n",
       "      <th>1</th>\n",
       "      <td>Aaptosyax grypus</td>\n",
       "      <td>130.00</td>\n",
       "      <td>30000.0</td>\n",
       "    </tr>\n",
       "    <tr>\n",
       "      <th>2</th>\n",
       "      <td>Abactochromis labrosus</td>\n",
       "      <td>11.50</td>\n",
       "      <td>NaN</td>\n",
       "    </tr>\n",
       "    <tr>\n",
       "      <th>3</th>\n",
       "      <td>Abalistes filamentosus</td>\n",
       "      <td>32.50</td>\n",
       "      <td>1375.0</td>\n",
       "    </tr>\n",
       "    <tr>\n",
       "      <th>4</th>\n",
       "      <td>Abalistes stellaris</td>\n",
       "      <td>60.00</td>\n",
       "      <td>NaN</td>\n",
       "    </tr>\n",
       "    <tr>\n",
       "      <th>...</th>\n",
       "      <td>...</td>\n",
       "      <td>...</td>\n",
       "      <td>...</td>\n",
       "    </tr>\n",
       "    <tr>\n",
       "      <th>34294</th>\n",
       "      <td>Zu cristatus</td>\n",
       "      <td>118.00</td>\n",
       "      <td>NaN</td>\n",
       "    </tr>\n",
       "    <tr>\n",
       "      <th>34295</th>\n",
       "      <td>Zu elongatus</td>\n",
       "      <td>120.00</td>\n",
       "      <td>NaN</td>\n",
       "    </tr>\n",
       "    <tr>\n",
       "      <th>34296</th>\n",
       "      <td>Zungaro jahu</td>\n",
       "      <td>140.00</td>\n",
       "      <td>NaN</td>\n",
       "    </tr>\n",
       "    <tr>\n",
       "      <th>34297</th>\n",
       "      <td>Zungaro zungaro</td>\n",
       "      <td>140.00</td>\n",
       "      <td>NaN</td>\n",
       "    </tr>\n",
       "    <tr>\n",
       "      <th>34298</th>\n",
       "      <td>Zungaropsis multimaculatus</td>\n",
       "      <td>NaN</td>\n",
       "      <td>NaN</td>\n",
       "    </tr>\n",
       "  </tbody>\n",
       "</table>\n",
       "<p>34299 rows × 3 columns</p>\n",
       "</div>"
      ],
      "text/plain": [
       "                          Species  Length   Weight\n",
       "0      Aapticheilichthys websteri    3.08      NaN\n",
       "1                Aaptosyax grypus  130.00  30000.0\n",
       "2          Abactochromis labrosus   11.50      NaN\n",
       "3          Abalistes filamentosus   32.50   1375.0\n",
       "4             Abalistes stellaris   60.00      NaN\n",
       "...                           ...     ...      ...\n",
       "34294                Zu cristatus  118.00      NaN\n",
       "34295                Zu elongatus  120.00      NaN\n",
       "34296                Zungaro jahu  140.00      NaN\n",
       "34297             Zungaro zungaro  140.00      NaN\n",
       "34298  Zungaropsis multimaculatus     NaN      NaN\n",
       "\n",
       "[34299 rows x 3 columns]"
      ]
     },
     "execution_count": 6,
     "metadata": {},
     "output_type": "execute_result"
    }
   ],
   "source": [
    "fish = fish.filter([\"Species\",\"Length\",\"Weight\"])\n",
    "fish"
   ]
  },
  {
   "cell_type": "code",
   "execution_count": 7,
   "id": "c7b0c6ab",
   "metadata": {},
   "outputs": [
    {
     "data": {
      "text/html": [
       "<div>\n",
       "<style scoped>\n",
       "    .dataframe tbody tr th:only-of-type {\n",
       "        vertical-align: middle;\n",
       "    }\n",
       "\n",
       "    .dataframe tbody tr th {\n",
       "        vertical-align: top;\n",
       "    }\n",
       "\n",
       "    .dataframe thead th {\n",
       "        text-align: right;\n",
       "    }\n",
       "</style>\n",
       "<table border=\"1\" class=\"dataframe\">\n",
       "  <thead>\n",
       "    <tr style=\"text-align: right;\">\n",
       "      <th></th>\n",
       "      <th>Species</th>\n",
       "      <th>Length</th>\n",
       "      <th>Weight</th>\n",
       "    </tr>\n",
       "  </thead>\n",
       "  <tbody>\n",
       "    <tr>\n",
       "      <th>1</th>\n",
       "      <td>Aaptosyax grypus</td>\n",
       "      <td>130.0</td>\n",
       "      <td>30000.0</td>\n",
       "    </tr>\n",
       "    <tr>\n",
       "      <th>3</th>\n",
       "      <td>Abalistes filamentosus</td>\n",
       "      <td>32.5</td>\n",
       "      <td>1375.0</td>\n",
       "    </tr>\n",
       "    <tr>\n",
       "      <th>9</th>\n",
       "      <td>Abbottina obtusirostris</td>\n",
       "      <td>10.9</td>\n",
       "      <td>13.5</td>\n",
       "    </tr>\n",
       "    <tr>\n",
       "      <th>14</th>\n",
       "      <td>Ablennes hians</td>\n",
       "      <td>140.0</td>\n",
       "      <td>4800.0</td>\n",
       "    </tr>\n",
       "    <tr>\n",
       "      <th>24</th>\n",
       "      <td>Abramis brama</td>\n",
       "      <td>82.0</td>\n",
       "      <td>6010.0</td>\n",
       "    </tr>\n",
       "    <tr>\n",
       "      <th>...</th>\n",
       "      <td>...</td>\n",
       "      <td>...</td>\n",
       "      <td>...</td>\n",
       "    </tr>\n",
       "    <tr>\n",
       "      <th>34265</th>\n",
       "      <td>Zeus faber</td>\n",
       "      <td>90.0</td>\n",
       "      <td>8000.0</td>\n",
       "    </tr>\n",
       "    <tr>\n",
       "      <th>34266</th>\n",
       "      <td>Zingel asper</td>\n",
       "      <td>22.0</td>\n",
       "      <td>100.0</td>\n",
       "    </tr>\n",
       "    <tr>\n",
       "      <th>34270</th>\n",
       "      <td>Zoarces americanus</td>\n",
       "      <td>110.0</td>\n",
       "      <td>5436.0</td>\n",
       "    </tr>\n",
       "    <tr>\n",
       "      <th>34273</th>\n",
       "      <td>Zoarces fedorovi</td>\n",
       "      <td>23.0</td>\n",
       "      <td>92.0</td>\n",
       "    </tr>\n",
       "    <tr>\n",
       "      <th>34275</th>\n",
       "      <td>Zoarces viviparus</td>\n",
       "      <td>52.0</td>\n",
       "      <td>510.0</td>\n",
       "    </tr>\n",
       "  </tbody>\n",
       "</table>\n",
       "<p>2172 rows × 3 columns</p>\n",
       "</div>"
      ],
      "text/plain": [
       "                       Species  Length   Weight\n",
       "1             Aaptosyax grypus   130.0  30000.0\n",
       "3       Abalistes filamentosus    32.5   1375.0\n",
       "9      Abbottina obtusirostris    10.9     13.5\n",
       "14              Ablennes hians   140.0   4800.0\n",
       "24               Abramis brama    82.0   6010.0\n",
       "...                        ...     ...      ...\n",
       "34265               Zeus faber    90.0   8000.0\n",
       "34266             Zingel asper    22.0    100.0\n",
       "34270       Zoarces americanus   110.0   5436.0\n",
       "34273         Zoarces fedorovi    23.0     92.0\n",
       "34275        Zoarces viviparus    52.0    510.0\n",
       "\n",
       "[2172 rows x 3 columns]"
      ]
     },
     "execution_count": 7,
     "metadata": {},
     "output_type": "execute_result"
    }
   ],
   "source": [
    "train = fish.dropna(axis='index')\n",
    "train"
   ]
  },
  {
   "cell_type": "code",
   "execution_count": 8,
   "id": "b3faf711",
   "metadata": {},
   "outputs": [
    {
     "data": {
      "image/png": "[encoded data removed]",
      "text/plain": [
       "<Figure size 576x576 with 1 Axes>"
      ]
     },
     "metadata": {},
     "output_type": "display_data"
    }
   ],
   "source": [
    "sns.scatterplot(data=train, x=\"Length\", y=\"Weight\")\n",
    "plt.title(\"Fish weights versus fish lengths\")\n",
    "plt.savefig(\"fish_lw.png\")"
   ]
  },
  {
   "cell_type": "code",
   "execution_count": 9,
   "id": "55d3624d",
   "metadata": {},
   "outputs": [],
   "source": [
    "train = train.assign(LogLength = np.log(train.Length), LogWeight = np.log(train.Weight))"
   ]
  },
  {
   "cell_type": "code",
   "execution_count": 10,
   "id": "b1b75d13",
   "metadata": {},
   "outputs": [
    {
     "data": {
      "image/png": "[encoded data removed]",
      "text/plain": [
       "<Figure size 576x576 with 1 Axes>"
      ]
     },
     "metadata": {},
     "output_type": "display_data"
    }
   ],
   "source": [
    "sns.scatterplot(data=train, x=\"LogLength\", y=\"LogWeight\")\n",
    "plt.title(\"Log(Weight) versus Log(Length)\")\n",
    "plt.savefig(\"fish_logs.png\")"
   ]
  },
  {
   "cell_type": "code",
   "execution_count": 11,
   "id": "e81f1155",
   "metadata": {},
   "outputs": [
    {
     "data": {
      "text/plain": [
       "0.9230692454775014"
      ]
     },
     "execution_count": 11,
     "metadata": {},
     "output_type": "execute_result"
    }
   ],
   "source": [
    "train.LogLength.corr( train.LogWeight )"
   ]
  },
  {
   "cell_type": "code",
   "execution_count": 12,
   "id": "5edf7e45",
   "metadata": {},
   "outputs": [
    {
     "data": {
      "text/plain": [
       "Intercept   -3.322617\n",
       "LogLength    2.681095\n",
       "dtype: float64"
      ]
     },
     "execution_count": 12,
     "metadata": {},
     "output_type": "execute_result"
    }
   ],
   "source": [
    "train_model = smf.ols( \"LogWeight ~ LogLength\", data=train)\n",
    "train_fit = train_model.fit()\n",
    "train_fit.params"
   ]
  },
  {
   "cell_type": "code",
   "execution_count": 13,
   "id": "25fd509a",
   "metadata": {},
   "outputs": [
    {
     "data": {
      "text/plain": [
       "0.852056831946404"
      ]
     },
     "execution_count": 13,
     "metadata": {},
     "output_type": "execute_result"
    }
   ],
   "source": [
    "train_fit.rsquared"
   ]
  },
  {
   "cell_type": "code",
   "execution_count": 14,
   "id": "fc9c919a",
   "metadata": {},
   "outputs": [
    {
     "data": {
      "text/html": [
       "<div>\n",
       "<style scoped>\n",
       "    .dataframe tbody tr th:only-of-type {\n",
       "        vertical-align: middle;\n",
       "    }\n",
       "\n",
       "    .dataframe tbody tr th {\n",
       "        vertical-align: top;\n",
       "    }\n",
       "\n",
       "    .dataframe thead th {\n",
       "        text-align: right;\n",
       "    }\n",
       "</style>\n",
       "<table border=\"1\" class=\"dataframe\">\n",
       "  <thead>\n",
       "    <tr style=\"text-align: right;\">\n",
       "      <th></th>\n",
       "      <th>Species</th>\n",
       "      <th>Category</th>\n",
       "    </tr>\n",
       "  </thead>\n",
       "  <tbody>\n",
       "    <tr>\n",
       "      <th>0</th>\n",
       "      <td>Hexanchus griseus</td>\n",
       "      <td>Near Threatened</td>\n",
       "    </tr>\n",
       "    <tr>\n",
       "      <th>1</th>\n",
       "      <td>Lamna nasus</td>\n",
       "      <td>Vulnerable</td>\n",
       "    </tr>\n",
       "    <tr>\n",
       "      <th>2</th>\n",
       "      <td>Leucoraja lentiginosa</td>\n",
       "      <td>Least Concern</td>\n",
       "    </tr>\n",
       "    <tr>\n",
       "      <th>3</th>\n",
       "      <td>Dactylobatus clarkii</td>\n",
       "      <td>Least Concern</td>\n",
       "    </tr>\n",
       "    <tr>\n",
       "      <th>4</th>\n",
       "      <td>Pseudobatos percellens</td>\n",
       "      <td>Endangered</td>\n",
       "    </tr>\n",
       "  </tbody>\n",
       "</table>\n",
       "</div>"
      ],
      "text/plain": [
       "                  Species         Category\n",
       "0       Hexanchus griseus  Near Threatened\n",
       "1             Lamna nasus       Vulnerable\n",
       "2   Leucoraja lentiginosa    Least Concern\n",
       "3    Dactylobatus clarkii    Least Concern\n",
       "4  Pseudobatos percellens       Endangered"
      ]
     },
     "execution_count": 14,
     "metadata": {},
     "output_type": "execute_result"
    }
   ],
   "source": [
    "sharks = pd.read_csv(\"chondrichthyes.csv\")\n",
    "sharks.head()"
   ]
  },
  {
   "cell_type": "code",
   "execution_count": 15,
   "id": "865fff04",
   "metadata": {},
   "outputs": [
    {
     "data": {
      "text/html": [
       "<div>\n",
       "<style scoped>\n",
       "    .dataframe tbody tr th:only-of-type {\n",
       "        vertical-align: middle;\n",
       "    }\n",
       "\n",
       "    .dataframe tbody tr th {\n",
       "        vertical-align: top;\n",
       "    }\n",
       "\n",
       "    .dataframe thead th {\n",
       "        text-align: right;\n",
       "    }\n",
       "</style>\n",
       "<table border=\"1\" class=\"dataframe\">\n",
       "  <thead>\n",
       "    <tr style=\"text-align: right;\">\n",
       "      <th></th>\n",
       "      <th>Species</th>\n",
       "      <th>Category</th>\n",
       "      <th>Length</th>\n",
       "      <th>Weight</th>\n",
       "    </tr>\n",
       "  </thead>\n",
       "  <tbody>\n",
       "    <tr>\n",
       "      <th>0</th>\n",
       "      <td>Hexanchus griseus</td>\n",
       "      <td>Near Threatened</td>\n",
       "      <td>482.0</td>\n",
       "      <td>590000.0</td>\n",
       "    </tr>\n",
       "    <tr>\n",
       "      <th>1</th>\n",
       "      <td>Lamna nasus</td>\n",
       "      <td>Vulnerable</td>\n",
       "      <td>350.0</td>\n",
       "      <td>230000.0</td>\n",
       "    </tr>\n",
       "    <tr>\n",
       "      <th>2</th>\n",
       "      <td>Leucoraja lentiginosa</td>\n",
       "      <td>Least Concern</td>\n",
       "      <td>43.0</td>\n",
       "      <td>NaN</td>\n",
       "    </tr>\n",
       "    <tr>\n",
       "      <th>3</th>\n",
       "      <td>Dactylobatus clarkii</td>\n",
       "      <td>Least Concern</td>\n",
       "      <td>59.0</td>\n",
       "      <td>NaN</td>\n",
       "    </tr>\n",
       "    <tr>\n",
       "      <th>4</th>\n",
       "      <td>Pseudobatos percellens</td>\n",
       "      <td>Endangered</td>\n",
       "      <td>100.0</td>\n",
       "      <td>955.1</td>\n",
       "    </tr>\n",
       "  </tbody>\n",
       "</table>\n",
       "</div>"
      ],
      "text/plain": [
       "                  Species         Category  Length    Weight\n",
       "0       Hexanchus griseus  Near Threatened   482.0  590000.0\n",
       "1             Lamna nasus       Vulnerable   350.0  230000.0\n",
       "2   Leucoraja lentiginosa    Least Concern    43.0       NaN\n",
       "3    Dactylobatus clarkii    Least Concern    59.0       NaN\n",
       "4  Pseudobatos percellens       Endangered   100.0     955.1"
      ]
     },
     "execution_count": 15,
     "metadata": {},
     "output_type": "execute_result"
    }
   ],
   "source": [
    "sharks = sharks.join( fish.set_index(\"Species\"), on=\"Species\")\n",
    "sharks.head()"
   ]
  },
  {
   "cell_type": "code",
   "execution_count": 16,
   "id": "dea1994e",
   "metadata": {},
   "outputs": [
    {
     "data": {
      "text/html": [
       "<div>\n",
       "<style scoped>\n",
       "    .dataframe tbody tr th:only-of-type {\n",
       "        vertical-align: middle;\n",
       "    }\n",
       "\n",
       "    .dataframe tbody tr th {\n",
       "        vertical-align: top;\n",
       "    }\n",
       "\n",
       "    .dataframe thead th {\n",
       "        text-align: right;\n",
       "    }\n",
       "</style>\n",
       "<table border=\"1\" class=\"dataframe\">\n",
       "  <thead>\n",
       "    <tr style=\"text-align: right;\">\n",
       "      <th></th>\n",
       "      <th>Species</th>\n",
       "      <th>Category</th>\n",
       "      <th>Length</th>\n",
       "      <th>Weight</th>\n",
       "    </tr>\n",
       "  </thead>\n",
       "  <tbody>\n",
       "    <tr>\n",
       "      <th>0</th>\n",
       "      <td>Hexanchus griseus</td>\n",
       "      <td>Near Threatened</td>\n",
       "      <td>482.0</td>\n",
       "      <td>590000.0</td>\n",
       "    </tr>\n",
       "    <tr>\n",
       "      <th>1</th>\n",
       "      <td>Lamna nasus</td>\n",
       "      <td>Vulnerable</td>\n",
       "      <td>350.0</td>\n",
       "      <td>230000.0</td>\n",
       "    </tr>\n",
       "    <tr>\n",
       "      <th>2</th>\n",
       "      <td>Leucoraja lentiginosa</td>\n",
       "      <td>Least Concern</td>\n",
       "      <td>43.0</td>\n",
       "      <td>NaN</td>\n",
       "    </tr>\n",
       "    <tr>\n",
       "      <th>3</th>\n",
       "      <td>Dactylobatus clarkii</td>\n",
       "      <td>Least Concern</td>\n",
       "      <td>59.0</td>\n",
       "      <td>NaN</td>\n",
       "    </tr>\n",
       "    <tr>\n",
       "      <th>4</th>\n",
       "      <td>Pseudobatos percellens</td>\n",
       "      <td>Endangered</td>\n",
       "      <td>100.0</td>\n",
       "      <td>955.1</td>\n",
       "    </tr>\n",
       "  </tbody>\n",
       "</table>\n",
       "</div>"
      ],
      "text/plain": [
       "                  Species         Category  Length    Weight\n",
       "0       Hexanchus griseus  Near Threatened   482.0  590000.0\n",
       "1             Lamna nasus       Vulnerable   350.0  230000.0\n",
       "2   Leucoraja lentiginosa    Least Concern    43.0       NaN\n",
       "3    Dactylobatus clarkii    Least Concern    59.0       NaN\n",
       "4  Pseudobatos percellens       Endangered   100.0     955.1"
      ]
     },
     "execution_count": 16,
     "metadata": {},
     "output_type": "execute_result"
    }
   ],
   "source": [
    "sharks = sharks[ sharks.Length.notna() ]\n",
    "sharks = sharks[ sharks.Category != \"Data Deficient\" ]\n",
    "sharks.head()"
   ]
  },
  {
   "cell_type": "code",
   "execution_count": 17,
   "id": "a8c9cfa0",
   "metadata": {},
   "outputs": [
    {
     "data": {
      "text/html": [
       "<div>\n",
       "<style scoped>\n",
       "    .dataframe tbody tr th:only-of-type {\n",
       "        vertical-align: middle;\n",
       "    }\n",
       "\n",
       "    .dataframe tbody tr th {\n",
       "        vertical-align: top;\n",
       "    }\n",
       "\n",
       "    .dataframe thead th {\n",
       "        text-align: right;\n",
       "    }\n",
       "</style>\n",
       "<table border=\"1\" class=\"dataframe\">\n",
       "  <thead>\n",
       "    <tr style=\"text-align: right;\">\n",
       "      <th></th>\n",
       "      <th>Species</th>\n",
       "      <th>Category</th>\n",
       "      <th>Length</th>\n",
       "      <th>Weight</th>\n",
       "    </tr>\n",
       "  </thead>\n",
       "  <tbody>\n",
       "    <tr>\n",
       "      <th>0</th>\n",
       "      <td>Hexanchus griseus</td>\n",
       "      <td>Near Threatened</td>\n",
       "      <td>482.0</td>\n",
       "      <td>590000.000000</td>\n",
       "    </tr>\n",
       "    <tr>\n",
       "      <th>1</th>\n",
       "      <td>Lamna nasus</td>\n",
       "      <td>Vulnerable</td>\n",
       "      <td>350.0</td>\n",
       "      <td>230000.000000</td>\n",
       "    </tr>\n",
       "    <tr>\n",
       "      <th>2</th>\n",
       "      <td>Leucoraja lentiginosa</td>\n",
       "      <td>Least Concern</td>\n",
       "      <td>43.0</td>\n",
       "      <td>863.950740</td>\n",
       "    </tr>\n",
       "    <tr>\n",
       "      <th>3</th>\n",
       "      <td>Dactylobatus clarkii</td>\n",
       "      <td>Least Concern</td>\n",
       "      <td>59.0</td>\n",
       "      <td>2017.563809</td>\n",
       "    </tr>\n",
       "    <tr>\n",
       "      <th>4</th>\n",
       "      <td>Pseudobatos percellens</td>\n",
       "      <td>Endangered</td>\n",
       "      <td>100.0</td>\n",
       "      <td>955.100000</td>\n",
       "    </tr>\n",
       "    <tr>\n",
       "      <th>...</th>\n",
       "      <td>...</td>\n",
       "      <td>...</td>\n",
       "      <td>...</td>\n",
       "      <td>...</td>\n",
       "    </tr>\n",
       "    <tr>\n",
       "      <th>1179</th>\n",
       "      <td>Pateobatis jenkinsii</td>\n",
       "      <td>Vulnerable</td>\n",
       "      <td>130.0</td>\n",
       "      <td>16775.968002</td>\n",
       "    </tr>\n",
       "    <tr>\n",
       "      <th>1180</th>\n",
       "      <td>Pristiophorus cirratus</td>\n",
       "      <td>Least Concern</td>\n",
       "      <td>137.0</td>\n",
       "      <td>19308.807587</td>\n",
       "    </tr>\n",
       "    <tr>\n",
       "      <th>1181</th>\n",
       "      <td>Squatina californica</td>\n",
       "      <td>Near Threatened</td>\n",
       "      <td>152.0</td>\n",
       "      <td>25511.414447</td>\n",
       "    </tr>\n",
       "    <tr>\n",
       "      <th>1182</th>\n",
       "      <td>Urogymnus granulatus</td>\n",
       "      <td>Vulnerable</td>\n",
       "      <td>141.0</td>\n",
       "      <td>20857.643324</td>\n",
       "    </tr>\n",
       "    <tr>\n",
       "      <th>1185</th>\n",
       "      <td>Callorhinchus capensis</td>\n",
       "      <td>Least Concern</td>\n",
       "      <td>122.0</td>\n",
       "      <td>5250.000000</td>\n",
       "    </tr>\n",
       "  </tbody>\n",
       "</table>\n",
       "<p>809 rows × 4 columns</p>\n",
       "</div>"
      ],
      "text/plain": [
       "                     Species         Category  Length         Weight\n",
       "0          Hexanchus griseus  Near Threatened   482.0  590000.000000\n",
       "1                Lamna nasus       Vulnerable   350.0  230000.000000\n",
       "2      Leucoraja lentiginosa    Least Concern    43.0     863.950740\n",
       "3       Dactylobatus clarkii    Least Concern    59.0    2017.563809\n",
       "4     Pseudobatos percellens       Endangered   100.0     955.100000\n",
       "...                      ...              ...     ...            ...\n",
       "1179    Pateobatis jenkinsii       Vulnerable   130.0   16775.968002\n",
       "1180  Pristiophorus cirratus    Least Concern   137.0   19308.807587\n",
       "1181    Squatina californica  Near Threatened   152.0   25511.414447\n",
       "1182    Urogymnus granulatus       Vulnerable   141.0   20857.643324\n",
       "1185  Callorhinchus capensis    Least Concern   122.0    5250.000000\n",
       "\n",
       "[809 rows x 4 columns]"
      ]
     },
     "execution_count": 17,
     "metadata": {},
     "output_type": "execute_result"
    }
   ],
   "source": [
    "imp = np.exp( train_fit.params.Intercept )*np.power( sharks.Length, \n",
    "                                                    train_fit.params.LogLength )\n",
    "sharks.Weight = sharks.Weight.where( sharks.Weight.notna(), imp )\n",
    "sharks"
   ]
  },
  {
   "cell_type": "code",
   "execution_count": 18,
   "id": "befd55cf",
   "metadata": {},
   "outputs": [],
   "source": [
    "sharks = sharks.assign(LogLength = np.log(sharks.Length), \n",
    "                       LogWeight = np.log(sharks.Weight))"
   ]
  },
  {
   "cell_type": "code",
   "execution_count": 19,
   "id": "2d1733c8",
   "metadata": {},
   "outputs": [
    {
     "data": {
      "image/png": "[encoded data removed]",
      "text/plain": [
       "<Figure size 576x576 with 1 Axes>"
      ]
     },
     "metadata": {},
     "output_type": "display_data"
    }
   ],
   "source": [
    "sns.scatterplot( data=sharks, x=\"LogLength\", y=\"LogWeight\")\n",
    "plt.title(\"Log(Weight) versus Log(Length) for sharks\")\n",
    "plt.savefig(\"sharks_lw.png\")"
   ]
  },
  {
   "cell_type": "code",
   "execution_count": 20,
   "id": "46d3f1fa",
   "metadata": {},
   "outputs": [],
   "source": [
    "# sharks.to_csv(\"sharks.csv\",index=False)"
   ]
  },
  {
   "cell_type": "code",
   "execution_count": null,
   "id": "785e0151",
   "metadata": {},
   "outputs": [],
   "source": []
  }
 ],
 "metadata": {
  "kernelspec": {
   "display_name": "Python 3",
   "language": "python",
   "name": "python3"
  },
  "language_info": {
   "codemirror_mode": {
    "name": "ipython",
    "version": 3
   },
   "file_extension": ".py",
   "mimetype": "text/x-python",
   "name": "python",
   "nbconvert_exporter": "python",
   "pygments_lexer": "ipython3",
   "version": "3.8.10"
  }
 },
 "nbformat": 4,
 "nbformat_minor": 5
}
