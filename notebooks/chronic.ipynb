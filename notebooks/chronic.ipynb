{
 "cells": [
  {
   "cell_type": "code",
   "execution_count": 1,
   "id": "d30aface",
   "metadata": {},
   "outputs": [],
   "source": [
    "import numpy as np\n",
    "import pandas as pd\n",
    "import matplotlib.pyplot as plt\n",
    "import seaborn as sns\n",
    "import statsmodels.formula.api as smf\n",
    "import statsmodels.api as sm\n",
    "import scipy.stats as st\n",
    "from sklearn import metrics"
   ]
  },
  {
   "cell_type": "code",
   "execution_count": 2,
   "id": "898c5a42",
   "metadata": {},
   "outputs": [],
   "source": [
    "# from IPython.core.interactiveshell import InteractiveShell\n",
    "# InteractiveShell.ast_node_interactivity = \"all\""
   ]
  },
  {
   "cell_type": "code",
   "execution_count": 3,
   "id": "fa2269e5",
   "metadata": {},
   "outputs": [],
   "source": [
    "import warnings\n",
    "warnings.filterwarnings('ignore')"
   ]
  },
  {
   "cell_type": "code",
   "execution_count": 4,
   "id": "bb0f982b",
   "metadata": {},
   "outputs": [],
   "source": [
    "sns.set_theme()\n",
    "plt.rcParams['figure.figsize'] = [8,8]"
   ]
  },
  {
   "cell_type": "code",
   "execution_count": 5,
   "id": "55c0db56",
   "metadata": {},
   "outputs": [
    {
     "data": {
      "text/html": [
       "<div>\n",
       "<style scoped>\n",
       "    .dataframe tbody tr th:only-of-type {\n",
       "        vertical-align: middle;\n",
       "    }\n",
       "\n",
       "    .dataframe tbody tr th {\n",
       "        vertical-align: top;\n",
       "    }\n",
       "\n",
       "    .dataframe thead th {\n",
       "        text-align: right;\n",
       "    }\n",
       "</style>\n",
       "<table border=\"1\" class=\"dataframe\">\n",
       "  <thead>\n",
       "    <tr style=\"text-align: right;\">\n",
       "      <th></th>\n",
       "      <th>Age</th>\n",
       "      <th>Condition</th>\n",
       "    </tr>\n",
       "  </thead>\n",
       "  <tbody>\n",
       "    <tr>\n",
       "      <th>0</th>\n",
       "      <td>36</td>\n",
       "      <td>0</td>\n",
       "    </tr>\n",
       "    <tr>\n",
       "      <th>1</th>\n",
       "      <td>55</td>\n",
       "      <td>1</td>\n",
       "    </tr>\n",
       "    <tr>\n",
       "      <th>2</th>\n",
       "      <td>72</td>\n",
       "      <td>1</td>\n",
       "    </tr>\n",
       "    <tr>\n",
       "      <th>3</th>\n",
       "      <td>46</td>\n",
       "      <td>0</td>\n",
       "    </tr>\n",
       "    <tr>\n",
       "      <th>4</th>\n",
       "      <td>66</td>\n",
       "      <td>1</td>\n",
       "    </tr>\n",
       "    <tr>\n",
       "      <th>...</th>\n",
       "      <td>...</td>\n",
       "      <td>...</td>\n",
       "    </tr>\n",
       "    <tr>\n",
       "      <th>31428</th>\n",
       "      <td>49</td>\n",
       "      <td>1</td>\n",
       "    </tr>\n",
       "    <tr>\n",
       "      <th>31429</th>\n",
       "      <td>56</td>\n",
       "      <td>1</td>\n",
       "    </tr>\n",
       "    <tr>\n",
       "      <th>31430</th>\n",
       "      <td>6</td>\n",
       "      <td>0</td>\n",
       "    </tr>\n",
       "    <tr>\n",
       "      <th>31431</th>\n",
       "      <td>1</td>\n",
       "      <td>0</td>\n",
       "    </tr>\n",
       "    <tr>\n",
       "      <th>31432</th>\n",
       "      <td>59</td>\n",
       "      <td>1</td>\n",
       "    </tr>\n",
       "  </tbody>\n",
       "</table>\n",
       "<p>31433 rows × 2 columns</p>\n",
       "</div>"
      ],
      "text/plain": [
       "       Age  Condition\n",
       "0       36          0\n",
       "1       55          1\n",
       "2       72          1\n",
       "3       46          0\n",
       "4       66          1\n",
       "...    ...        ...\n",
       "31428   49          1\n",
       "31429   56          1\n",
       "31430    6          0\n",
       "31431    1          0\n",
       "31432   59          1\n",
       "\n",
       "[31433 rows x 2 columns]"
      ]
     },
     "execution_count": 5,
     "metadata": {},
     "output_type": "execute_result"
    }
   ],
   "source": [
    "chronic = pd.read_csv(\"chronic.csv\")\n",
    "chronic"
   ]
  },
  {
   "cell_type": "code",
   "execution_count": 6,
   "id": "aeb15db5",
   "metadata": {},
   "outputs": [
    {
     "data": {
      "image/png": "[encoded data removed]",
      "text/plain": [
       "<Figure size 576x576 with 1 Axes>"
      ]
     },
     "metadata": {},
     "output_type": "display_data"
    }
   ],
   "source": [
    "sns.scatterplot(data=chronic, x=\"Age\", y=\"Condition\")\n",
    "plt.savefig(\"chronic_plot.png\")"
   ]
  },
  {
   "cell_type": "code",
   "execution_count": 7,
   "id": "5b99ccfe",
   "metadata": {},
   "outputs": [
    {
     "data": {
      "text/html": [
       "<div>\n",
       "<style scoped>\n",
       "    .dataframe tbody tr th:only-of-type {\n",
       "        vertical-align: middle;\n",
       "    }\n",
       "\n",
       "    .dataframe tbody tr th {\n",
       "        vertical-align: top;\n",
       "    }\n",
       "\n",
       "    .dataframe thead th {\n",
       "        text-align: right;\n",
       "    }\n",
       "</style>\n",
       "<table border=\"1\" class=\"dataframe\">\n",
       "  <thead>\n",
       "    <tr style=\"text-align: right;\">\n",
       "      <th></th>\n",
       "      <th>Number</th>\n",
       "      <th>Proportion</th>\n",
       "    </tr>\n",
       "    <tr>\n",
       "      <th>Condition</th>\n",
       "      <th></th>\n",
       "      <th></th>\n",
       "    </tr>\n",
       "  </thead>\n",
       "  <tbody>\n",
       "    <tr>\n",
       "      <th>0</th>\n",
       "      <td>13303</td>\n",
       "      <td>0.423218</td>\n",
       "    </tr>\n",
       "    <tr>\n",
       "      <th>1</th>\n",
       "      <td>18130</td>\n",
       "      <td>0.576782</td>\n",
       "    </tr>\n",
       "  </tbody>\n",
       "</table>\n",
       "</div>"
      ],
      "text/plain": [
       "           Number  Proportion\n",
       "Condition                    \n",
       "0           13303    0.423218\n",
       "1           18130    0.576782"
      ]
     },
     "execution_count": 7,
     "metadata": {},
     "output_type": "execute_result"
    }
   ],
   "source": [
    "prop = chronic.Condition.mean()\n",
    "( chronic.groupby(\"Condition\")\n",
    " .agg(Number = (\"Condition\",\"size\"))\n",
    " .assign(Proportion = [ 1-prop, prop ]) )"
   ]
  },
  {
   "cell_type": "code",
   "execution_count": 8,
   "id": "903cebf7",
   "metadata": {},
   "outputs": [
    {
     "data": {
      "text/html": [
       "<div>\n",
       "<style scoped>\n",
       "    .dataframe tbody tr th:only-of-type {\n",
       "        vertical-align: middle;\n",
       "    }\n",
       "\n",
       "    .dataframe tbody tr th {\n",
       "        vertical-align: top;\n",
       "    }\n",
       "\n",
       "    .dataframe thead th {\n",
       "        text-align: right;\n",
       "    }\n",
       "</style>\n",
       "<table border=\"1\" class=\"dataframe\">\n",
       "  <thead>\n",
       "    <tr style=\"text-align: right;\">\n",
       "      <th></th>\n",
       "      <th>Age</th>\n",
       "      <th>Number</th>\n",
       "      <th>Rate</th>\n",
       "    </tr>\n",
       "  </thead>\n",
       "  <tbody>\n",
       "    <tr>\n",
       "      <th>0</th>\n",
       "      <td>0</td>\n",
       "      <td>796</td>\n",
       "      <td>0.026382</td>\n",
       "    </tr>\n",
       "    <tr>\n",
       "      <th>1</th>\n",
       "      <td>1</td>\n",
       "      <td>505</td>\n",
       "      <td>0.063366</td>\n",
       "    </tr>\n",
       "    <tr>\n",
       "      <th>2</th>\n",
       "      <td>2</td>\n",
       "      <td>320</td>\n",
       "      <td>0.090625</td>\n",
       "    </tr>\n",
       "    <tr>\n",
       "      <th>3</th>\n",
       "      <td>3</td>\n",
       "      <td>258</td>\n",
       "      <td>0.143411</td>\n",
       "    </tr>\n",
       "    <tr>\n",
       "      <th>4</th>\n",
       "      <td>4</td>\n",
       "      <td>299</td>\n",
       "      <td>0.100334</td>\n",
       "    </tr>\n",
       "    <tr>\n",
       "      <th>...</th>\n",
       "      <td>...</td>\n",
       "      <td>...</td>\n",
       "      <td>...</td>\n",
       "    </tr>\n",
       "    <tr>\n",
       "      <th>96</th>\n",
       "      <td>96</td>\n",
       "      <td>13</td>\n",
       "      <td>0.923077</td>\n",
       "    </tr>\n",
       "    <tr>\n",
       "      <th>97</th>\n",
       "      <td>97</td>\n",
       "      <td>11</td>\n",
       "      <td>0.909091</td>\n",
       "    </tr>\n",
       "    <tr>\n",
       "      <th>98</th>\n",
       "      <td>98</td>\n",
       "      <td>6</td>\n",
       "      <td>0.833333</td>\n",
       "    </tr>\n",
       "    <tr>\n",
       "      <th>99</th>\n",
       "      <td>99</td>\n",
       "      <td>2</td>\n",
       "      <td>0.500000</td>\n",
       "    </tr>\n",
       "    <tr>\n",
       "      <th>100</th>\n",
       "      <td>100</td>\n",
       "      <td>6</td>\n",
       "      <td>0.833333</td>\n",
       "    </tr>\n",
       "  </tbody>\n",
       "</table>\n",
       "<p>101 rows × 3 columns</p>\n",
       "</div>"
      ],
      "text/plain": [
       "     Age  Number      Rate\n",
       "0      0     796  0.026382\n",
       "1      1     505  0.063366\n",
       "2      2     320  0.090625\n",
       "3      3     258  0.143411\n",
       "4      4     299  0.100334\n",
       "..   ...     ...       ...\n",
       "96    96      13  0.923077\n",
       "97    97      11  0.909091\n",
       "98    98       6  0.833333\n",
       "99    99       2  0.500000\n",
       "100  100       6  0.833333\n",
       "\n",
       "[101 rows x 3 columns]"
      ]
     },
     "execution_count": 8,
     "metadata": {},
     "output_type": "execute_result"
    }
   ],
   "source": [
    "cohorts = (chronic.groupby(\"Age\", as_index=False)\n",
    "           .agg(Number = (\"Condition\",\"size\"), \n",
    "                Rate = (\"Condition\",\"mean\")))\n",
    "cohorts"
   ]
  },
  {
   "cell_type": "code",
   "execution_count": 9,
   "id": "34b941db",
   "metadata": {},
   "outputs": [
    {
     "data": {
      "image/png": "[encoded data removed]",
      "text/plain": [
       "<Figure size 576x576 with 1 Axes>"
      ]
     },
     "metadata": {},
     "output_type": "display_data"
    }
   ],
   "source": [
    "sns.scatterplot(data=cohorts, x=\"Age\", y=\"Rate\")\n",
    "plt.savefig(\"chronic_age_cohorts.png\")"
   ]
  },
  {
   "cell_type": "code",
   "execution_count": 10,
   "id": "206d35ef",
   "metadata": {},
   "outputs": [
    {
     "data": {
      "text/html": [
       "<div>\n",
       "<style scoped>\n",
       "    .dataframe tbody tr th:only-of-type {\n",
       "        vertical-align: middle;\n",
       "    }\n",
       "\n",
       "    .dataframe tbody tr th {\n",
       "        vertical-align: top;\n",
       "    }\n",
       "\n",
       "    .dataframe thead th {\n",
       "        text-align: right;\n",
       "    }\n",
       "</style>\n",
       "<table border=\"1\" class=\"dataframe\">\n",
       "  <thead>\n",
       "    <tr style=\"text-align: right;\">\n",
       "      <th></th>\n",
       "      <th>Decade</th>\n",
       "      <th>Total</th>\n",
       "      <th>Afflicted</th>\n",
       "      <th>Rate</th>\n",
       "    </tr>\n",
       "  </thead>\n",
       "  <tbody>\n",
       "    <tr>\n",
       "      <th>0</th>\n",
       "      <td>0.0</td>\n",
       "      <td>2440</td>\n",
       "      <td>179</td>\n",
       "      <td>0.073361</td>\n",
       "    </tr>\n",
       "    <tr>\n",
       "      <th>1</th>\n",
       "      <td>10.0</td>\n",
       "      <td>1946</td>\n",
       "      <td>368</td>\n",
       "      <td>0.189106</td>\n",
       "    </tr>\n",
       "    <tr>\n",
       "      <th>2</th>\n",
       "      <td>20.0</td>\n",
       "      <td>2622</td>\n",
       "      <td>729</td>\n",
       "      <td>0.278032</td>\n",
       "    </tr>\n",
       "    <tr>\n",
       "      <th>3</th>\n",
       "      <td>30.0</td>\n",
       "      <td>2673</td>\n",
       "      <td>990</td>\n",
       "      <td>0.370370</td>\n",
       "    </tr>\n",
       "    <tr>\n",
       "      <th>4</th>\n",
       "      <td>40.0</td>\n",
       "      <td>3962</td>\n",
       "      <td>2070</td>\n",
       "      <td>0.522463</td>\n",
       "    </tr>\n",
       "    <tr>\n",
       "      <th>5</th>\n",
       "      <td>50.0</td>\n",
       "      <td>4426</td>\n",
       "      <td>2953</td>\n",
       "      <td>0.667194</td>\n",
       "    </tr>\n",
       "    <tr>\n",
       "      <th>6</th>\n",
       "      <td>60.0</td>\n",
       "      <td>5356</td>\n",
       "      <td>4127</td>\n",
       "      <td>0.770538</td>\n",
       "    </tr>\n",
       "    <tr>\n",
       "      <th>7</th>\n",
       "      <td>70.0</td>\n",
       "      <td>3748</td>\n",
       "      <td>3111</td>\n",
       "      <td>0.830043</td>\n",
       "    </tr>\n",
       "    <tr>\n",
       "      <th>8</th>\n",
       "      <td>80.0</td>\n",
       "      <td>3357</td>\n",
       "      <td>2831</td>\n",
       "      <td>0.843312</td>\n",
       "    </tr>\n",
       "    <tr>\n",
       "      <th>9</th>\n",
       "      <td>90.0</td>\n",
       "      <td>849</td>\n",
       "      <td>726</td>\n",
       "      <td>0.855124</td>\n",
       "    </tr>\n",
       "    <tr>\n",
       "      <th>10</th>\n",
       "      <td>100.0</td>\n",
       "      <td>54</td>\n",
       "      <td>46</td>\n",
       "      <td>0.851852</td>\n",
       "    </tr>\n",
       "  </tbody>\n",
       "</table>\n",
       "</div>"
      ],
      "text/plain": [
       "    Decade  Total  Afflicted      Rate\n",
       "0      0.0   2440        179  0.073361\n",
       "1     10.0   1946        368  0.189106\n",
       "2     20.0   2622        729  0.278032\n",
       "3     30.0   2673        990  0.370370\n",
       "4     40.0   3962       2070  0.522463\n",
       "5     50.0   4426       2953  0.667194\n",
       "6     60.0   5356       4127  0.770538\n",
       "7     70.0   3748       3111  0.830043\n",
       "8     80.0   3357       2831  0.843312\n",
       "9     90.0    849        726  0.855124\n",
       "10   100.0     54         46  0.851852"
      ]
     },
     "execution_count": 10,
     "metadata": {},
     "output_type": "execute_result"
    }
   ],
   "source": [
    "chronic[\"Decade\"] = 10*round(chronic.Age / 10)\n",
    "decades = (chronic.groupby(\"Decade\", as_index=False)\n",
    "           .agg(Total=(\"Condition\",\"size\"), \n",
    "                Afflicted=(\"Condition\",\"sum\"),\n",
    "                Rate=(\"Condition\",\"mean\")))\n",
    "decades"
   ]
  },
  {
   "cell_type": "code",
   "execution_count": 11,
   "id": "13e733bb",
   "metadata": {},
   "outputs": [
    {
     "data": {
      "image/png": "[encoded data removed]",
      "text/plain": [
       "<Figure size 576x576 with 1 Axes>"
      ]
     },
     "metadata": {},
     "output_type": "display_data"
    }
   ],
   "source": [
    "sns.scatterplot(data=decades, x=\"Decade\", y=\"Rate\")\n",
    "plt.savefig(\"chronic_cohorts.png\")"
   ]
  },
  {
   "cell_type": "code",
   "execution_count": 12,
   "id": "987959b7",
   "metadata": {},
   "outputs": [
    {
     "data": {
      "image/png": "[encoded data removed]",
      "text/plain": [
       "<Figure size 576x576 with 1 Axes>"
      ]
     },
     "metadata": {},
     "output_type": "display_data"
    }
   ],
   "source": [
    "(sns.regplot(data=chronic,\n",
    "             x=\"Age\", y=\"Condition\",\n",
    "             logistic=True, scatter=False,\n",
    "             ci=None, line_kws={\"lw\":\"4\"}))\n",
    "plt.xlim(-5,105)\n",
    "plt.ylabel(\"Rate\")\n",
    "plt.plot( cohorts[\"Age\"], cohorts[\"Rate\"],'.k')\n",
    "plt.plot( decades[\"Decade\"], decades[\"Rate\"],'or',ms=6)\n",
    "plt.savefig(\"ages_decades.png\")"
   ]
  },
  {
   "cell_type": "code",
   "execution_count": 13,
   "id": "a087a02e",
   "metadata": {},
   "outputs": [
    {
     "name": "stdout",
     "output_type": "stream",
     "text": [
      "Optimization terminated successfully.\n",
      "         Current function value: 0.538249\n",
      "         Iterations 6\n"
     ]
    },
    {
     "data": {
      "text/plain": [
       "Intercept   -2.039383\n",
       "Age          0.051815\n",
       "dtype: float64"
      ]
     },
     "execution_count": 13,
     "metadata": {},
     "output_type": "execute_result"
    }
   ],
   "source": [
    "chronic_model = smf.logit(\"Condition ~ Age\", data=chronic)\n",
    "chronic_fit = chronic_model.fit()\n",
    "chronic_fit.params"
   ]
  },
  {
   "cell_type": "code",
   "execution_count": 14,
   "id": "124e52ef",
   "metadata": {},
   "outputs": [
    {
     "name": "stdout",
     "output_type": "stream",
     "text": [
      "                           Logit Regression Results                           \n",
      "==============================================================================\n",
      "Dep. Variable:              Condition   No. Observations:                31433\n",
      "Model:                          Logit   Df Residuals:                    31431\n",
      "Method:                           MLE   Df Model:                            1\n",
      "Date:                Sun, 24 Oct 2021   Pseudo R-squ.:                  0.2100\n",
      "Time:                        19:29:05   Log-Likelihood:                -16919.\n",
      "converged:                       True   LL-Null:                       -21416.\n",
      "Covariance Type:            nonrobust   LLR p-value:                     0.000\n",
      "==============================================================================\n",
      "                 coef    std err          z      P>|z|      [0.025      0.975]\n",
      "------------------------------------------------------------------------------\n",
      "Intercept     -2.0394      0.032    -64.348      0.000      -2.101      -1.977\n",
      "Age            0.0518      0.001     80.787      0.000       0.051       0.053\n",
      "==============================================================================\n"
     ]
    }
   ],
   "source": [
    "print( chronic_fit.summary() )"
   ]
  },
  {
   "cell_type": "code",
   "execution_count": 15,
   "id": "a9038252",
   "metadata": {},
   "outputs": [
    {
     "data": {
      "text/html": [
       "<div>\n",
       "<style scoped>\n",
       "    .dataframe tbody tr th:only-of-type {\n",
       "        vertical-align: middle;\n",
       "    }\n",
       "\n",
       "    .dataframe tbody tr th {\n",
       "        vertical-align: top;\n",
       "    }\n",
       "\n",
       "    .dataframe thead th {\n",
       "        text-align: right;\n",
       "    }\n",
       "</style>\n",
       "<table border=\"1\" class=\"dataframe\">\n",
       "  <thead>\n",
       "    <tr style=\"text-align: right;\">\n",
       "      <th></th>\n",
       "      <th>Age</th>\n",
       "      <th>Condition</th>\n",
       "      <th>Decade</th>\n",
       "      <th>Probability</th>\n",
       "    </tr>\n",
       "  </thead>\n",
       "  <tbody>\n",
       "    <tr>\n",
       "      <th>0</th>\n",
       "      <td>36</td>\n",
       "      <td>0</td>\n",
       "      <td>40.0</td>\n",
       "      <td>0.456601</td>\n",
       "    </tr>\n",
       "    <tr>\n",
       "      <th>1</th>\n",
       "      <td>55</td>\n",
       "      <td>1</td>\n",
       "      <td>60.0</td>\n",
       "      <td>0.692206</td>\n",
       "    </tr>\n",
       "    <tr>\n",
       "      <th>2</th>\n",
       "      <td>72</td>\n",
       "      <td>1</td>\n",
       "      <td>70.0</td>\n",
       "      <td>0.844397</td>\n",
       "    </tr>\n",
       "    <tr>\n",
       "      <th>3</th>\n",
       "      <td>46</td>\n",
       "      <td>0</td>\n",
       "      <td>50.0</td>\n",
       "      <td>0.585190</td>\n",
       "    </tr>\n",
       "    <tr>\n",
       "      <th>4</th>\n",
       "      <td>66</td>\n",
       "      <td>1</td>\n",
       "      <td>70.0</td>\n",
       "      <td>0.799059</td>\n",
       "    </tr>\n",
       "    <tr>\n",
       "      <th>...</th>\n",
       "      <td>...</td>\n",
       "      <td>...</td>\n",
       "      <td>...</td>\n",
       "      <td>...</td>\n",
       "    </tr>\n",
       "    <tr>\n",
       "      <th>31428</th>\n",
       "      <td>49</td>\n",
       "      <td>1</td>\n",
       "      <td>50.0</td>\n",
       "      <td>0.622357</td>\n",
       "    </tr>\n",
       "    <tr>\n",
       "      <th>31429</th>\n",
       "      <td>56</td>\n",
       "      <td>1</td>\n",
       "      <td>60.0</td>\n",
       "      <td>0.703135</td>\n",
       "    </tr>\n",
       "    <tr>\n",
       "      <th>31430</th>\n",
       "      <td>6</td>\n",
       "      <td>0</td>\n",
       "      <td>10.0</td>\n",
       "      <td>0.150781</td>\n",
       "    </tr>\n",
       "    <tr>\n",
       "      <th>31431</th>\n",
       "      <td>1</td>\n",
       "      <td>0</td>\n",
       "      <td>0.0</td>\n",
       "      <td>0.120514</td>\n",
       "    </tr>\n",
       "    <tr>\n",
       "      <th>31432</th>\n",
       "      <td>59</td>\n",
       "      <td>1</td>\n",
       "      <td>60.0</td>\n",
       "      <td>0.734527</td>\n",
       "    </tr>\n",
       "  </tbody>\n",
       "</table>\n",
       "<p>31433 rows × 4 columns</p>\n",
       "</div>"
      ],
      "text/plain": [
       "       Age  Condition  Decade  Probability\n",
       "0       36          0    40.0     0.456601\n",
       "1       55          1    60.0     0.692206\n",
       "2       72          1    70.0     0.844397\n",
       "3       46          0    50.0     0.585190\n",
       "4       66          1    70.0     0.799059\n",
       "...    ...        ...     ...          ...\n",
       "31428   49          1    50.0     0.622357\n",
       "31429   56          1    60.0     0.703135\n",
       "31430    6          0    10.0     0.150781\n",
       "31431    1          0     0.0     0.120514\n",
       "31432   59          1    60.0     0.734527\n",
       "\n",
       "[31433 rows x 4 columns]"
      ]
     },
     "execution_count": 15,
     "metadata": {},
     "output_type": "execute_result"
    }
   ],
   "source": [
    "chronic[\"Probability\"] = chronic_fit.predict( chronic.Age )\n",
    "chronic"
   ]
  },
  {
   "cell_type": "code",
   "execution_count": 16,
   "id": "ecbe84d2",
   "metadata": {},
   "outputs": [
    {
     "data": {
      "image/png": "[encoded data removed]",
      "text/plain": [
       "<Figure size 576x576 with 1 Axes>"
      ]
     },
     "metadata": {},
     "output_type": "display_data"
    }
   ],
   "source": [
    "z = np.linspace(-5,5,1000)\n",
    "sigma = 1 / ( 1 + np.exp(-z))\n",
    "plt.plot(z, sigma)\n",
    "plt.xlabel(\"z\")\n",
    "plt.ylabel(r\"$\\sigma(z)$\")\n",
    "plt.title(\"The logistic function\")\n",
    "plt.savefig(\"logit.png\")"
   ]
  },
  {
   "cell_type": "code",
   "execution_count": 17,
   "id": "aecc8edb",
   "metadata": {},
   "outputs": [
    {
     "data": {
      "text/html": [
       "<div>\n",
       "<style scoped>\n",
       "    .dataframe tbody tr th:only-of-type {\n",
       "        vertical-align: middle;\n",
       "    }\n",
       "\n",
       "    .dataframe tbody tr th {\n",
       "        vertical-align: top;\n",
       "    }\n",
       "\n",
       "    .dataframe thead th {\n",
       "        text-align: right;\n",
       "    }\n",
       "</style>\n",
       "<table border=\"1\" class=\"dataframe\">\n",
       "  <thead>\n",
       "    <tr style=\"text-align: right;\">\n",
       "      <th></th>\n",
       "      <th>Age</th>\n",
       "      <th>Condition</th>\n",
       "      <th>Decade</th>\n",
       "      <th>Probability</th>\n",
       "      <th>Class</th>\n",
       "    </tr>\n",
       "  </thead>\n",
       "  <tbody>\n",
       "    <tr>\n",
       "      <th>0</th>\n",
       "      <td>36</td>\n",
       "      <td>0</td>\n",
       "      <td>40.0</td>\n",
       "      <td>0.456601</td>\n",
       "      <td>0</td>\n",
       "    </tr>\n",
       "    <tr>\n",
       "      <th>1</th>\n",
       "      <td>55</td>\n",
       "      <td>1</td>\n",
       "      <td>60.0</td>\n",
       "      <td>0.692206</td>\n",
       "      <td>1</td>\n",
       "    </tr>\n",
       "    <tr>\n",
       "      <th>2</th>\n",
       "      <td>72</td>\n",
       "      <td>1</td>\n",
       "      <td>70.0</td>\n",
       "      <td>0.844397</td>\n",
       "      <td>1</td>\n",
       "    </tr>\n",
       "    <tr>\n",
       "      <th>3</th>\n",
       "      <td>46</td>\n",
       "      <td>0</td>\n",
       "      <td>50.0</td>\n",
       "      <td>0.585190</td>\n",
       "      <td>1</td>\n",
       "    </tr>\n",
       "    <tr>\n",
       "      <th>4</th>\n",
       "      <td>66</td>\n",
       "      <td>1</td>\n",
       "      <td>70.0</td>\n",
       "      <td>0.799059</td>\n",
       "      <td>1</td>\n",
       "    </tr>\n",
       "    <tr>\n",
       "      <th>...</th>\n",
       "      <td>...</td>\n",
       "      <td>...</td>\n",
       "      <td>...</td>\n",
       "      <td>...</td>\n",
       "      <td>...</td>\n",
       "    </tr>\n",
       "    <tr>\n",
       "      <th>31428</th>\n",
       "      <td>49</td>\n",
       "      <td>1</td>\n",
       "      <td>50.0</td>\n",
       "      <td>0.622357</td>\n",
       "      <td>1</td>\n",
       "    </tr>\n",
       "    <tr>\n",
       "      <th>31429</th>\n",
       "      <td>56</td>\n",
       "      <td>1</td>\n",
       "      <td>60.0</td>\n",
       "      <td>0.703135</td>\n",
       "      <td>1</td>\n",
       "    </tr>\n",
       "    <tr>\n",
       "      <th>31430</th>\n",
       "      <td>6</td>\n",
       "      <td>0</td>\n",
       "      <td>10.0</td>\n",
       "      <td>0.150781</td>\n",
       "      <td>0</td>\n",
       "    </tr>\n",
       "    <tr>\n",
       "      <th>31431</th>\n",
       "      <td>1</td>\n",
       "      <td>0</td>\n",
       "      <td>0.0</td>\n",
       "      <td>0.120514</td>\n",
       "      <td>0</td>\n",
       "    </tr>\n",
       "    <tr>\n",
       "      <th>31432</th>\n",
       "      <td>59</td>\n",
       "      <td>1</td>\n",
       "      <td>60.0</td>\n",
       "      <td>0.734527</td>\n",
       "      <td>1</td>\n",
       "    </tr>\n",
       "  </tbody>\n",
       "</table>\n",
       "<p>31433 rows × 5 columns</p>\n",
       "</div>"
      ],
      "text/plain": [
       "       Age  Condition  Decade  Probability  Class\n",
       "0       36          0    40.0     0.456601      0\n",
       "1       55          1    60.0     0.692206      1\n",
       "2       72          1    70.0     0.844397      1\n",
       "3       46          0    50.0     0.585190      1\n",
       "4       66          1    70.0     0.799059      1\n",
       "...    ...        ...     ...          ...    ...\n",
       "31428   49          1    50.0     0.622357      1\n",
       "31429   56          1    60.0     0.703135      1\n",
       "31430    6          0    10.0     0.150781      0\n",
       "31431    1          0     0.0     0.120514      0\n",
       "31432   59          1    60.0     0.734527      1\n",
       "\n",
       "[31433 rows x 5 columns]"
      ]
     },
     "execution_count": 17,
     "metadata": {},
     "output_type": "execute_result"
    }
   ],
   "source": [
    "chronic[\"Class\"] = (chronic.Probability > 0.50).astype(int)\n",
    "chronic"
   ]
  },
  {
   "cell_type": "code",
   "execution_count": 18,
   "id": "688dc57d",
   "metadata": {},
   "outputs": [
    {
     "data": {
      "text/html": [
       "<div>\n",
       "<style scoped>\n",
       "    .dataframe tbody tr th:only-of-type {\n",
       "        vertical-align: middle;\n",
       "    }\n",
       "\n",
       "    .dataframe tbody tr th {\n",
       "        vertical-align: top;\n",
       "    }\n",
       "\n",
       "    .dataframe thead th {\n",
       "        text-align: right;\n",
       "    }\n",
       "</style>\n",
       "<table border=\"1\" class=\"dataframe\">\n",
       "  <thead>\n",
       "    <tr style=\"text-align: right;\">\n",
       "      <th>Class</th>\n",
       "      <th>0</th>\n",
       "      <th>1</th>\n",
       "    </tr>\n",
       "    <tr>\n",
       "      <th>Condition</th>\n",
       "      <th></th>\n",
       "      <th></th>\n",
       "    </tr>\n",
       "  </thead>\n",
       "  <tbody>\n",
       "    <tr>\n",
       "      <th>0</th>\n",
       "      <td>8294</td>\n",
       "      <td>5009</td>\n",
       "    </tr>\n",
       "    <tr>\n",
       "      <th>1</th>\n",
       "      <td>3043</td>\n",
       "      <td>15087</td>\n",
       "    </tr>\n",
       "  </tbody>\n",
       "</table>\n",
       "</div>"
      ],
      "text/plain": [
       "Class         0      1\n",
       "Condition             \n",
       "0          8294   5009\n",
       "1          3043  15087"
      ]
     },
     "execution_count": 18,
     "metadata": {},
     "output_type": "execute_result"
    }
   ],
   "source": [
    "pd.crosstab(chronic.Condition, chronic.Class)"
   ]
  },
  {
   "cell_type": "code",
   "execution_count": 19,
   "id": "70f7dcaa",
   "metadata": {},
   "outputs": [
    {
     "data": {
      "text/html": [
       "<div>\n",
       "<style scoped>\n",
       "    .dataframe tbody tr th:only-of-type {\n",
       "        vertical-align: middle;\n",
       "    }\n",
       "\n",
       "    .dataframe tbody tr th {\n",
       "        vertical-align: top;\n",
       "    }\n",
       "\n",
       "    .dataframe thead th {\n",
       "        text-align: right;\n",
       "    }\n",
       "</style>\n",
       "<table border=\"1\" class=\"dataframe\">\n",
       "  <thead>\n",
       "    <tr style=\"text-align: right;\">\n",
       "      <th>Class</th>\n",
       "      <th>0</th>\n",
       "      <th>1</th>\n",
       "    </tr>\n",
       "    <tr>\n",
       "      <th>Condition</th>\n",
       "      <th></th>\n",
       "      <th></th>\n",
       "    </tr>\n",
       "  </thead>\n",
       "  <tbody>\n",
       "    <tr>\n",
       "      <th>0</th>\n",
       "      <td>0.623468</td>\n",
       "      <td>0.376532</td>\n",
       "    </tr>\n",
       "    <tr>\n",
       "      <th>1</th>\n",
       "      <td>0.167843</td>\n",
       "      <td>0.832157</td>\n",
       "    </tr>\n",
       "  </tbody>\n",
       "</table>\n",
       "</div>"
      ],
      "text/plain": [
       "Class             0         1\n",
       "Condition                    \n",
       "0          0.623468  0.376532\n",
       "1          0.167843  0.832157"
      ]
     },
     "execution_count": 19,
     "metadata": {},
     "output_type": "execute_result"
    }
   ],
   "source": [
    "pd.crosstab(chronic.Condition, chronic.Class, normalize='index')"
   ]
  },
  {
   "cell_type": "code",
   "execution_count": 20,
   "id": "6f995c21",
   "metadata": {},
   "outputs": [
    {
     "data": {
      "text/plain": [
       "0.7438360958228614"
      ]
     },
     "execution_count": 20,
     "metadata": {},
     "output_type": "execute_result"
    }
   ],
   "source": [
    "np.mean( chronic.Condition == chronic.Class )"
   ]
  },
  {
   "cell_type": "code",
   "execution_count": 21,
   "id": "45b33cfa",
   "metadata": {},
   "outputs": [
    {
     "data": {
      "text/plain": [
       "0.2561639041771387"
      ]
     },
     "execution_count": 21,
     "metadata": {},
     "output_type": "execute_result"
    }
   ],
   "source": [
    "np.mean( chronic.Condition != chronic.Class )"
   ]
  },
  {
   "cell_type": "code",
   "execution_count": 22,
   "id": "ca2bf0a5",
   "metadata": {},
   "outputs": [
    {
     "data": {
      "text/html": [
       "<div>\n",
       "<style scoped>\n",
       "    .dataframe tbody tr th:only-of-type {\n",
       "        vertical-align: middle;\n",
       "    }\n",
       "\n",
       "    .dataframe tbody tr th {\n",
       "        vertical-align: top;\n",
       "    }\n",
       "\n",
       "    .dataframe thead th {\n",
       "        text-align: right;\n",
       "    }\n",
       "</style>\n",
       "<table border=\"1\" class=\"dataframe\">\n",
       "  <thead>\n",
       "    <tr style=\"text-align: right;\">\n",
       "      <th></th>\n",
       "      <th>Age</th>\n",
       "      <th>Condition</th>\n",
       "      <th>Decade</th>\n",
       "      <th>Probability</th>\n",
       "      <th>Class</th>\n",
       "    </tr>\n",
       "  </thead>\n",
       "  <tbody>\n",
       "    <tr>\n",
       "      <th>0</th>\n",
       "      <td>36</td>\n",
       "      <td>0</td>\n",
       "      <td>40.0</td>\n",
       "      <td>0.456601</td>\n",
       "      <td>0</td>\n",
       "    </tr>\n",
       "    <tr>\n",
       "      <th>1</th>\n",
       "      <td>55</td>\n",
       "      <td>1</td>\n",
       "      <td>60.0</td>\n",
       "      <td>0.692206</td>\n",
       "      <td>0</td>\n",
       "    </tr>\n",
       "    <tr>\n",
       "      <th>2</th>\n",
       "      <td>72</td>\n",
       "      <td>1</td>\n",
       "      <td>70.0</td>\n",
       "      <td>0.844397</td>\n",
       "      <td>1</td>\n",
       "    </tr>\n",
       "    <tr>\n",
       "      <th>3</th>\n",
       "      <td>46</td>\n",
       "      <td>0</td>\n",
       "      <td>50.0</td>\n",
       "      <td>0.585190</td>\n",
       "      <td>0</td>\n",
       "    </tr>\n",
       "    <tr>\n",
       "      <th>4</th>\n",
       "      <td>66</td>\n",
       "      <td>1</td>\n",
       "      <td>70.0</td>\n",
       "      <td>0.799059</td>\n",
       "      <td>0</td>\n",
       "    </tr>\n",
       "    <tr>\n",
       "      <th>...</th>\n",
       "      <td>...</td>\n",
       "      <td>...</td>\n",
       "      <td>...</td>\n",
       "      <td>...</td>\n",
       "      <td>...</td>\n",
       "    </tr>\n",
       "    <tr>\n",
       "      <th>31428</th>\n",
       "      <td>49</td>\n",
       "      <td>1</td>\n",
       "      <td>50.0</td>\n",
       "      <td>0.622357</td>\n",
       "      <td>0</td>\n",
       "    </tr>\n",
       "    <tr>\n",
       "      <th>31429</th>\n",
       "      <td>56</td>\n",
       "      <td>1</td>\n",
       "      <td>60.0</td>\n",
       "      <td>0.703135</td>\n",
       "      <td>0</td>\n",
       "    </tr>\n",
       "    <tr>\n",
       "      <th>31430</th>\n",
       "      <td>6</td>\n",
       "      <td>0</td>\n",
       "      <td>10.0</td>\n",
       "      <td>0.150781</td>\n",
       "      <td>0</td>\n",
       "    </tr>\n",
       "    <tr>\n",
       "      <th>31431</th>\n",
       "      <td>1</td>\n",
       "      <td>0</td>\n",
       "      <td>0.0</td>\n",
       "      <td>0.120514</td>\n",
       "      <td>0</td>\n",
       "    </tr>\n",
       "    <tr>\n",
       "      <th>31432</th>\n",
       "      <td>59</td>\n",
       "      <td>1</td>\n",
       "      <td>60.0</td>\n",
       "      <td>0.734527</td>\n",
       "      <td>0</td>\n",
       "    </tr>\n",
       "  </tbody>\n",
       "</table>\n",
       "<p>31433 rows × 5 columns</p>\n",
       "</div>"
      ],
      "text/plain": [
       "       Age  Condition  Decade  Probability  Class\n",
       "0       36          0    40.0     0.456601      0\n",
       "1       55          1    60.0     0.692206      0\n",
       "2       72          1    70.0     0.844397      1\n",
       "3       46          0    50.0     0.585190      0\n",
       "4       66          1    70.0     0.799059      0\n",
       "...    ...        ...     ...          ...    ...\n",
       "31428   49          1    50.0     0.622357      0\n",
       "31429   56          1    60.0     0.703135      0\n",
       "31430    6          0    10.0     0.150781      0\n",
       "31431    1          0     0.0     0.120514      0\n",
       "31432   59          1    60.0     0.734527      0\n",
       "\n",
       "[31433 rows x 5 columns]"
      ]
     },
     "execution_count": 22,
     "metadata": {},
     "output_type": "execute_result"
    }
   ],
   "source": [
    "chronic[\"Class\"] = (chronic.Probability > 0.80).astype(int)\n",
    "chronic"
   ]
  },
  {
   "cell_type": "code",
   "execution_count": 23,
   "id": "755be311",
   "metadata": {},
   "outputs": [
    {
     "data": {
      "text/html": [
       "<div>\n",
       "<style scoped>\n",
       "    .dataframe tbody tr th:only-of-type {\n",
       "        vertical-align: middle;\n",
       "    }\n",
       "\n",
       "    .dataframe tbody tr th {\n",
       "        vertical-align: top;\n",
       "    }\n",
       "\n",
       "    .dataframe thead th {\n",
       "        text-align: right;\n",
       "    }\n",
       "</style>\n",
       "<table border=\"1\" class=\"dataframe\">\n",
       "  <thead>\n",
       "    <tr style=\"text-align: right;\">\n",
       "      <th>Class</th>\n",
       "      <th>0</th>\n",
       "      <th>1</th>\n",
       "    </tr>\n",
       "    <tr>\n",
       "      <th>Condition</th>\n",
       "      <th></th>\n",
       "      <th></th>\n",
       "    </tr>\n",
       "  </thead>\n",
       "  <tbody>\n",
       "    <tr>\n",
       "      <th>0</th>\n",
       "      <td>12102</td>\n",
       "      <td>1201</td>\n",
       "    </tr>\n",
       "    <tr>\n",
       "      <th>1</th>\n",
       "      <td>11803</td>\n",
       "      <td>6327</td>\n",
       "    </tr>\n",
       "  </tbody>\n",
       "</table>\n",
       "</div>"
      ],
      "text/plain": [
       "Class          0     1\n",
       "Condition             \n",
       "0          12102  1201\n",
       "1          11803  6327"
      ]
     },
     "execution_count": 23,
     "metadata": {},
     "output_type": "execute_result"
    }
   ],
   "source": [
    "pd.crosstab(chronic.Condition, chronic.Class)"
   ]
  },
  {
   "cell_type": "code",
   "execution_count": 24,
   "id": "d3f12fd4",
   "metadata": {},
   "outputs": [
    {
     "data": {
      "text/html": [
       "<div>\n",
       "<style scoped>\n",
       "    .dataframe tbody tr th:only-of-type {\n",
       "        vertical-align: middle;\n",
       "    }\n",
       "\n",
       "    .dataframe tbody tr th {\n",
       "        vertical-align: top;\n",
       "    }\n",
       "\n",
       "    .dataframe thead th {\n",
       "        text-align: right;\n",
       "    }\n",
       "</style>\n",
       "<table border=\"1\" class=\"dataframe\">\n",
       "  <thead>\n",
       "    <tr style=\"text-align: right;\">\n",
       "      <th>Class</th>\n",
       "      <th>0</th>\n",
       "      <th>1</th>\n",
       "    </tr>\n",
       "    <tr>\n",
       "      <th>Condition</th>\n",
       "      <th></th>\n",
       "      <th></th>\n",
       "    </tr>\n",
       "  </thead>\n",
       "  <tbody>\n",
       "    <tr>\n",
       "      <th>0</th>\n",
       "      <td>0.90972</td>\n",
       "      <td>0.09028</td>\n",
       "    </tr>\n",
       "    <tr>\n",
       "      <th>1</th>\n",
       "      <td>0.65102</td>\n",
       "      <td>0.34898</td>\n",
       "    </tr>\n",
       "  </tbody>\n",
       "</table>\n",
       "</div>"
      ],
      "text/plain": [
       "Class            0        1\n",
       "Condition                  \n",
       "0          0.90972  0.09028\n",
       "1          0.65102  0.34898"
      ]
     },
     "execution_count": 24,
     "metadata": {},
     "output_type": "execute_result"
    }
   ],
   "source": [
    "pd.crosstab(chronic.Condition, chronic.Class, normalize='index')"
   ]
  },
  {
   "cell_type": "code",
   "execution_count": 25,
   "id": "4b9661ff",
   "metadata": {},
   "outputs": [
    {
     "data": {
      "text/plain": [
       "0.5862946584799414"
      ]
     },
     "execution_count": 25,
     "metadata": {},
     "output_type": "execute_result"
    }
   ],
   "source": [
    "np.mean( chronic.Condition == chronic.Class )"
   ]
  },
  {
   "cell_type": "code",
   "execution_count": 26,
   "id": "5134edb1",
   "metadata": {},
   "outputs": [
    {
     "data": {
      "text/plain": [
       "0.41370534152005856"
      ]
     },
     "execution_count": 26,
     "metadata": {},
     "output_type": "execute_result"
    }
   ],
   "source": [
    "np.mean( chronic.Condition != chronic.Class )"
   ]
  },
  {
   "cell_type": "code",
   "execution_count": 27,
   "id": "534dd553",
   "metadata": {},
   "outputs": [
    {
     "data": {
      "text/html": [
       "<div>\n",
       "<style scoped>\n",
       "    .dataframe tbody tr th:only-of-type {\n",
       "        vertical-align: middle;\n",
       "    }\n",
       "\n",
       "    .dataframe tbody tr th {\n",
       "        vertical-align: top;\n",
       "    }\n",
       "\n",
       "    .dataframe thead th {\n",
       "        text-align: right;\n",
       "    }\n",
       "</style>\n",
       "<table border=\"1\" class=\"dataframe\">\n",
       "  <thead>\n",
       "    <tr style=\"text-align: right;\">\n",
       "      <th></th>\n",
       "      <th>Age</th>\n",
       "      <th>Condition</th>\n",
       "      <th>Decade</th>\n",
       "      <th>Probability</th>\n",
       "      <th>Class</th>\n",
       "    </tr>\n",
       "  </thead>\n",
       "  <tbody>\n",
       "    <tr>\n",
       "      <th>0</th>\n",
       "      <td>36</td>\n",
       "      <td>0</td>\n",
       "      <td>40.0</td>\n",
       "      <td>0.456601</td>\n",
       "      <td>1</td>\n",
       "    </tr>\n",
       "    <tr>\n",
       "      <th>1</th>\n",
       "      <td>55</td>\n",
       "      <td>1</td>\n",
       "      <td>60.0</td>\n",
       "      <td>0.692206</td>\n",
       "      <td>1</td>\n",
       "    </tr>\n",
       "    <tr>\n",
       "      <th>2</th>\n",
       "      <td>72</td>\n",
       "      <td>1</td>\n",
       "      <td>70.0</td>\n",
       "      <td>0.844397</td>\n",
       "      <td>1</td>\n",
       "    </tr>\n",
       "    <tr>\n",
       "      <th>3</th>\n",
       "      <td>46</td>\n",
       "      <td>0</td>\n",
       "      <td>50.0</td>\n",
       "      <td>0.585190</td>\n",
       "      <td>1</td>\n",
       "    </tr>\n",
       "    <tr>\n",
       "      <th>4</th>\n",
       "      <td>66</td>\n",
       "      <td>1</td>\n",
       "      <td>70.0</td>\n",
       "      <td>0.799059</td>\n",
       "      <td>1</td>\n",
       "    </tr>\n",
       "    <tr>\n",
       "      <th>...</th>\n",
       "      <td>...</td>\n",
       "      <td>...</td>\n",
       "      <td>...</td>\n",
       "      <td>...</td>\n",
       "      <td>...</td>\n",
       "    </tr>\n",
       "    <tr>\n",
       "      <th>31428</th>\n",
       "      <td>49</td>\n",
       "      <td>1</td>\n",
       "      <td>50.0</td>\n",
       "      <td>0.622357</td>\n",
       "      <td>1</td>\n",
       "    </tr>\n",
       "    <tr>\n",
       "      <th>31429</th>\n",
       "      <td>56</td>\n",
       "      <td>1</td>\n",
       "      <td>60.0</td>\n",
       "      <td>0.703135</td>\n",
       "      <td>1</td>\n",
       "    </tr>\n",
       "    <tr>\n",
       "      <th>31430</th>\n",
       "      <td>6</td>\n",
       "      <td>0</td>\n",
       "      <td>10.0</td>\n",
       "      <td>0.150781</td>\n",
       "      <td>0</td>\n",
       "    </tr>\n",
       "    <tr>\n",
       "      <th>31431</th>\n",
       "      <td>1</td>\n",
       "      <td>0</td>\n",
       "      <td>0.0</td>\n",
       "      <td>0.120514</td>\n",
       "      <td>0</td>\n",
       "    </tr>\n",
       "    <tr>\n",
       "      <th>31432</th>\n",
       "      <td>59</td>\n",
       "      <td>1</td>\n",
       "      <td>60.0</td>\n",
       "      <td>0.734527</td>\n",
       "      <td>1</td>\n",
       "    </tr>\n",
       "  </tbody>\n",
       "</table>\n",
       "<p>31433 rows × 5 columns</p>\n",
       "</div>"
      ],
      "text/plain": [
       "       Age  Condition  Decade  Probability  Class\n",
       "0       36          0    40.0     0.456601      1\n",
       "1       55          1    60.0     0.692206      1\n",
       "2       72          1    70.0     0.844397      1\n",
       "3       46          0    50.0     0.585190      1\n",
       "4       66          1    70.0     0.799059      1\n",
       "...    ...        ...     ...          ...    ...\n",
       "31428   49          1    50.0     0.622357      1\n",
       "31429   56          1    60.0     0.703135      1\n",
       "31430    6          0    10.0     0.150781      0\n",
       "31431    1          0     0.0     0.120514      0\n",
       "31432   59          1    60.0     0.734527      1\n",
       "\n",
       "[31433 rows x 5 columns]"
      ]
     },
     "execution_count": 27,
     "metadata": {},
     "output_type": "execute_result"
    }
   ],
   "source": [
    "chronic[\"Class\"] = (chronic.Probability > 0.20).astype(int)\n",
    "chronic"
   ]
  },
  {
   "cell_type": "code",
   "execution_count": 28,
   "id": "be04846f",
   "metadata": {},
   "outputs": [
    {
     "data": {
      "text/html": [
       "<div>\n",
       "<style scoped>\n",
       "    .dataframe tbody tr th:only-of-type {\n",
       "        vertical-align: middle;\n",
       "    }\n",
       "\n",
       "    .dataframe tbody tr th {\n",
       "        vertical-align: top;\n",
       "    }\n",
       "\n",
       "    .dataframe thead th {\n",
       "        text-align: right;\n",
       "    }\n",
       "</style>\n",
       "<table border=\"1\" class=\"dataframe\">\n",
       "  <thead>\n",
       "    <tr style=\"text-align: right;\">\n",
       "      <th>Class</th>\n",
       "      <th>0</th>\n",
       "      <th>1</th>\n",
       "    </tr>\n",
       "    <tr>\n",
       "      <th>Condition</th>\n",
       "      <th></th>\n",
       "      <th></th>\n",
       "    </tr>\n",
       "  </thead>\n",
       "  <tbody>\n",
       "    <tr>\n",
       "      <th>0</th>\n",
       "      <td>3523</td>\n",
       "      <td>9780</td>\n",
       "    </tr>\n",
       "    <tr>\n",
       "      <th>1</th>\n",
       "      <td>447</td>\n",
       "      <td>17683</td>\n",
       "    </tr>\n",
       "  </tbody>\n",
       "</table>\n",
       "</div>"
      ],
      "text/plain": [
       "Class         0      1\n",
       "Condition             \n",
       "0          3523   9780\n",
       "1           447  17683"
      ]
     },
     "execution_count": 28,
     "metadata": {},
     "output_type": "execute_result"
    }
   ],
   "source": [
    "pd.crosstab(chronic.Condition, chronic.Class)"
   ]
  },
  {
   "cell_type": "code",
   "execution_count": 29,
   "id": "26aaa056",
   "metadata": {},
   "outputs": [
    {
     "data": {
      "text/html": [
       "<div>\n",
       "<style scoped>\n",
       "    .dataframe tbody tr th:only-of-type {\n",
       "        vertical-align: middle;\n",
       "    }\n",
       "\n",
       "    .dataframe tbody tr th {\n",
       "        vertical-align: top;\n",
       "    }\n",
       "\n",
       "    .dataframe thead th {\n",
       "        text-align: right;\n",
       "    }\n",
       "</style>\n",
       "<table border=\"1\" class=\"dataframe\">\n",
       "  <thead>\n",
       "    <tr style=\"text-align: right;\">\n",
       "      <th>Class</th>\n",
       "      <th>0</th>\n",
       "      <th>1</th>\n",
       "    </tr>\n",
       "    <tr>\n",
       "      <th>Condition</th>\n",
       "      <th></th>\n",
       "      <th></th>\n",
       "    </tr>\n",
       "  </thead>\n",
       "  <tbody>\n",
       "    <tr>\n",
       "      <th>0</th>\n",
       "      <td>0.264827</td>\n",
       "      <td>0.735173</td>\n",
       "    </tr>\n",
       "    <tr>\n",
       "      <th>1</th>\n",
       "      <td>0.024655</td>\n",
       "      <td>0.975345</td>\n",
       "    </tr>\n",
       "  </tbody>\n",
       "</table>\n",
       "</div>"
      ],
      "text/plain": [
       "Class             0         1\n",
       "Condition                    \n",
       "0          0.264827  0.735173\n",
       "1          0.024655  0.975345"
      ]
     },
     "execution_count": 29,
     "metadata": {},
     "output_type": "execute_result"
    }
   ],
   "source": [
    "pd.crosstab(chronic.Condition, chronic.Class, normalize='index')"
   ]
  },
  {
   "cell_type": "code",
   "execution_count": 30,
   "id": "2837b89d",
   "metadata": {},
   "outputs": [
    {
     "data": {
      "text/plain": [
       "0.6746413005440143"
      ]
     },
     "execution_count": 30,
     "metadata": {},
     "output_type": "execute_result"
    }
   ],
   "source": [
    "np.mean( chronic.Condition == chronic.Class )"
   ]
  },
  {
   "cell_type": "code",
   "execution_count": 31,
   "id": "12f1d87c",
   "metadata": {},
   "outputs": [
    {
     "data": {
      "text/plain": [
       "0.3253586994559857"
      ]
     },
     "execution_count": 31,
     "metadata": {},
     "output_type": "execute_result"
    }
   ],
   "source": [
    "np.mean( chronic.Condition != chronic.Class )"
   ]
  },
  {
   "cell_type": "code",
   "execution_count": 32,
   "id": "0324a4fe",
   "metadata": {},
   "outputs": [
    {
     "data": {
      "text/plain": [
       "0.7938824622209679"
      ]
     },
     "execution_count": 32,
     "metadata": {},
     "output_type": "execute_result"
    }
   ],
   "source": [
    "fpr, tpr, thresholds = metrics.roc_curve(chronic.Condition, chronic.Probability)\n",
    "chronic_auc = metrics.auc(fpr, tpr)\n",
    "chronic_auc"
   ]
  },
  {
   "cell_type": "code",
   "execution_count": 33,
   "id": "6d7830a9",
   "metadata": {},
   "outputs": [
    {
     "data": {
      "image/png": "[encoded data removed]",
      "text/plain": [
       "<Figure size 576x576 with 1 Axes>"
      ]
     },
     "metadata": {},
     "output_type": "display_data"
    }
   ],
   "source": [
    "plt.figure()\n",
    "plt.plot(fpr, tpr, label='ROC curve    AUC: %0.2f' % chronic_auc)\n",
    "plt.plot([0,1], [0,1], 'r--', label='Random classification')\n",
    "plt.plot([0.735,0.377,0.09], [0.975,0.832,0.349], 'ok')\n",
    "# plt.xlim([0, 1]) \n",
    "# plt.ylim([0, 1.05])\n",
    "plt.xlabel('False Positive Rate (1-Specificity)')\n",
    "plt.ylabel('True Positive Rate (Sensitivity)')\n",
    "plt.title('ROC curve for chronic condition classifier')\n",
    "plt.legend(loc=\"lower right\")\n",
    "plt.savefig(\"chronic_roc.png\")"
   ]
  },
  {
   "cell_type": "code",
   "execution_count": 34,
   "id": "e7708cfc",
   "metadata": {},
   "outputs": [
    {
     "data": {
      "text/html": [
       "<div>\n",
       "<style scoped>\n",
       "    .dataframe tbody tr th:only-of-type {\n",
       "        vertical-align: middle;\n",
       "    }\n",
       "\n",
       "    .dataframe tbody tr th {\n",
       "        vertical-align: top;\n",
       "    }\n",
       "\n",
       "    .dataframe thead th {\n",
       "        text-align: right;\n",
       "    }\n",
       "</style>\n",
       "<table border=\"1\" class=\"dataframe\">\n",
       "  <thead>\n",
       "    <tr style=\"text-align: right;\">\n",
       "      <th></th>\n",
       "      <th>Age</th>\n",
       "      <th>Number</th>\n",
       "      <th>Successes</th>\n",
       "      <th>Failures</th>\n",
       "      <th>Percentage</th>\n",
       "    </tr>\n",
       "  </thead>\n",
       "  <tbody>\n",
       "    <tr>\n",
       "      <th>0</th>\n",
       "      <td>0</td>\n",
       "      <td>796</td>\n",
       "      <td>21</td>\n",
       "      <td>775</td>\n",
       "      <td>0.026382</td>\n",
       "    </tr>\n",
       "    <tr>\n",
       "      <th>1</th>\n",
       "      <td>1</td>\n",
       "      <td>505</td>\n",
       "      <td>32</td>\n",
       "      <td>473</td>\n",
       "      <td>0.063366</td>\n",
       "    </tr>\n",
       "    <tr>\n",
       "      <th>2</th>\n",
       "      <td>2</td>\n",
       "      <td>320</td>\n",
       "      <td>29</td>\n",
       "      <td>291</td>\n",
       "      <td>0.090625</td>\n",
       "    </tr>\n",
       "    <tr>\n",
       "      <th>3</th>\n",
       "      <td>3</td>\n",
       "      <td>258</td>\n",
       "      <td>37</td>\n",
       "      <td>221</td>\n",
       "      <td>0.143411</td>\n",
       "    </tr>\n",
       "    <tr>\n",
       "      <th>4</th>\n",
       "      <td>4</td>\n",
       "      <td>299</td>\n",
       "      <td>30</td>\n",
       "      <td>269</td>\n",
       "      <td>0.100334</td>\n",
       "    </tr>\n",
       "    <tr>\n",
       "      <th>...</th>\n",
       "      <td>...</td>\n",
       "      <td>...</td>\n",
       "      <td>...</td>\n",
       "      <td>...</td>\n",
       "      <td>...</td>\n",
       "    </tr>\n",
       "    <tr>\n",
       "      <th>96</th>\n",
       "      <td>96</td>\n",
       "      <td>13</td>\n",
       "      <td>12</td>\n",
       "      <td>1</td>\n",
       "      <td>0.923077</td>\n",
       "    </tr>\n",
       "    <tr>\n",
       "      <th>97</th>\n",
       "      <td>97</td>\n",
       "      <td>11</td>\n",
       "      <td>10</td>\n",
       "      <td>1</td>\n",
       "      <td>0.909091</td>\n",
       "    </tr>\n",
       "    <tr>\n",
       "      <th>98</th>\n",
       "      <td>98</td>\n",
       "      <td>6</td>\n",
       "      <td>5</td>\n",
       "      <td>1</td>\n",
       "      <td>0.833333</td>\n",
       "    </tr>\n",
       "    <tr>\n",
       "      <th>99</th>\n",
       "      <td>99</td>\n",
       "      <td>2</td>\n",
       "      <td>1</td>\n",
       "      <td>1</td>\n",
       "      <td>0.500000</td>\n",
       "    </tr>\n",
       "    <tr>\n",
       "      <th>100</th>\n",
       "      <td>100</td>\n",
       "      <td>6</td>\n",
       "      <td>5</td>\n",
       "      <td>1</td>\n",
       "      <td>0.833333</td>\n",
       "    </tr>\n",
       "  </tbody>\n",
       "</table>\n",
       "<p>101 rows × 5 columns</p>\n",
       "</div>"
      ],
      "text/plain": [
       "     Age  Number  Successes  Failures  Percentage\n",
       "0      0     796         21       775    0.026382\n",
       "1      1     505         32       473    0.063366\n",
       "2      2     320         29       291    0.090625\n",
       "3      3     258         37       221    0.143411\n",
       "4      4     299         30       269    0.100334\n",
       "..   ...     ...        ...       ...         ...\n",
       "96    96      13         12         1    0.923077\n",
       "97    97      11         10         1    0.909091\n",
       "98    98       6          5         1    0.833333\n",
       "99    99       2          1         1    0.500000\n",
       "100  100       6          5         1    0.833333\n",
       "\n",
       "[101 rows x 5 columns]"
      ]
     },
     "execution_count": 34,
     "metadata": {},
     "output_type": "execute_result"
    }
   ],
   "source": [
    "cohorts = (chronic.groupby(\"Age\", as_index=False)\n",
    "           .agg(Number = (\"Condition\",\"size\"), \n",
    "                Successes = (\"Condition\",\"sum\"),\n",
    "                Percentage = (\"Condition\",\"mean\")))\n",
    "cohorts.insert(3,\"Failures\", cohorts[\"Number\"] - cohorts[\"Successes\"])\n",
    "cohorts"
   ]
  },
  {
   "cell_type": "code",
   "execution_count": 35,
   "id": "3b509a2f",
   "metadata": {},
   "outputs": [
    {
     "data": {
      "text/html": [
       "<div>\n",
       "<style scoped>\n",
       "    .dataframe tbody tr th:only-of-type {\n",
       "        vertical-align: middle;\n",
       "    }\n",
       "\n",
       "    .dataframe tbody tr th {\n",
       "        vertical-align: top;\n",
       "    }\n",
       "\n",
       "    .dataframe thead th {\n",
       "        text-align: right;\n",
       "    }\n",
       "</style>\n",
       "<table border=\"1\" class=\"dataframe\">\n",
       "  <thead>\n",
       "    <tr style=\"text-align: right;\">\n",
       "      <th></th>\n",
       "      <th>Bias</th>\n",
       "      <th>Age</th>\n",
       "      <th>Number</th>\n",
       "      <th>Successes</th>\n",
       "      <th>Failures</th>\n",
       "      <th>Percentage</th>\n",
       "    </tr>\n",
       "  </thead>\n",
       "  <tbody>\n",
       "    <tr>\n",
       "      <th>0</th>\n",
       "      <td>1</td>\n",
       "      <td>0</td>\n",
       "      <td>796</td>\n",
       "      <td>21</td>\n",
       "      <td>775</td>\n",
       "      <td>0.026382</td>\n",
       "    </tr>\n",
       "    <tr>\n",
       "      <th>1</th>\n",
       "      <td>1</td>\n",
       "      <td>1</td>\n",
       "      <td>505</td>\n",
       "      <td>32</td>\n",
       "      <td>473</td>\n",
       "      <td>0.063366</td>\n",
       "    </tr>\n",
       "    <tr>\n",
       "      <th>2</th>\n",
       "      <td>1</td>\n",
       "      <td>2</td>\n",
       "      <td>320</td>\n",
       "      <td>29</td>\n",
       "      <td>291</td>\n",
       "      <td>0.090625</td>\n",
       "    </tr>\n",
       "    <tr>\n",
       "      <th>3</th>\n",
       "      <td>1</td>\n",
       "      <td>3</td>\n",
       "      <td>258</td>\n",
       "      <td>37</td>\n",
       "      <td>221</td>\n",
       "      <td>0.143411</td>\n",
       "    </tr>\n",
       "    <tr>\n",
       "      <th>4</th>\n",
       "      <td>1</td>\n",
       "      <td>4</td>\n",
       "      <td>299</td>\n",
       "      <td>30</td>\n",
       "      <td>269</td>\n",
       "      <td>0.100334</td>\n",
       "    </tr>\n",
       "    <tr>\n",
       "      <th>...</th>\n",
       "      <td>...</td>\n",
       "      <td>...</td>\n",
       "      <td>...</td>\n",
       "      <td>...</td>\n",
       "      <td>...</td>\n",
       "      <td>...</td>\n",
       "    </tr>\n",
       "    <tr>\n",
       "      <th>96</th>\n",
       "      <td>1</td>\n",
       "      <td>96</td>\n",
       "      <td>13</td>\n",
       "      <td>12</td>\n",
       "      <td>1</td>\n",
       "      <td>0.923077</td>\n",
       "    </tr>\n",
       "    <tr>\n",
       "      <th>97</th>\n",
       "      <td>1</td>\n",
       "      <td>97</td>\n",
       "      <td>11</td>\n",
       "      <td>10</td>\n",
       "      <td>1</td>\n",
       "      <td>0.909091</td>\n",
       "    </tr>\n",
       "    <tr>\n",
       "      <th>98</th>\n",
       "      <td>1</td>\n",
       "      <td>98</td>\n",
       "      <td>6</td>\n",
       "      <td>5</td>\n",
       "      <td>1</td>\n",
       "      <td>0.833333</td>\n",
       "    </tr>\n",
       "    <tr>\n",
       "      <th>99</th>\n",
       "      <td>1</td>\n",
       "      <td>99</td>\n",
       "      <td>2</td>\n",
       "      <td>1</td>\n",
       "      <td>1</td>\n",
       "      <td>0.500000</td>\n",
       "    </tr>\n",
       "    <tr>\n",
       "      <th>100</th>\n",
       "      <td>1</td>\n",
       "      <td>100</td>\n",
       "      <td>6</td>\n",
       "      <td>5</td>\n",
       "      <td>1</td>\n",
       "      <td>0.833333</td>\n",
       "    </tr>\n",
       "  </tbody>\n",
       "</table>\n",
       "<p>101 rows × 6 columns</p>\n",
       "</div>"
      ],
      "text/plain": [
       "     Bias  Age  Number  Successes  Failures  Percentage\n",
       "0       1    0     796         21       775    0.026382\n",
       "1       1    1     505         32       473    0.063366\n",
       "2       1    2     320         29       291    0.090625\n",
       "3       1    3     258         37       221    0.143411\n",
       "4       1    4     299         30       269    0.100334\n",
       "..    ...  ...     ...        ...       ...         ...\n",
       "96      1   96      13         12         1    0.923077\n",
       "97      1   97      11         10         1    0.909091\n",
       "98      1   98       6          5         1    0.833333\n",
       "99      1   99       2          1         1    0.500000\n",
       "100     1  100       6          5         1    0.833333\n",
       "\n",
       "[101 rows x 6 columns]"
      ]
     },
     "execution_count": 35,
     "metadata": {},
     "output_type": "execute_result"
    }
   ],
   "source": [
    "cohorts.insert(0,\"Bias\",1)\n",
    "cohorts"
   ]
  },
  {
   "cell_type": "code",
   "execution_count": 36,
   "id": "c9ac3016",
   "metadata": {},
   "outputs": [
    {
     "name": "stdout",
     "output_type": "stream",
     "text": [
      "                     Generalized Linear Model Regression Results                     \n",
      "=====================================================================================\n",
      "Dep. Variable:     ['Successes', 'Failures']   No. Observations:                  101\n",
      "Model:                                   GLM   Df Residuals:                      100\n",
      "Model Family:                       Binomial   Df Model:                            0\n",
      "Link Function:                         logit   Scale:                          1.0000\n",
      "Method:                                 IRLS   Log-Likelihood:                -4962.2\n",
      "Date:                       Sun, 24 Oct 2021   Deviance:                       9369.4\n",
      "Time:                               19:29:08   Pearson chi2:                 8.63e+03\n",
      "No. Iterations:                            4                                         \n",
      "Covariance Type:                   nonrobust                                         \n",
      "==============================================================================\n",
      "                 coef    std err          z      P>|z|      [0.025      0.975]\n",
      "------------------------------------------------------------------------------\n",
      "Bias           0.3096      0.011     27.118      0.000       0.287       0.332\n",
      "==============================================================================\n"
     ]
    }
   ],
   "source": [
    "cohorts_null_model = sm.GLM( cohorts[[\"Successes\",\"Failures\"]], cohorts[\"Bias\"], family=sm.families.Binomial())\n",
    "cohorts_null_fit = cohorts_null_model.fit()\n",
    "print(cohorts_null_fit.summary())"
   ]
  },
  {
   "cell_type": "code",
   "execution_count": 37,
   "id": "5ac72f86",
   "metadata": {},
   "outputs": [
    {
     "data": {
      "text/html": [
       "<div>\n",
       "<style scoped>\n",
       "    .dataframe tbody tr th:only-of-type {\n",
       "        vertical-align: middle;\n",
       "    }\n",
       "\n",
       "    .dataframe tbody tr th {\n",
       "        vertical-align: top;\n",
       "    }\n",
       "\n",
       "    .dataframe thead th {\n",
       "        text-align: right;\n",
       "    }\n",
       "</style>\n",
       "<table border=\"1\" class=\"dataframe\">\n",
       "  <thead>\n",
       "    <tr style=\"text-align: right;\">\n",
       "      <th></th>\n",
       "      <th>Bias</th>\n",
       "      <th>Age</th>\n",
       "      <th>Number</th>\n",
       "      <th>Successes</th>\n",
       "      <th>Failures</th>\n",
       "      <th>Percentage</th>\n",
       "      <th>Null deviance</th>\n",
       "    </tr>\n",
       "  </thead>\n",
       "  <tbody>\n",
       "    <tr>\n",
       "      <th>0</th>\n",
       "      <td>1</td>\n",
       "      <td>0</td>\n",
       "      <td>796</td>\n",
       "      <td>21</td>\n",
       "      <td>775</td>\n",
       "      <td>0.026382</td>\n",
       "      <td>1161.794446</td>\n",
       "    </tr>\n",
       "    <tr>\n",
       "      <th>1</th>\n",
       "      <td>1</td>\n",
       "      <td>1</td>\n",
       "      <td>505</td>\n",
       "      <td>32</td>\n",
       "      <td>473</td>\n",
       "      <td>0.063366</td>\n",
       "      <td>610.161711</td>\n",
       "    </tr>\n",
       "    <tr>\n",
       "      <th>2</th>\n",
       "      <td>1</td>\n",
       "      <td>2</td>\n",
       "      <td>320</td>\n",
       "      <td>29</td>\n",
       "      <td>291</td>\n",
       "      <td>0.090625</td>\n",
       "      <td>337.812295</td>\n",
       "    </tr>\n",
       "    <tr>\n",
       "      <th>3</th>\n",
       "      <td>1</td>\n",
       "      <td>3</td>\n",
       "      <td>258</td>\n",
       "      <td>37</td>\n",
       "      <td>221</td>\n",
       "      <td>0.143411</td>\n",
       "      <td>208.652149</td>\n",
       "    </tr>\n",
       "    <tr>\n",
       "      <th>4</th>\n",
       "      <td>1</td>\n",
       "      <td>4</td>\n",
       "      <td>299</td>\n",
       "      <td>30</td>\n",
       "      <td>269</td>\n",
       "      <td>0.100334</td>\n",
       "      <td>300.788097</td>\n",
       "    </tr>\n",
       "    <tr>\n",
       "      <th>...</th>\n",
       "      <td>...</td>\n",
       "      <td>...</td>\n",
       "      <td>...</td>\n",
       "      <td>...</td>\n",
       "      <td>...</td>\n",
       "      <td>...</td>\n",
       "      <td>...</td>\n",
       "    </tr>\n",
       "    <tr>\n",
       "      <th>96</th>\n",
       "      <td>1</td>\n",
       "      <td>96</td>\n",
       "      <td>13</td>\n",
       "      <td>12</td>\n",
       "      <td>1</td>\n",
       "      <td>0.923077</td>\n",
       "      <td>7.875780</td>\n",
       "    </tr>\n",
       "    <tr>\n",
       "      <th>97</th>\n",
       "      <td>1</td>\n",
       "      <td>97</td>\n",
       "      <td>11</td>\n",
       "      <td>10</td>\n",
       "      <td>1</td>\n",
       "      <td>0.909091</td>\n",
       "      <td>6.023549</td>\n",
       "    </tr>\n",
       "    <tr>\n",
       "      <th>98</th>\n",
       "      <td>1</td>\n",
       "      <td>98</td>\n",
       "      <td>6</td>\n",
       "      <td>5</td>\n",
       "      <td>1</td>\n",
       "      <td>0.833333</td>\n",
       "      <td>1.815906</td>\n",
       "    </tr>\n",
       "    <tr>\n",
       "      <th>99</th>\n",
       "      <td>1</td>\n",
       "      <td>99</td>\n",
       "      <td>2</td>\n",
       "      <td>1</td>\n",
       "      <td>1</td>\n",
       "      <td>0.500000</td>\n",
       "      <td>0.047729</td>\n",
       "    </tr>\n",
       "    <tr>\n",
       "      <th>100</th>\n",
       "      <td>1</td>\n",
       "      <td>100</td>\n",
       "      <td>6</td>\n",
       "      <td>5</td>\n",
       "      <td>1</td>\n",
       "      <td>0.833333</td>\n",
       "      <td>1.815906</td>\n",
       "    </tr>\n",
       "  </tbody>\n",
       "</table>\n",
       "<p>101 rows × 7 columns</p>\n",
       "</div>"
      ],
      "text/plain": [
       "     Bias  Age  Number  Successes  Failures  Percentage  Null deviance\n",
       "0       1    0     796         21       775    0.026382    1161.794446\n",
       "1       1    1     505         32       473    0.063366     610.161711\n",
       "2       1    2     320         29       291    0.090625     337.812295\n",
       "3       1    3     258         37       221    0.143411     208.652149\n",
       "4       1    4     299         30       269    0.100334     300.788097\n",
       "..    ...  ...     ...        ...       ...         ...            ...\n",
       "96      1   96      13         12         1    0.923077       7.875780\n",
       "97      1   97      11         10         1    0.909091       6.023549\n",
       "98      1   98       6          5         1    0.833333       1.815906\n",
       "99      1   99       2          1         1    0.500000       0.047729\n",
       "100     1  100       6          5         1    0.833333       1.815906\n",
       "\n",
       "[101 rows x 7 columns]"
      ]
     },
     "execution_count": 37,
     "metadata": {},
     "output_type": "execute_result"
    }
   ],
   "source": [
    "null_odds = np.exp( cohorts_null_fit.params[\"Bias\"] )\n",
    "pi_null = null_odds / (1 + null_odds)\n",
    "pi_null\n",
    "cohorts[\"Null deviance\"] = (2*( cohorts[\"Successes\"]*np.log( cohorts[\"Percentage\"]/pi_null ) + \n",
    "                               cohorts[\"Failures\"]*np.log( (1 - cohorts[\"Percentage\"] )/(1 - pi_null) ) ))\n",
    "cohorts"
   ]
  },
  {
   "cell_type": "code",
   "execution_count": 38,
   "id": "e2fa09b5",
   "metadata": {},
   "outputs": [
    {
     "data": {
      "text/plain": [
       "9369.377128605302"
      ]
     },
     "execution_count": 38,
     "metadata": {},
     "output_type": "execute_result"
    }
   ],
   "source": [
    "np.sum( cohorts[\"Null deviance\"])"
   ]
  },
  {
   "cell_type": "code",
   "execution_count": 39,
   "id": "8900c0d9",
   "metadata": {
    "scrolled": true
   },
   "outputs": [
    {
     "name": "stdout",
     "output_type": "stream",
     "text": [
      "                     Generalized Linear Model Regression Results                     \n",
      "=====================================================================================\n",
      "Dep. Variable:     ['Successes', 'Failures']   No. Observations:                  101\n",
      "Model:                                   GLM   Df Residuals:                       99\n",
      "Model Family:                       Binomial   Df Model:                            1\n",
      "Link Function:                         logit   Scale:                          1.0000\n",
      "Method:                                 IRLS   Log-Likelihood:                -465.35\n",
      "Date:                       Sun, 24 Oct 2021   Deviance:                       375.77\n",
      "Time:                               19:29:08   Pearson chi2:                     383.\n",
      "No. Iterations:                            5                                         \n",
      "Covariance Type:                   nonrobust                                         \n",
      "==============================================================================\n",
      "                 coef    std err          z      P>|z|      [0.025      0.975]\n",
      "------------------------------------------------------------------------------\n",
      "Bias          -2.0394      0.032    -64.348      0.000      -2.101      -1.977\n",
      "Age            0.0518      0.001     80.787      0.000       0.051       0.053\n",
      "==============================================================================\n"
     ]
    }
   ],
   "source": [
    "cohorts_model = sm.GLM( cohorts[[\"Successes\",\"Failures\"]], cohorts[[\"Bias\",\"Age\"]], family=sm.families.Binomial())\n",
    "cohorts_fit = cohorts_model.fit()\n",
    "print(cohorts_fit.summary())"
   ]
  },
  {
   "cell_type": "code",
   "execution_count": 40,
   "id": "1583074c",
   "metadata": {},
   "outputs": [
    {
     "data": {
      "text/html": [
       "<div>\n",
       "<style scoped>\n",
       "    .dataframe tbody tr th:only-of-type {\n",
       "        vertical-align: middle;\n",
       "    }\n",
       "\n",
       "    .dataframe tbody tr th {\n",
       "        vertical-align: top;\n",
       "    }\n",
       "\n",
       "    .dataframe thead th {\n",
       "        text-align: right;\n",
       "    }\n",
       "</style>\n",
       "<table border=\"1\" class=\"dataframe\">\n",
       "  <thead>\n",
       "    <tr style=\"text-align: right;\">\n",
       "      <th></th>\n",
       "      <th>Bias</th>\n",
       "      <th>Age</th>\n",
       "      <th>Number</th>\n",
       "      <th>Successes</th>\n",
       "      <th>Failures</th>\n",
       "      <th>Percentage</th>\n",
       "      <th>Null deviance</th>\n",
       "      <th>Probability</th>\n",
       "      <th>Deviance</th>\n",
       "    </tr>\n",
       "  </thead>\n",
       "  <tbody>\n",
       "    <tr>\n",
       "      <th>0</th>\n",
       "      <td>1</td>\n",
       "      <td>0</td>\n",
       "      <td>796</td>\n",
       "      <td>21</td>\n",
       "      <td>775</td>\n",
       "      <td>0.026382</td>\n",
       "      <td>1161.794446</td>\n",
       "      <td>0.115130</td>\n",
       "      <td>86.263867</td>\n",
       "    </tr>\n",
       "    <tr>\n",
       "      <th>1</th>\n",
       "      <td>1</td>\n",
       "      <td>1</td>\n",
       "      <td>505</td>\n",
       "      <td>32</td>\n",
       "      <td>473</td>\n",
       "      <td>0.063366</td>\n",
       "      <td>610.161711</td>\n",
       "      <td>0.120514</td>\n",
       "      <td>18.413977</td>\n",
       "    </tr>\n",
       "    <tr>\n",
       "      <th>2</th>\n",
       "      <td>1</td>\n",
       "      <td>2</td>\n",
       "      <td>320</td>\n",
       "      <td>29</td>\n",
       "      <td>291</td>\n",
       "      <td>0.090625</td>\n",
       "      <td>337.812295</td>\n",
       "      <td>0.126115</td>\n",
       "      <td>4.001841</td>\n",
       "    </tr>\n",
       "    <tr>\n",
       "      <th>3</th>\n",
       "      <td>1</td>\n",
       "      <td>3</td>\n",
       "      <td>258</td>\n",
       "      <td>37</td>\n",
       "      <td>221</td>\n",
       "      <td>0.143411</td>\n",
       "      <td>208.652149</td>\n",
       "      <td>0.131937</td>\n",
       "      <td>0.289567</td>\n",
       "    </tr>\n",
       "    <tr>\n",
       "      <th>4</th>\n",
       "      <td>1</td>\n",
       "      <td>4</td>\n",
       "      <td>299</td>\n",
       "      <td>30</td>\n",
       "      <td>269</td>\n",
       "      <td>0.100334</td>\n",
       "      <td>300.788097</td>\n",
       "      <td>0.137986</td>\n",
       "      <td>3.881705</td>\n",
       "    </tr>\n",
       "    <tr>\n",
       "      <th>...</th>\n",
       "      <td>...</td>\n",
       "      <td>...</td>\n",
       "      <td>...</td>\n",
       "      <td>...</td>\n",
       "      <td>...</td>\n",
       "      <td>...</td>\n",
       "      <td>...</td>\n",
       "      <td>...</td>\n",
       "      <td>...</td>\n",
       "    </tr>\n",
       "    <tr>\n",
       "      <th>96</th>\n",
       "      <td>1</td>\n",
       "      <td>96</td>\n",
       "      <td>13</td>\n",
       "      <td>12</td>\n",
       "      <td>1</td>\n",
       "      <td>0.923077</td>\n",
       "      <td>7.875780</td>\n",
       "      <td>0.949544</td>\n",
       "      <td>0.164944</td>\n",
       "    </tr>\n",
       "    <tr>\n",
       "      <th>97</th>\n",
       "      <td>1</td>\n",
       "      <td>97</td>\n",
       "      <td>11</td>\n",
       "      <td>10</td>\n",
       "      <td>1</td>\n",
       "      <td>0.909091</td>\n",
       "      <td>6.023549</td>\n",
       "      <td>0.951969</td>\n",
       "      <td>0.354287</td>\n",
       "    </tr>\n",
       "    <tr>\n",
       "      <th>98</th>\n",
       "      <td>1</td>\n",
       "      <td>98</td>\n",
       "      <td>6</td>\n",
       "      <td>5</td>\n",
       "      <td>1</td>\n",
       "      <td>0.833333</td>\n",
       "      <td>1.815906</td>\n",
       "      <td>0.954284</td>\n",
       "      <td>1.231814</td>\n",
       "    </tr>\n",
       "    <tr>\n",
       "      <th>99</th>\n",
       "      <td>1</td>\n",
       "      <td>99</td>\n",
       "      <td>2</td>\n",
       "      <td>1</td>\n",
       "      <td>1</td>\n",
       "      <td>0.500000</td>\n",
       "      <td>0.047729</td>\n",
       "      <td>0.956492</td>\n",
       "      <td>3.585992</td>\n",
       "    </tr>\n",
       "    <tr>\n",
       "      <th>100</th>\n",
       "      <td>1</td>\n",
       "      <td>100</td>\n",
       "      <td>6</td>\n",
       "      <td>5</td>\n",
       "      <td>1</td>\n",
       "      <td>0.833333</td>\n",
       "      <td>1.815906</td>\n",
       "      <td>0.958598</td>\n",
       "      <td>1.384948</td>\n",
       "    </tr>\n",
       "  </tbody>\n",
       "</table>\n",
       "<p>101 rows × 9 columns</p>\n",
       "</div>"
      ],
      "text/plain": [
       "     Bias  Age  Number  Successes  Failures  Percentage  Null deviance  \\\n",
       "0       1    0     796         21       775    0.026382    1161.794446   \n",
       "1       1    1     505         32       473    0.063366     610.161711   \n",
       "2       1    2     320         29       291    0.090625     337.812295   \n",
       "3       1    3     258         37       221    0.143411     208.652149   \n",
       "4       1    4     299         30       269    0.100334     300.788097   \n",
       "..    ...  ...     ...        ...       ...         ...            ...   \n",
       "96      1   96      13         12         1    0.923077       7.875780   \n",
       "97      1   97      11         10         1    0.909091       6.023549   \n",
       "98      1   98       6          5         1    0.833333       1.815906   \n",
       "99      1   99       2          1         1    0.500000       0.047729   \n",
       "100     1  100       6          5         1    0.833333       1.815906   \n",
       "\n",
       "     Probability   Deviance  \n",
       "0       0.115130  86.263867  \n",
       "1       0.120514  18.413977  \n",
       "2       0.126115   4.001841  \n",
       "3       0.131937   0.289567  \n",
       "4       0.137986   3.881705  \n",
       "..           ...        ...  \n",
       "96      0.949544   0.164944  \n",
       "97      0.951969   0.354287  \n",
       "98      0.954284   1.231814  \n",
       "99      0.956492   3.585992  \n",
       "100     0.958598   1.384948  \n",
       "\n",
       "[101 rows x 9 columns]"
      ]
     },
     "execution_count": 40,
     "metadata": {},
     "output_type": "execute_result"
    }
   ],
   "source": [
    "cohorts[\"Probability\"] = cohorts_fit.predict()\n",
    "cohorts[\"Deviance\"] = (2*( cohorts[\"Successes\"]*np.log( cohorts[\"Percentage\"]/cohorts[\"Probability\"] ) + \n",
    "                cohorts[\"Failures\"]*np.log( (1 - cohorts[\"Percentage\"] )/(1 - cohorts[\"Probability\"]) ) ))\n",
    "cohorts"
   ]
  },
  {
   "cell_type": "code",
   "execution_count": 41,
   "id": "2b908357",
   "metadata": {},
   "outputs": [
    {
     "data": {
      "text/plain": [
       "375.7650234849706"
      ]
     },
     "execution_count": 41,
     "metadata": {},
     "output_type": "execute_result"
    }
   ],
   "source": [
    "np.sum( cohorts[\"Deviance\"])"
   ]
  },
  {
   "cell_type": "code",
   "execution_count": 42,
   "id": "4741f271",
   "metadata": {},
   "outputs": [
    {
     "data": {
      "text/plain": [
       "8993.61210512033"
      ]
     },
     "execution_count": 42,
     "metadata": {},
     "output_type": "execute_result"
    }
   ],
   "source": [
    "G2_cohorts = cohorts_null_fit.deviance - cohorts_fit.deviance\n",
    "G2_cohorts"
   ]
  },
  {
   "cell_type": "code",
   "execution_count": 43,
   "id": "ac1c89e4",
   "metadata": {},
   "outputs": [
    {
     "data": {
      "text/plain": [
       "0.0"
      ]
     },
     "execution_count": 43,
     "metadata": {},
     "output_type": "execute_result"
    }
   ],
   "source": [
    "1 - st.chi2.cdf( G2_cohorts, df=1 )"
   ]
  },
  {
   "cell_type": "code",
   "execution_count": 44,
   "id": "804267d0",
   "metadata": {},
   "outputs": [
    {
     "data": {
      "text/plain": [
       "375.7650234849706"
      ]
     },
     "execution_count": 44,
     "metadata": {},
     "output_type": "execute_result"
    }
   ],
   "source": [
    "cohorts_fit.deviance"
   ]
  },
  {
   "cell_type": "code",
   "execution_count": 45,
   "id": "38f2a444",
   "metadata": {},
   "outputs": [
    {
     "data": {
      "text/plain": [
       "99"
      ]
     },
     "execution_count": 45,
     "metadata": {},
     "output_type": "execute_result"
    }
   ],
   "source": [
    "cohorts_fit.df_resid"
   ]
  },
  {
   "cell_type": "code",
   "execution_count": 46,
   "id": "414abb53",
   "metadata": {},
   "outputs": [
    {
     "data": {
      "text/plain": [
       "0.0"
      ]
     },
     "execution_count": 46,
     "metadata": {},
     "output_type": "execute_result"
    }
   ],
   "source": [
    "1 - st.chi2.cdf( cohorts_fit.deviance, cohorts_fit.df_resid )"
   ]
  },
  {
   "cell_type": "code",
   "execution_count": 48,
   "id": "10701179",
   "metadata": {},
   "outputs": [
    {
     "data": {
      "text/plain": [
       "383.2638432548808"
      ]
     },
     "execution_count": 48,
     "metadata": {},
     "output_type": "execute_result"
    }
   ],
   "source": [
    "cohorts_fit.pearson_chi2"
   ]
  },
  {
   "cell_type": "code",
   "execution_count": 49,
   "id": "ceacf891",
   "metadata": {},
   "outputs": [
    {
     "data": {
      "text/plain": [
       "0.0"
      ]
     },
     "execution_count": 49,
     "metadata": {},
     "output_type": "execute_result"
    }
   ],
   "source": [
    "1 - st.chi2.cdf(cohorts_fit.pearson_chi2,  cohorts_fit.df_resid)"
   ]
  },
  {
   "cell_type": "code",
   "execution_count": 53,
   "id": "9c5d6a68",
   "metadata": {},
   "outputs": [
    {
     "data": {
      "text/html": [
       "<div>\n",
       "<style scoped>\n",
       "    .dataframe tbody tr th:only-of-type {\n",
       "        vertical-align: middle;\n",
       "    }\n",
       "\n",
       "    .dataframe tbody tr th {\n",
       "        vertical-align: top;\n",
       "    }\n",
       "\n",
       "    .dataframe thead th {\n",
       "        text-align: right;\n",
       "    }\n",
       "</style>\n",
       "<table border=\"1\" class=\"dataframe\">\n",
       "  <thead>\n",
       "    <tr style=\"text-align: right;\">\n",
       "      <th></th>\n",
       "      <th>Age</th>\n",
       "      <th>Pearson</th>\n",
       "      <th>Deviance</th>\n",
       "    </tr>\n",
       "  </thead>\n",
       "  <tbody>\n",
       "    <tr>\n",
       "      <th>0</th>\n",
       "      <td>0</td>\n",
       "      <td>-7.844772</td>\n",
       "      <td>-9.287834</td>\n",
       "    </tr>\n",
       "    <tr>\n",
       "      <th>1</th>\n",
       "      <td>1</td>\n",
       "      <td>-3.944698</td>\n",
       "      <td>-4.291151</td>\n",
       "    </tr>\n",
       "    <tr>\n",
       "      <th>2</th>\n",
       "      <td>2</td>\n",
       "      <td>-1.912377</td>\n",
       "      <td>-2.000460</td>\n",
       "    </tr>\n",
       "    <tr>\n",
       "      <th>3</th>\n",
       "      <td>3</td>\n",
       "      <td>0.544562</td>\n",
       "      <td>0.538115</td>\n",
       "    </tr>\n",
       "    <tr>\n",
       "      <th>4</th>\n",
       "      <td>4</td>\n",
       "      <td>-1.887735</td>\n",
       "      <td>-1.970204</td>\n",
       "    </tr>\n",
       "    <tr>\n",
       "      <th>...</th>\n",
       "      <td>...</td>\n",
       "      <td>...</td>\n",
       "      <td>...</td>\n",
       "    </tr>\n",
       "    <tr>\n",
       "      <th>96</th>\n",
       "      <td>96</td>\n",
       "      <td>-0.435976</td>\n",
       "      <td>-0.406134</td>\n",
       "    </tr>\n",
       "    <tr>\n",
       "      <th>97</th>\n",
       "      <td>97</td>\n",
       "      <td>-0.665066</td>\n",
       "      <td>-0.595220</td>\n",
       "    </tr>\n",
       "    <tr>\n",
       "      <th>98</th>\n",
       "      <td>98</td>\n",
       "      <td>-1.418436</td>\n",
       "      <td>-1.109871</td>\n",
       "    </tr>\n",
       "    <tr>\n",
       "      <th>99</th>\n",
       "      <td>99</td>\n",
       "      <td>-3.164625</td>\n",
       "      <td>-1.893672</td>\n",
       "    </tr>\n",
       "    <tr>\n",
       "      <th>100</th>\n",
       "      <td>100</td>\n",
       "      <td>-1.540190</td>\n",
       "      <td>-1.176838</td>\n",
       "    </tr>\n",
       "  </tbody>\n",
       "</table>\n",
       "<p>101 rows × 3 columns</p>\n",
       "</div>"
      ],
      "text/plain": [
       "     Age   Pearson  Deviance\n",
       "0      0 -7.844772 -9.287834\n",
       "1      1 -3.944698 -4.291151\n",
       "2      2 -1.912377 -2.000460\n",
       "3      3  0.544562  0.538115\n",
       "4      4 -1.887735 -1.970204\n",
       "..   ...       ...       ...\n",
       "96    96 -0.435976 -0.406134\n",
       "97    97 -0.665066 -0.595220\n",
       "98    98 -1.418436 -1.109871\n",
       "99    99 -3.164625 -1.893672\n",
       "100  100 -1.540190 -1.176838\n",
       "\n",
       "[101 rows x 3 columns]"
      ]
     },
     "execution_count": 53,
     "metadata": {},
     "output_type": "execute_result"
    }
   ],
   "source": [
    "cohort_residuals = pd.DataFrame( {\"Age\" : cohorts[\"Age\"],\n",
    "                                  \"Pearson\" : cohorts_fit.resid_pearson,\n",
    "                                  \"Deviance\" : cohorts_fit.resid_deviance} )\n",
    "cohort_residuals"
   ]
  },
  {
   "cell_type": "code",
   "execution_count": 61,
   "id": "fe43a8ce",
   "metadata": {},
   "outputs": [
    {
     "data": {
      "image/png": "[encoded data removed]",
      "text/plain": [
       "<Figure size 576x576 with 2 Axes>"
      ]
     },
     "metadata": {},
     "output_type": "display_data"
    }
   ],
   "source": [
    "fig, (ax1, ax2) = plt.subplots(1, 2)\n",
    "\n",
    "ax1.plot( cohort_residuals[\"Age\"], cohort_residuals[\"Pearson\"],'ok')\n",
    "ax1.set_title(\"Pearson residuals\")\n",
    "ax1.set_xlabel(\"Age\")\n",
    "ax2.plot( cohort_residuals[\"Age\"], cohort_residuals[\"Deviance\"],'ok')\n",
    "ax2.set_title(\"Deviance residuals\")\n",
    "ax2.set_xlabel(\"Age\")\n",
    "plt.savefig(\"cohort_residuals.png\")"
   ]
  },
  {
   "cell_type": "code",
   "execution_count": null,
   "id": "206daf8f",
   "metadata": {},
   "outputs": [],
   "source": []
  }
 ],
 "metadata": {
  "kernelspec": {
   "display_name": "Python 3",
   "language": "python",
   "name": "python3"
  },
  "language_info": {
   "codemirror_mode": {
    "name": "ipython",
    "version": 3
   },
   "file_extension": ".py",
   "mimetype": "text/x-python",
   "name": "python",
   "nbconvert_exporter": "python",
   "pygments_lexer": "ipython3",
   "version": "3.8.10"
  }
 },
 "nbformat": 4,
 "nbformat_minor": 5
}
