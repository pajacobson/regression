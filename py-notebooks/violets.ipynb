{
 "cells": [
  {
   "cell_type": "code",
   "execution_count": 1,
   "id": "579d7777",
   "metadata": {},
   "outputs": [],
   "source": [
    "import numpy as np\n",
    "import pandas as pd\n",
    "import matplotlib.pyplot as plt\n",
    "import seaborn as sns\n",
    "import statsmodels.api as sm\n",
    "import statsmodels.formula.api as smf\n",
    "from scipy.stats import chi2\n",
    "from sklearn import metrics"
   ]
  },
  {
   "cell_type": "code",
   "execution_count": 2,
   "id": "8d4f6290",
   "metadata": {},
   "outputs": [],
   "source": [
    "import warnings\n",
    "warnings.filterwarnings('ignore')"
   ]
  },
  {
   "cell_type": "code",
   "execution_count": 3,
   "id": "63ff6b21",
   "metadata": {},
   "outputs": [],
   "source": [
    "sns.set_theme()\n",
    "plt.rcParams['figure.figsize'] = [8,8]"
   ]
  },
  {
   "cell_type": "code",
   "execution_count": 4,
   "id": "d8ced8b4",
   "metadata": {},
   "outputs": [
    {
     "data": {
      "text/plain": [
       "Index(['Year', 'Plot', 'Day', 'Light quantity', 'Soil moisture', 'Photoperiod',\n",
       "       'Bud type', 'Bud counts', 'Min temp', 'Mean temp', 'Max temp',\n",
       "       'SD temp'],\n",
       "      dtype='object')"
      ]
     },
     "execution_count": 4,
     "metadata": {},
     "output_type": "execute_result"
    }
   ],
   "source": [
    "violets = pd.read_csv(\"violets.csv\")\n",
    "violets.columns"
   ]
  },
  {
   "cell_type": "code",
   "execution_count": 5,
   "id": "ae05bb09",
   "metadata": {},
   "outputs": [
    {
     "data": {
      "text/html": [
       "<div>\n",
       "<style scoped>\n",
       "    .dataframe tbody tr th:only-of-type {\n",
       "        vertical-align: middle;\n",
       "    }\n",
       "\n",
       "    .dataframe tbody tr th {\n",
       "        vertical-align: top;\n",
       "    }\n",
       "\n",
       "    .dataframe thead th {\n",
       "        text-align: right;\n",
       "    }\n",
       "</style>\n",
       "<table border=\"1\" class=\"dataframe\">\n",
       "  <thead>\n",
       "    <tr style=\"text-align: right;\">\n",
       "      <th></th>\n",
       "      <th>Year</th>\n",
       "      <th>Plot</th>\n",
       "      <th>Day</th>\n",
       "      <th>Photoperiod</th>\n",
       "      <th>Bud type</th>\n",
       "      <th>Bud counts</th>\n",
       "    </tr>\n",
       "  </thead>\n",
       "  <tbody>\n",
       "    <tr>\n",
       "      <th>0</th>\n",
       "      <td>2016</td>\n",
       "      <td>1</td>\n",
       "      <td>96</td>\n",
       "      <td>12.833333</td>\n",
       "      <td>Cleistogamous</td>\n",
       "      <td>0</td>\n",
       "    </tr>\n",
       "    <tr>\n",
       "      <th>1</th>\n",
       "      <td>2016</td>\n",
       "      <td>1</td>\n",
       "      <td>96</td>\n",
       "      <td>12.833333</td>\n",
       "      <td>Chasmogamous</td>\n",
       "      <td>1</td>\n",
       "    </tr>\n",
       "    <tr>\n",
       "      <th>2</th>\n",
       "      <td>2016</td>\n",
       "      <td>1</td>\n",
       "      <td>104</td>\n",
       "      <td>13.166667</td>\n",
       "      <td>Cleistogamous</td>\n",
       "      <td>0</td>\n",
       "    </tr>\n",
       "    <tr>\n",
       "      <th>3</th>\n",
       "      <td>2016</td>\n",
       "      <td>1</td>\n",
       "      <td>104</td>\n",
       "      <td>13.166667</td>\n",
       "      <td>Chasmogamous</td>\n",
       "      <td>1</td>\n",
       "    </tr>\n",
       "    <tr>\n",
       "      <th>4</th>\n",
       "      <td>2016</td>\n",
       "      <td>1</td>\n",
       "      <td>109</td>\n",
       "      <td>13.366667</td>\n",
       "      <td>Chasmogamous</td>\n",
       "      <td>0</td>\n",
       "    </tr>\n",
       "    <tr>\n",
       "      <th>...</th>\n",
       "      <td>...</td>\n",
       "      <td>...</td>\n",
       "      <td>...</td>\n",
       "      <td>...</td>\n",
       "      <td>...</td>\n",
       "      <td>...</td>\n",
       "    </tr>\n",
       "    <tr>\n",
       "      <th>315</th>\n",
       "      <td>2017</td>\n",
       "      <td>10</td>\n",
       "      <td>116</td>\n",
       "      <td>13.666667</td>\n",
       "      <td>Cleistogamous</td>\n",
       "      <td>0</td>\n",
       "    </tr>\n",
       "    <tr>\n",
       "      <th>316</th>\n",
       "      <td>2017</td>\n",
       "      <td>10</td>\n",
       "      <td>128</td>\n",
       "      <td>14.100000</td>\n",
       "      <td>Chasmogamous</td>\n",
       "      <td>0</td>\n",
       "    </tr>\n",
       "    <tr>\n",
       "      <th>317</th>\n",
       "      <td>2017</td>\n",
       "      <td>10</td>\n",
       "      <td>128</td>\n",
       "      <td>14.100000</td>\n",
       "      <td>Cleistogamous</td>\n",
       "      <td>18</td>\n",
       "    </tr>\n",
       "    <tr>\n",
       "      <th>318</th>\n",
       "      <td>2017</td>\n",
       "      <td>10</td>\n",
       "      <td>143</td>\n",
       "      <td>14.550000</td>\n",
       "      <td>Chasmogamous</td>\n",
       "      <td>0</td>\n",
       "    </tr>\n",
       "    <tr>\n",
       "      <th>319</th>\n",
       "      <td>2017</td>\n",
       "      <td>10</td>\n",
       "      <td>143</td>\n",
       "      <td>14.550000</td>\n",
       "      <td>Cleistogamous</td>\n",
       "      <td>9</td>\n",
       "    </tr>\n",
       "  </tbody>\n",
       "</table>\n",
       "<p>320 rows × 6 columns</p>\n",
       "</div>"
      ],
      "text/plain": [
       "     Year  Plot  Day  Photoperiod       Bud type  Bud counts\n",
       "0    2016     1   96    12.833333  Cleistogamous           0\n",
       "1    2016     1   96    12.833333   Chasmogamous           1\n",
       "2    2016     1  104    13.166667  Cleistogamous           0\n",
       "3    2016     1  104    13.166667   Chasmogamous           1\n",
       "4    2016     1  109    13.366667   Chasmogamous           0\n",
       "..    ...   ...  ...          ...            ...         ...\n",
       "315  2017    10  116    13.666667  Cleistogamous           0\n",
       "316  2017    10  128    14.100000   Chasmogamous           0\n",
       "317  2017    10  128    14.100000  Cleistogamous          18\n",
       "318  2017    10  143    14.550000   Chasmogamous           0\n",
       "319  2017    10  143    14.550000  Cleistogamous           9\n",
       "\n",
       "[320 rows x 6 columns]"
      ]
     },
     "execution_count": 5,
     "metadata": {},
     "output_type": "execute_result"
    }
   ],
   "source": [
    "violets = violets[['Year','Plot','Day','Photoperiod','Bud type','Bud counts']]\n",
    "violets"
   ]
  },
  {
   "cell_type": "code",
   "execution_count": 6,
   "id": "9c5e105d",
   "metadata": {},
   "outputs": [
    {
     "data": {
      "text/html": [
       "<div>\n",
       "<style scoped>\n",
       "    .dataframe tbody tr th:only-of-type {\n",
       "        vertical-align: middle;\n",
       "    }\n",
       "\n",
       "    .dataframe tbody tr th {\n",
       "        vertical-align: top;\n",
       "    }\n",
       "\n",
       "    .dataframe thead th {\n",
       "        text-align: right;\n",
       "    }\n",
       "</style>\n",
       "<table border=\"1\" class=\"dataframe\">\n",
       "  <thead>\n",
       "    <tr style=\"text-align: right;\">\n",
       "      <th></th>\n",
       "      <th>Photoperiod</th>\n",
       "      <th>Bud</th>\n",
       "    </tr>\n",
       "  </thead>\n",
       "  <tbody>\n",
       "    <tr>\n",
       "      <th>1</th>\n",
       "      <td>12.833333</td>\n",
       "      <td>1</td>\n",
       "    </tr>\n",
       "    <tr>\n",
       "      <th>3</th>\n",
       "      <td>13.166667</td>\n",
       "      <td>1</td>\n",
       "    </tr>\n",
       "    <tr>\n",
       "      <th>4</th>\n",
       "      <td>13.366667</td>\n",
       "      <td>0</td>\n",
       "    </tr>\n",
       "    <tr>\n",
       "      <th>7</th>\n",
       "      <td>13.716667</td>\n",
       "      <td>0</td>\n",
       "    </tr>\n",
       "    <tr>\n",
       "      <th>9</th>\n",
       "      <td>13.966667</td>\n",
       "      <td>0</td>\n",
       "    </tr>\n",
       "    <tr>\n",
       "      <th>...</th>\n",
       "      <td>...</td>\n",
       "      <td>...</td>\n",
       "    </tr>\n",
       "    <tr>\n",
       "      <th>311</th>\n",
       "      <td>13.116667</td>\n",
       "      <td>1</td>\n",
       "    </tr>\n",
       "    <tr>\n",
       "      <th>312</th>\n",
       "      <td>13.350000</td>\n",
       "      <td>0</td>\n",
       "    </tr>\n",
       "    <tr>\n",
       "      <th>314</th>\n",
       "      <td>13.666667</td>\n",
       "      <td>0</td>\n",
       "    </tr>\n",
       "    <tr>\n",
       "      <th>316</th>\n",
       "      <td>14.100000</td>\n",
       "      <td>0</td>\n",
       "    </tr>\n",
       "    <tr>\n",
       "      <th>318</th>\n",
       "      <td>14.550000</td>\n",
       "      <td>0</td>\n",
       "    </tr>\n",
       "  </tbody>\n",
       "</table>\n",
       "<p>160 rows × 2 columns</p>\n",
       "</div>"
      ],
      "text/plain": [
       "     Photoperiod  Bud\n",
       "1      12.833333    1\n",
       "3      13.166667    1\n",
       "4      13.366667    0\n",
       "7      13.716667    0\n",
       "9      13.966667    0\n",
       "..           ...  ...\n",
       "311    13.116667    1\n",
       "312    13.350000    0\n",
       "314    13.666667    0\n",
       "316    14.100000    0\n",
       "318    14.550000    0\n",
       "\n",
       "[160 rows x 2 columns]"
      ]
     },
     "execution_count": 6,
     "metadata": {},
     "output_type": "execute_result"
    }
   ],
   "source": [
    "chasm = violets[ violets['Bud type']==\"Chasmogamous\" ]\n",
    "chasm[\"Bud\"] = (violets['Bud counts'] > 0).astype('int')\n",
    "chasm = chasm[[\"Photoperiod\",\"Bud\"]]\n",
    "chasm"
   ]
  },
  {
   "cell_type": "code",
   "execution_count": 7,
   "id": "70540972",
   "metadata": {},
   "outputs": [
    {
     "data": {
      "image/png": "[encoded data removed]",
      "text/plain": [
       "<Figure size 576x576 with 1 Axes>"
      ]
     },
     "metadata": {},
     "output_type": "display_data"
    }
   ],
   "source": [
    "sns.scatterplot(data=chasm, x=\"Photoperiod\", y=\"Bud\")\n",
    "plt.savefig(\"chasm.png\")"
   ]
  },
  {
   "cell_type": "code",
   "execution_count": 8,
   "id": "18afa988",
   "metadata": {},
   "outputs": [
    {
     "data": {
      "text/html": [
       "<div>\n",
       "<style scoped>\n",
       "    .dataframe tbody tr th:only-of-type {\n",
       "        vertical-align: middle;\n",
       "    }\n",
       "\n",
       "    .dataframe tbody tr th {\n",
       "        vertical-align: top;\n",
       "    }\n",
       "\n",
       "    .dataframe thead th {\n",
       "        text-align: right;\n",
       "    }\n",
       "</style>\n",
       "<table border=\"1\" class=\"dataframe\">\n",
       "  <thead>\n",
       "    <tr style=\"text-align: right;\">\n",
       "      <th></th>\n",
       "      <th>Bud</th>\n",
       "    </tr>\n",
       "  </thead>\n",
       "  <tbody>\n",
       "    <tr>\n",
       "      <th>N</th>\n",
       "      <td>160.00000</td>\n",
       "    </tr>\n",
       "    <tr>\n",
       "      <th>Successes</th>\n",
       "      <td>67.00000</td>\n",
       "    </tr>\n",
       "    <tr>\n",
       "      <th>Percentage</th>\n",
       "      <td>0.41875</td>\n",
       "    </tr>\n",
       "  </tbody>\n",
       "</table>\n",
       "</div>"
      ],
      "text/plain": [
       "                  Bud\n",
       "N           160.00000\n",
       "Successes    67.00000\n",
       "Percentage    0.41875"
      ]
     },
     "execution_count": 8,
     "metadata": {},
     "output_type": "execute_result"
    }
   ],
   "source": [
    "chasm.agg( N=('Bud','size'),\n",
    "           Successes=('Bud','sum'),\n",
    "           Percentage=('Bud','mean'))"
   ]
  },
  {
   "cell_type": "code",
   "execution_count": 9,
   "id": "2c137280",
   "metadata": {},
   "outputs": [
    {
     "data": {
      "text/plain": [
       "0.41875"
      ]
     },
     "execution_count": 9,
     "metadata": {},
     "output_type": "execute_result"
    }
   ],
   "source": [
    "pi_hat = chasm[\"Bud\"].mean()\n",
    "pi_hat"
   ]
  },
  {
   "cell_type": "code",
   "execution_count": 10,
   "id": "933b33e4",
   "metadata": {},
   "outputs": [
    {
     "data": {
      "text/html": [
       "<div>\n",
       "<style scoped>\n",
       "    .dataframe tbody tr th:only-of-type {\n",
       "        vertical-align: middle;\n",
       "    }\n",
       "\n",
       "    .dataframe tbody tr th {\n",
       "        vertical-align: top;\n",
       "    }\n",
       "\n",
       "    .dataframe thead th {\n",
       "        text-align: right;\n",
       "    }\n",
       "</style>\n",
       "<table border=\"1\" class=\"dataframe\">\n",
       "  <thead>\n",
       "    <tr style=\"text-align: right;\">\n",
       "      <th></th>\n",
       "      <th>Photoperiod</th>\n",
       "      <th>Bud</th>\n",
       "      <th>Null_prob</th>\n",
       "    </tr>\n",
       "  </thead>\n",
       "  <tbody>\n",
       "    <tr>\n",
       "      <th>1</th>\n",
       "      <td>12.833333</td>\n",
       "      <td>1</td>\n",
       "      <td>0.41875</td>\n",
       "    </tr>\n",
       "    <tr>\n",
       "      <th>3</th>\n",
       "      <td>13.166667</td>\n",
       "      <td>1</td>\n",
       "      <td>0.41875</td>\n",
       "    </tr>\n",
       "    <tr>\n",
       "      <th>4</th>\n",
       "      <td>13.366667</td>\n",
       "      <td>0</td>\n",
       "      <td>0.58125</td>\n",
       "    </tr>\n",
       "    <tr>\n",
       "      <th>7</th>\n",
       "      <td>13.716667</td>\n",
       "      <td>0</td>\n",
       "      <td>0.58125</td>\n",
       "    </tr>\n",
       "    <tr>\n",
       "      <th>9</th>\n",
       "      <td>13.966667</td>\n",
       "      <td>0</td>\n",
       "      <td>0.58125</td>\n",
       "    </tr>\n",
       "    <tr>\n",
       "      <th>...</th>\n",
       "      <td>...</td>\n",
       "      <td>...</td>\n",
       "      <td>...</td>\n",
       "    </tr>\n",
       "    <tr>\n",
       "      <th>311</th>\n",
       "      <td>13.116667</td>\n",
       "      <td>1</td>\n",
       "      <td>0.41875</td>\n",
       "    </tr>\n",
       "    <tr>\n",
       "      <th>312</th>\n",
       "      <td>13.350000</td>\n",
       "      <td>0</td>\n",
       "      <td>0.58125</td>\n",
       "    </tr>\n",
       "    <tr>\n",
       "      <th>314</th>\n",
       "      <td>13.666667</td>\n",
       "      <td>0</td>\n",
       "      <td>0.58125</td>\n",
       "    </tr>\n",
       "    <tr>\n",
       "      <th>316</th>\n",
       "      <td>14.100000</td>\n",
       "      <td>0</td>\n",
       "      <td>0.58125</td>\n",
       "    </tr>\n",
       "    <tr>\n",
       "      <th>318</th>\n",
       "      <td>14.550000</td>\n",
       "      <td>0</td>\n",
       "      <td>0.58125</td>\n",
       "    </tr>\n",
       "  </tbody>\n",
       "</table>\n",
       "<p>160 rows × 3 columns</p>\n",
       "</div>"
      ],
      "text/plain": [
       "     Photoperiod  Bud  Null_prob\n",
       "1      12.833333    1    0.41875\n",
       "3      13.166667    1    0.41875\n",
       "4      13.366667    0    0.58125\n",
       "7      13.716667    0    0.58125\n",
       "9      13.966667    0    0.58125\n",
       "..           ...  ...        ...\n",
       "311    13.116667    1    0.41875\n",
       "312    13.350000    0    0.58125\n",
       "314    13.666667    0    0.58125\n",
       "316    14.100000    0    0.58125\n",
       "318    14.550000    0    0.58125\n",
       "\n",
       "[160 rows x 3 columns]"
      ]
     },
     "execution_count": 10,
     "metadata": {},
     "output_type": "execute_result"
    }
   ],
   "source": [
    "chasm[\"Null_prob\"] = (pi_hat**chasm.Bud)*((1-pi_hat)**(1-chasm.Bud))\n",
    "chasm"
   ]
  },
  {
   "cell_type": "code",
   "execution_count": 11,
   "id": "e06d14e1",
   "metadata": {},
   "outputs": [
    {
     "data": {
      "text/plain": [
       "5.711218444597525e-48"
      ]
     },
     "execution_count": 11,
     "metadata": {},
     "output_type": "execute_result"
    }
   ],
   "source": [
    "null_likelihood = chasm[\"Null_prob\"].product()\n",
    "null_likelihood"
   ]
  },
  {
   "cell_type": "code",
   "execution_count": 12,
   "id": "f10b7072",
   "metadata": {},
   "outputs": [
    {
     "data": {
      "text/plain": [
       "217.56330414992954"
      ]
     },
     "execution_count": 12,
     "metadata": {},
     "output_type": "execute_result"
    }
   ],
   "source": [
    "null_deviance = -2*np.log( null_likelihood )\n",
    "null_deviance"
   ]
  },
  {
   "cell_type": "code",
   "execution_count": 13,
   "id": "658df4ca",
   "metadata": {},
   "outputs": [
    {
     "data": {
      "text/plain": [
       "Intercept   -0.327907\n",
       "dtype: float64"
      ]
     },
     "execution_count": 13,
     "metadata": {},
     "output_type": "execute_result"
    }
   ],
   "source": [
    "null_model = smf.glm(\"Bud ~ 1\", data=chasm, family=sm.families.Binomial())\n",
    "null_fit = null_model.fit()\n",
    "null_fit.params"
   ]
  },
  {
   "cell_type": "code",
   "execution_count": 14,
   "id": "9b198f47",
   "metadata": {},
   "outputs": [
    {
     "name": "stdout",
     "output_type": "stream",
     "text": [
      "                 Generalized Linear Model Regression Results                  \n",
      "==============================================================================\n",
      "Dep. Variable:                    Bud   No. Observations:                  160\n",
      "Model:                            GLM   Df Residuals:                      159\n",
      "Model Family:                Binomial   Df Model:                            0\n",
      "Link Function:                  logit   Scale:                          1.0000\n",
      "Method:                          IRLS   Log-Likelihood:                -108.78\n",
      "Date:                Tue, 03 Aug 2021   Deviance:                       217.56\n",
      "Time:                        13:26:08   Pearson chi2:                     160.\n",
      "No. Iterations:                     4                                         \n",
      "Covariance Type:            nonrobust                                         \n",
      "==============================================================================\n",
      "                 coef    std err          z      P>|z|      [0.025      0.975]\n",
      "------------------------------------------------------------------------------\n",
      "Intercept     -0.3279      0.160     -2.046      0.041      -0.642      -0.014\n",
      "==============================================================================\n"
     ]
    }
   ],
   "source": [
    "print( null_fit.summary() )"
   ]
  },
  {
   "cell_type": "code",
   "execution_count": 15,
   "id": "b98e712b",
   "metadata": {},
   "outputs": [
    {
     "data": {
      "text/plain": [
       "217.56330414992956"
      ]
     },
     "execution_count": 15,
     "metadata": {},
     "output_type": "execute_result"
    }
   ],
   "source": [
    "null_fit.deviance"
   ]
  },
  {
   "cell_type": "code",
   "execution_count": 16,
   "id": "c3d5e03a",
   "metadata": {},
   "outputs": [
    {
     "data": {
      "text/plain": [
       "Intercept      74.583697\n",
       "Photoperiod    -5.524989\n",
       "dtype: float64"
      ]
     },
     "execution_count": 16,
     "metadata": {},
     "output_type": "execute_result"
    }
   ],
   "source": [
    "chasm_model = smf.glm(\"Bud ~ Photoperiod\", data=chasm, family=sm.families.Binomial())\n",
    "chasm_fit = chasm_model.fit()\n",
    "chasm_fit.params"
   ]
  },
  {
   "cell_type": "code",
   "execution_count": 17,
   "id": "8402c2ea",
   "metadata": {},
   "outputs": [
    {
     "name": "stdout",
     "output_type": "stream",
     "text": [
      "                 Generalized Linear Model Regression Results                  \n",
      "==============================================================================\n",
      "Dep. Variable:                    Bud   No. Observations:                  160\n",
      "Model:                            GLM   Df Residuals:                      158\n",
      "Model Family:                Binomial   Df Model:                            1\n",
      "Link Function:                  logit   Scale:                          1.0000\n",
      "Method:                          IRLS   Log-Likelihood:                -40.185\n",
      "Date:                Tue, 03 Aug 2021   Deviance:                       80.369\n",
      "Time:                        13:26:08   Pearson chi2:                     76.5\n",
      "No. Iterations:                     7                                         \n",
      "Covariance Type:            nonrobust                                         \n",
      "===============================================================================\n",
      "                  coef    std err          z      P>|z|      [0.025      0.975]\n",
      "-------------------------------------------------------------------------------\n",
      "Intercept      74.5837     12.132      6.148      0.000      50.805      98.362\n",
      "Photoperiod    -5.5250      0.900     -6.136      0.000      -7.290      -3.760\n",
      "===============================================================================\n"
     ]
    }
   ],
   "source": [
    "print( chasm_fit.summary() )"
   ]
  },
  {
   "cell_type": "code",
   "execution_count": 18,
   "id": "321bc78a",
   "metadata": {},
   "outputs": [
    {
     "data": {
      "text/html": [
       "<div>\n",
       "<style scoped>\n",
       "    .dataframe tbody tr th:only-of-type {\n",
       "        vertical-align: middle;\n",
       "    }\n",
       "\n",
       "    .dataframe tbody tr th {\n",
       "        vertical-align: top;\n",
       "    }\n",
       "\n",
       "    .dataframe thead th {\n",
       "        text-align: right;\n",
       "    }\n",
       "</style>\n",
       "<table border=\"1\" class=\"dataframe\">\n",
       "  <thead>\n",
       "    <tr style=\"text-align: right;\">\n",
       "      <th></th>\n",
       "      <th>Photoperiod</th>\n",
       "      <th>Bud</th>\n",
       "      <th>Null_prob</th>\n",
       "      <th>Fit_prob</th>\n",
       "    </tr>\n",
       "  </thead>\n",
       "  <tbody>\n",
       "    <tr>\n",
       "      <th>1</th>\n",
       "      <td>12.833333</td>\n",
       "      <td>1</td>\n",
       "      <td>0.41875</td>\n",
       "      <td>0.975390</td>\n",
       "    </tr>\n",
       "    <tr>\n",
       "      <th>3</th>\n",
       "      <td>13.166667</td>\n",
       "      <td>1</td>\n",
       "      <td>0.41875</td>\n",
       "      <td>0.862713</td>\n",
       "    </tr>\n",
       "    <tr>\n",
       "      <th>4</th>\n",
       "      <td>13.366667</td>\n",
       "      <td>0</td>\n",
       "      <td>0.58125</td>\n",
       "      <td>0.675466</td>\n",
       "    </tr>\n",
       "    <tr>\n",
       "      <th>7</th>\n",
       "      <td>13.716667</td>\n",
       "      <td>0</td>\n",
       "      <td>0.58125</td>\n",
       "      <td>0.231345</td>\n",
       "    </tr>\n",
       "    <tr>\n",
       "      <th>9</th>\n",
       "      <td>13.966667</td>\n",
       "      <td>0</td>\n",
       "      <td>0.58125</td>\n",
       "      <td>0.070307</td>\n",
       "    </tr>\n",
       "    <tr>\n",
       "      <th>...</th>\n",
       "      <td>...</td>\n",
       "      <td>...</td>\n",
       "      <td>...</td>\n",
       "      <td>...</td>\n",
       "    </tr>\n",
       "    <tr>\n",
       "      <th>311</th>\n",
       "      <td>13.116667</td>\n",
       "      <td>1</td>\n",
       "      <td>0.41875</td>\n",
       "      <td>0.892282</td>\n",
       "    </tr>\n",
       "    <tr>\n",
       "      <th>312</th>\n",
       "      <td>13.350000</td>\n",
       "      <td>0</td>\n",
       "      <td>0.58125</td>\n",
       "      <td>0.695317</td>\n",
       "    </tr>\n",
       "    <tr>\n",
       "      <th>314</th>\n",
       "      <td>13.666667</td>\n",
       "      <td>0</td>\n",
       "      <td>0.58125</td>\n",
       "      <td>0.284045</td>\n",
       "    </tr>\n",
       "    <tr>\n",
       "      <th>316</th>\n",
       "      <td>14.100000</td>\n",
       "      <td>0</td>\n",
       "      <td>0.58125</td>\n",
       "      <td>0.034937</td>\n",
       "    </tr>\n",
       "    <tr>\n",
       "      <th>318</th>\n",
       "      <td>14.550000</td>\n",
       "      <td>0</td>\n",
       "      <td>0.58125</td>\n",
       "      <td>0.003004</td>\n",
       "    </tr>\n",
       "  </tbody>\n",
       "</table>\n",
       "<p>160 rows × 4 columns</p>\n",
       "</div>"
      ],
      "text/plain": [
       "     Photoperiod  Bud  Null_prob  Fit_prob\n",
       "1      12.833333    1    0.41875  0.975390\n",
       "3      13.166667    1    0.41875  0.862713\n",
       "4      13.366667    0    0.58125  0.675466\n",
       "7      13.716667    0    0.58125  0.231345\n",
       "9      13.966667    0    0.58125  0.070307\n",
       "..           ...  ...        ...       ...\n",
       "311    13.116667    1    0.41875  0.892282\n",
       "312    13.350000    0    0.58125  0.695317\n",
       "314    13.666667    0    0.58125  0.284045\n",
       "316    14.100000    0    0.58125  0.034937\n",
       "318    14.550000    0    0.58125  0.003004\n",
       "\n",
       "[160 rows x 4 columns]"
      ]
     },
     "execution_count": 18,
     "metadata": {},
     "output_type": "execute_result"
    }
   ],
   "source": [
    "chasm[\"Fit_prob\"] = chasm_fit.fittedvalues\n",
    "chasm"
   ]
  },
  {
   "cell_type": "code",
   "execution_count": 19,
   "id": "cc4482ed",
   "metadata": {},
   "outputs": [
    {
     "data": {
      "image/png": "[encoded data removed]",
      "text/plain": [
       "<Figure size 576x576 with 1 Axes>"
      ]
     },
     "metadata": {},
     "output_type": "display_data"
    }
   ],
   "source": [
    "sns.scatterplot( data=chasm, x=\"Photoperiod\", y=\"Fit_prob\")\n",
    "sns.lineplot( data=chasm, x=\"Photoperiod\", y=\"Fit_prob\")\n",
    "sns.scatterplot( data=chasm, x=\"Photoperiod\", y=\"Bud\" )\n",
    "plt.ylabel(\"Bud\")\n",
    "plt.title(\"Bud observations and fitted probabilities\")\n",
    "plt.savefig(\"chasm_fit.png\")"
   ]
  },
  {
   "cell_type": "code",
   "execution_count": 20,
   "id": "892b189f",
   "metadata": {},
   "outputs": [
    {
     "data": {
      "text/plain": [
       "<AxesSubplot:xlabel='Photoperiod', ylabel='Bud'>"
      ]
     },
     "execution_count": 20,
     "metadata": {},
     "output_type": "execute_result"
    },
    {
     "data": {
      "image/png": "[encoded data removed]",
      "text/plain": [
       "<Figure size 576x576 with 1 Axes>"
      ]
     },
     "metadata": {},
     "output_type": "display_data"
    }
   ],
   "source": [
    "sns.regplot(data=chasm, x=\"Photoperiod\", y=\"Bud\", logistic=True, ci=None)"
   ]
  },
  {
   "cell_type": "code",
   "execution_count": 21,
   "id": "799919d8",
   "metadata": {},
   "outputs": [
    {
     "data": {
      "text/html": [
       "<div>\n",
       "<style scoped>\n",
       "    .dataframe tbody tr th:only-of-type {\n",
       "        vertical-align: middle;\n",
       "    }\n",
       "\n",
       "    .dataframe tbody tr th {\n",
       "        vertical-align: top;\n",
       "    }\n",
       "\n",
       "    .dataframe thead th {\n",
       "        text-align: right;\n",
       "    }\n",
       "</style>\n",
       "<table border=\"1\" class=\"dataframe\">\n",
       "  <thead>\n",
       "    <tr style=\"text-align: right;\">\n",
       "      <th></th>\n",
       "      <th>Photoperiod</th>\n",
       "      <th>Bud</th>\n",
       "      <th>Null_prob</th>\n",
       "      <th>Fit_prob</th>\n",
       "      <th>Likelihood</th>\n",
       "    </tr>\n",
       "  </thead>\n",
       "  <tbody>\n",
       "    <tr>\n",
       "      <th>1</th>\n",
       "      <td>12.833333</td>\n",
       "      <td>1</td>\n",
       "      <td>0.41875</td>\n",
       "      <td>0.975390</td>\n",
       "      <td>0.975390</td>\n",
       "    </tr>\n",
       "    <tr>\n",
       "      <th>3</th>\n",
       "      <td>13.166667</td>\n",
       "      <td>1</td>\n",
       "      <td>0.41875</td>\n",
       "      <td>0.862713</td>\n",
       "      <td>0.862713</td>\n",
       "    </tr>\n",
       "    <tr>\n",
       "      <th>4</th>\n",
       "      <td>13.366667</td>\n",
       "      <td>0</td>\n",
       "      <td>0.58125</td>\n",
       "      <td>0.675466</td>\n",
       "      <td>0.324534</td>\n",
       "    </tr>\n",
       "    <tr>\n",
       "      <th>7</th>\n",
       "      <td>13.716667</td>\n",
       "      <td>0</td>\n",
       "      <td>0.58125</td>\n",
       "      <td>0.231345</td>\n",
       "      <td>0.768655</td>\n",
       "    </tr>\n",
       "    <tr>\n",
       "      <th>9</th>\n",
       "      <td>13.966667</td>\n",
       "      <td>0</td>\n",
       "      <td>0.58125</td>\n",
       "      <td>0.070307</td>\n",
       "      <td>0.929693</td>\n",
       "    </tr>\n",
       "    <tr>\n",
       "      <th>...</th>\n",
       "      <td>...</td>\n",
       "      <td>...</td>\n",
       "      <td>...</td>\n",
       "      <td>...</td>\n",
       "      <td>...</td>\n",
       "    </tr>\n",
       "    <tr>\n",
       "      <th>311</th>\n",
       "      <td>13.116667</td>\n",
       "      <td>1</td>\n",
       "      <td>0.41875</td>\n",
       "      <td>0.892282</td>\n",
       "      <td>0.892282</td>\n",
       "    </tr>\n",
       "    <tr>\n",
       "      <th>312</th>\n",
       "      <td>13.350000</td>\n",
       "      <td>0</td>\n",
       "      <td>0.58125</td>\n",
       "      <td>0.695317</td>\n",
       "      <td>0.304683</td>\n",
       "    </tr>\n",
       "    <tr>\n",
       "      <th>314</th>\n",
       "      <td>13.666667</td>\n",
       "      <td>0</td>\n",
       "      <td>0.58125</td>\n",
       "      <td>0.284045</td>\n",
       "      <td>0.715955</td>\n",
       "    </tr>\n",
       "    <tr>\n",
       "      <th>316</th>\n",
       "      <td>14.100000</td>\n",
       "      <td>0</td>\n",
       "      <td>0.58125</td>\n",
       "      <td>0.034937</td>\n",
       "      <td>0.965063</td>\n",
       "    </tr>\n",
       "    <tr>\n",
       "      <th>318</th>\n",
       "      <td>14.550000</td>\n",
       "      <td>0</td>\n",
       "      <td>0.58125</td>\n",
       "      <td>0.003004</td>\n",
       "      <td>0.996996</td>\n",
       "    </tr>\n",
       "  </tbody>\n",
       "</table>\n",
       "<p>160 rows × 5 columns</p>\n",
       "</div>"
      ],
      "text/plain": [
       "     Photoperiod  Bud  Null_prob  Fit_prob  Likelihood\n",
       "1      12.833333    1    0.41875  0.975390    0.975390\n",
       "3      13.166667    1    0.41875  0.862713    0.862713\n",
       "4      13.366667    0    0.58125  0.675466    0.324534\n",
       "7      13.716667    0    0.58125  0.231345    0.768655\n",
       "9      13.966667    0    0.58125  0.070307    0.929693\n",
       "..           ...  ...        ...       ...         ...\n",
       "311    13.116667    1    0.41875  0.892282    0.892282\n",
       "312    13.350000    0    0.58125  0.695317    0.304683\n",
       "314    13.666667    0    0.58125  0.284045    0.715955\n",
       "316    14.100000    0    0.58125  0.034937    0.965063\n",
       "318    14.550000    0    0.58125  0.003004    0.996996\n",
       "\n",
       "[160 rows x 5 columns]"
      ]
     },
     "execution_count": 21,
     "metadata": {},
     "output_type": "execute_result"
    }
   ],
   "source": [
    "chasm[\"Likelihood\"] = (chasm.Fit_prob**chasm.Bud)*((1-chasm.Fit_prob)**(1-chasm.Bud))\n",
    "chasm"
   ]
  },
  {
   "cell_type": "code",
   "execution_count": 22,
   "id": "b3c72f9a",
   "metadata": {},
   "outputs": [
    {
     "data": {
      "text/plain": [
       "3.532480672758708e-18"
      ]
     },
     "execution_count": 22,
     "metadata": {},
     "output_type": "execute_result"
    }
   ],
   "source": [
    "max_likelihood = chasm[\"Likelihood\"].product()\n",
    "max_likelihood"
   ]
  },
  {
   "cell_type": "code",
   "execution_count": 23,
   "id": "cc9b3e51",
   "metadata": {},
   "outputs": [
    {
     "data": {
      "text/plain": [
       "6.185161199884109e+29"
      ]
     },
     "execution_count": 23,
     "metadata": {},
     "output_type": "execute_result"
    }
   ],
   "source": [
    "max_likelihood / null_likelihood"
   ]
  },
  {
   "cell_type": "code",
   "execution_count": 24,
   "id": "6c228b7b",
   "metadata": {},
   "outputs": [
    {
     "data": {
      "text/plain": [
       "-40.184531309595585"
      ]
     },
     "execution_count": 24,
     "metadata": {},
     "output_type": "execute_result"
    }
   ],
   "source": [
    "np.log(max_likelihood)"
   ]
  },
  {
   "cell_type": "code",
   "execution_count": 25,
   "id": "99e5cf1b",
   "metadata": {},
   "outputs": [
    {
     "data": {
      "text/plain": [
       "80.36906261919117"
      ]
     },
     "execution_count": 25,
     "metadata": {},
     "output_type": "execute_result"
    }
   ],
   "source": [
    "residual_deviance = -2*np.log(max_likelihood)\n",
    "residual_deviance"
   ]
  },
  {
   "cell_type": "code",
   "execution_count": 26,
   "id": "59c61ba8",
   "metadata": {},
   "outputs": [
    {
     "data": {
      "text/plain": [
       "137.19424153073837"
      ]
     },
     "execution_count": 26,
     "metadata": {},
     "output_type": "execute_result"
    }
   ],
   "source": [
    "G2 = -2*np.log( null_likelihood / max_likelihood)\n",
    "G2"
   ]
  },
  {
   "cell_type": "code",
   "execution_count": 27,
   "id": "2ffb0b52",
   "metadata": {},
   "outputs": [
    {
     "data": {
      "text/plain": [
       "137.19424153073837"
      ]
     },
     "execution_count": 27,
     "metadata": {},
     "output_type": "execute_result"
    }
   ],
   "source": [
    "null_deviance - residual_deviance"
   ]
  },
  {
   "cell_type": "code",
   "execution_count": 28,
   "id": "5ce44d27",
   "metadata": {},
   "outputs": [
    {
     "data": {
      "text/plain": [
       "137.1942415307384"
      ]
     },
     "execution_count": 28,
     "metadata": {},
     "output_type": "execute_result"
    }
   ],
   "source": [
    "chasm_fit.null_deviance - chasm_fit.deviance"
   ]
  },
  {
   "cell_type": "code",
   "execution_count": 29,
   "id": "24f8919c",
   "metadata": {},
   "outputs": [
    {
     "data": {
      "text/plain": [
       "0.0"
      ]
     },
     "execution_count": 29,
     "metadata": {},
     "output_type": "execute_result"
    }
   ],
   "source": [
    "1 - chi2.cdf(G2, df=1)"
   ]
  },
  {
   "cell_type": "code",
   "execution_count": 30,
   "id": "34529611",
   "metadata": {},
   "outputs": [
    {
     "data": {
      "text/plain": [
       "0.6305945851796477"
      ]
     },
     "execution_count": 30,
     "metadata": {},
     "output_type": "execute_result"
    }
   ],
   "source": [
    "R2_M = 1 - (chasm_fit.deviance / chasm_fit.null_deviance)\n",
    "R2_M"
   ]
  },
  {
   "cell_type": "code",
   "execution_count": 31,
   "id": "cfdfeaf9",
   "metadata": {},
   "outputs": [
    {
     "data": {
      "text/plain": [
       "0.6851756536416997"
      ]
     },
     "execution_count": 31,
     "metadata": {},
     "output_type": "execute_result"
    }
   ],
   "source": [
    "chasm[\"Null_residual\"] = chasm[\"Bud\"] - pi_hat\n",
    "chasm[\"Residual\"] = chasm[\"Bud\"] - chasm[\"Fit_prob\"]\n",
    "chasm[\"Difference\"] = chasm[\"Fit_prob\"] - pi_hat\n",
    "R2_S = np.sum(chasm[\"Difference\"]**2) / np.sum(chasm[\"Null_residual\"]**2)\n",
    "R2_S"
   ]
  },
  {
   "cell_type": "code",
   "execution_count": 32,
   "id": "61498227",
   "metadata": {},
   "outputs": [
    {
     "data": {
      "text/plain": [
       "0.6508175736130917"
      ]
     },
     "execution_count": 32,
     "metadata": {},
     "output_type": "execute_result"
    }
   ],
   "source": [
    "1 - ( np.sum( chasm[\"Residual\"]**2 ) / np.sum(chasm[\"Null_residual\"]**2) )"
   ]
  },
  {
   "cell_type": "code",
   "execution_count": 33,
   "id": "0619b21a",
   "metadata": {},
   "outputs": [
    {
     "data": {
      "image/png": "[encoded data removed]",
      "text/plain": [
       "<Figure size 720x360 with 2 Axes>"
      ]
     },
     "metadata": {},
     "output_type": "display_data"
    }
   ],
   "source": [
    "sns.displot( data=chasm, x=\"Fit_prob\", col=\"Bud\", binwidth=0.2)\n",
    "plt.savefig(\"chasm_rd_hist.png\")\n"
   ]
  },
  {
   "cell_type": "code",
   "execution_count": 37,
   "id": "1913522b",
   "metadata": {},
   "outputs": [
    {
     "data": {
      "text/html": [
       "<div>\n",
       "<style scoped>\n",
       "    .dataframe tbody tr th:only-of-type {\n",
       "        vertical-align: middle;\n",
       "    }\n",
       "\n",
       "    .dataframe tbody tr th {\n",
       "        vertical-align: top;\n",
       "    }\n",
       "\n",
       "    .dataframe thead th {\n",
       "        text-align: right;\n",
       "    }\n",
       "</style>\n",
       "<table border=\"1\" class=\"dataframe\">\n",
       "  <thead>\n",
       "    <tr style=\"text-align: right;\">\n",
       "      <th></th>\n",
       "      <th>Fit_average</th>\n",
       "    </tr>\n",
       "    <tr>\n",
       "      <th>Bud</th>\n",
       "      <th></th>\n",
       "    </tr>\n",
       "  </thead>\n",
       "  <tbody>\n",
       "    <tr>\n",
       "      <th>0</th>\n",
       "      <td>0.139026</td>\n",
       "    </tr>\n",
       "    <tr>\n",
       "      <th>1</th>\n",
       "      <td>0.807023</td>\n",
       "    </tr>\n",
       "  </tbody>\n",
       "</table>\n",
       "</div>"
      ],
      "text/plain": [
       "     Fit_average\n",
       "Bud             \n",
       "0       0.139026\n",
       "1       0.807023"
      ]
     },
     "execution_count": 37,
     "metadata": {},
     "output_type": "execute_result"
    }
   ],
   "source": [
    "fit_avgs = chasm.groupby(\"Bud\").agg(Fit_average=('Fit_prob','mean'))\n",
    "fit_avgs"
   ]
  },
  {
   "cell_type": "code",
   "execution_count": 41,
   "id": "9106c1a9",
   "metadata": {},
   "outputs": [
    {
     "data": {
      "text/plain": [
       "0.6679966136273958"
      ]
     },
     "execution_count": 41,
     "metadata": {},
     "output_type": "execute_result"
    }
   ],
   "source": [
    "R2_D = fit_avgs[\"Fit_average\"][1] - fit_avgs[\"Fit_average\"][0]\n",
    "R2_D"
   ]
  },
  {
   "cell_type": "code",
   "execution_count": null,
   "id": "cbe725d5",
   "metadata": {},
   "outputs": [],
   "source": []
  }
 ],
 "metadata": {
  "kernelspec": {
   "display_name": "Python 3",
   "language": "python",
   "name": "python3"
  },
  "language_info": {
   "codemirror_mode": {
    "name": "ipython",
    "version": 3
   },
   "file_extension": ".py",
   "mimetype": "text/x-python",
   "name": "python",
   "nbconvert_exporter": "python",
   "pygments_lexer": "ipython3",
   "version": "3.8.10"
  }
 },
 "nbformat": 4,
 "nbformat_minor": 5
}
