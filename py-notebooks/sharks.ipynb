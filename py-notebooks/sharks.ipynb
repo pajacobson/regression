{
 "cells": [
  {
   "cell_type": "code",
   "execution_count": 1,
   "id": "2581ec56",
   "metadata": {},
   "outputs": [],
   "source": [
    "import numpy as np\n",
    "import pandas as pd\n",
    "import matplotlib.pyplot as plt\n",
    "import seaborn as sns\n",
    "import statsmodels.api as sm\n",
    "import statsmodels.formula.api as smf\n",
    "from scipy.stats import chi2\n",
    "from sklearn import metrics"
   ]
  },
  {
   "cell_type": "code",
   "execution_count": 2,
   "id": "7048060b",
   "metadata": {},
   "outputs": [],
   "source": [
    "import warnings\n",
    "warnings.filterwarnings('ignore')"
   ]
  },
  {
   "cell_type": "code",
   "execution_count": 3,
   "id": "6038e25c",
   "metadata": {},
   "outputs": [],
   "source": [
    "sns.set_theme()\n",
    "plt.rcParams['figure.figsize'] = [8,8]"
   ]
  },
  {
   "cell_type": "code",
   "execution_count": 4,
   "id": "f28b5a10",
   "metadata": {},
   "outputs": [
    {
     "data": {
      "text/html": [
       "<div>\n",
       "<style scoped>\n",
       "    .dataframe tbody tr th:only-of-type {\n",
       "        vertical-align: middle;\n",
       "    }\n",
       "\n",
       "    .dataframe tbody tr th {\n",
       "        vertical-align: top;\n",
       "    }\n",
       "\n",
       "    .dataframe thead th {\n",
       "        text-align: right;\n",
       "    }\n",
       "</style>\n",
       "<table border=\"1\" class=\"dataframe\">\n",
       "  <thead>\n",
       "    <tr style=\"text-align: right;\">\n",
       "      <th></th>\n",
       "      <th>Species</th>\n",
       "      <th>Length</th>\n",
       "      <th>Weight</th>\n",
       "      <th>Category</th>\n",
       "    </tr>\n",
       "  </thead>\n",
       "  <tbody>\n",
       "    <tr>\n",
       "      <th>0</th>\n",
       "      <td>Acroteriobatus annulatus</td>\n",
       "      <td>140.0</td>\n",
       "      <td>20463.398751</td>\n",
       "      <td>Vulnerable</td>\n",
       "    </tr>\n",
       "    <tr>\n",
       "      <th>1</th>\n",
       "      <td>Acroteriobatus blochii</td>\n",
       "      <td>100.0</td>\n",
       "      <td>8302.228700</td>\n",
       "      <td>Least Concern</td>\n",
       "    </tr>\n",
       "    <tr>\n",
       "      <th>2</th>\n",
       "      <td>Acroteriobatus leucospilus</td>\n",
       "      <td>120.0</td>\n",
       "      <td>13535.898740</td>\n",
       "      <td>Endangered</td>\n",
       "    </tr>\n",
       "    <tr>\n",
       "      <th>3</th>\n",
       "      <td>Acroteriobatus salalah</td>\n",
       "      <td>78.0</td>\n",
       "      <td>4264.716085</td>\n",
       "      <td>Near Threatened</td>\n",
       "    </tr>\n",
       "    <tr>\n",
       "      <th>4</th>\n",
       "      <td>Acroteriobatus variegatus</td>\n",
       "      <td>75.0</td>\n",
       "      <td>3839.035532</td>\n",
       "      <td>Critically Endangered</td>\n",
       "    </tr>\n",
       "    <tr>\n",
       "      <th>...</th>\n",
       "      <td>...</td>\n",
       "      <td>...</td>\n",
       "      <td>...</td>\n",
       "      <td>...</td>\n",
       "    </tr>\n",
       "    <tr>\n",
       "      <th>804</th>\n",
       "      <td>Urotrygon simulatrix</td>\n",
       "      <td>26.7</td>\n",
       "      <td>240.778211</td>\n",
       "      <td>Vulnerable</td>\n",
       "    </tr>\n",
       "    <tr>\n",
       "      <th>805</th>\n",
       "      <td>Urotrygon venezuelae</td>\n",
       "      <td>25.5</td>\n",
       "      <td>212.849595</td>\n",
       "      <td>Endangered</td>\n",
       "    </tr>\n",
       "    <tr>\n",
       "      <th>806</th>\n",
       "      <td>Zameus squamulosus</td>\n",
       "      <td>84.0</td>\n",
       "      <td>5202.119234</td>\n",
       "      <td>Least Concern</td>\n",
       "    </tr>\n",
       "    <tr>\n",
       "      <th>807</th>\n",
       "      <td>Zapteryx brevirostris</td>\n",
       "      <td>53.4</td>\n",
       "      <td>758.000000</td>\n",
       "      <td>Endangered</td>\n",
       "    </tr>\n",
       "    <tr>\n",
       "      <th>808</th>\n",
       "      <td>Zapteryx xyster</td>\n",
       "      <td>78.0</td>\n",
       "      <td>4264.716085</td>\n",
       "      <td>Vulnerable</td>\n",
       "    </tr>\n",
       "  </tbody>\n",
       "</table>\n",
       "<p>809 rows × 4 columns</p>\n",
       "</div>"
      ],
      "text/plain": [
       "                        Species  Length        Weight               Category\n",
       "0      Acroteriobatus annulatus   140.0  20463.398751             Vulnerable\n",
       "1        Acroteriobatus blochii   100.0   8302.228700          Least Concern\n",
       "2    Acroteriobatus leucospilus   120.0  13535.898740             Endangered\n",
       "3        Acroteriobatus salalah    78.0   4264.716085        Near Threatened\n",
       "4     Acroteriobatus variegatus    75.0   3839.035532  Critically Endangered\n",
       "..                          ...     ...           ...                    ...\n",
       "804        Urotrygon simulatrix    26.7    240.778211             Vulnerable\n",
       "805        Urotrygon venezuelae    25.5    212.849595             Endangered\n",
       "806          Zameus squamulosus    84.0   5202.119234          Least Concern\n",
       "807       Zapteryx brevirostris    53.4    758.000000             Endangered\n",
       "808             Zapteryx xyster    78.0   4264.716085             Vulnerable\n",
       "\n",
       "[809 rows x 4 columns]"
      ]
     },
     "execution_count": 4,
     "metadata": {},
     "output_type": "execute_result"
    }
   ],
   "source": [
    "sharks = pd.read_csv(\"sharks.csv\")\n",
    "sharks"
   ]
  },
  {
   "cell_type": "code",
   "execution_count": 5,
   "id": "9327bcdd",
   "metadata": {},
   "outputs": [],
   "source": [
    "threatened = [\"Critically Endangered\",\"Endangered\",\"Vulnerable\"]"
   ]
  },
  {
   "cell_type": "code",
   "execution_count": 6,
   "id": "47f30f18",
   "metadata": {},
   "outputs": [
    {
     "data": {
      "text/html": [
       "<div>\n",
       "<style scoped>\n",
       "    .dataframe tbody tr th:only-of-type {\n",
       "        vertical-align: middle;\n",
       "    }\n",
       "\n",
       "    .dataframe tbody tr th {\n",
       "        vertical-align: top;\n",
       "    }\n",
       "\n",
       "    .dataframe thead th {\n",
       "        text-align: right;\n",
       "    }\n",
       "</style>\n",
       "<table border=\"1\" class=\"dataframe\">\n",
       "  <thead>\n",
       "    <tr style=\"text-align: right;\">\n",
       "      <th></th>\n",
       "      <th>Species</th>\n",
       "      <th>Length</th>\n",
       "      <th>Weight</th>\n",
       "      <th>Threatened</th>\n",
       "    </tr>\n",
       "  </thead>\n",
       "  <tbody>\n",
       "    <tr>\n",
       "      <th>0</th>\n",
       "      <td>Acroteriobatus annulatus</td>\n",
       "      <td>140.0</td>\n",
       "      <td>20463.398751</td>\n",
       "      <td>1</td>\n",
       "    </tr>\n",
       "    <tr>\n",
       "      <th>1</th>\n",
       "      <td>Acroteriobatus blochii</td>\n",
       "      <td>100.0</td>\n",
       "      <td>8302.228700</td>\n",
       "      <td>0</td>\n",
       "    </tr>\n",
       "    <tr>\n",
       "      <th>2</th>\n",
       "      <td>Acroteriobatus leucospilus</td>\n",
       "      <td>120.0</td>\n",
       "      <td>13535.898740</td>\n",
       "      <td>1</td>\n",
       "    </tr>\n",
       "    <tr>\n",
       "      <th>3</th>\n",
       "      <td>Acroteriobatus salalah</td>\n",
       "      <td>78.0</td>\n",
       "      <td>4264.716085</td>\n",
       "      <td>0</td>\n",
       "    </tr>\n",
       "    <tr>\n",
       "      <th>4</th>\n",
       "      <td>Acroteriobatus variegatus</td>\n",
       "      <td>75.0</td>\n",
       "      <td>3839.035532</td>\n",
       "      <td>1</td>\n",
       "    </tr>\n",
       "    <tr>\n",
       "      <th>...</th>\n",
       "      <td>...</td>\n",
       "      <td>...</td>\n",
       "      <td>...</td>\n",
       "      <td>...</td>\n",
       "    </tr>\n",
       "    <tr>\n",
       "      <th>804</th>\n",
       "      <td>Urotrygon simulatrix</td>\n",
       "      <td>26.7</td>\n",
       "      <td>240.778211</td>\n",
       "      <td>1</td>\n",
       "    </tr>\n",
       "    <tr>\n",
       "      <th>805</th>\n",
       "      <td>Urotrygon venezuelae</td>\n",
       "      <td>25.5</td>\n",
       "      <td>212.849595</td>\n",
       "      <td>1</td>\n",
       "    </tr>\n",
       "    <tr>\n",
       "      <th>806</th>\n",
       "      <td>Zameus squamulosus</td>\n",
       "      <td>84.0</td>\n",
       "      <td>5202.119234</td>\n",
       "      <td>0</td>\n",
       "    </tr>\n",
       "    <tr>\n",
       "      <th>807</th>\n",
       "      <td>Zapteryx brevirostris</td>\n",
       "      <td>53.4</td>\n",
       "      <td>758.000000</td>\n",
       "      <td>1</td>\n",
       "    </tr>\n",
       "    <tr>\n",
       "      <th>808</th>\n",
       "      <td>Zapteryx xyster</td>\n",
       "      <td>78.0</td>\n",
       "      <td>4264.716085</td>\n",
       "      <td>1</td>\n",
       "    </tr>\n",
       "  </tbody>\n",
       "</table>\n",
       "<p>809 rows × 4 columns</p>\n",
       "</div>"
      ],
      "text/plain": [
       "                        Species  Length        Weight  Threatened\n",
       "0      Acroteriobatus annulatus   140.0  20463.398751           1\n",
       "1        Acroteriobatus blochii   100.0   8302.228700           0\n",
       "2    Acroteriobatus leucospilus   120.0  13535.898740           1\n",
       "3        Acroteriobatus salalah    78.0   4264.716085           0\n",
       "4     Acroteriobatus variegatus    75.0   3839.035532           1\n",
       "..                          ...     ...           ...         ...\n",
       "804        Urotrygon simulatrix    26.7    240.778211           1\n",
       "805        Urotrygon venezuelae    25.5    212.849595           1\n",
       "806          Zameus squamulosus    84.0   5202.119234           0\n",
       "807       Zapteryx brevirostris    53.4    758.000000           1\n",
       "808             Zapteryx xyster    78.0   4264.716085           1\n",
       "\n",
       "[809 rows x 4 columns]"
      ]
     },
     "execution_count": 6,
     "metadata": {},
     "output_type": "execute_result"
    }
   ],
   "source": [
    "sharks[\"Threatened\"] = sharks[\"Category\"].isin( threatened ).astype('int')\n",
    "sharks = sharks.drop(columns = \"Category\")\n",
    "sharks"
   ]
  },
  {
   "cell_type": "code",
   "execution_count": 7,
   "id": "688094ad",
   "metadata": {},
   "outputs": [
    {
     "data": {
      "text/plain": [
       "Intercept   -3.173571\n",
       "LogWeight    0.293120\n",
       "dtype: float64"
      ]
     },
     "execution_count": 7,
     "metadata": {},
     "output_type": "execute_result"
    }
   ],
   "source": [
    "sharks[\"LogWeight\"] = np.log(sharks[\"Weight\"])\n",
    "sharks_model = smf.glm(\"Threatened ~ LogWeight\", data=sharks, family=sm.families.Binomial())\n",
    "sharks_fit = sharks_model.fit()\n",
    "sharks_fit.params"
   ]
  },
  {
   "cell_type": "code",
   "execution_count": 8,
   "id": "a78e25f4",
   "metadata": {},
   "outputs": [
    {
     "data": {
      "text/plain": [
       "8.770761894538737e-15"
      ]
     },
     "execution_count": 8,
     "metadata": {},
     "output_type": "execute_result"
    }
   ],
   "source": [
    "1 - chi2.cdf(sharks_fit.null_deviance - sharks_fit.deviance, df=1)"
   ]
  },
  {
   "cell_type": "code",
   "execution_count": 9,
   "id": "a3175fcd",
   "metadata": {},
   "outputs": [
    {
     "data": {
      "image/png": "[encoded data removed]",
      "text/plain": [
       "<Figure size 576x576 with 1 Axes>"
      ]
     },
     "metadata": {},
     "output_type": "display_data"
    }
   ],
   "source": [
    "sns.regplot(data=sharks, x=\"LogWeight\", y=\"Threatened\", logistic=True, ci=None)\n",
    "plt.savefig(\"sharks_fit.png\")"
   ]
  },
  {
   "cell_type": "code",
   "execution_count": 10,
   "id": "dd742e6a",
   "metadata": {},
   "outputs": [
    {
     "data": {
      "text/html": [
       "<div>\n",
       "<style scoped>\n",
       "    .dataframe tbody tr th:only-of-type {\n",
       "        vertical-align: middle;\n",
       "    }\n",
       "\n",
       "    .dataframe tbody tr th {\n",
       "        vertical-align: top;\n",
       "    }\n",
       "\n",
       "    .dataframe thead th {\n",
       "        text-align: right;\n",
       "    }\n",
       "</style>\n",
       "<table border=\"1\" class=\"dataframe\">\n",
       "  <thead>\n",
       "    <tr style=\"text-align: right;\">\n",
       "      <th></th>\n",
       "      <th>Species</th>\n",
       "      <th>Length</th>\n",
       "      <th>Weight</th>\n",
       "      <th>Threatened</th>\n",
       "      <th>LogWeight</th>\n",
       "      <th>Class</th>\n",
       "    </tr>\n",
       "  </thead>\n",
       "  <tbody>\n",
       "    <tr>\n",
       "      <th>0</th>\n",
       "      <td>Acroteriobatus annulatus</td>\n",
       "      <td>140.0</td>\n",
       "      <td>20463.398751</td>\n",
       "      <td>1</td>\n",
       "      <td>9.926393</td>\n",
       "      <td>0</td>\n",
       "    </tr>\n",
       "    <tr>\n",
       "      <th>1</th>\n",
       "      <td>Acroteriobatus blochii</td>\n",
       "      <td>100.0</td>\n",
       "      <td>8302.228700</td>\n",
       "      <td>0</td>\n",
       "      <td>9.024279</td>\n",
       "      <td>0</td>\n",
       "    </tr>\n",
       "    <tr>\n",
       "      <th>2</th>\n",
       "      <td>Acroteriobatus leucospilus</td>\n",
       "      <td>120.0</td>\n",
       "      <td>13535.898740</td>\n",
       "      <td>1</td>\n",
       "      <td>9.513101</td>\n",
       "      <td>0</td>\n",
       "    </tr>\n",
       "    <tr>\n",
       "      <th>3</th>\n",
       "      <td>Acroteriobatus salalah</td>\n",
       "      <td>78.0</td>\n",
       "      <td>4264.716085</td>\n",
       "      <td>0</td>\n",
       "      <td>8.358131</td>\n",
       "      <td>0</td>\n",
       "    </tr>\n",
       "    <tr>\n",
       "      <th>4</th>\n",
       "      <td>Acroteriobatus variegatus</td>\n",
       "      <td>75.0</td>\n",
       "      <td>3839.035532</td>\n",
       "      <td>1</td>\n",
       "      <td>8.252976</td>\n",
       "      <td>0</td>\n",
       "    </tr>\n",
       "    <tr>\n",
       "      <th>...</th>\n",
       "      <td>...</td>\n",
       "      <td>...</td>\n",
       "      <td>...</td>\n",
       "      <td>...</td>\n",
       "      <td>...</td>\n",
       "      <td>...</td>\n",
       "    </tr>\n",
       "    <tr>\n",
       "      <th>804</th>\n",
       "      <td>Urotrygon simulatrix</td>\n",
       "      <td>26.7</td>\n",
       "      <td>240.778211</td>\n",
       "      <td>1</td>\n",
       "      <td>5.483876</td>\n",
       "      <td>0</td>\n",
       "    </tr>\n",
       "    <tr>\n",
       "      <th>805</th>\n",
       "      <td>Urotrygon venezuelae</td>\n",
       "      <td>25.5</td>\n",
       "      <td>212.849595</td>\n",
       "      <td>1</td>\n",
       "      <td>5.360586</td>\n",
       "      <td>0</td>\n",
       "    </tr>\n",
       "    <tr>\n",
       "      <th>806</th>\n",
       "      <td>Zameus squamulosus</td>\n",
       "      <td>84.0</td>\n",
       "      <td>5202.119234</td>\n",
       "      <td>0</td>\n",
       "      <td>8.556821</td>\n",
       "      <td>0</td>\n",
       "    </tr>\n",
       "    <tr>\n",
       "      <th>807</th>\n",
       "      <td>Zapteryx brevirostris</td>\n",
       "      <td>53.4</td>\n",
       "      <td>758.000000</td>\n",
       "      <td>1</td>\n",
       "      <td>6.630683</td>\n",
       "      <td>0</td>\n",
       "    </tr>\n",
       "    <tr>\n",
       "      <th>808</th>\n",
       "      <td>Zapteryx xyster</td>\n",
       "      <td>78.0</td>\n",
       "      <td>4264.716085</td>\n",
       "      <td>1</td>\n",
       "      <td>8.358131</td>\n",
       "      <td>0</td>\n",
       "    </tr>\n",
       "  </tbody>\n",
       "</table>\n",
       "<p>809 rows × 6 columns</p>\n",
       "</div>"
      ],
      "text/plain": [
       "                        Species  Length        Weight  Threatened  LogWeight  \\\n",
       "0      Acroteriobatus annulatus   140.0  20463.398751           1   9.926393   \n",
       "1        Acroteriobatus blochii   100.0   8302.228700           0   9.024279   \n",
       "2    Acroteriobatus leucospilus   120.0  13535.898740           1   9.513101   \n",
       "3        Acroteriobatus salalah    78.0   4264.716085           0   8.358131   \n",
       "4     Acroteriobatus variegatus    75.0   3839.035532           1   8.252976   \n",
       "..                          ...     ...           ...         ...        ...   \n",
       "804        Urotrygon simulatrix    26.7    240.778211           1   5.483876   \n",
       "805        Urotrygon venezuelae    25.5    212.849595           1   5.360586   \n",
       "806          Zameus squamulosus    84.0   5202.119234           0   8.556821   \n",
       "807       Zapteryx brevirostris    53.4    758.000000           1   6.630683   \n",
       "808             Zapteryx xyster    78.0   4264.716085           1   8.358131   \n",
       "\n",
       "     Class  \n",
       "0        0  \n",
       "1        0  \n",
       "2        0  \n",
       "3        0  \n",
       "4        0  \n",
       "..     ...  \n",
       "804      0  \n",
       "805      0  \n",
       "806      0  \n",
       "807      0  \n",
       "808      0  \n",
       "\n",
       "[809 rows x 6 columns]"
      ]
     },
     "execution_count": 10,
     "metadata": {},
     "output_type": "execute_result"
    }
   ],
   "source": [
    "sharks[\"Class\"] = (sharks_fit.fittedvalues > 0.50).astype(int)\n",
    "sharks"
   ]
  },
  {
   "cell_type": "code",
   "execution_count": 11,
   "id": "04643b86",
   "metadata": {},
   "outputs": [
    {
     "data": {
      "text/html": [
       "<div>\n",
       "<style scoped>\n",
       "    .dataframe tbody tr th:only-of-type {\n",
       "        vertical-align: middle;\n",
       "    }\n",
       "\n",
       "    .dataframe tbody tr th {\n",
       "        vertical-align: top;\n",
       "    }\n",
       "\n",
       "    .dataframe thead th {\n",
       "        text-align: right;\n",
       "    }\n",
       "</style>\n",
       "<table border=\"1\" class=\"dataframe\">\n",
       "  <thead>\n",
       "    <tr style=\"text-align: right;\">\n",
       "      <th>Class</th>\n",
       "      <th>0</th>\n",
       "      <th>1</th>\n",
       "    </tr>\n",
       "    <tr>\n",
       "      <th>Threatened</th>\n",
       "      <th></th>\n",
       "      <th></th>\n",
       "    </tr>\n",
       "  </thead>\n",
       "  <tbody>\n",
       "    <tr>\n",
       "      <th>0</th>\n",
       "      <td>492</td>\n",
       "      <td>37</td>\n",
       "    </tr>\n",
       "    <tr>\n",
       "      <th>1</th>\n",
       "      <td>211</td>\n",
       "      <td>69</td>\n",
       "    </tr>\n",
       "  </tbody>\n",
       "</table>\n",
       "</div>"
      ],
      "text/plain": [
       "Class         0   1\n",
       "Threatened         \n",
       "0           492  37\n",
       "1           211  69"
      ]
     },
     "execution_count": 11,
     "metadata": {},
     "output_type": "execute_result"
    }
   ],
   "source": [
    "pd.crosstab(sharks[\"Threatened\"], sharks[\"Class\"])"
   ]
  },
  {
   "cell_type": "code",
   "execution_count": 12,
   "id": "78a90087",
   "metadata": {},
   "outputs": [
    {
     "data": {
      "text/plain": [
       "0.6934487021013597"
      ]
     },
     "execution_count": 12,
     "metadata": {},
     "output_type": "execute_result"
    }
   ],
   "source": [
    "np.mean( sharks[\"Threatened\"] == sharks[\"Class\"] )"
   ]
  },
  {
   "cell_type": "code",
   "execution_count": 13,
   "id": "265027b5",
   "metadata": {},
   "outputs": [
    {
     "data": {
      "text/plain": [
       "0.6589994598973805"
      ]
     },
     "execution_count": 13,
     "metadata": {},
     "output_type": "execute_result"
    }
   ],
   "source": [
    "fpr, tpr, thresholds = metrics.roc_curve(sharks[\"Threatened\"], sharks_fit.fittedvalues)\n",
    "chronic_auc = metrics.auc(fpr, tpr)\n",
    "chronic_auc"
   ]
  },
  {
   "cell_type": "code",
   "execution_count": 14,
   "id": "c796acbc",
   "metadata": {},
   "outputs": [
    {
     "data": {
      "image/png": "[encoded data removed]",
      "text/plain": [
       "<Figure size 576x576 with 1 Axes>"
      ]
     },
     "metadata": {},
     "output_type": "display_data"
    }
   ],
   "source": [
    "plt.figure()\n",
    "plt.plot(fpr, tpr, label='ROC curve    AUC: %0.2f' % chronic_auc)\n",
    "plt.plot([0,1], [0,1], 'r--', label='Random classification')\n",
    "# plt.xlim([0, 1]) \n",
    "# plt.ylim([0, 1.05])\n",
    "plt.xlabel('False Positive Rate (1-Specificity)')\n",
    "plt.ylabel('True Positive Rate (Sensitivity)')\n",
    "plt.title('ROC curve for shark extinction risk classifier')\n",
    "plt.legend(loc=\"lower right\")\n",
    "plt.savefig(\"sharks_roc.png\")"
   ]
  },
  {
   "cell_type": "code",
   "execution_count": null,
   "id": "ea2623bb",
   "metadata": {},
   "outputs": [],
   "source": []
  }
 ],
 "metadata": {
  "kernelspec": {
   "display_name": "Python 3",
   "language": "python",
   "name": "python3"
  },
  "language_info": {
   "codemirror_mode": {
    "name": "ipython",
    "version": 3
   },
   "file_extension": ".py",
   "mimetype": "text/x-python",
   "name": "python",
   "nbconvert_exporter": "python",
   "pygments_lexer": "ipython3",
   "version": "3.8.10"
  }
 },
 "nbformat": 4,
 "nbformat_minor": 5
}
