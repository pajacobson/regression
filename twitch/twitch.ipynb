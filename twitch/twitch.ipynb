{
 "cells": [
  {
   "cell_type": "markdown",
   "id": "d027ff64",
   "metadata": {},
   "source": [
    "## Extinction risks for cartilaginous fish\n",
    "\n",
    "An exploration of some of the results in [Extinction risk is most acute for the world’s largest and smallest vertebrates](https://www.pnas.org/content/114/40/10678), Ripple et al., PNAS October 3, 2017 114 (40) 10678-10683\n",
    "\n",
    "Specifically, we'll investigate how extinction risks vary by weight for cartilaginous fish. This provides some nice practice with simple linear and logistic regression, with the overall goal of explaining basic diagnostics for both methods. \n",
    "\n",
    "All of this (and more!) is in Chapters 2-5 of my Manning book, [Regression: A friendly guide](https://www.manning.com/books/regression-a-friendly-guide). \n",
    "\n",
    "This notebook and the relevant CSVs are available in my [regression repo on github](https://github.com/mbrudd/regression), along with other code and data for the book. Code and fork at will!"
   ]
  },
  {
   "cell_type": "markdown",
   "id": "ed48e795",
   "metadata": {},
   "source": [
    "### Imports and settings"
   ]
  },
  {
   "cell_type": "code",
   "execution_count": 1,
   "id": "fe5b5f9f",
   "metadata": {},
   "outputs": [],
   "source": [
    "import numpy as np\n",
    "import pandas as pd\n",
    "import matplotlib.pyplot as plt\n",
    "import seaborn as sns\n",
    "import statsmodels.api as sm\n",
    "import statsmodels.formula.api as smf\n",
    "from scipy.stats import chi2\n",
    "from sklearn import metrics"
   ]
  },
  {
   "cell_type": "code",
   "execution_count": 2,
   "id": "cbb74754",
   "metadata": {},
   "outputs": [],
   "source": [
    "import warnings\n",
    "warnings.filterwarnings('ignore')"
   ]
  },
  {
   "cell_type": "code",
   "execution_count": 3,
   "id": "7c70fa0c",
   "metadata": {},
   "outputs": [],
   "source": [
    "sns.set_theme()\n",
    "plt.rcParams['figure.figsize'] = [8,8]"
   ]
  },
  {
   "cell_type": "markdown",
   "id": "88459d2f",
   "metadata": {},
   "source": [
    "### Data\n",
    "\n",
    "First things first: we need data! Thanks to the good people at [ROpenSci](https://ropensci.org/), the data from [Fishbase.org](https://www.fishbase.se/search.php) is easily available in the [rfishbase](https://docs.ropensci.org/rfishbase/index.html) package.\n"
   ]
  },
  {
   "cell_type": "code",
   "execution_count": 4,
   "id": "958e817f",
   "metadata": {},
   "outputs": [
    {
     "data": {
      "text/plain": [
       "(34299, 101)"
      ]
     },
     "execution_count": 4,
     "metadata": {},
     "output_type": "execute_result"
    }
   ],
   "source": [
    "fish = pd.read_csv(\"fish.csv\")\n",
    "fish.shape"
   ]
  },
  {
   "cell_type": "code",
   "execution_count": 5,
   "id": "cf8a5032",
   "metadata": {},
   "outputs": [
    {
     "data": {
      "text/plain": [
       "Index(['SpecCode', 'Species', 'Genus', 'SpeciesRefNo', 'Author', 'FBname',\n",
       "       'PicPreferredName', 'PicPreferredNameM', 'PicPreferredNameF',\n",
       "       'PicPreferredNameJ',\n",
       "       ...\n",
       "       'Profile', 'PD50', 'Emblematic', 'Entered', 'DateEntered', 'Modified',\n",
       "       'DateModified', 'Expert', 'DateChecked', 'TS'],\n",
       "      dtype='object', length=101)"
      ]
     },
     "execution_count": 5,
     "metadata": {},
     "output_type": "execute_result"
    }
   ],
   "source": [
    "fish.columns"
   ]
  },
  {
   "cell_type": "code",
   "execution_count": 6,
   "id": "d77bc999",
   "metadata": {},
   "outputs": [
    {
     "data": {
      "text/html": [
       "<div>\n",
       "<style scoped>\n",
       "    .dataframe tbody tr th:only-of-type {\n",
       "        vertical-align: middle;\n",
       "    }\n",
       "\n",
       "    .dataframe tbody tr th {\n",
       "        vertical-align: top;\n",
       "    }\n",
       "\n",
       "    .dataframe thead th {\n",
       "        text-align: right;\n",
       "    }\n",
       "</style>\n",
       "<table border=\"1\" class=\"dataframe\">\n",
       "  <thead>\n",
       "    <tr style=\"text-align: right;\">\n",
       "      <th></th>\n",
       "      <th>Species</th>\n",
       "      <th>Length</th>\n",
       "      <th>Weight</th>\n",
       "    </tr>\n",
       "  </thead>\n",
       "  <tbody>\n",
       "    <tr>\n",
       "      <th>0</th>\n",
       "      <td>Aapticheilichthys websteri</td>\n",
       "      <td>3.08</td>\n",
       "      <td>NaN</td>\n",
       "    </tr>\n",
       "    <tr>\n",
       "      <th>1</th>\n",
       "      <td>Aaptosyax grypus</td>\n",
       "      <td>130.00</td>\n",
       "      <td>30000.0</td>\n",
       "    </tr>\n",
       "    <tr>\n",
       "      <th>2</th>\n",
       "      <td>Abactochromis labrosus</td>\n",
       "      <td>11.50</td>\n",
       "      <td>NaN</td>\n",
       "    </tr>\n",
       "    <tr>\n",
       "      <th>3</th>\n",
       "      <td>Abalistes filamentosus</td>\n",
       "      <td>32.50</td>\n",
       "      <td>1375.0</td>\n",
       "    </tr>\n",
       "    <tr>\n",
       "      <th>4</th>\n",
       "      <td>Abalistes stellaris</td>\n",
       "      <td>60.00</td>\n",
       "      <td>NaN</td>\n",
       "    </tr>\n",
       "    <tr>\n",
       "      <th>...</th>\n",
       "      <td>...</td>\n",
       "      <td>...</td>\n",
       "      <td>...</td>\n",
       "    </tr>\n",
       "    <tr>\n",
       "      <th>34294</th>\n",
       "      <td>Zu cristatus</td>\n",
       "      <td>118.00</td>\n",
       "      <td>NaN</td>\n",
       "    </tr>\n",
       "    <tr>\n",
       "      <th>34295</th>\n",
       "      <td>Zu elongatus</td>\n",
       "      <td>120.00</td>\n",
       "      <td>NaN</td>\n",
       "    </tr>\n",
       "    <tr>\n",
       "      <th>34296</th>\n",
       "      <td>Zungaro jahu</td>\n",
       "      <td>140.00</td>\n",
       "      <td>NaN</td>\n",
       "    </tr>\n",
       "    <tr>\n",
       "      <th>34297</th>\n",
       "      <td>Zungaro zungaro</td>\n",
       "      <td>140.00</td>\n",
       "      <td>NaN</td>\n",
       "    </tr>\n",
       "    <tr>\n",
       "      <th>34298</th>\n",
       "      <td>Zungaropsis multimaculatus</td>\n",
       "      <td>NaN</td>\n",
       "      <td>NaN</td>\n",
       "    </tr>\n",
       "  </tbody>\n",
       "</table>\n",
       "<p>34299 rows × 3 columns</p>\n",
       "</div>"
      ],
      "text/plain": [
       "                          Species  Length   Weight\n",
       "0      Aapticheilichthys websteri    3.08      NaN\n",
       "1                Aaptosyax grypus  130.00  30000.0\n",
       "2          Abactochromis labrosus   11.50      NaN\n",
       "3          Abalistes filamentosus   32.50   1375.0\n",
       "4             Abalistes stellaris   60.00      NaN\n",
       "...                           ...     ...      ...\n",
       "34294                Zu cristatus  118.00      NaN\n",
       "34295                Zu elongatus  120.00      NaN\n",
       "34296                Zungaro jahu  140.00      NaN\n",
       "34297             Zungaro zungaro  140.00      NaN\n",
       "34298  Zungaropsis multimaculatus     NaN      NaN\n",
       "\n",
       "[34299 rows x 3 columns]"
      ]
     },
     "execution_count": 6,
     "metadata": {},
     "output_type": "execute_result"
    }
   ],
   "source": [
    "fish = fish.filter([\"Species\",\"Length\",\"Weight\"])\n",
    "fish"
   ]
  },
  {
   "cell_type": "code",
   "execution_count": 7,
   "id": "c7b0c6ab",
   "metadata": {},
   "outputs": [
    {
     "data": {
      "text/html": [
       "<div>\n",
       "<style scoped>\n",
       "    .dataframe tbody tr th:only-of-type {\n",
       "        vertical-align: middle;\n",
       "    }\n",
       "\n",
       "    .dataframe tbody tr th {\n",
       "        vertical-align: top;\n",
       "    }\n",
       "\n",
       "    .dataframe thead th {\n",
       "        text-align: right;\n",
       "    }\n",
       "</style>\n",
       "<table border=\"1\" class=\"dataframe\">\n",
       "  <thead>\n",
       "    <tr style=\"text-align: right;\">\n",
       "      <th></th>\n",
       "      <th>Species</th>\n",
       "      <th>Length</th>\n",
       "      <th>Weight</th>\n",
       "    </tr>\n",
       "  </thead>\n",
       "  <tbody>\n",
       "    <tr>\n",
       "      <th>1</th>\n",
       "      <td>Aaptosyax grypus</td>\n",
       "      <td>130.0</td>\n",
       "      <td>30000.0</td>\n",
       "    </tr>\n",
       "    <tr>\n",
       "      <th>3</th>\n",
       "      <td>Abalistes filamentosus</td>\n",
       "      <td>32.5</td>\n",
       "      <td>1375.0</td>\n",
       "    </tr>\n",
       "    <tr>\n",
       "      <th>9</th>\n",
       "      <td>Abbottina obtusirostris</td>\n",
       "      <td>10.9</td>\n",
       "      <td>13.5</td>\n",
       "    </tr>\n",
       "    <tr>\n",
       "      <th>14</th>\n",
       "      <td>Ablennes hians</td>\n",
       "      <td>140.0</td>\n",
       "      <td>4800.0</td>\n",
       "    </tr>\n",
       "    <tr>\n",
       "      <th>24</th>\n",
       "      <td>Abramis brama</td>\n",
       "      <td>82.0</td>\n",
       "      <td>6010.0</td>\n",
       "    </tr>\n",
       "    <tr>\n",
       "      <th>...</th>\n",
       "      <td>...</td>\n",
       "      <td>...</td>\n",
       "      <td>...</td>\n",
       "    </tr>\n",
       "    <tr>\n",
       "      <th>34265</th>\n",
       "      <td>Zeus faber</td>\n",
       "      <td>90.0</td>\n",
       "      <td>8000.0</td>\n",
       "    </tr>\n",
       "    <tr>\n",
       "      <th>34266</th>\n",
       "      <td>Zingel asper</td>\n",
       "      <td>22.0</td>\n",
       "      <td>100.0</td>\n",
       "    </tr>\n",
       "    <tr>\n",
       "      <th>34270</th>\n",
       "      <td>Zoarces americanus</td>\n",
       "      <td>110.0</td>\n",
       "      <td>5436.0</td>\n",
       "    </tr>\n",
       "    <tr>\n",
       "      <th>34273</th>\n",
       "      <td>Zoarces fedorovi</td>\n",
       "      <td>23.0</td>\n",
       "      <td>92.0</td>\n",
       "    </tr>\n",
       "    <tr>\n",
       "      <th>34275</th>\n",
       "      <td>Zoarces viviparus</td>\n",
       "      <td>52.0</td>\n",
       "      <td>510.0</td>\n",
       "    </tr>\n",
       "  </tbody>\n",
       "</table>\n",
       "<p>2172 rows × 3 columns</p>\n",
       "</div>"
      ],
      "text/plain": [
       "                       Species  Length   Weight\n",
       "1             Aaptosyax grypus   130.0  30000.0\n",
       "3       Abalistes filamentosus    32.5   1375.0\n",
       "9      Abbottina obtusirostris    10.9     13.5\n",
       "14              Ablennes hians   140.0   4800.0\n",
       "24               Abramis brama    82.0   6010.0\n",
       "...                        ...     ...      ...\n",
       "34265               Zeus faber    90.0   8000.0\n",
       "34266             Zingel asper    22.0    100.0\n",
       "34270       Zoarces americanus   110.0   5436.0\n",
       "34273         Zoarces fedorovi    23.0     92.0\n",
       "34275        Zoarces viviparus    52.0    510.0\n",
       "\n",
       "[2172 rows x 3 columns]"
      ]
     },
     "execution_count": 7,
     "metadata": {},
     "output_type": "execute_result"
    }
   ],
   "source": [
    "train = fish.dropna(axis='index')\n",
    "train"
   ]
  },
  {
   "cell_type": "code",
   "execution_count": 8,
   "id": "b3faf711",
   "metadata": {},
   "outputs": [
    {
     "data": {
      "text/plain": [
       "Text(0.5, 1.0, 'Fish weights versus fish lengths')"
      ]
     },
     "execution_count": 8,
     "metadata": {},
     "output_type": "execute_result"
    },
    {
     "data": {
      "image/png": "[encoded data removed]",
      "text/plain": [
       "<Figure size 576x576 with 1 Axes>"
      ]
     },
     "metadata": {},
     "output_type": "display_data"
    }
   ],
   "source": [
    "sns.scatterplot(data=train, x=\"Length\", y=\"Weight\")\n",
    "plt.title(\"Fish weights versus fish lengths\")"
   ]
  },
  {
   "cell_type": "code",
   "execution_count": 9,
   "id": "55d3624d",
   "metadata": {},
   "outputs": [],
   "source": [
    "train = train.assign(LogLength = np.log(train.Length), LogWeight = np.log(train.Weight))"
   ]
  },
  {
   "cell_type": "code",
   "execution_count": 10,
   "id": "b1b75d13",
   "metadata": {},
   "outputs": [
    {
     "data": {
      "text/plain": [
       "<matplotlib.lines.Line2D at 0x7f7c379d5520>"
      ]
     },
     "execution_count": 10,
     "metadata": {},
     "output_type": "execute_result"
    },
    {
     "data": {
      "image/png": "[encoded data removed]",
      "text/plain": [
       "<Figure size 576x576 with 1 Axes>"
      ]
     },
     "metadata": {},
     "output_type": "display_data"
    }
   ],
   "source": [
    "sns.scatterplot(data=train, x=\"LogLength\", y=\"LogWeight\")\n",
    "plt.title(\"Log(Weight) versus Log(Length)\")\n",
    "plt.axvline( np.mean( train[\"LogLength\"] ), linestyle='--')\n",
    "plt.axhline( np.mean( train[\"LogWeight\"] ), linestyle='--')"
   ]
  },
  {
   "cell_type": "markdown",
   "id": "149009d8",
   "metadata": {},
   "source": [
    "### Linear regression\n",
    "\n",
    "The basic metric for the strength of a _linear_ relationship is the _correlation coefficient_:\n"
   ]
  },
  {
   "cell_type": "code",
   "execution_count": 11,
   "id": "e81f1155",
   "metadata": {},
   "outputs": [
    {
     "data": {
      "text/plain": [
       "0.9230692454775016"
      ]
     },
     "execution_count": 11,
     "metadata": {},
     "output_type": "execute_result"
    }
   ],
   "source": [
    "train.LogLength.corr( train.LogWeight )"
   ]
  },
  {
   "cell_type": "markdown",
   "id": "c37a2ce1",
   "metadata": {},
   "source": [
    "This is a very strong correlation! In real life, especially in the social sciences, correlations between .3 and .7 in magnitude are much more common. Having checked the linear relationship, let's fit the regression line:\n"
   ]
  },
  {
   "cell_type": "code",
   "execution_count": 12,
   "id": "5edf7e45",
   "metadata": {},
   "outputs": [
    {
     "data": {
      "text/plain": [
       "Intercept   -3.322617\n",
       "LogLength    2.681095\n",
       "dtype: float64"
      ]
     },
     "execution_count": 12,
     "metadata": {},
     "output_type": "execute_result"
    }
   ],
   "source": [
    "train_model = smf.ols( \"LogWeight ~ LogLength\", data=train)\n",
    "train_fit = train_model.fit()\n",
    "train_fit.params"
   ]
  },
  {
   "cell_type": "markdown",
   "id": "6a6d41bd",
   "metadata": {},
   "source": [
    "\n",
    "This model says that \n",
    "\n",
    "$$ \\log{ \\left( \\text{Weight} \\right) } ~ = ~ -3.322617 + 2.681095 \\times \\log{ \\left( \\text{Length} \\right) } \\ ,$$\n",
    "\n",
    "which is easier to digest after exponentiating:\n",
    "\n",
    "$$ \\text{Weight} ~ = ~ e^{-3.322617} \\times \\text{Length}^{2.681095} ~ = ~ 0.036 \\times \\text{Length}^{2.681095} \\ .$$\n",
    "\n",
    "This _power law relationship_ says that weight is roughly proportional to the cube of the length!\n",
    "\n",
    "***\n",
    "\n",
    "The _null model_ predicts that _every_ needed/unseen weight equals the average of the known weights:\n"
   ]
  },
  {
   "cell_type": "code",
   "execution_count": 13,
   "id": "8c187b1a",
   "metadata": {},
   "outputs": [
    {
     "data": {
      "text/plain": [
       "44594.08062820512"
      ]
     },
     "execution_count": 13,
     "metadata": {},
     "output_type": "execute_result"
    }
   ],
   "source": [
    "np.mean( fish[\"Weight\"] )"
   ]
  },
  {
   "cell_type": "code",
   "execution_count": 14,
   "id": "872fd3d8",
   "metadata": {},
   "outputs": [
    {
     "data": {
      "text/plain": [
       "10.705356407859206"
      ]
     },
     "execution_count": 14,
     "metadata": {},
     "output_type": "execute_result"
    }
   ],
   "source": [
    "np.log( np.mean( fish[\"Weight\"] ) )"
   ]
  },
  {
   "cell_type": "markdown",
   "id": "469c9615",
   "metadata": {},
   "source": [
    "Is the regression model better than this at predicting weights? Answering this specific question is the job of the _coefficient of determination_, denoted $R^2$. \n",
    "\n",
    "$$R^2 ~ = ~ \\frac{ \\text{TSS} - \\text{SSR} }{ \\text{TSS} } ~ = ~ 1 - \\frac{ \\text{SSR} }{ \\text{TSS} }$$\n",
    "\n",
    "You could compute it this way..."
   ]
  },
  {
   "cell_type": "code",
   "execution_count": 15,
   "id": "440f3f0f",
   "metadata": {},
   "outputs": [
    {
     "data": {
      "text/plain": [
       "0.852056831946404"
      ]
     },
     "execution_count": 15,
     "metadata": {},
     "output_type": "execute_result"
    }
   ],
   "source": [
    "( train_fit.centered_tss - train_fit.ssr) / train_fit.centered_tss"
   ]
  },
  {
   "cell_type": "markdown",
   "id": "70b1e7c4",
   "metadata": {},
   "source": [
    "\n",
    "but don't! It's already provided:\n"
   ]
  },
  {
   "cell_type": "code",
   "execution_count": 16,
   "id": "25fd509a",
   "metadata": {},
   "outputs": [
    {
     "data": {
      "text/plain": [
       "0.852056831946404"
      ]
     },
     "execution_count": 16,
     "metadata": {},
     "output_type": "execute_result"
    }
   ],
   "source": [
    "train_fit.rsquared"
   ]
  },
  {
   "cell_type": "markdown",
   "id": "a7b43a6c",
   "metadata": {},
   "source": [
    "### Sharks!\n",
    "\n",
    "The information we need about [cartilaginous fish](https://en.wikipedia.org/wiki/Chondrichthyes) (sharks, rays, skates, sawfish, ghost sharks) comes from the [IUCN Red List](https://www.iucnredlist.org/):"
   ]
  },
  {
   "cell_type": "code",
   "execution_count": 17,
   "id": "fc9c919a",
   "metadata": {},
   "outputs": [
    {
     "data": {
      "text/html": [
       "<div>\n",
       "<style scoped>\n",
       "    .dataframe tbody tr th:only-of-type {\n",
       "        vertical-align: middle;\n",
       "    }\n",
       "\n",
       "    .dataframe tbody tr th {\n",
       "        vertical-align: top;\n",
       "    }\n",
       "\n",
       "    .dataframe thead th {\n",
       "        text-align: right;\n",
       "    }\n",
       "</style>\n",
       "<table border=\"1\" class=\"dataframe\">\n",
       "  <thead>\n",
       "    <tr style=\"text-align: right;\">\n",
       "      <th></th>\n",
       "      <th>Species</th>\n",
       "      <th>Category</th>\n",
       "    </tr>\n",
       "  </thead>\n",
       "  <tbody>\n",
       "    <tr>\n",
       "      <th>0</th>\n",
       "      <td>Hexanchus griseus</td>\n",
       "      <td>Near Threatened</td>\n",
       "    </tr>\n",
       "    <tr>\n",
       "      <th>1</th>\n",
       "      <td>Lamna nasus</td>\n",
       "      <td>Vulnerable</td>\n",
       "    </tr>\n",
       "    <tr>\n",
       "      <th>2</th>\n",
       "      <td>Leucoraja lentiginosa</td>\n",
       "      <td>Least Concern</td>\n",
       "    </tr>\n",
       "    <tr>\n",
       "      <th>3</th>\n",
       "      <td>Dactylobatus clarkii</td>\n",
       "      <td>Least Concern</td>\n",
       "    </tr>\n",
       "    <tr>\n",
       "      <th>4</th>\n",
       "      <td>Pseudobatos percellens</td>\n",
       "      <td>Endangered</td>\n",
       "    </tr>\n",
       "    <tr>\n",
       "      <th>...</th>\n",
       "      <td>...</td>\n",
       "      <td>...</td>\n",
       "    </tr>\n",
       "    <tr>\n",
       "      <th>1181</th>\n",
       "      <td>Squatina californica</td>\n",
       "      <td>Near Threatened</td>\n",
       "    </tr>\n",
       "    <tr>\n",
       "      <th>1182</th>\n",
       "      <td>Urogymnus granulatus</td>\n",
       "      <td>Vulnerable</td>\n",
       "    </tr>\n",
       "    <tr>\n",
       "      <th>1183</th>\n",
       "      <td>Dipturus lamillai</td>\n",
       "      <td>Least Concern</td>\n",
       "    </tr>\n",
       "    <tr>\n",
       "      <th>1184</th>\n",
       "      <td>Hypanus berthalutzae</td>\n",
       "      <td>Vulnerable</td>\n",
       "    </tr>\n",
       "    <tr>\n",
       "      <th>1185</th>\n",
       "      <td>Callorhinchus capensis</td>\n",
       "      <td>Least Concern</td>\n",
       "    </tr>\n",
       "  </tbody>\n",
       "</table>\n",
       "<p>1186 rows × 2 columns</p>\n",
       "</div>"
      ],
      "text/plain": [
       "                     Species         Category\n",
       "0          Hexanchus griseus  Near Threatened\n",
       "1                Lamna nasus       Vulnerable\n",
       "2      Leucoraja lentiginosa    Least Concern\n",
       "3       Dactylobatus clarkii    Least Concern\n",
       "4     Pseudobatos percellens       Endangered\n",
       "...                      ...              ...\n",
       "1181    Squatina californica  Near Threatened\n",
       "1182    Urogymnus granulatus       Vulnerable\n",
       "1183       Dipturus lamillai    Least Concern\n",
       "1184    Hypanus berthalutzae       Vulnerable\n",
       "1185  Callorhinchus capensis    Least Concern\n",
       "\n",
       "[1186 rows x 2 columns]"
      ]
     },
     "execution_count": 17,
     "metadata": {},
     "output_type": "execute_result"
    }
   ],
   "source": [
    "sharks = pd.read_csv(\"chondrichthyes.csv\")\n",
    "sharks"
   ]
  },
  {
   "cell_type": "code",
   "execution_count": 18,
   "id": "865fff04",
   "metadata": {},
   "outputs": [
    {
     "data": {
      "text/html": [
       "<div>\n",
       "<style scoped>\n",
       "    .dataframe tbody tr th:only-of-type {\n",
       "        vertical-align: middle;\n",
       "    }\n",
       "\n",
       "    .dataframe tbody tr th {\n",
       "        vertical-align: top;\n",
       "    }\n",
       "\n",
       "    .dataframe thead th {\n",
       "        text-align: right;\n",
       "    }\n",
       "</style>\n",
       "<table border=\"1\" class=\"dataframe\">\n",
       "  <thead>\n",
       "    <tr style=\"text-align: right;\">\n",
       "      <th></th>\n",
       "      <th>Species</th>\n",
       "      <th>Category</th>\n",
       "      <th>Length</th>\n",
       "      <th>Weight</th>\n",
       "    </tr>\n",
       "  </thead>\n",
       "  <tbody>\n",
       "    <tr>\n",
       "      <th>0</th>\n",
       "      <td>Hexanchus griseus</td>\n",
       "      <td>Near Threatened</td>\n",
       "      <td>482.0</td>\n",
       "      <td>590000.0</td>\n",
       "    </tr>\n",
       "    <tr>\n",
       "      <th>1</th>\n",
       "      <td>Lamna nasus</td>\n",
       "      <td>Vulnerable</td>\n",
       "      <td>350.0</td>\n",
       "      <td>230000.0</td>\n",
       "    </tr>\n",
       "    <tr>\n",
       "      <th>2</th>\n",
       "      <td>Leucoraja lentiginosa</td>\n",
       "      <td>Least Concern</td>\n",
       "      <td>43.0</td>\n",
       "      <td>NaN</td>\n",
       "    </tr>\n",
       "    <tr>\n",
       "      <th>3</th>\n",
       "      <td>Dactylobatus clarkii</td>\n",
       "      <td>Least Concern</td>\n",
       "      <td>59.0</td>\n",
       "      <td>NaN</td>\n",
       "    </tr>\n",
       "    <tr>\n",
       "      <th>4</th>\n",
       "      <td>Pseudobatos percellens</td>\n",
       "      <td>Endangered</td>\n",
       "      <td>100.0</td>\n",
       "      <td>955.1</td>\n",
       "    </tr>\n",
       "    <tr>\n",
       "      <th>...</th>\n",
       "      <td>...</td>\n",
       "      <td>...</td>\n",
       "      <td>...</td>\n",
       "      <td>...</td>\n",
       "    </tr>\n",
       "    <tr>\n",
       "      <th>1181</th>\n",
       "      <td>Squatina californica</td>\n",
       "      <td>Near Threatened</td>\n",
       "      <td>152.0</td>\n",
       "      <td>NaN</td>\n",
       "    </tr>\n",
       "    <tr>\n",
       "      <th>1182</th>\n",
       "      <td>Urogymnus granulatus</td>\n",
       "      <td>Vulnerable</td>\n",
       "      <td>141.0</td>\n",
       "      <td>NaN</td>\n",
       "    </tr>\n",
       "    <tr>\n",
       "      <th>1183</th>\n",
       "      <td>Dipturus lamillai</td>\n",
       "      <td>Least Concern</td>\n",
       "      <td>NaN</td>\n",
       "      <td>NaN</td>\n",
       "    </tr>\n",
       "    <tr>\n",
       "      <th>1184</th>\n",
       "      <td>Hypanus berthalutzae</td>\n",
       "      <td>Vulnerable</td>\n",
       "      <td>NaN</td>\n",
       "      <td>NaN</td>\n",
       "    </tr>\n",
       "    <tr>\n",
       "      <th>1185</th>\n",
       "      <td>Callorhinchus capensis</td>\n",
       "      <td>Least Concern</td>\n",
       "      <td>122.0</td>\n",
       "      <td>5250.0</td>\n",
       "    </tr>\n",
       "  </tbody>\n",
       "</table>\n",
       "<p>1186 rows × 4 columns</p>\n",
       "</div>"
      ],
      "text/plain": [
       "                     Species         Category  Length    Weight\n",
       "0          Hexanchus griseus  Near Threatened   482.0  590000.0\n",
       "1                Lamna nasus       Vulnerable   350.0  230000.0\n",
       "2      Leucoraja lentiginosa    Least Concern    43.0       NaN\n",
       "3       Dactylobatus clarkii    Least Concern    59.0       NaN\n",
       "4     Pseudobatos percellens       Endangered   100.0     955.1\n",
       "...                      ...              ...     ...       ...\n",
       "1181    Squatina californica  Near Threatened   152.0       NaN\n",
       "1182    Urogymnus granulatus       Vulnerable   141.0       NaN\n",
       "1183       Dipturus lamillai    Least Concern     NaN       NaN\n",
       "1184    Hypanus berthalutzae       Vulnerable     NaN       NaN\n",
       "1185  Callorhinchus capensis    Least Concern   122.0    5250.0\n",
       "\n",
       "[1186 rows x 4 columns]"
      ]
     },
     "execution_count": 18,
     "metadata": {},
     "output_type": "execute_result"
    }
   ],
   "source": [
    "sharks = sharks.join( fish.set_index(\"Species\"), on=\"Species\")\n",
    "sharks"
   ]
  },
  {
   "cell_type": "code",
   "execution_count": 19,
   "id": "dea1994e",
   "metadata": {},
   "outputs": [
    {
     "data": {
      "text/html": [
       "<div>\n",
       "<style scoped>\n",
       "    .dataframe tbody tr th:only-of-type {\n",
       "        vertical-align: middle;\n",
       "    }\n",
       "\n",
       "    .dataframe tbody tr th {\n",
       "        vertical-align: top;\n",
       "    }\n",
       "\n",
       "    .dataframe thead th {\n",
       "        text-align: right;\n",
       "    }\n",
       "</style>\n",
       "<table border=\"1\" class=\"dataframe\">\n",
       "  <thead>\n",
       "    <tr style=\"text-align: right;\">\n",
       "      <th></th>\n",
       "      <th>Species</th>\n",
       "      <th>Category</th>\n",
       "      <th>Length</th>\n",
       "      <th>Weight</th>\n",
       "    </tr>\n",
       "  </thead>\n",
       "  <tbody>\n",
       "    <tr>\n",
       "      <th>0</th>\n",
       "      <td>Hexanchus griseus</td>\n",
       "      <td>Near Threatened</td>\n",
       "      <td>482.0</td>\n",
       "      <td>590000.0</td>\n",
       "    </tr>\n",
       "    <tr>\n",
       "      <th>1</th>\n",
       "      <td>Lamna nasus</td>\n",
       "      <td>Vulnerable</td>\n",
       "      <td>350.0</td>\n",
       "      <td>230000.0</td>\n",
       "    </tr>\n",
       "    <tr>\n",
       "      <th>2</th>\n",
       "      <td>Leucoraja lentiginosa</td>\n",
       "      <td>Least Concern</td>\n",
       "      <td>43.0</td>\n",
       "      <td>NaN</td>\n",
       "    </tr>\n",
       "    <tr>\n",
       "      <th>3</th>\n",
       "      <td>Dactylobatus clarkii</td>\n",
       "      <td>Least Concern</td>\n",
       "      <td>59.0</td>\n",
       "      <td>NaN</td>\n",
       "    </tr>\n",
       "    <tr>\n",
       "      <th>4</th>\n",
       "      <td>Pseudobatos percellens</td>\n",
       "      <td>Endangered</td>\n",
       "      <td>100.0</td>\n",
       "      <td>955.1</td>\n",
       "    </tr>\n",
       "    <tr>\n",
       "      <th>...</th>\n",
       "      <td>...</td>\n",
       "      <td>...</td>\n",
       "      <td>...</td>\n",
       "      <td>...</td>\n",
       "    </tr>\n",
       "    <tr>\n",
       "      <th>1179</th>\n",
       "      <td>Pateobatis jenkinsii</td>\n",
       "      <td>Vulnerable</td>\n",
       "      <td>130.0</td>\n",
       "      <td>NaN</td>\n",
       "    </tr>\n",
       "    <tr>\n",
       "      <th>1180</th>\n",
       "      <td>Pristiophorus cirratus</td>\n",
       "      <td>Least Concern</td>\n",
       "      <td>137.0</td>\n",
       "      <td>NaN</td>\n",
       "    </tr>\n",
       "    <tr>\n",
       "      <th>1181</th>\n",
       "      <td>Squatina californica</td>\n",
       "      <td>Near Threatened</td>\n",
       "      <td>152.0</td>\n",
       "      <td>NaN</td>\n",
       "    </tr>\n",
       "    <tr>\n",
       "      <th>1182</th>\n",
       "      <td>Urogymnus granulatus</td>\n",
       "      <td>Vulnerable</td>\n",
       "      <td>141.0</td>\n",
       "      <td>NaN</td>\n",
       "    </tr>\n",
       "    <tr>\n",
       "      <th>1185</th>\n",
       "      <td>Callorhinchus capensis</td>\n",
       "      <td>Least Concern</td>\n",
       "      <td>122.0</td>\n",
       "      <td>5250.0</td>\n",
       "    </tr>\n",
       "  </tbody>\n",
       "</table>\n",
       "<p>809 rows × 4 columns</p>\n",
       "</div>"
      ],
      "text/plain": [
       "                     Species         Category  Length    Weight\n",
       "0          Hexanchus griseus  Near Threatened   482.0  590000.0\n",
       "1                Lamna nasus       Vulnerable   350.0  230000.0\n",
       "2      Leucoraja lentiginosa    Least Concern    43.0       NaN\n",
       "3       Dactylobatus clarkii    Least Concern    59.0       NaN\n",
       "4     Pseudobatos percellens       Endangered   100.0     955.1\n",
       "...                      ...              ...     ...       ...\n",
       "1179    Pateobatis jenkinsii       Vulnerable   130.0       NaN\n",
       "1180  Pristiophorus cirratus    Least Concern   137.0       NaN\n",
       "1181    Squatina californica  Near Threatened   152.0       NaN\n",
       "1182    Urogymnus granulatus       Vulnerable   141.0       NaN\n",
       "1185  Callorhinchus capensis    Least Concern   122.0    5250.0\n",
       "\n",
       "[809 rows x 4 columns]"
      ]
     },
     "execution_count": 19,
     "metadata": {},
     "output_type": "execute_result"
    }
   ],
   "source": [
    "sharks = sharks[ sharks.Length.notna() ]\n",
    "sharks = sharks[ sharks.Category != \"Data Deficient\" ]\n",
    "sharks"
   ]
  },
  {
   "cell_type": "markdown",
   "id": "6ce33f90",
   "metadata": {},
   "source": [
    "### Data imputation\n",
    "\n",
    "Use the power law relationship to _impute_ the missing weights:\n"
   ]
  },
  {
   "cell_type": "code",
   "execution_count": 20,
   "id": "a8c9cfa0",
   "metadata": {},
   "outputs": [
    {
     "data": {
      "text/html": [
       "<div>\n",
       "<style scoped>\n",
       "    .dataframe tbody tr th:only-of-type {\n",
       "        vertical-align: middle;\n",
       "    }\n",
       "\n",
       "    .dataframe tbody tr th {\n",
       "        vertical-align: top;\n",
       "    }\n",
       "\n",
       "    .dataframe thead th {\n",
       "        text-align: right;\n",
       "    }\n",
       "</style>\n",
       "<table border=\"1\" class=\"dataframe\">\n",
       "  <thead>\n",
       "    <tr style=\"text-align: right;\">\n",
       "      <th></th>\n",
       "      <th>Species</th>\n",
       "      <th>Category</th>\n",
       "      <th>Length</th>\n",
       "      <th>Weight</th>\n",
       "    </tr>\n",
       "  </thead>\n",
       "  <tbody>\n",
       "    <tr>\n",
       "      <th>0</th>\n",
       "      <td>Hexanchus griseus</td>\n",
       "      <td>Near Threatened</td>\n",
       "      <td>482.0</td>\n",
       "      <td>590000.000000</td>\n",
       "    </tr>\n",
       "    <tr>\n",
       "      <th>1</th>\n",
       "      <td>Lamna nasus</td>\n",
       "      <td>Vulnerable</td>\n",
       "      <td>350.0</td>\n",
       "      <td>230000.000000</td>\n",
       "    </tr>\n",
       "    <tr>\n",
       "      <th>2</th>\n",
       "      <td>Leucoraja lentiginosa</td>\n",
       "      <td>Least Concern</td>\n",
       "      <td>43.0</td>\n",
       "      <td>863.950740</td>\n",
       "    </tr>\n",
       "    <tr>\n",
       "      <th>3</th>\n",
       "      <td>Dactylobatus clarkii</td>\n",
       "      <td>Least Concern</td>\n",
       "      <td>59.0</td>\n",
       "      <td>2017.563809</td>\n",
       "    </tr>\n",
       "    <tr>\n",
       "      <th>4</th>\n",
       "      <td>Pseudobatos percellens</td>\n",
       "      <td>Endangered</td>\n",
       "      <td>100.0</td>\n",
       "      <td>955.100000</td>\n",
       "    </tr>\n",
       "    <tr>\n",
       "      <th>...</th>\n",
       "      <td>...</td>\n",
       "      <td>...</td>\n",
       "      <td>...</td>\n",
       "      <td>...</td>\n",
       "    </tr>\n",
       "    <tr>\n",
       "      <th>1179</th>\n",
       "      <td>Pateobatis jenkinsii</td>\n",
       "      <td>Vulnerable</td>\n",
       "      <td>130.0</td>\n",
       "      <td>16775.968002</td>\n",
       "    </tr>\n",
       "    <tr>\n",
       "      <th>1180</th>\n",
       "      <td>Pristiophorus cirratus</td>\n",
       "      <td>Least Concern</td>\n",
       "      <td>137.0</td>\n",
       "      <td>19308.807587</td>\n",
       "    </tr>\n",
       "    <tr>\n",
       "      <th>1181</th>\n",
       "      <td>Squatina californica</td>\n",
       "      <td>Near Threatened</td>\n",
       "      <td>152.0</td>\n",
       "      <td>25511.414447</td>\n",
       "    </tr>\n",
       "    <tr>\n",
       "      <th>1182</th>\n",
       "      <td>Urogymnus granulatus</td>\n",
       "      <td>Vulnerable</td>\n",
       "      <td>141.0</td>\n",
       "      <td>20857.643324</td>\n",
       "    </tr>\n",
       "    <tr>\n",
       "      <th>1185</th>\n",
       "      <td>Callorhinchus capensis</td>\n",
       "      <td>Least Concern</td>\n",
       "      <td>122.0</td>\n",
       "      <td>5250.000000</td>\n",
       "    </tr>\n",
       "  </tbody>\n",
       "</table>\n",
       "<p>809 rows × 4 columns</p>\n",
       "</div>"
      ],
      "text/plain": [
       "                     Species         Category  Length         Weight\n",
       "0          Hexanchus griseus  Near Threatened   482.0  590000.000000\n",
       "1                Lamna nasus       Vulnerable   350.0  230000.000000\n",
       "2      Leucoraja lentiginosa    Least Concern    43.0     863.950740\n",
       "3       Dactylobatus clarkii    Least Concern    59.0    2017.563809\n",
       "4     Pseudobatos percellens       Endangered   100.0     955.100000\n",
       "...                      ...              ...     ...            ...\n",
       "1179    Pateobatis jenkinsii       Vulnerable   130.0   16775.968002\n",
       "1180  Pristiophorus cirratus    Least Concern   137.0   19308.807587\n",
       "1181    Squatina californica  Near Threatened   152.0   25511.414447\n",
       "1182    Urogymnus granulatus       Vulnerable   141.0   20857.643324\n",
       "1185  Callorhinchus capensis    Least Concern   122.0    5250.000000\n",
       "\n",
       "[809 rows x 4 columns]"
      ]
     },
     "execution_count": 20,
     "metadata": {},
     "output_type": "execute_result"
    }
   ],
   "source": [
    "imp = np.exp( train_fit.params.Intercept )*np.power( sharks.Length, train_fit.params.LogLength )\n",
    "sharks.Weight = sharks.Weight.where( sharks.Weight.notna(), imp )\n",
    "sharks"
   ]
  },
  {
   "cell_type": "code",
   "execution_count": 21,
   "id": "befd55cf",
   "metadata": {},
   "outputs": [],
   "source": [
    "sharks = sharks.assign(LogLength = np.log(sharks.Length), \n",
    "                       LogWeight = np.log(sharks.Weight))"
   ]
  },
  {
   "cell_type": "code",
   "execution_count": 22,
   "id": "2d1733c8",
   "metadata": {},
   "outputs": [
    {
     "data": {
      "text/plain": [
       "Text(0.5, 1.0, 'Log(Weight) versus Log(Length) for sharks')"
      ]
     },
     "execution_count": 22,
     "metadata": {},
     "output_type": "execute_result"
    },
    {
     "data": {
      "image/png": "[encoded data removed]",
      "text/plain": [
       "<Figure size 576x576 with 1 Axes>"
      ]
     },
     "metadata": {},
     "output_type": "display_data"
    }
   ],
   "source": [
    "sns.scatterplot( data=sharks, x=\"LogLength\", y=\"LogWeight\")\n",
    "plt.title(\"Log(Weight) versus Log(Length) for sharks\")"
   ]
  },
  {
   "cell_type": "code",
   "execution_count": 23,
   "id": "46d3f1fa",
   "metadata": {},
   "outputs": [
    {
     "data": {
      "text/html": [
       "<div>\n",
       "<style scoped>\n",
       "    .dataframe tbody tr th:only-of-type {\n",
       "        vertical-align: middle;\n",
       "    }\n",
       "\n",
       "    .dataframe tbody tr th {\n",
       "        vertical-align: top;\n",
       "    }\n",
       "\n",
       "    .dataframe thead th {\n",
       "        text-align: right;\n",
       "    }\n",
       "</style>\n",
       "<table border=\"1\" class=\"dataframe\">\n",
       "  <thead>\n",
       "    <tr style=\"text-align: right;\">\n",
       "      <th></th>\n",
       "      <th>Species</th>\n",
       "      <th>Category</th>\n",
       "      <th>Length</th>\n",
       "      <th>Weight</th>\n",
       "      <th>LogLength</th>\n",
       "      <th>LogWeight</th>\n",
       "    </tr>\n",
       "  </thead>\n",
       "  <tbody>\n",
       "    <tr>\n",
       "      <th>0</th>\n",
       "      <td>Hexanchus griseus</td>\n",
       "      <td>Near Threatened</td>\n",
       "      <td>482.0</td>\n",
       "      <td>590000.000000</td>\n",
       "      <td>6.177944</td>\n",
       "      <td>13.287878</td>\n",
       "    </tr>\n",
       "    <tr>\n",
       "      <th>1</th>\n",
       "      <td>Lamna nasus</td>\n",
       "      <td>Vulnerable</td>\n",
       "      <td>350.0</td>\n",
       "      <td>230000.000000</td>\n",
       "      <td>5.857933</td>\n",
       "      <td>12.345835</td>\n",
       "    </tr>\n",
       "    <tr>\n",
       "      <th>2</th>\n",
       "      <td>Leucoraja lentiginosa</td>\n",
       "      <td>Least Concern</td>\n",
       "      <td>43.0</td>\n",
       "      <td>863.950740</td>\n",
       "      <td>3.761200</td>\n",
       "      <td>6.761516</td>\n",
       "    </tr>\n",
       "    <tr>\n",
       "      <th>3</th>\n",
       "      <td>Dactylobatus clarkii</td>\n",
       "      <td>Least Concern</td>\n",
       "      <td>59.0</td>\n",
       "      <td>2017.563809</td>\n",
       "      <td>4.077537</td>\n",
       "      <td>7.609646</td>\n",
       "    </tr>\n",
       "    <tr>\n",
       "      <th>4</th>\n",
       "      <td>Pseudobatos percellens</td>\n",
       "      <td>Endangered</td>\n",
       "      <td>100.0</td>\n",
       "      <td>955.100000</td>\n",
       "      <td>4.605170</td>\n",
       "      <td>6.861816</td>\n",
       "    </tr>\n",
       "    <tr>\n",
       "      <th>...</th>\n",
       "      <td>...</td>\n",
       "      <td>...</td>\n",
       "      <td>...</td>\n",
       "      <td>...</td>\n",
       "      <td>...</td>\n",
       "      <td>...</td>\n",
       "    </tr>\n",
       "    <tr>\n",
       "      <th>1179</th>\n",
       "      <td>Pateobatis jenkinsii</td>\n",
       "      <td>Vulnerable</td>\n",
       "      <td>130.0</td>\n",
       "      <td>16775.968002</td>\n",
       "      <td>4.867534</td>\n",
       "      <td>9.727703</td>\n",
       "    </tr>\n",
       "    <tr>\n",
       "      <th>1180</th>\n",
       "      <td>Pristiophorus cirratus</td>\n",
       "      <td>Least Concern</td>\n",
       "      <td>137.0</td>\n",
       "      <td>19308.807587</td>\n",
       "      <td>4.919981</td>\n",
       "      <td>9.868317</td>\n",
       "    </tr>\n",
       "    <tr>\n",
       "      <th>1181</th>\n",
       "      <td>Squatina californica</td>\n",
       "      <td>Near Threatened</td>\n",
       "      <td>152.0</td>\n",
       "      <td>25511.414447</td>\n",
       "      <td>5.023881</td>\n",
       "      <td>10.146881</td>\n",
       "    </tr>\n",
       "    <tr>\n",
       "      <th>1182</th>\n",
       "      <td>Urogymnus granulatus</td>\n",
       "      <td>Vulnerable</td>\n",
       "      <td>141.0</td>\n",
       "      <td>20857.643324</td>\n",
       "      <td>4.948760</td>\n",
       "      <td>9.945476</td>\n",
       "    </tr>\n",
       "    <tr>\n",
       "      <th>1185</th>\n",
       "      <td>Callorhinchus capensis</td>\n",
       "      <td>Least Concern</td>\n",
       "      <td>122.0</td>\n",
       "      <td>5250.000000</td>\n",
       "      <td>4.804021</td>\n",
       "      <td>8.565983</td>\n",
       "    </tr>\n",
       "  </tbody>\n",
       "</table>\n",
       "<p>809 rows × 6 columns</p>\n",
       "</div>"
      ],
      "text/plain": [
       "                     Species         Category  Length         Weight  \\\n",
       "0          Hexanchus griseus  Near Threatened   482.0  590000.000000   \n",
       "1                Lamna nasus       Vulnerable   350.0  230000.000000   \n",
       "2      Leucoraja lentiginosa    Least Concern    43.0     863.950740   \n",
       "3       Dactylobatus clarkii    Least Concern    59.0    2017.563809   \n",
       "4     Pseudobatos percellens       Endangered   100.0     955.100000   \n",
       "...                      ...              ...     ...            ...   \n",
       "1179    Pateobatis jenkinsii       Vulnerable   130.0   16775.968002   \n",
       "1180  Pristiophorus cirratus    Least Concern   137.0   19308.807587   \n",
       "1181    Squatina californica  Near Threatened   152.0   25511.414447   \n",
       "1182    Urogymnus granulatus       Vulnerable   141.0   20857.643324   \n",
       "1185  Callorhinchus capensis    Least Concern   122.0    5250.000000   \n",
       "\n",
       "      LogLength  LogWeight  \n",
       "0      6.177944  13.287878  \n",
       "1      5.857933  12.345835  \n",
       "2      3.761200   6.761516  \n",
       "3      4.077537   7.609646  \n",
       "4      4.605170   6.861816  \n",
       "...         ...        ...  \n",
       "1179   4.867534   9.727703  \n",
       "1180   4.919981   9.868317  \n",
       "1181   5.023881  10.146881  \n",
       "1182   4.948760   9.945476  \n",
       "1185   4.804021   8.565983  \n",
       "\n",
       "[809 rows x 6 columns]"
      ]
     },
     "execution_count": 23,
     "metadata": {},
     "output_type": "execute_result"
    }
   ],
   "source": [
    "sharks"
   ]
  },
  {
   "cell_type": "code",
   "execution_count": 24,
   "id": "9327bcdd",
   "metadata": {},
   "outputs": [],
   "source": [
    "threatened = [\"Critically Endangered\",\"Endangered\",\"Vulnerable\"]"
   ]
  },
  {
   "cell_type": "code",
   "execution_count": 25,
   "id": "47f30f18",
   "metadata": {},
   "outputs": [
    {
     "data": {
      "text/html": [
       "<div>\n",
       "<style scoped>\n",
       "    .dataframe tbody tr th:only-of-type {\n",
       "        vertical-align: middle;\n",
       "    }\n",
       "\n",
       "    .dataframe tbody tr th {\n",
       "        vertical-align: top;\n",
       "    }\n",
       "\n",
       "    .dataframe thead th {\n",
       "        text-align: right;\n",
       "    }\n",
       "</style>\n",
       "<table border=\"1\" class=\"dataframe\">\n",
       "  <thead>\n",
       "    <tr style=\"text-align: right;\">\n",
       "      <th></th>\n",
       "      <th>Species</th>\n",
       "      <th>Length</th>\n",
       "      <th>Weight</th>\n",
       "      <th>LogLength</th>\n",
       "      <th>LogWeight</th>\n",
       "      <th>Threatened</th>\n",
       "    </tr>\n",
       "  </thead>\n",
       "  <tbody>\n",
       "    <tr>\n",
       "      <th>0</th>\n",
       "      <td>Hexanchus griseus</td>\n",
       "      <td>482.0</td>\n",
       "      <td>590000.000000</td>\n",
       "      <td>6.177944</td>\n",
       "      <td>13.287878</td>\n",
       "      <td>0</td>\n",
       "    </tr>\n",
       "    <tr>\n",
       "      <th>1</th>\n",
       "      <td>Lamna nasus</td>\n",
       "      <td>350.0</td>\n",
       "      <td>230000.000000</td>\n",
       "      <td>5.857933</td>\n",
       "      <td>12.345835</td>\n",
       "      <td>1</td>\n",
       "    </tr>\n",
       "    <tr>\n",
       "      <th>2</th>\n",
       "      <td>Leucoraja lentiginosa</td>\n",
       "      <td>43.0</td>\n",
       "      <td>863.950740</td>\n",
       "      <td>3.761200</td>\n",
       "      <td>6.761516</td>\n",
       "      <td>0</td>\n",
       "    </tr>\n",
       "    <tr>\n",
       "      <th>3</th>\n",
       "      <td>Dactylobatus clarkii</td>\n",
       "      <td>59.0</td>\n",
       "      <td>2017.563809</td>\n",
       "      <td>4.077537</td>\n",
       "      <td>7.609646</td>\n",
       "      <td>0</td>\n",
       "    </tr>\n",
       "    <tr>\n",
       "      <th>4</th>\n",
       "      <td>Pseudobatos percellens</td>\n",
       "      <td>100.0</td>\n",
       "      <td>955.100000</td>\n",
       "      <td>4.605170</td>\n",
       "      <td>6.861816</td>\n",
       "      <td>1</td>\n",
       "    </tr>\n",
       "    <tr>\n",
       "      <th>...</th>\n",
       "      <td>...</td>\n",
       "      <td>...</td>\n",
       "      <td>...</td>\n",
       "      <td>...</td>\n",
       "      <td>...</td>\n",
       "      <td>...</td>\n",
       "    </tr>\n",
       "    <tr>\n",
       "      <th>1179</th>\n",
       "      <td>Pateobatis jenkinsii</td>\n",
       "      <td>130.0</td>\n",
       "      <td>16775.968002</td>\n",
       "      <td>4.867534</td>\n",
       "      <td>9.727703</td>\n",
       "      <td>1</td>\n",
       "    </tr>\n",
       "    <tr>\n",
       "      <th>1180</th>\n",
       "      <td>Pristiophorus cirratus</td>\n",
       "      <td>137.0</td>\n",
       "      <td>19308.807587</td>\n",
       "      <td>4.919981</td>\n",
       "      <td>9.868317</td>\n",
       "      <td>0</td>\n",
       "    </tr>\n",
       "    <tr>\n",
       "      <th>1181</th>\n",
       "      <td>Squatina californica</td>\n",
       "      <td>152.0</td>\n",
       "      <td>25511.414447</td>\n",
       "      <td>5.023881</td>\n",
       "      <td>10.146881</td>\n",
       "      <td>0</td>\n",
       "    </tr>\n",
       "    <tr>\n",
       "      <th>1182</th>\n",
       "      <td>Urogymnus granulatus</td>\n",
       "      <td>141.0</td>\n",
       "      <td>20857.643324</td>\n",
       "      <td>4.948760</td>\n",
       "      <td>9.945476</td>\n",
       "      <td>1</td>\n",
       "    </tr>\n",
       "    <tr>\n",
       "      <th>1185</th>\n",
       "      <td>Callorhinchus capensis</td>\n",
       "      <td>122.0</td>\n",
       "      <td>5250.000000</td>\n",
       "      <td>4.804021</td>\n",
       "      <td>8.565983</td>\n",
       "      <td>0</td>\n",
       "    </tr>\n",
       "  </tbody>\n",
       "</table>\n",
       "<p>809 rows × 6 columns</p>\n",
       "</div>"
      ],
      "text/plain": [
       "                     Species  Length         Weight  LogLength  LogWeight  \\\n",
       "0          Hexanchus griseus   482.0  590000.000000   6.177944  13.287878   \n",
       "1                Lamna nasus   350.0  230000.000000   5.857933  12.345835   \n",
       "2      Leucoraja lentiginosa    43.0     863.950740   3.761200   6.761516   \n",
       "3       Dactylobatus clarkii    59.0    2017.563809   4.077537   7.609646   \n",
       "4     Pseudobatos percellens   100.0     955.100000   4.605170   6.861816   \n",
       "...                      ...     ...            ...        ...        ...   \n",
       "1179    Pateobatis jenkinsii   130.0   16775.968002   4.867534   9.727703   \n",
       "1180  Pristiophorus cirratus   137.0   19308.807587   4.919981   9.868317   \n",
       "1181    Squatina californica   152.0   25511.414447   5.023881  10.146881   \n",
       "1182    Urogymnus granulatus   141.0   20857.643324   4.948760   9.945476   \n",
       "1185  Callorhinchus capensis   122.0    5250.000000   4.804021   8.565983   \n",
       "\n",
       "      Threatened  \n",
       "0              0  \n",
       "1              1  \n",
       "2              0  \n",
       "3              0  \n",
       "4              1  \n",
       "...          ...  \n",
       "1179           1  \n",
       "1180           0  \n",
       "1181           0  \n",
       "1182           1  \n",
       "1185           0  \n",
       "\n",
       "[809 rows x 6 columns]"
      ]
     },
     "execution_count": 25,
     "metadata": {},
     "output_type": "execute_result"
    }
   ],
   "source": [
    "sharks[\"Threatened\"] = sharks[\"Category\"].isin( threatened ).astype('int')\n",
    "sharks = sharks.drop(columns = \"Category\")\n",
    "sharks"
   ]
  },
  {
   "cell_type": "code",
   "execution_count": 26,
   "id": "808100da",
   "metadata": {},
   "outputs": [
    {
     "data": {
      "text/plain": [
       "0.34610630407911"
      ]
     },
     "execution_count": 26,
     "metadata": {},
     "output_type": "execute_result"
    }
   ],
   "source": [
    "null_prob = np.mean(sharks[\"Threatened\"])\n",
    "null_prob"
   ]
  },
  {
   "cell_type": "code",
   "execution_count": 27,
   "id": "688094ad",
   "metadata": {},
   "outputs": [
    {
     "data": {
      "text/plain": [
       "Intercept   -3.173571\n",
       "LogWeight    0.293120\n",
       "dtype: float64"
      ]
     },
     "execution_count": 27,
     "metadata": {},
     "output_type": "execute_result"
    }
   ],
   "source": [
    "sharks_model = smf.glm(\"Threatened ~ LogWeight\", data=sharks, family=sm.families.Binomial())\n",
    "sharks_fit = sharks_model.fit()\n",
    "sharks_fit.params"
   ]
  },
  {
   "cell_type": "markdown",
   "id": "6130e58e",
   "metadata": {},
   "source": [
    "- For logistic models, the _deviance_ is analogous to the sum of squared residuals in linear regression analysis. \n",
    "\n",
    "- The _likelihood ratio statistic_ compares the deviances of the simple logistic model and the null model and is analogous to the coefficient of determination.  \n",
    "\n",
    "- Unlike the coefficient of determination, the likelihood ration statistic defies easy interpretation. It's easy to gauge its size, though, as it is a $\\chi^2$ statistic with $df=1$ (_why_ this is true is another story...)."
   ]
  },
  {
   "cell_type": "code",
   "execution_count": 28,
   "id": "a78e25f4",
   "metadata": {},
   "outputs": [
    {
     "data": {
      "text/plain": [
       "8.770761894538737e-15"
      ]
     },
     "execution_count": 28,
     "metadata": {},
     "output_type": "execute_result"
    }
   ],
   "source": [
    "1 - chi2.cdf(sharks_fit.null_deviance - sharks_fit.deviance, df=1)"
   ]
  },
  {
   "cell_type": "markdown",
   "id": "a4d9e678",
   "metadata": {},
   "source": [
    "\n",
    "This is astronomically small -- the logistic model that includes `LogLength` is better than the null model that ignores it!\n",
    "\n",
    "And if we plot the results, things look pretty good:\n"
   ]
  },
  {
   "cell_type": "code",
   "execution_count": 29,
   "id": "a3175fcd",
   "metadata": {},
   "outputs": [
    {
     "data": {
      "image/png": "[encoded data removed]",
      "text/plain": [
       "<Figure size 576x576 with 1 Axes>"
      ]
     },
     "metadata": {},
     "output_type": "display_data"
    }
   ],
   "source": [
    "sns.regplot(data=sharks, x=\"LogWeight\", y=\"Threatened\", logistic=True, ci=None)\n",
    "plt.savefig(\"sharks_fit.png\")"
   ]
  },
  {
   "cell_type": "markdown",
   "id": "55ea91e9",
   "metadata": {},
   "source": [
    "### Model assessment \n",
    "\n",
    "Ripple et al. stop here with this particular model, but they should have assessed it carefully. We'll look at two options.\n"
   ]
  },
  {
   "cell_type": "markdown",
   "id": "185579e9",
   "metadata": {},
   "source": [
    "#### Binary classification and the ROC curve"
   ]
  },
  {
   "cell_type": "code",
   "execution_count": 30,
   "id": "dd742e6a",
   "metadata": {},
   "outputs": [
    {
     "data": {
      "text/html": [
       "<div>\n",
       "<style scoped>\n",
       "    .dataframe tbody tr th:only-of-type {\n",
       "        vertical-align: middle;\n",
       "    }\n",
       "\n",
       "    .dataframe tbody tr th {\n",
       "        vertical-align: top;\n",
       "    }\n",
       "\n",
       "    .dataframe thead th {\n",
       "        text-align: right;\n",
       "    }\n",
       "</style>\n",
       "<table border=\"1\" class=\"dataframe\">\n",
       "  <thead>\n",
       "    <tr style=\"text-align: right;\">\n",
       "      <th></th>\n",
       "      <th>Species</th>\n",
       "      <th>Length</th>\n",
       "      <th>Weight</th>\n",
       "      <th>LogLength</th>\n",
       "      <th>LogWeight</th>\n",
       "      <th>Threatened</th>\n",
       "      <th>Class</th>\n",
       "    </tr>\n",
       "  </thead>\n",
       "  <tbody>\n",
       "    <tr>\n",
       "      <th>0</th>\n",
       "      <td>Hexanchus griseus</td>\n",
       "      <td>482.0</td>\n",
       "      <td>590000.000000</td>\n",
       "      <td>6.177944</td>\n",
       "      <td>13.287878</td>\n",
       "      <td>0</td>\n",
       "      <td>1</td>\n",
       "    </tr>\n",
       "    <tr>\n",
       "      <th>1</th>\n",
       "      <td>Lamna nasus</td>\n",
       "      <td>350.0</td>\n",
       "      <td>230000.000000</td>\n",
       "      <td>5.857933</td>\n",
       "      <td>12.345835</td>\n",
       "      <td>1</td>\n",
       "      <td>1</td>\n",
       "    </tr>\n",
       "    <tr>\n",
       "      <th>2</th>\n",
       "      <td>Leucoraja lentiginosa</td>\n",
       "      <td>43.0</td>\n",
       "      <td>863.950740</td>\n",
       "      <td>3.761200</td>\n",
       "      <td>6.761516</td>\n",
       "      <td>0</td>\n",
       "      <td>0</td>\n",
       "    </tr>\n",
       "    <tr>\n",
       "      <th>3</th>\n",
       "      <td>Dactylobatus clarkii</td>\n",
       "      <td>59.0</td>\n",
       "      <td>2017.563809</td>\n",
       "      <td>4.077537</td>\n",
       "      <td>7.609646</td>\n",
       "      <td>0</td>\n",
       "      <td>0</td>\n",
       "    </tr>\n",
       "    <tr>\n",
       "      <th>4</th>\n",
       "      <td>Pseudobatos percellens</td>\n",
       "      <td>100.0</td>\n",
       "      <td>955.100000</td>\n",
       "      <td>4.605170</td>\n",
       "      <td>6.861816</td>\n",
       "      <td>1</td>\n",
       "      <td>0</td>\n",
       "    </tr>\n",
       "    <tr>\n",
       "      <th>...</th>\n",
       "      <td>...</td>\n",
       "      <td>...</td>\n",
       "      <td>...</td>\n",
       "      <td>...</td>\n",
       "      <td>...</td>\n",
       "      <td>...</td>\n",
       "      <td>...</td>\n",
       "    </tr>\n",
       "    <tr>\n",
       "      <th>1179</th>\n",
       "      <td>Pateobatis jenkinsii</td>\n",
       "      <td>130.0</td>\n",
       "      <td>16775.968002</td>\n",
       "      <td>4.867534</td>\n",
       "      <td>9.727703</td>\n",
       "      <td>1</td>\n",
       "      <td>0</td>\n",
       "    </tr>\n",
       "    <tr>\n",
       "      <th>1180</th>\n",
       "      <td>Pristiophorus cirratus</td>\n",
       "      <td>137.0</td>\n",
       "      <td>19308.807587</td>\n",
       "      <td>4.919981</td>\n",
       "      <td>9.868317</td>\n",
       "      <td>0</td>\n",
       "      <td>0</td>\n",
       "    </tr>\n",
       "    <tr>\n",
       "      <th>1181</th>\n",
       "      <td>Squatina californica</td>\n",
       "      <td>152.0</td>\n",
       "      <td>25511.414447</td>\n",
       "      <td>5.023881</td>\n",
       "      <td>10.146881</td>\n",
       "      <td>0</td>\n",
       "      <td>0</td>\n",
       "    </tr>\n",
       "    <tr>\n",
       "      <th>1182</th>\n",
       "      <td>Urogymnus granulatus</td>\n",
       "      <td>141.0</td>\n",
       "      <td>20857.643324</td>\n",
       "      <td>4.948760</td>\n",
       "      <td>9.945476</td>\n",
       "      <td>1</td>\n",
       "      <td>0</td>\n",
       "    </tr>\n",
       "    <tr>\n",
       "      <th>1185</th>\n",
       "      <td>Callorhinchus capensis</td>\n",
       "      <td>122.0</td>\n",
       "      <td>5250.000000</td>\n",
       "      <td>4.804021</td>\n",
       "      <td>8.565983</td>\n",
       "      <td>0</td>\n",
       "      <td>0</td>\n",
       "    </tr>\n",
       "  </tbody>\n",
       "</table>\n",
       "<p>809 rows × 7 columns</p>\n",
       "</div>"
      ],
      "text/plain": [
       "                     Species  Length         Weight  LogLength  LogWeight  \\\n",
       "0          Hexanchus griseus   482.0  590000.000000   6.177944  13.287878   \n",
       "1                Lamna nasus   350.0  230000.000000   5.857933  12.345835   \n",
       "2      Leucoraja lentiginosa    43.0     863.950740   3.761200   6.761516   \n",
       "3       Dactylobatus clarkii    59.0    2017.563809   4.077537   7.609646   \n",
       "4     Pseudobatos percellens   100.0     955.100000   4.605170   6.861816   \n",
       "...                      ...     ...            ...        ...        ...   \n",
       "1179    Pateobatis jenkinsii   130.0   16775.968002   4.867534   9.727703   \n",
       "1180  Pristiophorus cirratus   137.0   19308.807587   4.919981   9.868317   \n",
       "1181    Squatina californica   152.0   25511.414447   5.023881  10.146881   \n",
       "1182    Urogymnus granulatus   141.0   20857.643324   4.948760   9.945476   \n",
       "1185  Callorhinchus capensis   122.0    5250.000000   4.804021   8.565983   \n",
       "\n",
       "      Threatened  Class  \n",
       "0              0      1  \n",
       "1              1      1  \n",
       "2              0      0  \n",
       "3              0      0  \n",
       "4              1      0  \n",
       "...          ...    ...  \n",
       "1179           1      0  \n",
       "1180           0      0  \n",
       "1181           0      0  \n",
       "1182           1      0  \n",
       "1185           0      0  \n",
       "\n",
       "[809 rows x 7 columns]"
      ]
     },
     "execution_count": 30,
     "metadata": {},
     "output_type": "execute_result"
    }
   ],
   "source": [
    "sharks[\"Class\"] = (sharks_fit.fittedvalues > 0.50).astype(int)\n",
    "sharks"
   ]
  },
  {
   "cell_type": "code",
   "execution_count": 31,
   "id": "04643b86",
   "metadata": {},
   "outputs": [
    {
     "data": {
      "text/html": [
       "<div>\n",
       "<style scoped>\n",
       "    .dataframe tbody tr th:only-of-type {\n",
       "        vertical-align: middle;\n",
       "    }\n",
       "\n",
       "    .dataframe tbody tr th {\n",
       "        vertical-align: top;\n",
       "    }\n",
       "\n",
       "    .dataframe thead th {\n",
       "        text-align: right;\n",
       "    }\n",
       "</style>\n",
       "<table border=\"1\" class=\"dataframe\">\n",
       "  <thead>\n",
       "    <tr style=\"text-align: right;\">\n",
       "      <th>Class</th>\n",
       "      <th>0</th>\n",
       "      <th>1</th>\n",
       "    </tr>\n",
       "    <tr>\n",
       "      <th>Threatened</th>\n",
       "      <th></th>\n",
       "      <th></th>\n",
       "    </tr>\n",
       "  </thead>\n",
       "  <tbody>\n",
       "    <tr>\n",
       "      <th>0</th>\n",
       "      <td>492</td>\n",
       "      <td>37</td>\n",
       "    </tr>\n",
       "    <tr>\n",
       "      <th>1</th>\n",
       "      <td>211</td>\n",
       "      <td>69</td>\n",
       "    </tr>\n",
       "  </tbody>\n",
       "</table>\n",
       "</div>"
      ],
      "text/plain": [
       "Class         0   1\n",
       "Threatened         \n",
       "0           492  37\n",
       "1           211  69"
      ]
     },
     "execution_count": 31,
     "metadata": {},
     "output_type": "execute_result"
    }
   ],
   "source": [
    "pd.crosstab(sharks[\"Threatened\"], sharks[\"Class\"])"
   ]
  },
  {
   "cell_type": "code",
   "execution_count": 32,
   "id": "78a90087",
   "metadata": {},
   "outputs": [
    {
     "data": {
      "text/plain": [
       "0.6934487021013597"
      ]
     },
     "execution_count": 32,
     "metadata": {},
     "output_type": "execute_result"
    }
   ],
   "source": [
    "np.mean( sharks[\"Threatened\"] == sharks[\"Class\"] )"
   ]
  },
  {
   "cell_type": "code",
   "execution_count": 33,
   "id": "265027b5",
   "metadata": {},
   "outputs": [
    {
     "data": {
      "text/plain": [
       "0.6589994598973805"
      ]
     },
     "execution_count": 33,
     "metadata": {},
     "output_type": "execute_result"
    }
   ],
   "source": [
    "fpr, tpr, thresholds = metrics.roc_curve(sharks[\"Threatened\"], sharks_fit.fittedvalues)\n",
    "chronic_auc = metrics.auc(fpr, tpr)\n",
    "chronic_auc"
   ]
  },
  {
   "cell_type": "code",
   "execution_count": 34,
   "id": "c796acbc",
   "metadata": {},
   "outputs": [
    {
     "data": {
      "text/plain": [
       "<matplotlib.legend.Legend at 0x7f7c37d132b0>"
      ]
     },
     "execution_count": 34,
     "metadata": {},
     "output_type": "execute_result"
    },
    {
     "data": {
      "image/png": "[encoded data removed]",
      "text/plain": [
       "<Figure size 576x576 with 1 Axes>"
      ]
     },
     "metadata": {},
     "output_type": "display_data"
    }
   ],
   "source": [
    "plt.figure()\n",
    "plt.plot(fpr, tpr, label='ROC curve    AUC: %0.2f' % chronic_auc)\n",
    "plt.plot([0,1], [0,1], 'r--', label='Random classification')\n",
    "# plt.xlim([0, 1]) \n",
    "# plt.ylim([0, 1.05])\n",
    "plt.xlabel('False Positive Rate (1-Specificity)')\n",
    "plt.ylabel('True Positive Rate (Sensitivity)')\n",
    "plt.title('ROC curve for shark extinction risk classifier')\n",
    "plt.legend(loc=\"lower right\")"
   ]
  },
  {
   "cell_type": "markdown",
   "id": "9ce23af9",
   "metadata": {},
   "source": [
    "#### Logistic analogues of $R^2$"
   ]
  },
  {
   "cell_type": "markdown",
   "id": "42521ec0",
   "metadata": {},
   "source": [
    "_McFadden's pseudo_-$R^2$ : replace sums of squares with deviances to measure the proportional reduction in the deviance"
   ]
  },
  {
   "cell_type": "code",
   "execution_count": 35,
   "id": "2cfca4ad",
   "metadata": {},
   "outputs": [
    {
     "data": {
      "text/plain": [
       "0.05764873271492332"
      ]
     },
     "execution_count": 35,
     "metadata": {},
     "output_type": "execute_result"
    }
   ],
   "source": [
    "R2_M = 1 - (sharks_fit.deviance / sharks_fit.null_deviance)\n",
    "R2_M"
   ]
  },
  {
   "cell_type": "markdown",
   "id": "90582aae",
   "metadata": {},
   "source": [
    "\n",
    "Or use the native sums of squares in this context:\n"
   ]
  },
  {
   "cell_type": "code",
   "execution_count": 36,
   "id": "cfdfeaf9",
   "metadata": {},
   "outputs": [
    {
     "data": {
      "text/plain": [
       "0.07391985741684046"
      ]
     },
     "execution_count": 36,
     "metadata": {},
     "output_type": "execute_result"
    }
   ],
   "source": [
    "sharks[\"Null_residual\"] = sharks[\"Threatened\"] - null_prob\n",
    "sharks[\"Residual\"] = sharks[\"Threatened\"] - sharks_fit.fittedvalues\n",
    "sharks[\"Difference\"] = sharks_fit.fittedvalues - null_prob\n",
    "R2_S = np.sum(sharks[\"Difference\"]**2) / np.sum(sharks[\"Null_residual\"]**2)\n",
    "R2_S"
   ]
  },
  {
   "cell_type": "markdown",
   "id": "6dc36455",
   "metadata": {},
   "source": [
    "\n",
    "Or compute _Tjur's coefficient of discrimination_: a good model should, on average, assign high probabilities to observed successes (1's) and low probabilities to observed failures (0's)\n"
   ]
  },
  {
   "cell_type": "code",
   "execution_count": 37,
   "id": "0619b21a",
   "metadata": {},
   "outputs": [
    {
     "data": {
      "text/plain": [
       "<seaborn.axisgrid.FacetGrid at 0x7f7c371e17c0>"
      ]
     },
     "execution_count": 37,
     "metadata": {},
     "output_type": "execute_result"
    },
    {
     "data": {
      "image/png": "[encoded data removed]",
      "text/plain": [
       "<Figure size 720x360 with 2 Axes>"
      ]
     },
     "metadata": {},
     "output_type": "display_data"
    }
   ],
   "source": [
    "sharks[\"Fit_prob\"] = sharks_fit.fittedvalues\n",
    "sns.displot( data=sharks, x=\"Fit_prob\", col=\"Threatened\", binwidth=0.2)"
   ]
  },
  {
   "cell_type": "code",
   "execution_count": 38,
   "id": "1913522b",
   "metadata": {},
   "outputs": [
    {
     "data": {
      "text/html": [
       "<div>\n",
       "<style scoped>\n",
       "    .dataframe tbody tr th:only-of-type {\n",
       "        vertical-align: middle;\n",
       "    }\n",
       "\n",
       "    .dataframe tbody tr th {\n",
       "        vertical-align: top;\n",
       "    }\n",
       "\n",
       "    .dataframe thead th {\n",
       "        text-align: right;\n",
       "    }\n",
       "</style>\n",
       "<table border=\"1\" class=\"dataframe\">\n",
       "  <thead>\n",
       "    <tr style=\"text-align: right;\">\n",
       "      <th></th>\n",
       "      <th>Fit_average</th>\n",
       "    </tr>\n",
       "    <tr>\n",
       "      <th>Threatened</th>\n",
       "      <th></th>\n",
       "    </tr>\n",
       "  </thead>\n",
       "  <tbody>\n",
       "    <tr>\n",
       "      <th>0</th>\n",
       "      <td>0.319667</td>\n",
       "    </tr>\n",
       "    <tr>\n",
       "      <th>1</th>\n",
       "      <td>0.396059</td>\n",
       "    </tr>\n",
       "  </tbody>\n",
       "</table>\n",
       "</div>"
      ],
      "text/plain": [
       "            Fit_average\n",
       "Threatened             \n",
       "0              0.319667\n",
       "1              0.396059"
      ]
     },
     "execution_count": 38,
     "metadata": {},
     "output_type": "execute_result"
    }
   ],
   "source": [
    "fit_avgs = sharks.groupby(\"Threatened\").agg(Fit_average=('Fit_prob','mean'))\n",
    "fit_avgs"
   ]
  },
  {
   "cell_type": "code",
   "execution_count": 39,
   "id": "9106c1a9",
   "metadata": {},
   "outputs": [
    {
     "data": {
      "text/plain": [
       "0.07639201019244374"
      ]
     },
     "execution_count": 39,
     "metadata": {},
     "output_type": "execute_result"
    }
   ],
   "source": [
    "R2_D = fit_avgs[\"Fit_average\"][1] - fit_avgs[\"Fit_average\"][0]\n",
    "R2_D"
   ]
  },
  {
   "cell_type": "markdown",
   "id": "9eb08612",
   "metadata": {},
   "source": [
    "Yikes! Not a very good model after all. :("
   ]
  },
  {
   "cell_type": "code",
   "execution_count": null,
   "id": "00c1e5ef",
   "metadata": {},
   "outputs": [],
   "source": []
  }
 ],
 "metadata": {
  "kernelspec": {
   "display_name": "Python 3",
   "language": "python",
   "name": "python3"
  },
  "language_info": {
   "codemirror_mode": {
    "name": "ipython",
    "version": 3
   },
   "file_extension": ".py",
   "mimetype": "text/x-python",
   "name": "python",
   "nbconvert_exporter": "python",
   "pygments_lexer": "ipython3",
   "version": "3.8.10"
  }
 },
 "nbformat": 4,
 "nbformat_minor": 5
}
