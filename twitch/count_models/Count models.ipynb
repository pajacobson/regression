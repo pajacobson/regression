{
 "cells": [
  {
   "cell_type": "markdown",
   "id": "2248cf45",
   "metadata": {},
   "source": [
    "# <u>Count models</u>\n",
    "\n",
    "Counting is child's play, as easy as 1, 2, 3, right? \n",
    "\n",
    "As with most things, the answer's not so simple; some things are easy to count and some things aren't, making some numbers easier to predict than others. What do we do?\n",
    "\n",
    "1. <font color=\"darkorchid\">**Count what's available**</font> as carefully as possible.\n",
    "2. Build an appropriate <font color=\"darkorchid\">**probability model**</font> to predict likely outcomes.\n",
    "\n",
    "To explore this, we'll look at 4 examples of real data:\n",
    "* cases of chronic medical conditions,\n",
    "* car crashes in Tennessee,\n",
    "* births in the United States, and\n",
    "* coughs in Spain.\n",
    "\n",
    "We'll see how these relate to 3 fundamental <font color=\"darkorchid\">**count models**</font>:\n",
    "* binomial models,\n",
    "* Poisson models, and\n",
    "* negative binomial models.\n",
    "\n",
    "Finally, we'll talk about using the <font color=\"darkorchid\">**Kolmogorov-Smirnov test**</font> to check a sample against a reference distribution. \n",
    "\n",
    "When we meet again, we'll see how to build better <font color=\"darkorchid\">**regression models for counts**</font> that incorporate predictor variables.\n"
   ]
  },
  {
   "cell_type": "markdown",
   "id": "d4d064f2",
   "metadata": {},
   "source": [
    "## <u>Imports and settings</u>"
   ]
  },
  {
   "cell_type": "code",
   "execution_count": 1,
   "id": "55a3d897",
   "metadata": {},
   "outputs": [],
   "source": [
    "import numpy as np\n",
    "import pandas as pd\n",
    "import matplotlib.pyplot as plt\n",
    "import seaborn as sns\n",
    "from scipy.stats import binom\n",
    "from scipy.stats import poisson\n",
    "from scipy.stats import nbinom\n",
    "from scipy.stats import kstest"
   ]
  },
  {
   "cell_type": "code",
   "execution_count": 2,
   "id": "632af0ba",
   "metadata": {},
   "outputs": [],
   "source": [
    "# pd.set_option(\"precision\", 4)\n",
    "sns.set_theme()\n",
    "plt.rcParams['figure.figsize'] = [15,6]"
   ]
  },
  {
   "cell_type": "markdown",
   "id": "af851d4c",
   "metadata": {},
   "source": [
    "## <u>Binomial models</u>"
   ]
  },
  {
   "cell_type": "markdown",
   "id": "c26751b5",
   "metadata": {},
   "source": [
    "### Chronic conditions by age\n",
    "\n",
    "Here's an important counting problem: given a group of people, how many have a chronic medical condition? Let's see what the 2009 [National Ambulatory Medical Care Survey (NAMCS)](https://www.cdc.gov/nchs/ahcd/index.htm) says:"
   ]
  },
  {
   "cell_type": "code",
   "execution_count": 3,
   "id": "fbb8a39b",
   "metadata": {},
   "outputs": [
    {
     "data": {
      "text/html": [
       "<div>\n",
       "<style scoped>\n",
       "    .dataframe tbody tr th:only-of-type {\n",
       "        vertical-align: middle;\n",
       "    }\n",
       "\n",
       "    .dataframe tbody tr th {\n",
       "        vertical-align: top;\n",
       "    }\n",
       "\n",
       "    .dataframe thead th {\n",
       "        text-align: right;\n",
       "    }\n",
       "</style>\n",
       "<table border=\"1\" class=\"dataframe\">\n",
       "  <thead>\n",
       "    <tr style=\"text-align: right;\">\n",
       "      <th></th>\n",
       "      <th>Age</th>\n",
       "      <th>Total</th>\n",
       "      <th>Sick</th>\n",
       "      <th>Percentage</th>\n",
       "    </tr>\n",
       "  </thead>\n",
       "  <tbody>\n",
       "    <tr>\n",
       "      <th>0</th>\n",
       "      <td>0</td>\n",
       "      <td>796</td>\n",
       "      <td>21</td>\n",
       "      <td>0.026382</td>\n",
       "    </tr>\n",
       "    <tr>\n",
       "      <th>1</th>\n",
       "      <td>1</td>\n",
       "      <td>505</td>\n",
       "      <td>32</td>\n",
       "      <td>0.063366</td>\n",
       "    </tr>\n",
       "    <tr>\n",
       "      <th>2</th>\n",
       "      <td>2</td>\n",
       "      <td>320</td>\n",
       "      <td>29</td>\n",
       "      <td>0.090625</td>\n",
       "    </tr>\n",
       "    <tr>\n",
       "      <th>3</th>\n",
       "      <td>3</td>\n",
       "      <td>258</td>\n",
       "      <td>37</td>\n",
       "      <td>0.143411</td>\n",
       "    </tr>\n",
       "    <tr>\n",
       "      <th>4</th>\n",
       "      <td>4</td>\n",
       "      <td>299</td>\n",
       "      <td>30</td>\n",
       "      <td>0.100334</td>\n",
       "    </tr>\n",
       "    <tr>\n",
       "      <th>...</th>\n",
       "      <td>...</td>\n",
       "      <td>...</td>\n",
       "      <td>...</td>\n",
       "      <td>...</td>\n",
       "    </tr>\n",
       "    <tr>\n",
       "      <th>96</th>\n",
       "      <td>96</td>\n",
       "      <td>13</td>\n",
       "      <td>12</td>\n",
       "      <td>0.923077</td>\n",
       "    </tr>\n",
       "    <tr>\n",
       "      <th>97</th>\n",
       "      <td>97</td>\n",
       "      <td>11</td>\n",
       "      <td>10</td>\n",
       "      <td>0.909091</td>\n",
       "    </tr>\n",
       "    <tr>\n",
       "      <th>98</th>\n",
       "      <td>98</td>\n",
       "      <td>6</td>\n",
       "      <td>5</td>\n",
       "      <td>0.833333</td>\n",
       "    </tr>\n",
       "    <tr>\n",
       "      <th>99</th>\n",
       "      <td>99</td>\n",
       "      <td>2</td>\n",
       "      <td>1</td>\n",
       "      <td>0.500000</td>\n",
       "    </tr>\n",
       "    <tr>\n",
       "      <th>100</th>\n",
       "      <td>100</td>\n",
       "      <td>6</td>\n",
       "      <td>5</td>\n",
       "      <td>0.833333</td>\n",
       "    </tr>\n",
       "  </tbody>\n",
       "</table>\n",
       "<p>101 rows × 4 columns</p>\n",
       "</div>"
      ],
      "text/plain": [
       "     Age  Total  Sick  Percentage\n",
       "0      0    796    21    0.026382\n",
       "1      1    505    32    0.063366\n",
       "2      2    320    29    0.090625\n",
       "3      3    258    37    0.143411\n",
       "4      4    299    30    0.100334\n",
       "..   ...    ...   ...         ...\n",
       "96    96     13    12    0.923077\n",
       "97    97     11    10    0.909091\n",
       "98    98      6     5    0.833333\n",
       "99    99      2     1    0.500000\n",
       "100  100      6     5    0.833333\n",
       "\n",
       "[101 rows x 4 columns]"
      ]
     },
     "execution_count": 3,
     "metadata": {},
     "output_type": "execute_result"
    }
   ],
   "source": [
    "chronic = pd.read_csv(\"chronic.csv\")\n",
    "cohorts = pd.read_csv(\"chronic_cohorts.csv\")\n",
    "cohorts"
   ]
  },
  {
   "cell_type": "markdown",
   "id": "7447597f",
   "metadata": {},
   "source": [
    "In this dataset, <font color=\"darkorchid\">_Sick_</font> means having at least one of the following conditions:\n",
    "\n",
    "* arthritis,\n",
    "* asthma,\n",
    "* COPD,\n",
    "* cancer, \n",
    "* depression, \n",
    "* diabetes, \n",
    "* hyperlipidemia,\n",
    "* hypertension,\n",
    "* obesity,\n",
    "* osteoporosis,\n",
    "* cerebrovascular disease,\n",
    "* chronic renal failure,  \n",
    "* congestive heart failure, or \n",
    "* ischemic heart disease. \n",
    "\n",
    "This is quite a list! The snippet shown corroborates what's expected: older people are more likely to have at least one of these conditions. For example, 30.4% of 25-year-olds have one and 81.43% of the 65-year-olds do:"
   ]
  },
  {
   "cell_type": "code",
   "execution_count": 4,
   "id": "09d157f5",
   "metadata": {},
   "outputs": [
    {
     "data": {
      "text/html": [
       "<div>\n",
       "<style scoped>\n",
       "    .dataframe tbody tr th:only-of-type {\n",
       "        vertical-align: middle;\n",
       "    }\n",
       "\n",
       "    .dataframe tbody tr th {\n",
       "        vertical-align: top;\n",
       "    }\n",
       "\n",
       "    .dataframe thead th {\n",
       "        text-align: right;\n",
       "    }\n",
       "</style>\n",
       "<table border=\"1\" class=\"dataframe\">\n",
       "  <thead>\n",
       "    <tr style=\"text-align: right;\">\n",
       "      <th></th>\n",
       "      <th>Age</th>\n",
       "      <th>Total</th>\n",
       "      <th>Sick</th>\n",
       "      <th>Percentage</th>\n",
       "    </tr>\n",
       "  </thead>\n",
       "  <tbody>\n",
       "    <tr>\n",
       "      <th>25</th>\n",
       "      <td>25</td>\n",
       "      <td>273</td>\n",
       "      <td>83</td>\n",
       "      <td>0.304029</td>\n",
       "    </tr>\n",
       "    <tr>\n",
       "      <th>65</th>\n",
       "      <td>65</td>\n",
       "      <td>463</td>\n",
       "      <td>377</td>\n",
       "      <td>0.814255</td>\n",
       "    </tr>\n",
       "  </tbody>\n",
       "</table>\n",
       "</div>"
      ],
      "text/plain": [
       "    Age  Total  Sick  Percentage\n",
       "25   25    273    83    0.304029\n",
       "65   65    463   377    0.814255"
      ]
     },
     "execution_count": 4,
     "metadata": {},
     "output_type": "execute_result"
    }
   ],
   "source": [
    "cohorts[ (cohorts[\"Age\"]==25) | (cohorts[\"Age\"]==65) ]"
   ]
  },
  {
   "cell_type": "markdown",
   "id": "fb1dd346",
   "metadata": {},
   "source": [
    "These percentages are <font color=\"darkorchid\">**empirical probabilities**</font>. Once we have them, what are the chances of having _exactly_ (a) 83 sick people out of 273 25-year-olds and (b) 377 sick people out of 463 65-year-olds? "
   ]
  },
  {
   "cell_type": "markdown",
   "id": "4d269784",
   "metadata": {},
   "source": [
    "### The binomial distribution\n",
    "\n",
    "If you try something $n$ times with a chance $p$ of <font color=\"darkorchid\">**success**</font> on each <font color=\"darkorchid\">**trial**</font>, the number $Y$ of successes is a <font color=\"darkorchid\">**random variable**</font>: you don't know what the exact outcome will be until it happens, but you know the probability of each possible outcome. In fact, the probability of getting exactly $k$ successes is\n",
    "\n",
    "$$P( \\, Y = k \\, ) ~ = ~ \\binom{n}{k} \\, p^{k} \\, (1-p)^{n-k} \\ , \\quad \\text{where} \\quad \\binom{n}{k} = \\frac{ n! }{ k! (n-k)! } \\ .  $$\n",
    "\n",
    "This is the <font color=\"darkorchid\">**probability mass function (PMF)**</font> for the <font color=\"darkorchid\">**binomial distribution**</font> $B(n,p)$. The mean and variance of a <font color=\"darkorchid\">**binomial random variable**</font> $Y \\sim B(n,p)$ are\n",
    "\n",
    "$$\\operatorname{E}\\left( \\, Y \\, \\right) ~ = ~ np \\quad \\text{and} \\quad \\operatorname{Var}( \\, Y \\, ) ~ = ~ np(1-p) \\ .$$\n",
    "\n",
    "\n",
    "> **Use the `binom` module from `scipy` (`import`ed above) to work with binomial distributions.**"
   ]
  },
  {
   "cell_type": "markdown",
   "id": "bae7a1d6",
   "metadata": {},
   "source": [
    "Based on the NAMCS data, 25-year-olds are like a <font color=\"darkorchid\">**binomial experiment**</font> with $n=273$ and $p=.304029$ ; the chance of observing exactly 83 successes (perverse lingo in this context, I know!) is just over 5% :"
   ]
  },
  {
   "cell_type": "code",
   "execution_count": 5,
   "id": "087d5a47",
   "metadata": {},
   "outputs": [
    {
     "data": {
      "text/plain": [
       "0.05243020970380286"
      ]
     },
     "execution_count": 5,
     "metadata": {},
     "output_type": "execute_result"
    }
   ],
   "source": [
    "p_25 = cohorts[\"Percentage\"][25]\n",
    "binom.pmf(83,273,p_25)"
   ]
  },
  {
   "cell_type": "markdown",
   "id": "a9bf3ffb",
   "metadata": {},
   "source": [
    "65-year-olds are like a binomial experiment with 𝑛=463 and 𝑝=.814255 ; the chance of observing exactly 377 successes is just under 5% :"
   ]
  },
  {
   "cell_type": "code",
   "execution_count": 6,
   "id": "5d2a0ede",
   "metadata": {},
   "outputs": [
    {
     "data": {
      "text/plain": [
       "0.047625769242453334"
      ]
     },
     "execution_count": 6,
     "metadata": {},
     "output_type": "execute_result"
    }
   ],
   "source": [
    "p_65 = cohorts[\"Percentage\"][65]\n",
    "binom.pmf(377,463,p_65)"
   ]
  },
  {
   "cell_type": "markdown",
   "id": "34a17ecd",
   "metadata": {},
   "source": [
    "Don't be alarmed at these low probabilities &mdash; these are the most likely outcomes! For example:"
   ]
  },
  {
   "cell_type": "code",
   "execution_count": 7,
   "id": "2ea864d4",
   "metadata": {},
   "outputs": [
    {
     "data": {
      "text/plain": [
       "Text(0.5, 0, '65-year-olds')"
      ]
     },
     "execution_count": 7,
     "metadata": {},
     "output_type": "execute_result"
    },
    {
     "data": {
      "image/png": "[encoded data removed]",
      "text/plain": [
       "<Figure size 1080x432 with 2 Axes>"
      ]
     },
     "metadata": {},
     "output_type": "display_data"
    }
   ],
   "source": [
    "fig, (ax1, ax2) = plt.subplots(1, 2)\n",
    "fig.suptitle('Binomial models of chronic condition incidence')\n",
    "x = np.arange(binom.ppf(0.001, 273, p_25), binom.ppf(0.999, 273, p_25))\n",
    "ax1.plot(x, binom.pmf(x, 273, p_25), 'bo', ms=8)\n",
    "ax1.vlines(x, 0, binom.pmf(x, 273, p_25), colors='b', lw=3, alpha=0.5)\n",
    "ax1.set_xlabel('25-year-olds')\n",
    "x = np.arange(binom.ppf(0.001, 463, p_65), binom.ppf(0.999, 463, p_65))\n",
    "ax2.plot(x, binom.pmf(x, 463, p_65), 'bo', ms=8)\n",
    "ax2.vlines(x, 0, binom.pmf(x, 463, p_65), colors='b', lw=3, alpha=0.5)\n",
    "ax2.set_xlabel('65-year-olds')"
   ]
  },
  {
   "cell_type": "markdown",
   "id": "cf3e9603",
   "metadata": {},
   "source": [
    "It's no accident that these look like normal distributions &mdash; if $n$ is large and/or $p$ is close to $0.5$, $B(n,p)$ is approximately normal with mean $np$ and variance $np(1-p)$ :\n",
    "\n",
    "$$ B(n,p) \\approx N( np, np(1-p) ) \\quad \\text{for} \\quad n \\gg 1 \\quad \\text{or} \\quad p \\approx 0.5 \\ .$$\n",
    "\n",
    "Turn this around for some quick and dirty calculations. For example, $B(463,.814) \\approx N( 377, 70)$, so there will usually be between $377 - 2\\sqrt{70} \\approx 360 $ and $377 + 2\\sqrt{70} \\approx 394$ successes, as you can easily check above!\n",
    "\n",
    "Things are different if $n$ is small and/or $p$ is far from $0.5$. No worries, though &mdash; `binom.pmf` works just fine."
   ]
  },
  {
   "cell_type": "markdown",
   "id": "314e622c",
   "metadata": {},
   "source": [
    "### Binomial logistic regression \n",
    "\n",
    "Instead of working separately with each age group &mdash; i.e., each <font color=\"firebrick\">**covariate class**</font> &mdash; we should really construct a <font color=\"firebrick\">**binomial logistic regression model**</font> to consolidate the age group percentages efficiently."
   ]
  },
  {
   "cell_type": "code",
   "execution_count": 8,
   "id": "325ef6bd",
   "metadata": {},
   "outputs": [
    {
     "data": {
      "image/png": "[encoded data removed]",
      "text/plain": [
       "<Figure size 1080x432 with 1 Axes>"
      ]
     },
     "metadata": {},
     "output_type": "display_data"
    }
   ],
   "source": [
    "sns.regplot(data=chronic,x=\"Age\", y=\"Condition\",logistic=True, scatter=False,ci=None, line_kws={\"lw\":\"4\"})\n",
    "plt.xlim(-5,105)\n",
    "plt.ylabel(\"Rate\")\n",
    "plt.plot( cohorts[\"Age\"], cohorts[\"Percentage\"],'.k');"
   ]
  },
  {
   "cell_type": "markdown",
   "id": "b20d654a",
   "metadata": {},
   "source": [
    "This particular logistic model, plotted in blue, is <font color=\"firebrick\">**simple**</font> &mdash; it involves only one predictor : \n",
    "\n",
    "$$\\log{ \\left( \\text{Odds of a condition} \\right) } ~ = ~ -2.04 + .052*\\text{Age} \\ . $$ \n",
    "\n",
    "This model is really a family of binomial distributions, one for each covariate class; each probability is directly related to `Age`."
   ]
  },
  {
   "cell_type": "markdown",
   "id": "8eb838a8",
   "metadata": {},
   "source": [
    "## <u>Poisson models</u>"
   ]
  },
  {
   "cell_type": "markdown",
   "id": "9f1d14a3",
   "metadata": {},
   "source": [
    "### Monthly car crashes \n",
    "\n",
    "Here's a different counting problem: how many traffic accidents are there each month where you live? For my home state of Tennessee, the [Department of Transportation provides the relevant data](https://www.tn.gov/safety/stats/crashdata.html):"
   ]
  },
  {
   "cell_type": "code",
   "execution_count": 9,
   "id": "d563514f",
   "metadata": {},
   "outputs": [
    {
     "data": {
      "text/html": [
       "<div>\n",
       "<style scoped>\n",
       "    .dataframe tbody tr th:only-of-type {\n",
       "        vertical-align: middle;\n",
       "    }\n",
       "\n",
       "    .dataframe tbody tr th {\n",
       "        vertical-align: top;\n",
       "    }\n",
       "\n",
       "    .dataframe thead th {\n",
       "        text-align: right;\n",
       "    }\n",
       "</style>\n",
       "<table border=\"1\" class=\"dataframe\">\n",
       "  <thead>\n",
       "    <tr style=\"text-align: right;\">\n",
       "      <th></th>\n",
       "      <th>County</th>\n",
       "      <th>Year</th>\n",
       "      <th>January</th>\n",
       "      <th>February</th>\n",
       "      <th>March</th>\n",
       "      <th>April</th>\n",
       "      <th>May</th>\n",
       "      <th>June</th>\n",
       "      <th>July</th>\n",
       "      <th>August</th>\n",
       "      <th>September</th>\n",
       "      <th>October</th>\n",
       "      <th>November</th>\n",
       "      <th>December</th>\n",
       "    </tr>\n",
       "  </thead>\n",
       "  <tbody>\n",
       "    <tr>\n",
       "      <th>0</th>\n",
       "      <td>Anderson</td>\n",
       "      <td>2010</td>\n",
       "      <td>138</td>\n",
       "      <td>113</td>\n",
       "      <td>169</td>\n",
       "      <td>169</td>\n",
       "      <td>155</td>\n",
       "      <td>152</td>\n",
       "      <td>165</td>\n",
       "      <td>176</td>\n",
       "      <td>178</td>\n",
       "      <td>169</td>\n",
       "      <td>179</td>\n",
       "      <td>152</td>\n",
       "    </tr>\n",
       "    <tr>\n",
       "      <th>1</th>\n",
       "      <td>Bedford</td>\n",
       "      <td>2010</td>\n",
       "      <td>71</td>\n",
       "      <td>72</td>\n",
       "      <td>77</td>\n",
       "      <td>70</td>\n",
       "      <td>87</td>\n",
       "      <td>99</td>\n",
       "      <td>90</td>\n",
       "      <td>91</td>\n",
       "      <td>86</td>\n",
       "      <td>118</td>\n",
       "      <td>105</td>\n",
       "      <td>95</td>\n",
       "    </tr>\n",
       "    <tr>\n",
       "      <th>2</th>\n",
       "      <td>Benton</td>\n",
       "      <td>2010</td>\n",
       "      <td>21</td>\n",
       "      <td>23</td>\n",
       "      <td>27</td>\n",
       "      <td>32</td>\n",
       "      <td>34</td>\n",
       "      <td>29</td>\n",
       "      <td>16</td>\n",
       "      <td>43</td>\n",
       "      <td>31</td>\n",
       "      <td>50</td>\n",
       "      <td>29</td>\n",
       "      <td>36</td>\n",
       "    </tr>\n",
       "    <tr>\n",
       "      <th>3</th>\n",
       "      <td>Bledsoe</td>\n",
       "      <td>2010</td>\n",
       "      <td>5</td>\n",
       "      <td>1</td>\n",
       "      <td>3</td>\n",
       "      <td>3</td>\n",
       "      <td>5</td>\n",
       "      <td>1</td>\n",
       "      <td>7</td>\n",
       "      <td>4</td>\n",
       "      <td>3</td>\n",
       "      <td>6</td>\n",
       "      <td>4</td>\n",
       "      <td>3</td>\n",
       "    </tr>\n",
       "    <tr>\n",
       "      <th>4</th>\n",
       "      <td>Blount</td>\n",
       "      <td>2010</td>\n",
       "      <td>126</td>\n",
       "      <td>159</td>\n",
       "      <td>171</td>\n",
       "      <td>145</td>\n",
       "      <td>153</td>\n",
       "      <td>139</td>\n",
       "      <td>201</td>\n",
       "      <td>264</td>\n",
       "      <td>338</td>\n",
       "      <td>267</td>\n",
       "      <td>316</td>\n",
       "      <td>269</td>\n",
       "    </tr>\n",
       "    <tr>\n",
       "      <th>...</th>\n",
       "      <td>...</td>\n",
       "      <td>...</td>\n",
       "      <td>...</td>\n",
       "      <td>...</td>\n",
       "      <td>...</td>\n",
       "      <td>...</td>\n",
       "      <td>...</td>\n",
       "      <td>...</td>\n",
       "      <td>...</td>\n",
       "      <td>...</td>\n",
       "      <td>...</td>\n",
       "      <td>...</td>\n",
       "      <td>...</td>\n",
       "      <td>...</td>\n",
       "    </tr>\n",
       "    <tr>\n",
       "      <th>1040</th>\n",
       "      <td>Wayne</td>\n",
       "      <td>2020</td>\n",
       "      <td>23</td>\n",
       "      <td>15</td>\n",
       "      <td>19</td>\n",
       "      <td>27</td>\n",
       "      <td>18</td>\n",
       "      <td>22</td>\n",
       "      <td>20</td>\n",
       "      <td>24</td>\n",
       "      <td>23</td>\n",
       "      <td>18</td>\n",
       "      <td>22</td>\n",
       "      <td>19</td>\n",
       "    </tr>\n",
       "    <tr>\n",
       "      <th>1041</th>\n",
       "      <td>Weakley</td>\n",
       "      <td>2020</td>\n",
       "      <td>39</td>\n",
       "      <td>35</td>\n",
       "      <td>40</td>\n",
       "      <td>19</td>\n",
       "      <td>28</td>\n",
       "      <td>43</td>\n",
       "      <td>37</td>\n",
       "      <td>47</td>\n",
       "      <td>54</td>\n",
       "      <td>44</td>\n",
       "      <td>33</td>\n",
       "      <td>21</td>\n",
       "    </tr>\n",
       "    <tr>\n",
       "      <th>1042</th>\n",
       "      <td>White</td>\n",
       "      <td>2020</td>\n",
       "      <td>30</td>\n",
       "      <td>31</td>\n",
       "      <td>33</td>\n",
       "      <td>21</td>\n",
       "      <td>50</td>\n",
       "      <td>32</td>\n",
       "      <td>36</td>\n",
       "      <td>46</td>\n",
       "      <td>34</td>\n",
       "      <td>29</td>\n",
       "      <td>42</td>\n",
       "      <td>43</td>\n",
       "    </tr>\n",
       "    <tr>\n",
       "      <th>1043</th>\n",
       "      <td>Williamson</td>\n",
       "      <td>2020</td>\n",
       "      <td>394</td>\n",
       "      <td>424</td>\n",
       "      <td>270</td>\n",
       "      <td>170</td>\n",
       "      <td>226</td>\n",
       "      <td>304</td>\n",
       "      <td>312</td>\n",
       "      <td>310</td>\n",
       "      <td>293</td>\n",
       "      <td>405</td>\n",
       "      <td>368</td>\n",
       "      <td>377</td>\n",
       "    </tr>\n",
       "    <tr>\n",
       "      <th>1044</th>\n",
       "      <td>Wilson</td>\n",
       "      <td>2020</td>\n",
       "      <td>282</td>\n",
       "      <td>268</td>\n",
       "      <td>239</td>\n",
       "      <td>143</td>\n",
       "      <td>267</td>\n",
       "      <td>258</td>\n",
       "      <td>285</td>\n",
       "      <td>295</td>\n",
       "      <td>273</td>\n",
       "      <td>306</td>\n",
       "      <td>335</td>\n",
       "      <td>299</td>\n",
       "    </tr>\n",
       "  </tbody>\n",
       "</table>\n",
       "<p>1045 rows × 14 columns</p>\n",
       "</div>"
      ],
      "text/plain": [
       "          County  Year  January  February  March  April  May  June  July  \\\n",
       "0       Anderson  2010      138       113    169    169  155   152   165   \n",
       "1        Bedford  2010       71        72     77     70   87    99    90   \n",
       "2         Benton  2010       21        23     27     32   34    29    16   \n",
       "3        Bledsoe  2010        5         1      3      3    5     1     7   \n",
       "4         Blount  2010      126       159    171    145  153   139   201   \n",
       "...          ...   ...      ...       ...    ...    ...  ...   ...   ...   \n",
       "1040       Wayne  2020       23        15     19     27   18    22    20   \n",
       "1041     Weakley  2020       39        35     40     19   28    43    37   \n",
       "1042       White  2020       30        31     33     21   50    32    36   \n",
       "1043  Williamson  2020      394       424    270    170  226   304   312   \n",
       "1044      Wilson  2020      282       268    239    143  267   258   285   \n",
       "\n",
       "      August  September  October  November  December  \n",
       "0        176        178      169       179       152  \n",
       "1         91         86      118       105        95  \n",
       "2         43         31       50        29        36  \n",
       "3          4          3        6         4         3  \n",
       "4        264        338      267       316       269  \n",
       "...      ...        ...      ...       ...       ...  \n",
       "1040      24         23       18        22        19  \n",
       "1041      47         54       44        33        21  \n",
       "1042      46         34       29        42        43  \n",
       "1043     310        293      405       368       377  \n",
       "1044     295        273      306       335       299  \n",
       "\n",
       "[1045 rows x 14 columns]"
      ]
     },
     "execution_count": 9,
     "metadata": {},
     "output_type": "execute_result"
    }
   ],
   "source": [
    "crashes = pd.read_csv(\"TDOT.csv\")\n",
    "crashes"
   ]
  },
  {
   "cell_type": "code",
   "execution_count": 10,
   "id": "6a2bbf0f",
   "metadata": {},
   "outputs": [
    {
     "data": {
      "text/plain": [
       "95"
      ]
     },
     "execution_count": 10,
     "metadata": {},
     "output_type": "execute_result"
    }
   ],
   "source": [
    "crashes[\"County\"].nunique()"
   ]
  },
  {
   "cell_type": "markdown",
   "id": "ea55f7d8",
   "metadata": {},
   "source": [
    "Of these 95 counties, let's check out Meigs County (home of the ghost town [Cute, Tennessee](https://en.wikipedia.org/wiki/Cute,_Tennessee)) :"
   ]
  },
  {
   "cell_type": "code",
   "execution_count": 18,
   "id": "f67b20e7",
   "metadata": {},
   "outputs": [
    {
     "data": {
      "text/html": [
       "<div>\n",
       "<style scoped>\n",
       "    .dataframe tbody tr th:only-of-type {\n",
       "        vertical-align: middle;\n",
       "    }\n",
       "\n",
       "    .dataframe tbody tr th {\n",
       "        vertical-align: top;\n",
       "    }\n",
       "\n",
       "    .dataframe thead th {\n",
       "        text-align: right;\n",
       "    }\n",
       "</style>\n",
       "<table border=\"1\" class=\"dataframe\">\n",
       "  <thead>\n",
       "    <tr style=\"text-align: right;\">\n",
       "      <th></th>\n",
       "      <th>Year</th>\n",
       "      <th>Month</th>\n",
       "      <th>Crashes</th>\n",
       "    </tr>\n",
       "  </thead>\n",
       "  <tbody>\n",
       "    <tr>\n",
       "      <th>0</th>\n",
       "      <td>2010</td>\n",
       "      <td>January</td>\n",
       "      <td>11</td>\n",
       "    </tr>\n",
       "    <tr>\n",
       "      <th>1</th>\n",
       "      <td>2011</td>\n",
       "      <td>January</td>\n",
       "      <td>13</td>\n",
       "    </tr>\n",
       "    <tr>\n",
       "      <th>2</th>\n",
       "      <td>2012</td>\n",
       "      <td>January</td>\n",
       "      <td>12</td>\n",
       "    </tr>\n",
       "    <tr>\n",
       "      <th>3</th>\n",
       "      <td>2013</td>\n",
       "      <td>January</td>\n",
       "      <td>10</td>\n",
       "    </tr>\n",
       "    <tr>\n",
       "      <th>4</th>\n",
       "      <td>2014</td>\n",
       "      <td>January</td>\n",
       "      <td>16</td>\n",
       "    </tr>\n",
       "    <tr>\n",
       "      <th>...</th>\n",
       "      <td>...</td>\n",
       "      <td>...</td>\n",
       "      <td>...</td>\n",
       "    </tr>\n",
       "    <tr>\n",
       "      <th>127</th>\n",
       "      <td>2016</td>\n",
       "      <td>December</td>\n",
       "      <td>16</td>\n",
       "    </tr>\n",
       "    <tr>\n",
       "      <th>128</th>\n",
       "      <td>2017</td>\n",
       "      <td>December</td>\n",
       "      <td>18</td>\n",
       "    </tr>\n",
       "    <tr>\n",
       "      <th>129</th>\n",
       "      <td>2018</td>\n",
       "      <td>December</td>\n",
       "      <td>9</td>\n",
       "    </tr>\n",
       "    <tr>\n",
       "      <th>130</th>\n",
       "      <td>2019</td>\n",
       "      <td>December</td>\n",
       "      <td>11</td>\n",
       "    </tr>\n",
       "    <tr>\n",
       "      <th>131</th>\n",
       "      <td>2020</td>\n",
       "      <td>December</td>\n",
       "      <td>17</td>\n",
       "    </tr>\n",
       "  </tbody>\n",
       "</table>\n",
       "<p>132 rows × 3 columns</p>\n",
       "</div>"
      ],
      "text/plain": [
       "     Year     Month  Crashes\n",
       "0    2010   January       11\n",
       "1    2011   January       13\n",
       "2    2012   January       12\n",
       "3    2013   January       10\n",
       "4    2014   January       16\n",
       "..    ...       ...      ...\n",
       "127  2016  December       16\n",
       "128  2017  December       18\n",
       "129  2018  December        9\n",
       "130  2019  December       11\n",
       "131  2020  December       17\n",
       "\n",
       "[132 rows x 3 columns]"
      ]
     },
     "execution_count": 18,
     "metadata": {},
     "output_type": "execute_result"
    }
   ],
   "source": [
    "meigs = crashes[crashes[\"County\"]==\"Meigs\"]\n",
    "meigs = meigs.drop(\"County\",1)\n",
    "meigs = meigs.melt( id_vars=\"Year\", var_name=\"Month\", value_name=\"Crashes\" )\n",
    "meigs"
   ]
  },
  {
   "cell_type": "code",
   "execution_count": 13,
   "id": "21ab4721",
   "metadata": {},
   "outputs": [
    {
     "data": {
      "image/png": "[encoded data removed]",
      "text/plain": [
       "<Figure size 1080x432 with 1 Axes>"
      ]
     },
     "metadata": {},
     "output_type": "display_data"
    }
   ],
   "source": [
    "sns.histplot( data=meigs, x=\"Crashes\", discrete=True)\n",
    "plt.title(\"Monthly crashes in Meigs County, TN\");"
   ]
  },
  {
   "cell_type": "markdown",
   "id": "f1e0a3c0",
   "metadata": {},
   "source": [
    "### The Poisson distribution\n",
    "\n",
    "What's the relevant probability distribution? Let's see...\n",
    "\n",
    "* There are a bunch of encounters between cars every month &mdash; lots of opportunities for accidents to occur. \n",
    "* Most encounters don't result in an accident (thank goodness!), but accidents occur at a roughly constant rate per month.\n",
    "\n",
    "This is a binomial experiment with a large number $n$ of trials, a small chance $p$ of \"success\" (an accident), and a roughly constant expected number $\\lambda = np$ of successes per month, so that $\\displaystyle{p = \\frac{\\lambda}{n}} \\ll 1$. Letting $Y$ denote the number of accidents per month,\n",
    "\n",
    "$$ \\begin{align}\n",
    "P( Y = k ) & ~ = ~ \\frac{ n! }{ k! (n-k)! } \\left( \\frac{\\mu}{n} \\right)^{k} \\left( 1 - \\frac{\\lambda}{n} \\right)^{(n-k)} \\\\\n",
    "& ~ = ~ \\frac{ n! }{ k! (n-k)! } \\left( \\frac{\\lambda}{n} \\right)^{k} \\left( 1 - \\frac{\\lambda}{n} \\right)^{n} \\left( 1 - \\frac{\\lambda}{n} \\right)^{-k} \\\\\n",
    "& ~ \\approx ~ \\frac{ n! }{ k! (n-k)! } \\left( \\frac{\\lambda}{n} \\right)^{k} e^{-\\lambda} \\\\\n",
    "& ~ = ~ \\frac{n (n-1) (n-2) \\cdots (n-k+1) }{ n \\cdot n \\cdot n \\cdots n } \\ e^{-\\lambda} \\, \\frac{\\lambda^k}{ k! } \\\\\n",
    "& ~ \\approx ~ e^{-\\lambda} \\, \\frac{\\lambda^k}{ k! } \\ .\n",
    "\\end{align} $$\n",
    "\n",
    "Lo and behold, that's it! This is the PMF for the <font color=\"darkorchid\">**Poisson distribution**</font> with <font color=\"darkorchid\">**rate**</font> $\\lambda$, $\\operatorname{Pois}(\\lambda)$. The mean and variance of a <font color=\"darkorchid\">**Poisson random variable**</font> $Y \\sim \\operatorname{Pois}(\\lambda)$ are **equal**: \n",
    "\n",
    "$$\\operatorname{E}\\left( \\, Y \\, \\right) ~ = ~ \\operatorname{Var}( \\, Y \\, ) ~ = ~ \\lambda \\ .$$\n",
    "\n",
    "> **Use the `poisson` module from `scipy` (`import`ed above) to work with Poisson distributions.**\n"
   ]
  },
  {
   "cell_type": "markdown",
   "id": "bfd9d01f",
   "metadata": {},
   "source": [
    "Now you'll see why I picked Meigs County:"
   ]
  },
  {
   "cell_type": "code",
   "execution_count": 14,
   "id": "4ea1af12",
   "metadata": {},
   "outputs": [
    {
     "data": {
      "text/html": [
       "<div>\n",
       "<style scoped>\n",
       "    .dataframe tbody tr th:only-of-type {\n",
       "        vertical-align: middle;\n",
       "    }\n",
       "\n",
       "    .dataframe tbody tr th {\n",
       "        vertical-align: top;\n",
       "    }\n",
       "\n",
       "    .dataframe thead th {\n",
       "        text-align: right;\n",
       "    }\n",
       "</style>\n",
       "<table border=\"1\" class=\"dataframe\">\n",
       "  <thead>\n",
       "    <tr style=\"text-align: right;\">\n",
       "      <th></th>\n",
       "      <th>Crashes</th>\n",
       "    </tr>\n",
       "  </thead>\n",
       "  <tbody>\n",
       "    <tr>\n",
       "      <th>Mean</th>\n",
       "      <td>13.712121</td>\n",
       "    </tr>\n",
       "    <tr>\n",
       "      <th>Variance</th>\n",
       "      <td>15.198936</td>\n",
       "    </tr>\n",
       "  </tbody>\n",
       "</table>\n",
       "</div>"
      ],
      "text/plain": [
       "            Crashes\n",
       "Mean      13.712121\n",
       "Variance  15.198936"
      ]
     },
     "execution_count": 14,
     "metadata": {},
     "output_type": "execute_result"
    }
   ],
   "source": [
    "meigs.agg( Mean = (\"Crashes\",\"mean\"), Variance = (\"Crashes\",\"var\") )"
   ]
  },
  {
   "cell_type": "markdown",
   "id": "670a10d3",
   "metadata": {},
   "source": [
    "How well does the relevant Poisson distribution model crashes in Meigs County? Let's see:"
   ]
  },
  {
   "cell_type": "code",
   "execution_count": 39,
   "id": "deca30fc",
   "metadata": {},
   "outputs": [
    {
     "data": {
      "image/png": "[encoded data removed]",
      "text/plain": [
       "<Figure size 1080x432 with 2 Axes>"
      ]
     },
     "metadata": {},
     "output_type": "display_data"
    }
   ],
   "source": [
    "fig, axs = plt.subplots(2, sharex=True)\n",
    "sns.histplot( data=meigs, x=\"Crashes\", discrete=True, ax=axs[0])\n",
    "axs[0].set_title(\"Observed crashes per month in Meigs County, TN\")\n",
    "pois_rv = pd.DataFrame({\"Sample\" : poisson.rvs( np.mean(meigs[\"Crashes\"]), size=meigs.shape[0])})\n",
    "sns.histplot(data=pois_rv, x=\"Sample\", discrete=True, ax=axs[1])\n",
    "axs[1].set_title(\"Simulated crashes per month in Meigs County, TN\");"
   ]
  },
  {
   "cell_type": "markdown",
   "id": "d1e24e80",
   "metadata": {},
   "source": [
    "Not bad! Looks can be deceiving, though &mdash; we'll test things more carefully in a bit."
   ]
  },
  {
   "cell_type": "markdown",
   "id": "375fd639",
   "metadata": {},
   "source": [
    "### Monthly births \n",
    "\n",
    "What happens if we count births every month instead of car crashes? Let's look at recent data from the [National Vital Statistics System](https://www.cdc.gov/nchs/nvss/births.htm), downloaded directly from [CDC Wonder](https://wonder.cdc.gov/natality-expanded-current.html):"
   ]
  },
  {
   "cell_type": "code",
   "execution_count": 16,
   "id": "94881037",
   "metadata": {},
   "outputs": [
    {
     "data": {
      "text/html": [
       "<div>\n",
       "<style scoped>\n",
       "    .dataframe tbody tr th:only-of-type {\n",
       "        vertical-align: middle;\n",
       "    }\n",
       "\n",
       "    .dataframe tbody tr th {\n",
       "        vertical-align: top;\n",
       "    }\n",
       "\n",
       "    .dataframe thead th {\n",
       "        text-align: right;\n",
       "    }\n",
       "</style>\n",
       "<table border=\"1\" class=\"dataframe\">\n",
       "  <thead>\n",
       "    <tr style=\"text-align: right;\">\n",
       "      <th></th>\n",
       "      <th>county</th>\n",
       "      <th>year</th>\n",
       "      <th>month</th>\n",
       "      <th>births</th>\n",
       "    </tr>\n",
       "  </thead>\n",
       "  <tbody>\n",
       "    <tr>\n",
       "      <th>0</th>\n",
       "      <td>Baldwin County, AL</td>\n",
       "      <td>2016</td>\n",
       "      <td>January</td>\n",
       "      <td>63</td>\n",
       "    </tr>\n",
       "    <tr>\n",
       "      <th>1</th>\n",
       "      <td>Baldwin County, AL</td>\n",
       "      <td>2016</td>\n",
       "      <td>February</td>\n",
       "      <td>67</td>\n",
       "    </tr>\n",
       "    <tr>\n",
       "      <th>2</th>\n",
       "      <td>Baldwin County, AL</td>\n",
       "      <td>2016</td>\n",
       "      <td>March</td>\n",
       "      <td>69</td>\n",
       "    </tr>\n",
       "    <tr>\n",
       "      <th>3</th>\n",
       "      <td>Baldwin County, AL</td>\n",
       "      <td>2016</td>\n",
       "      <td>April</td>\n",
       "      <td>63</td>\n",
       "    </tr>\n",
       "    <tr>\n",
       "      <th>4</th>\n",
       "      <td>Baldwin County, AL</td>\n",
       "      <td>2016</td>\n",
       "      <td>May</td>\n",
       "      <td>51</td>\n",
       "    </tr>\n",
       "    <tr>\n",
       "      <th>...</th>\n",
       "      <td>...</td>\n",
       "      <td>...</td>\n",
       "      <td>...</td>\n",
       "      <td>...</td>\n",
       "    </tr>\n",
       "    <tr>\n",
       "      <th>27727</th>\n",
       "      <td>Winnebago County, WI</td>\n",
       "      <td>2019</td>\n",
       "      <td>August</td>\n",
       "      <td>66</td>\n",
       "    </tr>\n",
       "    <tr>\n",
       "      <th>27728</th>\n",
       "      <td>Winnebago County, WI</td>\n",
       "      <td>2019</td>\n",
       "      <td>September</td>\n",
       "      <td>45</td>\n",
       "    </tr>\n",
       "    <tr>\n",
       "      <th>27729</th>\n",
       "      <td>Winnebago County, WI</td>\n",
       "      <td>2019</td>\n",
       "      <td>October</td>\n",
       "      <td>41</td>\n",
       "    </tr>\n",
       "    <tr>\n",
       "      <th>27730</th>\n",
       "      <td>Winnebago County, WI</td>\n",
       "      <td>2019</td>\n",
       "      <td>November</td>\n",
       "      <td>51</td>\n",
       "    </tr>\n",
       "    <tr>\n",
       "      <th>27731</th>\n",
       "      <td>Winnebago County, WI</td>\n",
       "      <td>2019</td>\n",
       "      <td>December</td>\n",
       "      <td>54</td>\n",
       "    </tr>\n",
       "  </tbody>\n",
       "</table>\n",
       "<p>27732 rows × 4 columns</p>\n",
       "</div>"
      ],
      "text/plain": [
       "                     county  year      month  births\n",
       "0        Baldwin County, AL  2016    January      63\n",
       "1        Baldwin County, AL  2016   February      67\n",
       "2        Baldwin County, AL  2016      March      69\n",
       "3        Baldwin County, AL  2016      April      63\n",
       "4        Baldwin County, AL  2016        May      51\n",
       "...                     ...   ...        ...     ...\n",
       "27727  Winnebago County, WI  2019     August      66\n",
       "27728  Winnebago County, WI  2019  September      45\n",
       "27729  Winnebago County, WI  2019    October      41\n",
       "27730  Winnebago County, WI  2019   November      51\n",
       "27731  Winnebago County, WI  2019   December      54\n",
       "\n",
       "[27732 rows x 4 columns]"
      ]
     },
     "execution_count": 16,
     "metadata": {},
     "output_type": "execute_result"
    }
   ],
   "source": [
    "births = pd.read_csv(\"births.csv\")\n",
    "births"
   ]
  },
  {
   "cell_type": "code",
   "execution_count": 26,
   "id": "220eef49",
   "metadata": {},
   "outputs": [
    {
     "data": {
      "text/html": [
       "<div>\n",
       "<style scoped>\n",
       "    .dataframe tbody tr th:only-of-type {\n",
       "        vertical-align: middle;\n",
       "    }\n",
       "\n",
       "    .dataframe tbody tr th {\n",
       "        vertical-align: top;\n",
       "    }\n",
       "\n",
       "    .dataframe thead th {\n",
       "        text-align: right;\n",
       "    }\n",
       "</style>\n",
       "<table border=\"1\" class=\"dataframe\">\n",
       "  <thead>\n",
       "    <tr style=\"text-align: right;\">\n",
       "      <th></th>\n",
       "      <th>county</th>\n",
       "      <th>Mean</th>\n",
       "      <th>Variance</th>\n",
       "      <th>Max</th>\n",
       "      <th>Ratio</th>\n",
       "    </tr>\n",
       "  </thead>\n",
       "  <tbody>\n",
       "    <tr>\n",
       "      <th>572</th>\n",
       "      <td>Yellowstone County, MT</td>\n",
       "      <td>68.666667</td>\n",
       "      <td>71.929078</td>\n",
       "      <td>87</td>\n",
       "      <td>1.047511</td>\n",
       "    </tr>\n",
       "    <tr>\n",
       "      <th>293</th>\n",
       "      <td>Litchfield County, CT</td>\n",
       "      <td>45.125000</td>\n",
       "      <td>47.260638</td>\n",
       "      <td>60</td>\n",
       "      <td>1.047327</td>\n",
       "    </tr>\n",
       "    <tr>\n",
       "      <th>20</th>\n",
       "      <td>Ascension Parish, LA</td>\n",
       "      <td>51.812500</td>\n",
       "      <td>54.155585</td>\n",
       "      <td>69</td>\n",
       "      <td>1.045222</td>\n",
       "    </tr>\n",
       "    <tr>\n",
       "      <th>81</th>\n",
       "      <td>Catawba County, NC</td>\n",
       "      <td>68.666667</td>\n",
       "      <td>71.418440</td>\n",
       "      <td>87</td>\n",
       "      <td>1.040074</td>\n",
       "    </tr>\n",
       "    <tr>\n",
       "      <th>48</th>\n",
       "      <td>Boone County, KY</td>\n",
       "      <td>51.687500</td>\n",
       "      <td>53.070479</td>\n",
       "      <td>72</td>\n",
       "      <td>1.026757</td>\n",
       "    </tr>\n",
       "    <tr>\n",
       "      <th>426</th>\n",
       "      <td>Richland County, OH</td>\n",
       "      <td>36.333333</td>\n",
       "      <td>36.950355</td>\n",
       "      <td>49</td>\n",
       "      <td>1.016982</td>\n",
       "    </tr>\n",
       "    <tr>\n",
       "      <th>422</th>\n",
       "      <td>Randolph County, NC</td>\n",
       "      <td>49.333333</td>\n",
       "      <td>49.631206</td>\n",
       "      <td>65</td>\n",
       "      <td>1.006038</td>\n",
       "    </tr>\n",
       "    <tr>\n",
       "      <th>536</th>\n",
       "      <td>Washington County, MD</td>\n",
       "      <td>57.104167</td>\n",
       "      <td>57.414450</td>\n",
       "      <td>73</td>\n",
       "      <td>1.005434</td>\n",
       "    </tr>\n",
       "    <tr>\n",
       "      <th>46</th>\n",
       "      <td>Blount County, TN</td>\n",
       "      <td>32.250000</td>\n",
       "      <td>32.319149</td>\n",
       "      <td>43</td>\n",
       "      <td>1.002144</td>\n",
       "    </tr>\n",
       "    <tr>\n",
       "      <th>486</th>\n",
       "      <td>St. Lawrence County, NY</td>\n",
       "      <td>27.416667</td>\n",
       "      <td>27.226950</td>\n",
       "      <td>45</td>\n",
       "      <td>0.993080</td>\n",
       "    </tr>\n",
       "  </tbody>\n",
       "</table>\n",
       "</div>"
      ],
      "text/plain": [
       "                      county       Mean   Variance  Max     Ratio\n",
       "572   Yellowstone County, MT  68.666667  71.929078   87  1.047511\n",
       "293    Litchfield County, CT  45.125000  47.260638   60  1.047327\n",
       "20      Ascension Parish, LA  51.812500  54.155585   69  1.045222\n",
       "81        Catawba County, NC  68.666667  71.418440   87  1.040074\n",
       "48          Boone County, KY  51.687500  53.070479   72  1.026757\n",
       "426      Richland County, OH  36.333333  36.950355   49  1.016982\n",
       "422      Randolph County, NC  49.333333  49.631206   65  1.006038\n",
       "536    Washington County, MD  57.104167  57.414450   73  1.005434\n",
       "46         Blount County, TN  32.250000  32.319149   43  1.002144\n",
       "486  St. Lawrence County, NY  27.416667  27.226950   45  0.993080"
      ]
     },
     "execution_count": 26,
     "metadata": {},
     "output_type": "execute_result"
    }
   ],
   "source": [
    "births_by_county = births.groupby(\"county\", as_index=False).agg( Mean = (\"births\", \"mean\"), \n",
    "                                                                Variance = (\"births\", \"var\"), \n",
    "                                                                Max = (\"births\",\"max\") )\n",
    "births_by_county[\"Ratio\"] = births_by_county[\"Variance\"] / births_by_county[\"Mean\"]\n",
    "births_by_county = births_by_county[ births_by_county[\"Max\"] < 100 ]\n",
    "births_by_county = births_by_county.sort_values(by=\"Ratio\", ascending=False)\n",
    "births_by_county[ abs( births_by_county[\"Ratio\"] - 1 ) < .05 ]"
   ]
  },
  {
   "cell_type": "markdown",
   "id": "fbb96237",
   "metadata": {},
   "source": [
    "Oddly enough, the mean and variance for `births` per month are closest for a county in Tennessee! How well do births in Blount County agree with $\\operatorname{Pois}(32.25,32.32)$?"
   ]
  },
  {
   "cell_type": "code",
   "execution_count": 38,
   "id": "aa2243ee",
   "metadata": {},
   "outputs": [
    {
     "data": {
      "image/png": "[encoded data removed]",
      "text/plain": [
       "<Figure size 1080x432 with 2 Axes>"
      ]
     },
     "metadata": {},
     "output_type": "display_data"
    }
   ],
   "source": [
    "blount = births[ births[ \"county\"] == \"Blount County, TN\" ]\n",
    "fig, axs = plt.subplots(2, sharex=True)\n",
    "sns.histplot( data=blount, x=\"births\", discrete=True, ax=axs[0])\n",
    "axs[0].set_title(\"Observed births per month in Blount County, TN\")\n",
    "pois_rv = pd.DataFrame({\"Sample\" : poisson.rvs( np.mean(blount[\"births\"]), size=blount.shape[0])})\n",
    "sns.histplot(data=pois_rv, x=\"Sample\", discrete=True, ax=axs[1])\n",
    "axs[1].set_title(\"Simulated births per month in Blount County, TN\");"
   ]
  },
  {
   "cell_type": "markdown",
   "id": "b6e533e6",
   "metadata": {},
   "source": [
    "This also looks pretty good! More on this later..."
   ]
  },
  {
   "cell_type": "markdown",
   "id": "5005669b",
   "metadata": {},
   "source": [
    "### Poisson regression \n",
    "\n",
    "used to determine mean rate per county (crashes per month, births per month)\n"
   ]
  },
  {
   "cell_type": "markdown",
   "id": "63b80fd3",
   "metadata": {},
   "source": [
    "## <u>Negative binomial models</u>"
   ]
  },
  {
   "cell_type": "markdown",
   "id": "98fa0dac",
   "metadata": {},
   "source": [
    "### Monthly births \n",
    "\n",
    "The Poisson distribution can clearly be a reasonable model for births per month in a given county &mdash; if the mean and the variance of monthly births are **equal**! This is definitely not always the case:"
   ]
  },
  {
   "cell_type": "code",
   "execution_count": 41,
   "id": "f48c9e01",
   "metadata": {},
   "outputs": [
    {
     "data": {
      "text/html": [
       "<div>\n",
       "<style scoped>\n",
       "    .dataframe tbody tr th:only-of-type {\n",
       "        vertical-align: middle;\n",
       "    }\n",
       "\n",
       "    .dataframe tbody tr th {\n",
       "        vertical-align: top;\n",
       "    }\n",
       "\n",
       "    .dataframe thead th {\n",
       "        text-align: right;\n",
       "    }\n",
       "</style>\n",
       "<table border=\"1\" class=\"dataframe\">\n",
       "  <thead>\n",
       "    <tr style=\"text-align: right;\">\n",
       "      <th></th>\n",
       "      <th>county</th>\n",
       "      <th>Mean</th>\n",
       "      <th>Variance</th>\n",
       "      <th>Max</th>\n",
       "      <th>Ratio</th>\n",
       "    </tr>\n",
       "  </thead>\n",
       "  <tbody>\n",
       "    <tr>\n",
       "      <th>253</th>\n",
       "      <td>Kanawha County, WV</td>\n",
       "      <td>28.305556</td>\n",
       "      <td>155.989683</td>\n",
       "      <td>52</td>\n",
       "      <td>5.510921</td>\n",
       "    </tr>\n",
       "    <tr>\n",
       "      <th>235</th>\n",
       "      <td>Jackson County, MI</td>\n",
       "      <td>58.645833</td>\n",
       "      <td>157.850621</td>\n",
       "      <td>91</td>\n",
       "      <td>2.691591</td>\n",
       "    </tr>\n",
       "    <tr>\n",
       "      <th>423</th>\n",
       "      <td>Rankin County, MS</td>\n",
       "      <td>54.145833</td>\n",
       "      <td>131.063387</td>\n",
       "      <td>80</td>\n",
       "      <td>2.420563</td>\n",
       "    </tr>\n",
       "    <tr>\n",
       "      <th>342</th>\n",
       "      <td>Monroe County, IN</td>\n",
       "      <td>48.041667</td>\n",
       "      <td>115.317376</td>\n",
       "      <td>72</td>\n",
       "      <td>2.400362</td>\n",
       "    </tr>\n",
       "    <tr>\n",
       "      <th>441</th>\n",
       "      <td>Saline County, AR</td>\n",
       "      <td>53.541667</td>\n",
       "      <td>127.955674</td>\n",
       "      <td>79</td>\n",
       "      <td>2.389834</td>\n",
       "    </tr>\n",
       "    <tr>\n",
       "      <th>...</th>\n",
       "      <td>...</td>\n",
       "      <td>...</td>\n",
       "      <td>...</td>\n",
       "      <td>...</td>\n",
       "      <td>...</td>\n",
       "    </tr>\n",
       "    <tr>\n",
       "      <th>469</th>\n",
       "      <td>Sheboygan County, WI</td>\n",
       "      <td>39.833333</td>\n",
       "      <td>36.141844</td>\n",
       "      <td>55</td>\n",
       "      <td>0.907327</td>\n",
       "    </tr>\n",
       "    <tr>\n",
       "      <th>556</th>\n",
       "      <td>Whitfield County, GA</td>\n",
       "      <td>47.708333</td>\n",
       "      <td>42.593972</td>\n",
       "      <td>65</td>\n",
       "      <td>0.892799</td>\n",
       "    </tr>\n",
       "    <tr>\n",
       "      <th>226</th>\n",
       "      <td>Houston County, GA</td>\n",
       "      <td>70.270833</td>\n",
       "      <td>61.903812</td>\n",
       "      <td>89</td>\n",
       "      <td>0.880932</td>\n",
       "    </tr>\n",
       "    <tr>\n",
       "      <th>312</th>\n",
       "      <td>Marathon County, WI</td>\n",
       "      <td>50.479167</td>\n",
       "      <td>42.084663</td>\n",
       "      <td>66</td>\n",
       "      <td>0.833704</td>\n",
       "    </tr>\n",
       "    <tr>\n",
       "      <th>549</th>\n",
       "      <td>Wayne County, OH</td>\n",
       "      <td>46.145833</td>\n",
       "      <td>36.893174</td>\n",
       "      <td>58</td>\n",
       "      <td>0.799491</td>\n",
       "    </tr>\n",
       "  </tbody>\n",
       "</table>\n",
       "<p>226 rows × 5 columns</p>\n",
       "</div>"
      ],
      "text/plain": [
       "                   county       Mean    Variance  Max     Ratio\n",
       "253    Kanawha County, WV  28.305556  155.989683   52  5.510921\n",
       "235    Jackson County, MI  58.645833  157.850621   91  2.691591\n",
       "423     Rankin County, MS  54.145833  131.063387   80  2.420563\n",
       "342     Monroe County, IN  48.041667  115.317376   72  2.400362\n",
       "441     Saline County, AR  53.541667  127.955674   79  2.389834\n",
       "..                    ...        ...         ...  ...       ...\n",
       "469  Sheboygan County, WI  39.833333   36.141844   55  0.907327\n",
       "556  Whitfield County, GA  47.708333   42.593972   65  0.892799\n",
       "226    Houston County, GA  70.270833   61.903812   89  0.880932\n",
       "312   Marathon County, WI  50.479167   42.084663   66  0.833704\n",
       "549      Wayne County, OH  46.145833   36.893174   58  0.799491\n",
       "\n",
       "[226 rows x 5 columns]"
      ]
     },
     "execution_count": 41,
     "metadata": {},
     "output_type": "execute_result"
    }
   ],
   "source": [
    "births_by_county"
   ]
  },
  {
   "cell_type": "code",
   "execution_count": 50,
   "id": "48bfbf04",
   "metadata": {},
   "outputs": [
    {
     "data": {
      "image/png": "[encoded data removed]",
      "text/plain": [
       "<Figure size 1080x432 with 2 Axes>"
      ]
     },
     "metadata": {},
     "output_type": "display_data"
    }
   ],
   "source": [
    "kanawha = births[ births[\"county\"] == \"Kanawha County, WV\"]\n",
    "fig, axs = plt.subplots(2, sharex=True)\n",
    "sns.histplot( data=kanawha, x=\"births\", discrete=True, ax=axs[0])\n",
    "axs[0].set_title(\"Observed births per month in Kanawha County, WV\")\n",
    "pois = pd.DataFrame({\"Sample\" : poisson.rvs( np.mean(kanawha[\"births\"]), size=kanawha.shape[0])})\n",
    "sns.histplot(data=pois, x=\"Sample\", discrete=True, ax=axs[1])\n",
    "axs[1].set_title(\"Poisson-simulated births per month in Kanawha County, WV\");"
   ]
  },
  {
   "cell_type": "markdown",
   "id": "658ae437",
   "metadata": {},
   "source": [
    "Monthly births in Kanawha County, WV are definitely _not_ Poisson distributed! This is <font color=\"darkorchid\">**overdispersion**</font>: the variance is much larger than the mean. Overdispersion and underdispersion (variance smaller than the mean) are common issues in count modeling; in either case, Poisson models are _not_ appropriate &mdash; they only apply to counts that are <font color=\"darkorchid\">**equidispersed**</font>."
   ]
  },
  {
   "cell_type": "markdown",
   "id": "1774dace",
   "metadata": {},
   "source": [
    "### Monthly car crashes \n",
    "\n",
    "_All_ of the counties in the `crashes` dataset exhibit overdispersion, with Meigs County the closest to being equidispersed. Monthly crashes in nearby Hamilton County, home to Chattanooga, have a variance that is more than 20 times their mean:"
   ]
  },
  {
   "cell_type": "code",
   "execution_count": 53,
   "id": "63299602",
   "metadata": {},
   "outputs": [
    {
     "data": {
      "text/html": [
       "<div>\n",
       "<style scoped>\n",
       "    .dataframe tbody tr th:only-of-type {\n",
       "        vertical-align: middle;\n",
       "    }\n",
       "\n",
       "    .dataframe tbody tr th {\n",
       "        vertical-align: top;\n",
       "    }\n",
       "\n",
       "    .dataframe thead th {\n",
       "        text-align: right;\n",
       "    }\n",
       "</style>\n",
       "<table border=\"1\" class=\"dataframe\">\n",
       "  <thead>\n",
       "    <tr style=\"text-align: right;\">\n",
       "      <th></th>\n",
       "      <th>Crashes</th>\n",
       "    </tr>\n",
       "  </thead>\n",
       "  <tbody>\n",
       "    <tr>\n",
       "      <th>Mean</th>\n",
       "      <td>1047.060606</td>\n",
       "    </tr>\n",
       "    <tr>\n",
       "      <th>Variance</th>\n",
       "      <td>22476.347444</td>\n",
       "    </tr>\n",
       "  </tbody>\n",
       "</table>\n",
       "</div>"
      ],
      "text/plain": [
       "               Crashes\n",
       "Mean       1047.060606\n",
       "Variance  22476.347444"
      ]
     },
     "execution_count": 53,
     "metadata": {},
     "output_type": "execute_result"
    }
   ],
   "source": [
    "hamilton = crashes[ crashes[\"County\"] == \"Hamilton\" ]\n",
    "hamilton = hamilton.drop(\"County\",1)\n",
    "hamilton = hamilton.melt( id_vars=\"Year\", var_name=\"Month\", value_name=\"Crashes\" )\n",
    "hamilton.agg( Mean = (\"Crashes\",\"mean\"), Variance = (\"Crashes\",\"var\") )"
   ]
  },
  {
   "cell_type": "code",
   "execution_count": 54,
   "id": "5407a760",
   "metadata": {},
   "outputs": [
    {
     "data": {
      "image/png": "[encoded data removed]",
      "text/plain": [
       "<Figure size 1080x432 with 2 Axes>"
      ]
     },
     "metadata": {},
     "output_type": "display_data"
    }
   ],
   "source": [
    "fig, axs = plt.subplots(2, sharex=True)\n",
    "sns.histplot( data=hamilton, x=\"Crashes\", discrete=True, ax=axs[0])\n",
    "axs[0].set_title(\"Observed crashes per month in Hamilton County, TN\")\n",
    "pois = pd.DataFrame({\"Sample\" : poisson.rvs( np.mean(hamilton[\"Crashes\"]), size=hamilton.shape[0])})\n",
    "sns.histplot(data=pois, x=\"Sample\", discrete=True, ax=axs[1])\n",
    "axs[1].set_title(\"Poisson-simulated crashes per month in Hamilton County, TN\");"
   ]
  },
  {
   "cell_type": "markdown",
   "id": "5286138b",
   "metadata": {},
   "source": [
    "Terrible!! Never use a Poisson model when there's significant overdispersion!"
   ]
  },
  {
   "cell_type": "markdown",
   "id": "ad7e79a4",
   "metadata": {},
   "source": [
    "### Coughs per hour \n",
    "\n",
    "Navarra Hyfe data -- has zeroes!!"
   ]
  },
  {
   "cell_type": "markdown",
   "id": "37ad3b18",
   "metadata": {},
   "source": [
    "### Negative binomial distribution\n",
    "\n",
    "formula for probability distribution, relationship to Poisson and binomial distributions"
   ]
  },
  {
   "cell_type": "markdown",
   "id": "0b9c5454",
   "metadata": {},
   "source": [
    "### Negative binomial regression \n",
    "\n",
    "used to determine mean rates "
   ]
  },
  {
   "cell_type": "markdown",
   "id": "19108e64",
   "metadata": {},
   "source": [
    "## <u>The Kolmogorov-Smirnov test</u>"
   ]
  },
  {
   "cell_type": "markdown",
   "id": "7735d41d",
   "metadata": {},
   "source": [
    "### Cumulative distribution functions\n"
   ]
  },
  {
   "cell_type": "markdown",
   "id": "87db5a88",
   "metadata": {},
   "source": [
    "### The K-S test\n",
    "\n",
    "check whether empirical observations fit a proposed probability distribution"
   ]
  },
  {
   "cell_type": "code",
   "execution_count": null,
   "id": "d8c6c3ef",
   "metadata": {},
   "outputs": [],
   "source": []
  }
 ],
 "metadata": {
  "kernelspec": {
   "display_name": "Python 3",
   "language": "python",
   "name": "python3"
  },
  "language_info": {
   "codemirror_mode": {
    "name": "ipython",
    "version": 3
   },
   "file_extension": ".py",
   "mimetype": "text/x-python",
   "name": "python",
   "nbconvert_exporter": "python",
   "pygments_lexer": "ipython3",
   "version": "3.8.10"
  }
 },
 "nbformat": 4,
 "nbformat_minor": 5
}
