{
 "cells": [
  {
   "cell_type": "markdown",
   "id": "4d2e5e21",
   "metadata": {},
   "source": [
    "# <u>Count models, Part 2</u>\n",
    "\n",
    "Last time, we started talked about modeling <font color=\"darkorchid\">**count variables**</font> &mdash; random variables that can only have _integer_ values &mdash; with 2 basic probability distributions:\n",
    "* <font color=\"darkorchid\">the Poisson distribution</font> and \n",
    "* <font color=\"darkorchid\">the negative binomial distribution</font>.\n",
    "\n",
    "The Poisson distribution is defined by one parameter, $\\lambda$, which is both its mean and its variance; the negative binomial distribution is defined by two parameters, its mean $\\mu$ and its variance $\\sigma^2$, which need not be the same. ***This difference is key to choosing the appropriate distribution for modeling!***\n",
    "\n",
    "Today, we'll see how to incorporate predictor variables into count models to\n",
    "* make better predictions\n",
    "* understand relationships better\n",
    "\n",
    "All of this (and more!) is in Chapters 6 and 7 of my Manning book, [Regression: A friendly guide](https://www.manning.com/books/regression-a-friendly-guide), which are under active development. This notebook and the datasets are available now in my [regression repo on github](https://github.com/mbrudd/regression) &mdash; please clone and submit comments!\n",
    "\n",
    "## Libraries and settings"
   ]
  },
  {
   "cell_type": "code",
   "execution_count": 23,
   "id": "ffed02de",
   "metadata": {},
   "outputs": [],
   "source": [
    "library(tidyverse)\n",
    "library(MASS)\n",
    "options(scipen=999)"
   ]
  },
  {
   "cell_type": "markdown",
   "id": "ee2f4f60",
   "metadata": {},
   "source": [
    "## Monthly car crashes \n",
    "\n",
    "Here's one of the datasets we discussed before: traffic accidents per month for the counties in my home state of Tennessee ([available here](https://www.tn.gov/safety/stats/crashdata.html))."
   ]
  },
  {
   "cell_type": "code",
   "execution_count": 20,
   "id": "eed8179d",
   "metadata": {},
   "outputs": [
    {
     "data": {
      "text/html": [
       "<table class=\"dataframe\">\n",
       "<caption>A tibble: 6 × 14</caption>\n",
       "<thead>\n",
       "\t<tr><th scope=col>County</th><th scope=col>Year</th><th scope=col>January</th><th scope=col>February</th><th scope=col>March</th><th scope=col>April</th><th scope=col>May</th><th scope=col>June</th><th scope=col>July</th><th scope=col>August</th><th scope=col>September</th><th scope=col>October</th><th scope=col>November</th><th scope=col>December</th></tr>\n",
       "\t<tr><th scope=col>&lt;chr&gt;</th><th scope=col>&lt;dbl&gt;</th><th scope=col>&lt;dbl&gt;</th><th scope=col>&lt;dbl&gt;</th><th scope=col>&lt;dbl&gt;</th><th scope=col>&lt;dbl&gt;</th><th scope=col>&lt;dbl&gt;</th><th scope=col>&lt;dbl&gt;</th><th scope=col>&lt;dbl&gt;</th><th scope=col>&lt;dbl&gt;</th><th scope=col>&lt;dbl&gt;</th><th scope=col>&lt;dbl&gt;</th><th scope=col>&lt;dbl&gt;</th><th scope=col>&lt;dbl&gt;</th></tr>\n",
       "</thead>\n",
       "<tbody>\n",
       "\t<tr><td>Anderson</td><td>2010</td><td>138</td><td>113</td><td>169</td><td>169</td><td>155</td><td>152</td><td>165</td><td>176</td><td>178</td><td>169</td><td>179</td><td>152</td></tr>\n",
       "\t<tr><td>Bedford </td><td>2010</td><td> 71</td><td> 72</td><td> 77</td><td> 70</td><td> 87</td><td> 99</td><td> 90</td><td> 91</td><td> 86</td><td>118</td><td>105</td><td> 95</td></tr>\n",
       "\t<tr><td>Benton  </td><td>2010</td><td> 21</td><td> 23</td><td> 27</td><td> 32</td><td> 34</td><td> 29</td><td> 16</td><td> 43</td><td> 31</td><td> 50</td><td> 29</td><td> 36</td></tr>\n",
       "\t<tr><td>Bledsoe </td><td>2010</td><td>  5</td><td>  1</td><td>  3</td><td>  3</td><td>  5</td><td>  1</td><td>  7</td><td>  4</td><td>  3</td><td>  6</td><td>  4</td><td>  3</td></tr>\n",
       "\t<tr><td>Blount  </td><td>2010</td><td>126</td><td>159</td><td>171</td><td>145</td><td>153</td><td>139</td><td>201</td><td>264</td><td>338</td><td>267</td><td>316</td><td>269</td></tr>\n",
       "\t<tr><td>Bradley </td><td>2010</td><td>201</td><td>197</td><td>203</td><td>241</td><td>253</td><td>226</td><td>216</td><td>186</td><td>179</td><td>264</td><td>240</td><td>251</td></tr>\n",
       "</tbody>\n",
       "</table>\n"
      ],
      "text/latex": [
       "A tibble: 6 × 14\n",
       "\\begin{tabular}{llllllllllllll}\n",
       " County & Year & January & February & March & April & May & June & July & August & September & October & November & December\\\\\n",
       " <chr> & <dbl> & <dbl> & <dbl> & <dbl> & <dbl> & <dbl> & <dbl> & <dbl> & <dbl> & <dbl> & <dbl> & <dbl> & <dbl>\\\\\n",
       "\\hline\n",
       "\t Anderson & 2010 & 138 & 113 & 169 & 169 & 155 & 152 & 165 & 176 & 178 & 169 & 179 & 152\\\\\n",
       "\t Bedford  & 2010 &  71 &  72 &  77 &  70 &  87 &  99 &  90 &  91 &  86 & 118 & 105 &  95\\\\\n",
       "\t Benton   & 2010 &  21 &  23 &  27 &  32 &  34 &  29 &  16 &  43 &  31 &  50 &  29 &  36\\\\\n",
       "\t Bledsoe  & 2010 &   5 &   1 &   3 &   3 &   5 &   1 &   7 &   4 &   3 &   6 &   4 &   3\\\\\n",
       "\t Blount   & 2010 & 126 & 159 & 171 & 145 & 153 & 139 & 201 & 264 & 338 & 267 & 316 & 269\\\\\n",
       "\t Bradley  & 2010 & 201 & 197 & 203 & 241 & 253 & 226 & 216 & 186 & 179 & 264 & 240 & 251\\\\\n",
       "\\end{tabular}\n"
      ],
      "text/markdown": [
       "\n",
       "A tibble: 6 × 14\n",
       "\n",
       "| County &lt;chr&gt; | Year &lt;dbl&gt; | January &lt;dbl&gt; | February &lt;dbl&gt; | March &lt;dbl&gt; | April &lt;dbl&gt; | May &lt;dbl&gt; | June &lt;dbl&gt; | July &lt;dbl&gt; | August &lt;dbl&gt; | September &lt;dbl&gt; | October &lt;dbl&gt; | November &lt;dbl&gt; | December &lt;dbl&gt; |\n",
       "|---|---|---|---|---|---|---|---|---|---|---|---|---|---|\n",
       "| Anderson | 2010 | 138 | 113 | 169 | 169 | 155 | 152 | 165 | 176 | 178 | 169 | 179 | 152 |\n",
       "| Bedford  | 2010 |  71 |  72 |  77 |  70 |  87 |  99 |  90 |  91 |  86 | 118 | 105 |  95 |\n",
       "| Benton   | 2010 |  21 |  23 |  27 |  32 |  34 |  29 |  16 |  43 |  31 |  50 |  29 |  36 |\n",
       "| Bledsoe  | 2010 |   5 |   1 |   3 |   3 |   5 |   1 |   7 |   4 |   3 |   6 |   4 |   3 |\n",
       "| Blount   | 2010 | 126 | 159 | 171 | 145 | 153 | 139 | 201 | 264 | 338 | 267 | 316 | 269 |\n",
       "| Bradley  | 2010 | 201 | 197 | 203 | 241 | 253 | 226 | 216 | 186 | 179 | 264 | 240 | 251 |\n",
       "\n"
      ],
      "text/plain": [
       "  County   Year January February March April May June July August September\n",
       "1 Anderson 2010 138     113      169   169   155 152  165  176    178      \n",
       "2 Bedford  2010  71      72       77    70    87  99   90   91     86      \n",
       "3 Benton   2010  21      23       27    32    34  29   16   43     31      \n",
       "4 Bledsoe  2010   5       1        3     3     5   1    7    4      3      \n",
       "5 Blount   2010 126     159      171   145   153 139  201  264    338      \n",
       "6 Bradley  2010 201     197      203   241   253 226  216  186    179      \n",
       "  October November December\n",
       "1 169     179      152     \n",
       "2 118     105       95     \n",
       "3  50      29       36     \n",
       "4   6       4        3     \n",
       "5 267     316      269     \n",
       "6 264     240      251     "
      ]
     },
     "metadata": {},
     "output_type": "display_data"
    }
   ],
   "source": [
    "crashes <- read_csv(\"TDOT.csv\", col_types = cols())\n",
    "head( crashes )"
   ]
  },
  {
   "cell_type": "code",
   "execution_count": 26,
   "id": "7f1e5968",
   "metadata": {},
   "outputs": [
    {
     "data": {
      "text/html": [
       "<table class=\"dataframe\">\n",
       "<caption>A tibble: 6 × 5</caption>\n",
       "<thead>\n",
       "\t<tr><th scope=col>County</th><th scope=col>N</th><th scope=col>Mean</th><th scope=col>Var</th><th scope=col>Ratio</th></tr>\n",
       "\t<tr><th scope=col>&lt;chr&gt;</th><th scope=col>&lt;int&gt;</th><th scope=col>&lt;dbl&gt;</th><th scope=col>&lt;dbl&gt;</th><th scope=col>&lt;dbl&gt;</th></tr>\n",
       "</thead>\n",
       "<tbody>\n",
       "\t<tr><td>Anderson</td><td>132</td><td>157.022727</td><td> 511.610167</td><td>0.3069187</td></tr>\n",
       "\t<tr><td>Bedford </td><td>132</td><td> 92.568182</td><td> 240.247224</td><td>0.3853039</td></tr>\n",
       "\t<tr><td>Benton  </td><td>132</td><td> 29.000000</td><td>  41.694656</td><td>0.6955328</td></tr>\n",
       "\t<tr><td>Bledsoe </td><td>132</td><td>  7.022727</td><td>   9.518563</td><td>0.7377928</td></tr>\n",
       "\t<tr><td>Blount  </td><td>132</td><td>261.477273</td><td>1910.984212</td><td>0.1368286</td></tr>\n",
       "\t<tr><td>Bradley </td><td>132</td><td>252.075758</td><td>1174.833912</td><td>0.2145629</td></tr>\n",
       "</tbody>\n",
       "</table>\n"
      ],
      "text/latex": [
       "A tibble: 6 × 5\n",
       "\\begin{tabular}{lllll}\n",
       " County & N & Mean & Var & Ratio\\\\\n",
       " <chr> & <int> & <dbl> & <dbl> & <dbl>\\\\\n",
       "\\hline\n",
       "\t Anderson & 132 & 157.022727 &  511.610167 & 0.3069187\\\\\n",
       "\t Bedford  & 132 &  92.568182 &  240.247224 & 0.3853039\\\\\n",
       "\t Benton   & 132 &  29.000000 &   41.694656 & 0.6955328\\\\\n",
       "\t Bledsoe  & 132 &   7.022727 &    9.518563 & 0.7377928\\\\\n",
       "\t Blount   & 132 & 261.477273 & 1910.984212 & 0.1368286\\\\\n",
       "\t Bradley  & 132 & 252.075758 & 1174.833912 & 0.2145629\\\\\n",
       "\\end{tabular}\n"
      ],
      "text/markdown": [
       "\n",
       "A tibble: 6 × 5\n",
       "\n",
       "| County &lt;chr&gt; | N &lt;int&gt; | Mean &lt;dbl&gt; | Var &lt;dbl&gt; | Ratio &lt;dbl&gt; |\n",
       "|---|---|---|---|---|\n",
       "| Anderson | 132 | 157.022727 |  511.610167 | 0.3069187 |\n",
       "| Bedford  | 132 |  92.568182 |  240.247224 | 0.3853039 |\n",
       "| Benton   | 132 |  29.000000 |   41.694656 | 0.6955328 |\n",
       "| Bledsoe  | 132 |   7.022727 |    9.518563 | 0.7377928 |\n",
       "| Blount   | 132 | 261.477273 | 1910.984212 | 0.1368286 |\n",
       "| Bradley  | 132 | 252.075758 | 1174.833912 | 0.2145629 |\n",
       "\n"
      ],
      "text/plain": [
       "  County   N   Mean       Var         Ratio    \n",
       "1 Anderson 132 157.022727  511.610167 0.3069187\n",
       "2 Bedford  132  92.568182  240.247224 0.3853039\n",
       "3 Benton   132  29.000000   41.694656 0.6955328\n",
       "4 Bledsoe  132   7.022727    9.518563 0.7377928\n",
       "5 Blount   132 261.477273 1910.984212 0.1368286\n",
       "6 Bradley  132 252.075758 1174.833912 0.2145629"
      ]
     },
     "metadata": {},
     "output_type": "display_data"
    }
   ],
   "source": [
    "crash_stats <- crashes %>% \n",
    "  dplyr::select(-Year) %>%\n",
    "  pivot_longer(!County, names_to=\"Month\", values_to=\"Crashes\") %>%\n",
    "  group_by(County) %>% \n",
    "  drop_na(Crashes) %>%\n",
    "  summarize( N=n(),\n",
    "             Mean = mean(Crashes),\n",
    "             Var = var(Crashes), \n",
    "             Ratio = Mean/Var)\n",
    "head(crash_stats)"
   ]
  },
  {
   "cell_type": "code",
   "execution_count": 29,
   "id": "bf2a617e",
   "metadata": {},
   "outputs": [
    {
     "data": {
      "text/html": [
       "<table class=\"dataframe\">\n",
       "<caption>A tibble: 6 × 5</caption>\n",
       "<thead>\n",
       "\t<tr><th scope=col>County</th><th scope=col>N</th><th scope=col>Mean</th><th scope=col>Var</th><th scope=col>Ratio</th></tr>\n",
       "\t<tr><th scope=col>&lt;chr&gt;</th><th scope=col>&lt;int&gt;</th><th scope=col>&lt;dbl&gt;</th><th scope=col>&lt;dbl&gt;</th><th scope=col>&lt;dbl&gt;</th></tr>\n",
       "</thead>\n",
       "<tbody>\n",
       "\t<tr><td>Meigs </td><td>132</td><td>13.712121</td><td>15.198936</td><td>0.9021764</td></tr>\n",
       "\t<tr><td>Lewis </td><td>132</td><td>15.939394</td><td>18.225307</td><td>0.8745748</td></tr>\n",
       "\t<tr><td>Wayne </td><td>132</td><td>23.795455</td><td>29.675399</td><td>0.8018579</td></tr>\n",
       "\t<tr><td>Lake  </td><td>132</td><td> 4.280303</td><td> 5.577319</td><td>0.7674481</td></tr>\n",
       "\t<tr><td>Cannon</td><td>132</td><td>22.719697</td><td>29.913197</td><td>0.7595209</td></tr>\n",
       "\t<tr><td>Moore </td><td>132</td><td> 8.901515</td><td>11.799387</td><td>0.7544049</td></tr>\n",
       "</tbody>\n",
       "</table>\n"
      ],
      "text/latex": [
       "A tibble: 6 × 5\n",
       "\\begin{tabular}{lllll}\n",
       " County & N & Mean & Var & Ratio\\\\\n",
       " <chr> & <int> & <dbl> & <dbl> & <dbl>\\\\\n",
       "\\hline\n",
       "\t Meigs  & 132 & 13.712121 & 15.198936 & 0.9021764\\\\\n",
       "\t Lewis  & 132 & 15.939394 & 18.225307 & 0.8745748\\\\\n",
       "\t Wayne  & 132 & 23.795455 & 29.675399 & 0.8018579\\\\\n",
       "\t Lake   & 132 &  4.280303 &  5.577319 & 0.7674481\\\\\n",
       "\t Cannon & 132 & 22.719697 & 29.913197 & 0.7595209\\\\\n",
       "\t Moore  & 132 &  8.901515 & 11.799387 & 0.7544049\\\\\n",
       "\\end{tabular}\n"
      ],
      "text/markdown": [
       "\n",
       "A tibble: 6 × 5\n",
       "\n",
       "| County &lt;chr&gt; | N &lt;int&gt; | Mean &lt;dbl&gt; | Var &lt;dbl&gt; | Ratio &lt;dbl&gt; |\n",
       "|---|---|---|---|---|\n",
       "| Meigs  | 132 | 13.712121 | 15.198936 | 0.9021764 |\n",
       "| Lewis  | 132 | 15.939394 | 18.225307 | 0.8745748 |\n",
       "| Wayne  | 132 | 23.795455 | 29.675399 | 0.8018579 |\n",
       "| Lake   | 132 |  4.280303 |  5.577319 | 0.7674481 |\n",
       "| Cannon | 132 | 22.719697 | 29.913197 | 0.7595209 |\n",
       "| Moore  | 132 |  8.901515 | 11.799387 | 0.7544049 |\n",
       "\n"
      ],
      "text/plain": [
       "  County N   Mean      Var       Ratio    \n",
       "1 Meigs  132 13.712121 15.198936 0.9021764\n",
       "2 Lewis  132 15.939394 18.225307 0.8745748\n",
       "3 Wayne  132 23.795455 29.675399 0.8018579\n",
       "4 Lake   132  4.280303  5.577319 0.7674481\n",
       "5 Cannon 132 22.719697 29.913197 0.7595209\n",
       "6 Moore  132  8.901515 11.799387 0.7544049"
      ]
     },
     "metadata": {},
     "output_type": "display_data"
    }
   ],
   "source": [
    "head( crash_stats %>% arrange( desc( Ratio )) )"
   ]
  },
  {
   "cell_type": "code",
   "execution_count": 35,
   "id": "5d62b520",
   "metadata": {},
   "outputs": [
    {
     "data": {
      "text/html": [
       "<table class=\"dataframe\">\n",
       "<caption>A tibble: 6 × 2</caption>\n",
       "<thead>\n",
       "\t<tr><th scope=col>Month</th><th scope=col>Crashes</th></tr>\n",
       "\t<tr><th scope=col>&lt;chr&gt;</th><th scope=col>&lt;dbl&gt;</th></tr>\n",
       "</thead>\n",
       "<tbody>\n",
       "\t<tr><td>January </td><td>11</td></tr>\n",
       "\t<tr><td>February</td><td> 8</td></tr>\n",
       "\t<tr><td>March   </td><td>10</td></tr>\n",
       "\t<tr><td>April   </td><td>14</td></tr>\n",
       "\t<tr><td>May     </td><td>18</td></tr>\n",
       "\t<tr><td>June    </td><td>12</td></tr>\n",
       "</tbody>\n",
       "</table>\n"
      ],
      "text/latex": [
       "A tibble: 6 × 2\n",
       "\\begin{tabular}{ll}\n",
       " Month & Crashes\\\\\n",
       " <chr> & <dbl>\\\\\n",
       "\\hline\n",
       "\t January  & 11\\\\\n",
       "\t February &  8\\\\\n",
       "\t March    & 10\\\\\n",
       "\t April    & 14\\\\\n",
       "\t May      & 18\\\\\n",
       "\t June     & 12\\\\\n",
       "\\end{tabular}\n"
      ],
      "text/markdown": [
       "\n",
       "A tibble: 6 × 2\n",
       "\n",
       "| Month &lt;chr&gt; | Crashes &lt;dbl&gt; |\n",
       "|---|---|\n",
       "| January  | 11 |\n",
       "| February |  8 |\n",
       "| March    | 10 |\n",
       "| April    | 14 |\n",
       "| May      | 18 |\n",
       "| June     | 12 |\n",
       "\n"
      ],
      "text/plain": [
       "  Month    Crashes\n",
       "1 January  11     \n",
       "2 February  8     \n",
       "3 March    10     \n",
       "4 April    14     \n",
       "5 May      18     \n",
       "6 June     12     "
      ]
     },
     "metadata": {},
     "output_type": "display_data"
    }
   ],
   "source": [
    "meigs <- crashes %>% \n",
    "            filter(County == \"Meigs\" ) %>% \n",
    "            dplyr::select(January:December) %>% \n",
    "            pivot_longer(everything(), names_to=\"Month\", values_to=\"Crashes\")\n",
    "head( meigs )"
   ]
  },
  {
   "cell_type": "code",
   "execution_count": 42,
   "id": "2c8870dc",
   "metadata": {},
   "outputs": [
    {
     "data": {
      "image/png": "[encoded data removed]",
      "text/plain": [
       "plot without title"
      ]
     },
     "metadata": {
      "image/png": {
       "height": 420,
       "width": 420
      }
     },
     "output_type": "display_data"
    }
   ],
   "source": [
    "ggplot( meigs, aes(Crashes)) + \n",
    "    geom_histogram( binwidth=1 ) + \n",
    "    geom_vline( xintercept = mean( meigs$Crashes), color=\"blue\", lwd=2)"
   ]
  },
  {
   "cell_type": "markdown",
   "id": "1a872bfd",
   "metadata": {},
   "source": [
    "The punchline: the Poisson distribution $P(13.7)$ is a decent model for monthly crashes in Meigs county. Poisson models won't work so well for other counties in Tennessee, as many of their means and variances are quite different."
   ]
  },
  {
   "cell_type": "markdown",
   "id": "0ee8e55d",
   "metadata": {},
   "source": [
    "## Births"
   ]
  },
  {
   "cell_type": "code",
   "execution_count": 13,
   "id": "5e3967ce",
   "metadata": {
    "scrolled": false
   },
   "outputs": [],
   "source": [
    "births <- read_csv(\"births.csv\", col_types = cols())"
   ]
  },
  {
   "cell_type": "code",
   "execution_count": null,
   "id": "7d96fecd",
   "metadata": {},
   "outputs": [],
   "source": []
  }
 ],
 "metadata": {
  "kernelspec": {
   "display_name": "R",
   "language": "R",
   "name": "r"
  },
  "language_info": {
   "codemirror_mode": "r",
   "file_extension": ".r",
   "mimetype": "text/x-r-source",
   "name": "R",
   "pygments_lexer": "r",
   "version": "4.1.0"
  }
 },
 "nbformat": 4,
 "nbformat_minor": 5
}
