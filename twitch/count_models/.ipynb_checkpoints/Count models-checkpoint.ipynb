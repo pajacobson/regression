{
 "cells": [
  {
   "cell_type": "markdown",
   "id": "2248cf45",
   "metadata": {},
   "source": [
    "# Count models\n",
    "\n",
    "Counting is child's play, easy as 1, 2, 3, right? \n",
    "\n",
    "As with most things, the answer's not so simple: some things are easy to count, and some things aren't. \n",
    "\n",
    "Plan: talk about how to model counts and check the fit\n",
    "\n",
    "* with distributions: binomial, Poisson, negative binomial\n",
    "* with real data: car crashes (TDOT data), births (U.S. Census data), coughs (Hyfe Navarra data)\n",
    "* Kolmogorov-Smirnov\n"
   ]
  },
  {
   "cell_type": "markdown",
   "id": "af851d4c",
   "metadata": {},
   "source": [
    "## Binomial models"
   ]
  },
  {
   "cell_type": "markdown",
   "id": "c26751b5",
   "metadata": {},
   "source": [
    "### Chronic conditions by age cohort\n",
    "\n",
    "Example"
   ]
  },
  {
   "cell_type": "markdown",
   "id": "4d269784",
   "metadata": {},
   "source": [
    "### Binomial probability distribution\n",
    "\n",
    "Discuss formula"
   ]
  },
  {
   "cell_type": "markdown",
   "id": "314e622c",
   "metadata": {},
   "source": [
    "### Logistic regression \n",
    "\n",
    "Used to determine probability per cohort\n"
   ]
  },
  {
   "cell_type": "markdown",
   "id": "8eb838a8",
   "metadata": {},
   "source": [
    "## Poisson models"
   ]
  },
  {
   "cell_type": "markdown",
   "id": "9f1d14a3",
   "metadata": {},
   "source": [
    "### Monthly car crashes \n",
    "\n",
    "by county in Tennessee (some counties, not others!)\n"
   ]
  },
  {
   "cell_type": "markdown",
   "id": "375fd639",
   "metadata": {},
   "source": [
    "### Monthly births \n",
    "\n",
    "by county in the United States (some counties, not others!)\n"
   ]
  },
  {
   "cell_type": "markdown",
   "id": "3753bcae",
   "metadata": {},
   "source": [
    "### Poisson distribution\n",
    "\n",
    "formula for probability distribution \n",
    "\n",
    "relationship to/derivation from binomial distribution\n"
   ]
  },
  {
   "cell_type": "markdown",
   "id": "5005669b",
   "metadata": {},
   "source": [
    "### Poisson regression \n",
    "\n",
    "used to determine mean rate per county (crashes per month, births per month)\n"
   ]
  },
  {
   "cell_type": "markdown",
   "id": "63b80fd3",
   "metadata": {},
   "source": [
    "## Negative binomial models"
   ]
  },
  {
   "cell_type": "markdown",
   "id": "1774dace",
   "metadata": {},
   "source": [
    "### Monthly car crashes \n",
    "\n",
    "by county in Tennessee (some counties, not others!)"
   ]
  },
  {
   "cell_type": "markdown",
   "id": "469b3c4f",
   "metadata": {},
   "source": [
    "### Monthly births \n",
    "\n",
    "by county in the United States (some counties, not others!)"
   ]
  },
  {
   "cell_type": "markdown",
   "id": "ad7e79a4",
   "metadata": {},
   "source": [
    "### Coughs per hour \n",
    "\n",
    "Navarra Hyfe data -- has zeroes!!"
   ]
  },
  {
   "cell_type": "markdown",
   "id": "37ad3b18",
   "metadata": {},
   "source": [
    "### Negative binomial distribution\n",
    "\n",
    "formula for probability distribution, relationship to Poisson and binomial distributions"
   ]
  },
  {
   "cell_type": "markdown",
   "id": "0b9c5454",
   "metadata": {},
   "source": [
    "### Negative binomial regression \n",
    "\n",
    "used to determine mean rates "
   ]
  },
  {
   "cell_type": "markdown",
   "id": "19108e64",
   "metadata": {},
   "source": [
    "## The Kolmogorov-Smirnov test"
   ]
  },
  {
   "cell_type": "markdown",
   "id": "7735d41d",
   "metadata": {},
   "source": [
    "### Empirical cumulative distributions\n"
   ]
  },
  {
   "cell_type": "markdown",
   "id": "87db5a88",
   "metadata": {},
   "source": [
    "### Goodness of fit\n",
    "\n",
    "check whether empirical observations fit a proposed probability distribution"
   ]
  },
  {
   "cell_type": "code",
   "execution_count": null,
   "id": "d8c6c3ef",
   "metadata": {},
   "outputs": [],
   "source": []
  }
 ],
 "metadata": {
  "kernelspec": {
   "display_name": "Python 3",
   "language": "python",
   "name": "python3"
  },
  "language_info": {
   "codemirror_mode": {
    "name": "ipython",
    "version": 3
   },
   "file_extension": ".py",
   "mimetype": "text/x-python",
   "name": "python",
   "nbconvert_exporter": "python",
   "pygments_lexer": "ipython3",
   "version": "3.8.10"
  }
 },
 "nbformat": 4,
 "nbformat_minor": 5
}
