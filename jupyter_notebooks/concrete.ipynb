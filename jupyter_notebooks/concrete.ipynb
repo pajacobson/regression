{
 "cells": [
  {
   "cell_type": "code",
   "execution_count": null,
   "id": "639f11c4",
   "metadata": {},
   "outputs": [],
   "source": [
    "import numpy as np\n",
    "import pandas as pd\n",
    "import matplotlib.pyplot as plt\n",
    "import seaborn as sns\n",
    "import statsmodels.formula.api as smf"
   ]
  },
  {
   "cell_type": "code",
   "execution_count": null,
   "id": "95db859f",
   "metadata": {},
   "outputs": [],
   "source": [
    "import warnings\n",
    "warnings.filterwarnings('ignore')"
   ]
  },
  {
   "cell_type": "code",
   "execution_count": null,
   "id": "cd43c709",
   "metadata": {},
   "outputs": [],
   "source": [
    "sns.set_theme()\n",
    "plt.rcParams['figure.figsize'] = [8,8]"
   ]
  },
  {
   "cell_type": "code",
   "execution_count": null,
   "id": "4dbfe280",
   "metadata": {},
   "outputs": [],
   "source": [
    "concrete = pd.read_csv(\"../datasets/concrete.csv\")\n",
    "concrete.columns"
   ]
  },
  {
   "cell_type": "code",
   "execution_count": null,
   "id": "d28a87f5",
   "metadata": {},
   "outputs": [],
   "source": [
    "concrete = concrete.query(\"Age == 28\").filter([\"Cement\",\"Water\",\"Strength\"])\n",
    "concrete.shape"
   ]
  },
  {
   "cell_type": "code",
   "execution_count": null,
   "id": "6872cdee",
   "metadata": {},
   "outputs": [],
   "source": [
    "concrete = concrete.assign(Ratio = concrete.Water / concrete.Cement)\n",
    "concrete.head()"
   ]
  },
  {
   "cell_type": "code",
   "execution_count": null,
   "id": "362d2dea",
   "metadata": {},
   "outputs": [],
   "source": [
    "sns.regplot(data=concrete, x=\"Ratio\", y=\"Strength\", \n",
    "            ci=None, line_kws={\"color\":\"black\"})\n",
    "plt.title(\"Compressive strength versus water:cement ratio\")\n",
    "# plt.savefig(\"concrete_wc.png\")"
   ]
  },
  {
   "cell_type": "code",
   "execution_count": null,
   "id": "4d759c9e",
   "metadata": {},
   "outputs": [],
   "source": [
    "concrete_model = smf.ols(\"Strength ~ Ratio\", data=concrete)\n",
    "concrete_fit = concrete_model.fit()\n",
    "concrete_fit.params"
   ]
  },
  {
   "cell_type": "code",
   "execution_count": null,
   "id": "ea7b9a04",
   "metadata": {},
   "outputs": [],
   "source": [
    "np.sqrt( concrete_fit.scale )"
   ]
  },
  {
   "cell_type": "code",
   "execution_count": null,
   "id": "487f523c",
   "metadata": {},
   "outputs": [],
   "source": [
    "concrete.Strength.corr( concrete.Ratio )"
   ]
  },
  {
   "cell_type": "code",
   "execution_count": null,
   "id": "ccc218d0",
   "metadata": {},
   "outputs": [],
   "source": [
    "concrete_fit.rsquared"
   ]
  },
  {
   "cell_type": "code",
   "execution_count": null,
   "id": "07268f6e",
   "metadata": {},
   "outputs": [],
   "source": [
    "sns.residplot(data=concrete, x=\"Ratio\", y=\"Strength\", \n",
    "              line_kws = {\"color\" : \"black\"})\n",
    "plt.title(\"Residuals: Strength vs water:cement ratio\")\n",
    "# plt.savefig(\"concrete_wc_res.png\")"
   ]
  },
  {
   "cell_type": "code",
   "execution_count": null,
   "id": "01584b32",
   "metadata": {},
   "outputs": [],
   "source": [
    "concrete = concrete.assign(Ratio = concrete.Cement / concrete.Water )\n",
    "concrete.head()"
   ]
  },
  {
   "cell_type": "code",
   "execution_count": null,
   "id": "f31d71da",
   "metadata": {},
   "outputs": [],
   "source": [
    "sns.regplot(data=concrete, x=\"Ratio\", y=\"Strength\", \n",
    "            ci=None, line_kws={\"color\":\"black\"})\n",
    "plt.title(\"Compressive strength versus cement:water ratio\")\n",
    "# plt.savefig(\"concrete_cw.png\")"
   ]
  },
  {
   "cell_type": "code",
   "execution_count": null,
   "id": "b96dcae8",
   "metadata": {},
   "outputs": [],
   "source": [
    "concrete.Strength.corr( concrete.Ratio )"
   ]
  },
  {
   "cell_type": "code",
   "execution_count": null,
   "id": "cb58c339",
   "metadata": {},
   "outputs": [],
   "source": [
    "concrete_model = smf.ols(\"Strength ~ Ratio\", data=concrete)\n",
    "concrete_fit = concrete_model.fit()\n",
    "concrete_fit.params"
   ]
  },
  {
   "cell_type": "code",
   "execution_count": null,
   "id": "30348e25",
   "metadata": {},
   "outputs": [],
   "source": [
    "concrete_rse = np.sqrt( concrete_fit.scale )\n",
    "concrete_rse"
   ]
  },
  {
   "cell_type": "code",
   "execution_count": null,
   "id": "15404f75",
   "metadata": {},
   "outputs": [],
   "source": [
    "concrete_fit.rsquared"
   ]
  },
  {
   "cell_type": "code",
   "execution_count": null,
   "id": "fbd3f6de",
   "metadata": {},
   "outputs": [],
   "source": [
    "sns.residplot(data=concrete, x=\"Ratio\", y=\"Strength\", \n",
    "              line_kws = {\"color\" : \"black\"})\n",
    "plt.axhline( 2*concrete_rse, color=\"black\", linestyle=\":\")\n",
    "plt.axhline( -2*concrete_rse, color=\"black\", linestyle=\":\")\n",
    "plt.title(\"Residuals: Strength vs cement:water ratio\")\n",
    "# plt.savefig(\"concrete_cw_res.png\")"
   ]
  },
  {
   "cell_type": "code",
   "execution_count": null,
   "id": "9548a44f",
   "metadata": {},
   "outputs": [],
   "source": [
    "sns.histplot( data=concrete, x=\"Strength\")\n",
    "# plt.savefig(\"concrete_strength.png\")"
   ]
  },
  {
   "cell_type": "code",
   "execution_count": null,
   "id": "9d22bf88",
   "metadata": {},
   "outputs": [],
   "source": [
    "print(concrete_fit.summary() )"
   ]
  },
  {
   "cell_type": "code",
   "execution_count": null,
   "id": "43640c08",
   "metadata": {},
   "outputs": [],
   "source": [
    "concrete_fit.conf_int()"
   ]
  },
  {
   "cell_type": "code",
   "execution_count": null,
   "id": "015d8aa3",
   "metadata": {},
   "outputs": [],
   "source": [
    "sns.regplot( data=concrete, x=\"Ratio\", y=\"Strength\", \n",
    "             line_kws = {\"color\" : \"black\"})\n",
    "plt.title(\"Compressive strength versus ratio with confidence bands\")\n",
    "# plt.savefig(\"concrete_cw_with_ci.png\")"
   ]
  },
  {
   "cell_type": "code",
   "execution_count": null,
   "id": "ccf44deb",
   "metadata": {},
   "outputs": [],
   "source": []
  }
 ],
 "metadata": {
  "kernelspec": {
   "display_name": "Python 3 (ipykernel)",
   "language": "python",
   "name": "python3"
  },
  "language_info": {
   "codemirror_mode": {
    "name": "ipython",
    "version": 3
   },
   "file_extension": ".py",
   "mimetype": "text/x-python",
   "name": "python",
   "nbconvert_exporter": "python",
   "pygments_lexer": "ipython3",
   "version": "3.8.12"
  }
 },
 "nbformat": 4,
 "nbformat_minor": 5
}
