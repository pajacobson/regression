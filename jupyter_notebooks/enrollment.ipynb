{
 "cells": [
  {
   "cell_type": "code",
   "execution_count": null,
   "id": "0dddd4a3",
   "metadata": {},
   "outputs": [],
   "source": [
    "import numpy as np\n",
    "import pandas as pd\n",
    "import matplotlib.pyplot as plt\n",
    "import seaborn as sns\n",
    "import statsmodels.formula.api as smf"
   ]
  },
  {
   "cell_type": "code",
   "execution_count": null,
   "id": "a3e070c2",
   "metadata": {},
   "outputs": [],
   "source": [
    "import warnings\n",
    "warnings.filterwarnings('ignore')"
   ]
  },
  {
   "cell_type": "code",
   "execution_count": null,
   "id": "82528383",
   "metadata": {},
   "outputs": [],
   "source": [
    "sns.set_theme()\n",
    "plt.rcParams['figure.figsize'] = [8,8]"
   ]
  },
  {
   "cell_type": "code",
   "execution_count": null,
   "id": "b306a7e9",
   "metadata": {},
   "outputs": [],
   "source": [
    "enroll = pd.read_csv(\"../datasets/enrollment.csv\")\n",
    "enroll.head()"
   ]
  },
  {
   "cell_type": "code",
   "execution_count": null,
   "id": "fc9fee56",
   "metadata": {},
   "outputs": [],
   "source": [
    "enroll.Births = enroll.Births / 1000000\n",
    "enroll.Enrollment = enroll.Enrollment / 1000000\n",
    "enroll.head()"
   ]
  },
  {
   "cell_type": "code",
   "execution_count": null,
   "id": "f57304a4",
   "metadata": {},
   "outputs": [],
   "source": [
    "trend = enroll.query(\"EnrollmentYear > 1980 & EnrollmentYear < 2019\")\n",
    "sns.lineplot( data=trend, x=\"EnrollmentYear\", y=\"Enrollment\")\n",
    "sns.scatterplot( data=trend, x=\"EnrollmentYear\", y=\"Enrollment\")\n",
    "plt.title(\"Undergraduate enrollments, 1985 to 2018\")\n",
    "plt.xlabel(\"Year\")\n",
    "plt.ylabel(\"Enrollment (millions)\")\n",
    "# plt.savefig(\"annual_enrollments.png\")"
   ]
  },
  {
   "cell_type": "code",
   "execution_count": null,
   "id": "8eb82708",
   "metadata": {},
   "outputs": [],
   "source": [
    "train = enroll.query(\"BirthYear < 1999\")\n",
    "sns.scatterplot(data=train, x=\"Births\", y=\"Enrollment\")\n",
    "plt.title(\"Enrollments versus Births 20 years earlier\")\n",
    "plt.xlabel(\"Births (millions)\")\n",
    "plt.ylabel(\"Enrollment (millions)\")\n",
    "# plt.savefig(\"enrollment_births.png\")"
   ]
  },
  {
   "cell_type": "code",
   "execution_count": null,
   "id": "8d819109",
   "metadata": {},
   "outputs": [],
   "source": [
    "train = train.assign( BirthDecade = train.BirthYear - (train.BirthYear % 10) )\n",
    "train.BirthDecade = train.BirthDecade.astype(\"category\")\n",
    "sns.scatterplot(data=train, x=\"Births\", y=\"Enrollment\", hue=\"BirthDecade\")\n",
    "plt.xlabel(\"Births (millions)\")\n",
    "plt.ylabel(\"Enrollment (millions)\")\n",
    "# plt.savefig(\"enrollment_births_decade.png\")"
   ]
  },
  {
   "cell_type": "code",
   "execution_count": null,
   "id": "55246c31",
   "metadata": {},
   "outputs": [],
   "source": [
    "train = train.query(\"BirthYear > 1978\")\n",
    "train.BirthDecade = train.BirthDecade.cat.remove_unused_categories()\n",
    "sns.scatterplot(data=train, x=\"Births\", y=\"Enrollment\", hue=\"BirthDecade\")\n",
    "plt.xlabel(\"Births (millions)\")\n",
    "plt.ylabel(\"Enrollment (millions)\")\n",
    "# plt.savefig(\"enrollment_births_80s.png\")"
   ]
  },
  {
   "cell_type": "code",
   "execution_count": null,
   "id": "314117e5",
   "metadata": {},
   "outputs": [],
   "source": [
    "train.Births.corr( train.Enrollment )"
   ]
  },
  {
   "cell_type": "code",
   "execution_count": null,
   "id": "e93efa49",
   "metadata": {},
   "outputs": [],
   "source": [
    "train_model = smf.ols(\"Enrollment ~ Births\", data=train)\n",
    "train_fit = train_model.fit()\n",
    "train_fit.params"
   ]
  },
  {
   "cell_type": "code",
   "execution_count": null,
   "id": "455a5947",
   "metadata": {},
   "outputs": [],
   "source": [
    "train_fit.rsquared"
   ]
  },
  {
   "cell_type": "code",
   "execution_count": null,
   "id": "35202d9d",
   "metadata": {},
   "outputs": [],
   "source": [
    "np.sqrt( train_fit.scale )"
   ]
  },
  {
   "cell_type": "code",
   "execution_count": null,
   "id": "99433a15",
   "metadata": {},
   "outputs": [],
   "source": [
    "predictions = enroll.query(\"BirthYear > 1998\").filter([\"BirthYear\",\"Births\",\"EnrollmentYear\"])\n",
    "predictions = predictions.assign( Enrollment = train_fit.predict( predictions.Births ) )\n",
    "predictions"
   ]
  },
  {
   "cell_type": "code",
   "execution_count": null,
   "id": "fffffafc",
   "metadata": {},
   "outputs": [],
   "source": [
    "sns.regplot(data=train, x=\"Births\", y=\"Enrollment\", ci=None, line_kws={\"color\":\"black\"})\n",
    "sns.scatterplot(data=predictions, x=\"Births\", y=\"Enrollment\")\n",
    "plt.xlim(3.4,4.4)\n",
    "plt.xlabel(\"Births (millions)\")\n",
    "plt.ylabel(\"Enrollment (millions)\")\n",
    "plt.title(\"Observed and predicted enrollments versus births\")\n",
    "# plt.savefig(\"predicted_enrollments.png\")"
   ]
  },
  {
   "cell_type": "code",
   "execution_count": null,
   "id": "c96a0ac5",
   "metadata": {},
   "outputs": [],
   "source": [
    "predictions.query(\"Enrollment > 19\")"
   ]
  },
  {
   "cell_type": "code",
   "execution_count": null,
   "id": "dcc3ec11",
   "metadata": {},
   "outputs": [],
   "source": [
    "sns.lineplot( data=trend, x=\"EnrollmentYear\", y=\"Enrollment\")\n",
    "sns.scatterplot( data=trend, x=\"EnrollmentYear\", y=\"Enrollment\")\n",
    "sns.lineplot( data=predictions, x=\"EnrollmentYear\", y=\"Enrollment\")\n",
    "sns.scatterplot( data=predictions, x=\"EnrollmentYear\", y=\"Enrollment\")\n",
    "plt.axhline( 19, linestyle=\":\", color=\"black\")\n",
    "plt.title(\"Observed and predicted enrollments, 1985 to 2038\")\n",
    "plt.xlabel(\"Year\")\n",
    "plt.ylabel(\"Enrollment (millions)\")\n",
    "# plt.savefig(\"combined_enrollments.png\")"
   ]
  },
  {
   "cell_type": "code",
   "execution_count": null,
   "id": "42601baf",
   "metadata": {},
   "outputs": [],
   "source": []
  }
 ],
 "metadata": {
  "kernelspec": {
   "display_name": "Python 3 (ipykernel)",
   "language": "python",
   "name": "python3"
  },
  "language_info": {
   "codemirror_mode": {
    "name": "ipython",
    "version": 3
   },
   "file_extension": ".py",
   "mimetype": "text/x-python",
   "name": "python",
   "nbconvert_exporter": "python",
   "pygments_lexer": "ipython3",
   "version": "3.8.12"
  }
 },
 "nbformat": 4,
 "nbformat_minor": 5
}
