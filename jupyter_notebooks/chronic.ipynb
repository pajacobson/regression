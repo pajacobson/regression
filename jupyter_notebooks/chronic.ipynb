{
 "cells": [
  {
   "cell_type": "code",
   "execution_count": null,
   "id": "d30aface",
   "metadata": {},
   "outputs": [],
   "source": [
    "import numpy as np\n",
    "import pandas as pd\n",
    "import matplotlib.pyplot as plt\n",
    "import seaborn as sns\n",
    "import statsmodels.formula.api as smf\n",
    "import statsmodels.api as sm\n",
    "import scipy.stats as st\n",
    "from sklearn import metrics"
   ]
  },
  {
   "cell_type": "code",
   "execution_count": null,
   "id": "898c5a42",
   "metadata": {},
   "outputs": [],
   "source": [
    "# from IPython.core.interactiveshell import InteractiveShell\n",
    "# InteractiveShell.ast_node_interactivity = \"all\""
   ]
  },
  {
   "cell_type": "code",
   "execution_count": null,
   "id": "fa2269e5",
   "metadata": {},
   "outputs": [],
   "source": [
    "import warnings\n",
    "warnings.filterwarnings('ignore')"
   ]
  },
  {
   "cell_type": "code",
   "execution_count": null,
   "id": "bb0f982b",
   "metadata": {},
   "outputs": [],
   "source": [
    "sns.set_theme()\n",
    "plt.rcParams['figure.figsize'] = [8,8]"
   ]
  },
  {
   "cell_type": "code",
   "execution_count": null,
   "id": "55c0db56",
   "metadata": {},
   "outputs": [],
   "source": [
    "chronic = pd.read_csv(\"../datasets/chronic.csv\")\n",
    "chronic"
   ]
  },
  {
   "cell_type": "code",
   "execution_count": null,
   "id": "aeb15db5",
   "metadata": {},
   "outputs": [],
   "source": [
    "sns.scatterplot(data=chronic, x=\"Age\", y=\"Condition\")\n",
    "# plt.savefig(\"chronic_plot.png\")"
   ]
  },
  {
   "cell_type": "code",
   "execution_count": null,
   "id": "5b99ccfe",
   "metadata": {},
   "outputs": [],
   "source": [
    "prop = chronic.Condition.mean()\n",
    "( chronic.groupby(\"Condition\")\n",
    " .agg(Number = (\"Condition\",\"size\"))\n",
    " .assign(Proportion = [ 1-prop, prop ]) )"
   ]
  },
  {
   "cell_type": "code",
   "execution_count": null,
   "id": "903cebf7",
   "metadata": {},
   "outputs": [],
   "source": [
    "cohorts = (chronic.groupby(\"Age\", as_index=False)\n",
    "           .agg(Number = (\"Condition\",\"size\"), \n",
    "                Rate = (\"Condition\",\"mean\")))\n",
    "cohorts"
   ]
  },
  {
   "cell_type": "code",
   "execution_count": null,
   "id": "34b941db",
   "metadata": {},
   "outputs": [],
   "source": [
    "sns.scatterplot(data=cohorts, x=\"Age\", y=\"Rate\")\n",
    "# plt.savefig(\"chronic_age_cohorts.png\")"
   ]
  },
  {
   "cell_type": "code",
   "execution_count": null,
   "id": "206d35ef",
   "metadata": {},
   "outputs": [],
   "source": [
    "chronic[\"Decade\"] = 10*round(chronic.Age / 10)\n",
    "decades = (chronic.groupby(\"Decade\", as_index=False)\n",
    "           .agg(Total=(\"Condition\",\"size\"), \n",
    "                Afflicted=(\"Condition\",\"sum\"),\n",
    "                Rate=(\"Condition\",\"mean\")))\n",
    "decades"
   ]
  },
  {
   "cell_type": "code",
   "execution_count": null,
   "id": "13e733bb",
   "metadata": {},
   "outputs": [],
   "source": [
    "sns.scatterplot(data=decades, x=\"Decade\", y=\"Rate\")\n",
    "# plt.savefig(\"chronic_cohorts.png\")"
   ]
  },
  {
   "cell_type": "code",
   "execution_count": null,
   "id": "987959b7",
   "metadata": {},
   "outputs": [],
   "source": [
    "(sns.regplot(data=chronic,\n",
    "             x=\"Age\", y=\"Condition\",\n",
    "             logistic=True, scatter=False,\n",
    "             ci=None, line_kws={\"lw\":\"4\"}))\n",
    "plt.xlim(-5,105)\n",
    "plt.ylabel(\"Rate\")\n",
    "plt.plot( cohorts[\"Age\"], cohorts[\"Rate\"],'.k')\n",
    "plt.plot( decades[\"Decade\"], decades[\"Rate\"],'or',ms=6)\n",
    "# plt.savefig(\"ages_decades.png\")"
   ]
  },
  {
   "cell_type": "code",
   "execution_count": null,
   "id": "a087a02e",
   "metadata": {},
   "outputs": [],
   "source": [
    "chronic_model = smf.logit(\"Condition ~ Age\", data=chronic)\n",
    "chronic_fit = chronic_model.fit()\n",
    "chronic_fit.params"
   ]
  },
  {
   "cell_type": "code",
   "execution_count": null,
   "id": "124e52ef",
   "metadata": {},
   "outputs": [],
   "source": [
    "print( chronic_fit.summary() )"
   ]
  },
  {
   "cell_type": "code",
   "execution_count": null,
   "id": "a9038252",
   "metadata": {},
   "outputs": [],
   "source": [
    "chronic[\"Probability\"] = chronic_fit.predict( chronic.Age )\n",
    "chronic"
   ]
  },
  {
   "cell_type": "code",
   "execution_count": null,
   "id": "ecbe84d2",
   "metadata": {},
   "outputs": [],
   "source": [
    "z = np.linspace(-5,5,1000)\n",
    "sigma = 1 / ( 1 + np.exp(-z))\n",
    "plt.plot(z, sigma)\n",
    "plt.xlabel(\"z\")\n",
    "plt.ylabel(r\"$\\sigma(z)$\")\n",
    "plt.title(\"The logistic function\")\n",
    "# plt.savefig(\"logit.png\")"
   ]
  },
  {
   "cell_type": "code",
   "execution_count": null,
   "id": "aecc8edb",
   "metadata": {},
   "outputs": [],
   "source": [
    "chronic[\"Class\"] = (chronic.Probability > 0.50).astype(int)\n",
    "chronic"
   ]
  },
  {
   "cell_type": "code",
   "execution_count": null,
   "id": "688dc57d",
   "metadata": {},
   "outputs": [],
   "source": [
    "pd.crosstab(chronic.Condition, chronic.Class)"
   ]
  },
  {
   "cell_type": "code",
   "execution_count": null,
   "id": "70f7dcaa",
   "metadata": {},
   "outputs": [],
   "source": [
    "pd.crosstab(chronic.Condition, chronic.Class, normalize='index')"
   ]
  },
  {
   "cell_type": "code",
   "execution_count": null,
   "id": "6f995c21",
   "metadata": {},
   "outputs": [],
   "source": [
    "np.mean( chronic.Condition == chronic.Class )"
   ]
  },
  {
   "cell_type": "code",
   "execution_count": null,
   "id": "45b33cfa",
   "metadata": {},
   "outputs": [],
   "source": [
    "np.mean( chronic.Condition != chronic.Class )"
   ]
  },
  {
   "cell_type": "code",
   "execution_count": null,
   "id": "ca2bf0a5",
   "metadata": {},
   "outputs": [],
   "source": [
    "chronic[\"Class\"] = (chronic.Probability > 0.80).astype(int)\n",
    "chronic"
   ]
  },
  {
   "cell_type": "code",
   "execution_count": null,
   "id": "755be311",
   "metadata": {},
   "outputs": [],
   "source": [
    "pd.crosstab(chronic.Condition, chronic.Class)"
   ]
  },
  {
   "cell_type": "code",
   "execution_count": null,
   "id": "d3f12fd4",
   "metadata": {},
   "outputs": [],
   "source": [
    "pd.crosstab(chronic.Condition, chronic.Class, normalize='index')"
   ]
  },
  {
   "cell_type": "code",
   "execution_count": null,
   "id": "4b9661ff",
   "metadata": {},
   "outputs": [],
   "source": [
    "np.mean( chronic.Condition == chronic.Class )"
   ]
  },
  {
   "cell_type": "code",
   "execution_count": null,
   "id": "5134edb1",
   "metadata": {},
   "outputs": [],
   "source": [
    "np.mean( chronic.Condition != chronic.Class )"
   ]
  },
  {
   "cell_type": "code",
   "execution_count": null,
   "id": "534dd553",
   "metadata": {},
   "outputs": [],
   "source": [
    "chronic[\"Class\"] = (chronic.Probability > 0.20).astype(int)\n",
    "chronic"
   ]
  },
  {
   "cell_type": "code",
   "execution_count": null,
   "id": "be04846f",
   "metadata": {},
   "outputs": [],
   "source": [
    "pd.crosstab(chronic.Condition, chronic.Class)"
   ]
  },
  {
   "cell_type": "code",
   "execution_count": null,
   "id": "26aaa056",
   "metadata": {},
   "outputs": [],
   "source": [
    "pd.crosstab(chronic.Condition, chronic.Class, normalize='index')"
   ]
  },
  {
   "cell_type": "code",
   "execution_count": null,
   "id": "2837b89d",
   "metadata": {},
   "outputs": [],
   "source": [
    "np.mean( chronic.Condition == chronic.Class )"
   ]
  },
  {
   "cell_type": "code",
   "execution_count": null,
   "id": "12f1d87c",
   "metadata": {},
   "outputs": [],
   "source": [
    "np.mean( chronic.Condition != chronic.Class )"
   ]
  },
  {
   "cell_type": "code",
   "execution_count": null,
   "id": "0324a4fe",
   "metadata": {},
   "outputs": [],
   "source": [
    "fpr, tpr, thresholds = metrics.roc_curve(chronic.Condition, chronic.Probability)\n",
    "chronic_auc = metrics.auc(fpr, tpr)\n",
    "chronic_auc"
   ]
  },
  {
   "cell_type": "code",
   "execution_count": null,
   "id": "6d7830a9",
   "metadata": {},
   "outputs": [],
   "source": [
    "plt.figure()\n",
    "plt.plot(fpr, tpr, label='ROC curve    AUC: %0.2f' % chronic_auc)\n",
    "plt.plot([0,1], [0,1], 'r--', label='Random classification')\n",
    "plt.plot([0.735,0.377,0.09], [0.975,0.832,0.349], 'ok')\n",
    "plt.xlabel('False Positive Rate (1-Specificity)')\n",
    "plt.ylabel('True Positive Rate (Sensitivity)')\n",
    "plt.title('ROC curve for chronic condition classifier')\n",
    "plt.legend(loc=\"lower right\")\n",
    "# plt.savefig(\"chronic_roc.png\")"
   ]
  },
  {
   "cell_type": "code",
   "execution_count": null,
   "id": "e7708cfc",
   "metadata": {},
   "outputs": [],
   "source": [
    "cohorts = (chronic.groupby(\"Age\", as_index=False)\n",
    "           .agg(Number = (\"Condition\",\"size\"), \n",
    "                Successes = (\"Condition\",\"sum\"),\n",
    "                Percentage = (\"Condition\",\"mean\")))\n",
    "cohorts.insert(3,\"Failures\", cohorts[\"Number\"] - cohorts[\"Successes\"])\n",
    "cohorts"
   ]
  },
  {
   "cell_type": "code",
   "execution_count": null,
   "id": "3b509a2f",
   "metadata": {},
   "outputs": [],
   "source": [
    "cohorts.insert(0,\"Bias\",1)\n",
    "cohorts"
   ]
  },
  {
   "cell_type": "code",
   "execution_count": null,
   "id": "c9ac3016",
   "metadata": {},
   "outputs": [],
   "source": [
    "cohorts_null_model = sm.GLM( cohorts[[\"Successes\",\"Failures\"]], cohorts[\"Bias\"], family=sm.families.Binomial())\n",
    "cohorts_null_fit = cohorts_null_model.fit()\n",
    "print(cohorts_null_fit.summary())"
   ]
  },
  {
   "cell_type": "code",
   "execution_count": null,
   "id": "5ac72f86",
   "metadata": {},
   "outputs": [],
   "source": [
    "null_odds = np.exp( cohorts_null_fit.params[\"Bias\"] )\n",
    "pi_null = null_odds / (1 + null_odds)\n",
    "pi_null\n",
    "cohorts[\"Null deviance\"] = (2*( cohorts[\"Successes\"]*np.log( cohorts[\"Percentage\"]/pi_null ) + \n",
    "                               cohorts[\"Failures\"]*np.log( (1 - cohorts[\"Percentage\"] )/(1 - pi_null) ) ))\n",
    "cohorts"
   ]
  },
  {
   "cell_type": "code",
   "execution_count": null,
   "id": "e2fa09b5",
   "metadata": {},
   "outputs": [],
   "source": [
    "np.sum( cohorts[\"Null deviance\"])"
   ]
  },
  {
   "cell_type": "code",
   "execution_count": null,
   "id": "8900c0d9",
   "metadata": {
    "scrolled": true
   },
   "outputs": [],
   "source": [
    "cohorts_model = sm.GLM( cohorts[[\"Successes\",\"Failures\"]], cohorts[[\"Bias\",\"Age\"]], family=sm.families.Binomial())\n",
    "cohorts_fit = cohorts_model.fit()\n",
    "print(cohorts_fit.summary())"
   ]
  },
  {
   "cell_type": "code",
   "execution_count": null,
   "id": "1583074c",
   "metadata": {},
   "outputs": [],
   "source": [
    "cohorts[\"Probability\"] = cohorts_fit.predict()\n",
    "cohorts[\"Deviance\"] = (2*( cohorts[\"Successes\"]*np.log( cohorts[\"Percentage\"]/cohorts[\"Probability\"] ) + \n",
    "                cohorts[\"Failures\"]*np.log( (1 - cohorts[\"Percentage\"] )/(1 - cohorts[\"Probability\"]) ) ))\n",
    "cohorts"
   ]
  },
  {
   "cell_type": "code",
   "execution_count": null,
   "id": "2b908357",
   "metadata": {},
   "outputs": [],
   "source": [
    "np.sum( cohorts[\"Deviance\"])"
   ]
  },
  {
   "cell_type": "code",
   "execution_count": null,
   "id": "4741f271",
   "metadata": {},
   "outputs": [],
   "source": [
    "G2_cohorts = cohorts_null_fit.deviance - cohorts_fit.deviance\n",
    "G2_cohorts"
   ]
  },
  {
   "cell_type": "code",
   "execution_count": null,
   "id": "ac1c89e4",
   "metadata": {},
   "outputs": [],
   "source": [
    "1 - st.chi2.cdf( G2_cohorts, df=1 )"
   ]
  },
  {
   "cell_type": "code",
   "execution_count": null,
   "id": "804267d0",
   "metadata": {},
   "outputs": [],
   "source": [
    "cohorts_fit.deviance"
   ]
  },
  {
   "cell_type": "code",
   "execution_count": null,
   "id": "38f2a444",
   "metadata": {},
   "outputs": [],
   "source": [
    "cohorts_fit.df_resid"
   ]
  },
  {
   "cell_type": "code",
   "execution_count": null,
   "id": "414abb53",
   "metadata": {},
   "outputs": [],
   "source": [
    "1 - st.chi2.cdf( cohorts_fit.deviance, cohorts_fit.df_resid )"
   ]
  },
  {
   "cell_type": "code",
   "execution_count": null,
   "id": "10701179",
   "metadata": {},
   "outputs": [],
   "source": [
    "cohorts_fit.pearson_chi2"
   ]
  },
  {
   "cell_type": "code",
   "execution_count": null,
   "id": "ceacf891",
   "metadata": {},
   "outputs": [],
   "source": [
    "1 - st.chi2.cdf(cohorts_fit.pearson_chi2,  cohorts_fit.df_resid)"
   ]
  },
  {
   "cell_type": "code",
   "execution_count": null,
   "id": "9c5d6a68",
   "metadata": {},
   "outputs": [],
   "source": [
    "cohort_residuals = pd.DataFrame( {\"Age\" : cohorts[\"Age\"],\n",
    "                                  \"Pearson\" : cohorts_fit.resid_pearson,\n",
    "                                  \"Deviance\" : cohorts_fit.resid_deviance} )\n",
    "cohort_residuals"
   ]
  },
  {
   "cell_type": "code",
   "execution_count": null,
   "id": "fe43a8ce",
   "metadata": {},
   "outputs": [],
   "source": [
    "fig, (ax1, ax2) = plt.subplots(1, 2)\n",
    "ax1.plot( cohort_residuals[\"Age\"], cohort_residuals[\"Pearson\"],'ok')\n",
    "ax1.set_title(\"Pearson residuals\")\n",
    "ax1.set_xlabel(\"Age\")\n",
    "ax2.plot( cohort_residuals[\"Age\"], cohort_residuals[\"Deviance\"],'ok')\n",
    "ax2.set_title(\"Deviance residuals\")\n",
    "ax2.set_xlabel(\"Age\")\n",
    "# plt.savefig(\"cohort_residuals.png\")"
   ]
  },
  {
   "cell_type": "code",
   "execution_count": null,
   "id": "206daf8f",
   "metadata": {},
   "outputs": [],
   "source": []
  }
 ],
 "metadata": {
  "kernelspec": {
   "display_name": "Python 3 (ipykernel)",
   "language": "python",
   "name": "python3"
  },
  "language_info": {
   "codemirror_mode": {
    "name": "ipython",
    "version": 3
   },
   "file_extension": ".py",
   "mimetype": "text/x-python",
   "name": "python",
   "nbconvert_exporter": "python",
   "pygments_lexer": "ipython3",
   "version": "3.8.12"
  }
 },
 "nbformat": 4,
 "nbformat_minor": 5
}
