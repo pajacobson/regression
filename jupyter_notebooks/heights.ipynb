{
 "cells": [
  {
   "cell_type": "code",
   "execution_count": null,
   "id": "43788dbe",
   "metadata": {},
   "outputs": [],
   "source": [
    "import numpy as np\n",
    "import pandas as pd\n",
    "import matplotlib.pyplot as plt\n",
    "import seaborn as sns\n",
    "import statsmodels.formula.api as smf"
   ]
  },
  {
   "cell_type": "code",
   "execution_count": null,
   "id": "32b8e32e",
   "metadata": {},
   "outputs": [],
   "source": [
    "sns.set_theme()\n",
    "plt.rcParams['figure.figsize'] = [8,8]"
   ]
  },
  {
   "cell_type": "code",
   "execution_count": null,
   "id": "050dfa61",
   "metadata": {},
   "outputs": [],
   "source": [
    "heights = pd.read_csv(\"../datasets/heights.csv\")\n",
    "heights"
   ]
  },
  {
   "cell_type": "code",
   "execution_count": null,
   "id": "57ec242c",
   "metadata": {},
   "outputs": [],
   "source": [
    "g = sns.displot( data=heights.melt(value_name=\"Height\"), x=\"Height\", col=\"variable\")\n",
    "g.set_titles(col_template='{col_name}')\n",
    "# plt.savefig(\"height_histograms.png\")"
   ]
  },
  {
   "cell_type": "code",
   "execution_count": null,
   "id": "48e18cea",
   "metadata": {},
   "outputs": [],
   "source": [
    "heights.Father.agg(['mean','std'])"
   ]
  },
  {
   "cell_type": "code",
   "execution_count": null,
   "id": "81e0a550",
   "metadata": {},
   "outputs": [],
   "source": [
    "heights.Son.agg(['mean','std'])"
   ]
  },
  {
   "cell_type": "code",
   "execution_count": null,
   "id": "f133605b",
   "metadata": {},
   "outputs": [],
   "source": [
    "sns.scatterplot(data=heights, x=\"Father\", y=\"Son\")\n",
    "# plt.savefig(\"heights.png\")"
   ]
  },
  {
   "cell_type": "code",
   "execution_count": null,
   "id": "df6df9b4",
   "metadata": {},
   "outputs": [],
   "source": [
    "heights['Group'] = heights.Father.round().astype(int)"
   ]
  },
  {
   "cell_type": "code",
   "execution_count": null,
   "id": "4ecd8ffe",
   "metadata": {},
   "outputs": [],
   "source": [
    "heights"
   ]
  },
  {
   "cell_type": "code",
   "execution_count": null,
   "id": "dbdd46ed",
   "metadata": {},
   "outputs": [],
   "source": [
    "son_stats = heights.groupby(\"Group\").agg({\"Son\":[\"size\",\"mean\",\"std\"]})\n",
    "son_stats"
   ]
  },
  {
   "cell_type": "code",
   "execution_count": null,
   "id": "26755d17",
   "metadata": {},
   "outputs": [],
   "source": [
    "sns.scatterplot( data=heights.query(\"Group!=64\"), x=\"Father\", y=\"Son\", alpha=0.6 )\n",
    "sns.scatterplot( data=heights.query(\"Group==64\"), x=\"Father\", y=\"Son\" )\n",
    "plt.plot( son_stats.query(\"Group==64\").Son[\"mean\"], 'ok' )\n",
    "# plt.savefig(\"fathers64sons.png\")"
   ]
  },
  {
   "cell_type": "code",
   "execution_count": null,
   "id": "5d85f46c",
   "metadata": {},
   "outputs": [],
   "source": [
    "sns.scatterplot( data=heights.query(\"Group!=70\"), x=\"Father\", y=\"Son\", alpha=0.6)\n",
    "sns.scatterplot( data=heights.query(\"Group==70\"), x=\"Father\", y=\"Son\")\n",
    "plt.plot( son_stats.query(\"Group==70\").Son[\"mean\"], 'ok' )\n",
    "# plt.savefig(\"fathers70sons.png\")"
   ]
  },
  {
   "cell_type": "code",
   "execution_count": null,
   "id": "a71c020e",
   "metadata": {},
   "outputs": [],
   "source": [
    "g = sns.displot(data=heights.query(\"Group==64 or Group==70\"),x=\"Son\",col=\"Group\")\n",
    "g.set_titles(col_template=\"Father's height: {col_name} inches\")\n",
    "# plt.savefig(\"songroups.png\")"
   ]
  },
  {
   "cell_type": "code",
   "execution_count": null,
   "id": "0c74de53",
   "metadata": {},
   "outputs": [],
   "source": [
    "sns.scatterplot(data=heights, x=\"Father\", y=\"Son\",alpha=0.6)\n",
    "plt.plot(son_stats.Son[\"mean\"], 'ok')"
   ]
  },
  {
   "cell_type": "code",
   "execution_count": null,
   "id": "b131b531",
   "metadata": {},
   "outputs": [],
   "source": [
    "sns.regplot( data=heights, x=\"Father\", y=\"Son\",ci=None,line_kws={\"color\": \"black\"})\n",
    "plt.plot(son_stats.Son[\"mean\"], 'ok')\n",
    "# plt.savefig(\"avgsons_with_line.png\")"
   ]
  },
  {
   "cell_type": "code",
   "execution_count": null,
   "id": "1943d1fe",
   "metadata": {},
   "outputs": [],
   "source": [
    "heights_model = smf.ols(\"Son ~ Father\", data=heights)"
   ]
  },
  {
   "cell_type": "code",
   "execution_count": null,
   "id": "a932bedc",
   "metadata": {},
   "outputs": [],
   "source": [
    "heights_fit = heights_model.fit()"
   ]
  },
  {
   "cell_type": "code",
   "execution_count": null,
   "id": "36c3e971",
   "metadata": {},
   "outputs": [],
   "source": [
    "print( heights_fit.summary())"
   ]
  },
  {
   "cell_type": "code",
   "execution_count": null,
   "id": "41fa8e8d",
   "metadata": {},
   "outputs": [],
   "source": [
    "heights.Father.corr(heights.Son)"
   ]
  },
  {
   "cell_type": "code",
   "execution_count": null,
   "id": "e178fcec",
   "metadata": {},
   "outputs": [],
   "source": []
  }
 ],
 "metadata": {
  "kernelspec": {
   "display_name": "Python 3 (ipykernel)",
   "language": "python",
   "name": "python3"
  },
  "language_info": {
   "codemirror_mode": {
    "name": "ipython",
    "version": 3
   },
   "file_extension": ".py",
   "mimetype": "text/x-python",
   "name": "python",
   "nbconvert_exporter": "python",
   "pygments_lexer": "ipython3",
   "version": "3.8.12"
  }
 },
 "nbformat": 4,
 "nbformat_minor": 5
}
