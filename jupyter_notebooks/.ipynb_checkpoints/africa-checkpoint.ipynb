{
 "cells": [
  {
   "cell_type": "code",
   "execution_count": null,
   "id": "836a9de6",
   "metadata": {},
   "outputs": [],
   "source": [
    "import numpy as np\n",
    "import pandas as pd\n",
    "import matplotlib.pyplot as plt\n",
    "import seaborn as sns\n",
    "import statsmodels.formula.api as smf"
   ]
  },
  {
   "cell_type": "code",
   "execution_count": null,
   "id": "1ac3462d",
   "metadata": {},
   "outputs": [],
   "source": [
    "import warnings\n",
    "warnings.filterwarnings('ignore')"
   ]
  },
  {
   "cell_type": "code",
   "execution_count": null,
   "id": "ebe571b5",
   "metadata": {},
   "outputs": [],
   "source": [
    "sns.set_theme()\n",
    "plt.rcParams['figure.figsize'] = [8,8]"
   ]
  },
  {
   "cell_type": "code",
   "execution_count": null,
   "id": "d0de666c",
   "metadata": {},
   "outputs": [],
   "source": [
    "africa = pd.read_csv(\"../datasets/africa.csv\")\n",
    "n_countries = len( africa )\n",
    "n_countries"
   ]
  },
  {
   "cell_type": "code",
   "execution_count": null,
   "id": "148664b2",
   "metadata": {},
   "outputs": [],
   "source": [
    "africa"
   ]
  },
  {
   "cell_type": "code",
   "execution_count": null,
   "id": "5ce49ea5",
   "metadata": {},
   "outputs": [],
   "source": [
    "sns.scatterplot(data=africa, x=\"Literacy\", y=\"IMR\")\n",
    "plt.title(\"Infant mortality rates (IMR) versus Literacy for young African women\")\n",
    "# plt.savefig(\"literacy_imr.png\")"
   ]
  },
  {
   "cell_type": "code",
   "execution_count": null,
   "id": "1954aa98",
   "metadata": {},
   "outputs": [],
   "source": [
    "x_bar = africa.Literacy.mean()\n",
    "x_bar"
   ]
  },
  {
   "cell_type": "code",
   "execution_count": null,
   "id": "6fe6f239",
   "metadata": {},
   "outputs": [],
   "source": [
    "y_bar = africa.IMR.mean()\n",
    "y_bar"
   ]
  },
  {
   "cell_type": "code",
   "execution_count": null,
   "id": "47db4475",
   "metadata": {},
   "outputs": [],
   "source": [
    "sns.scatterplot(data=africa, x=\"Literacy\", y=\"IMR\")\n",
    "plt.axvline( x_bar, linestyle='--')\n",
    "plt.axhline( y_bar, linestyle='--')\n",
    "plt.title(\"IMR vs Literacy: quadrants determined by averages\")\n",
    "# plt.savefig(\"quadrants.png\")"
   ]
  },
  {
   "cell_type": "code",
   "execution_count": null,
   "id": "bcf6a9e6",
   "metadata": {},
   "outputs": [],
   "source": [
    "africa_corr = africa.Literacy.corr( africa.IMR )\n",
    "africa_corr"
   ]
  },
  {
   "cell_type": "code",
   "execution_count": null,
   "id": "8b4e343e",
   "metadata": {},
   "outputs": [],
   "source": [
    "sns.scatterplot(data=africa, x=\"Literacy\", y=\"IMR\")\n",
    "# null model:\n",
    "plt.axhline( y_bar, color=\"black\")\n",
    "plt.title(\"IMR vs Literacy: Null model\")\n",
    "# plt.savefig(\"africa_null.png\")"
   ]
  },
  {
   "cell_type": "code",
   "execution_count": null,
   "id": "38f4b417",
   "metadata": {},
   "outputs": [],
   "source": [
    "africa_tss = ((africa.IMR - y_bar)**2).sum()\n",
    "africa_tss"
   ]
  },
  {
   "cell_type": "code",
   "execution_count": null,
   "id": "1a922b98",
   "metadata": {},
   "outputs": [],
   "source": [
    "africa.IMR.var()"
   ]
  },
  {
   "cell_type": "code",
   "execution_count": null,
   "id": "f12e71bc",
   "metadata": {},
   "outputs": [],
   "source": [
    "(n_countries - 1)*africa.IMR.var()"
   ]
  },
  {
   "cell_type": "code",
   "execution_count": null,
   "id": "1c8f4e8a",
   "metadata": {},
   "outputs": [],
   "source": [
    "s_x = africa.Literacy.std()\n",
    "s_x"
   ]
  },
  {
   "cell_type": "code",
   "execution_count": null,
   "id": "3d54f5f6",
   "metadata": {},
   "outputs": [],
   "source": [
    "s_y = africa.IMR.std()\n",
    "s_y"
   ]
  },
  {
   "cell_type": "code",
   "execution_count": null,
   "id": "b54b1dc9",
   "metadata": {},
   "outputs": [],
   "source": [
    "m_sd = -s_y / s_x \n",
    "m_sd"
   ]
  },
  {
   "cell_type": "code",
   "execution_count": null,
   "id": "21d9e805",
   "metadata": {},
   "outputs": [],
   "source": [
    "b_sd = y_bar - m_sd*x_bar\n",
    "b_sd"
   ]
  },
  {
   "cell_type": "code",
   "execution_count": null,
   "id": "75593db9",
   "metadata": {},
   "outputs": [],
   "source": [
    "sns.scatterplot(data=africa, x=\"Literacy\", y=\"IMR\")\n",
    "# SD line\n",
    "plt.axline( (x_bar, y_bar), slope = m_sd, linestyle='--', color=\"black\")\n",
    "plt.title(\"IMR vs Literacy: SD line\")\n",
    "# plt.savefig(\"literacy_imr_sdline.png\")"
   ]
  },
  {
   "cell_type": "code",
   "execution_count": null,
   "id": "ba216637",
   "metadata": {},
   "outputs": [],
   "source": [
    "# africa = africa.assign( null_resid = africa.IMR - y_bar, sd_pred = b_sd + m_sd*africa.Literacy, sd_resid = africa.IMR - b_sd - m_sd*africa.Literacy)"
   ]
  },
  {
   "cell_type": "code",
   "execution_count": null,
   "id": "8d91ec9d",
   "metadata": {},
   "outputs": [],
   "source": [
    "m = africa_corr*(s_y/s_x)\n",
    "m"
   ]
  },
  {
   "cell_type": "code",
   "execution_count": null,
   "id": "a0158541",
   "metadata": {},
   "outputs": [],
   "source": [
    "b = y_bar - m*x_bar\n",
    "b"
   ]
  },
  {
   "cell_type": "code",
   "execution_count": null,
   "id": "37916aa7",
   "metadata": {},
   "outputs": [],
   "source": [
    "sns.scatterplot(data=africa, x=\"Literacy\", y=\"IMR\")\n",
    "# line of best fit\n",
    "plt.axline( (x_bar,y_bar), slope = m, color=\"black\")\n",
    "plt.title(\"IMR vs Literacy: Line of best fit\")\n",
    "# plt.savefig(\"literacy_imr_regression_line.png\")"
   ]
  },
  {
   "cell_type": "code",
   "execution_count": null,
   "id": "384f0501",
   "metadata": {},
   "outputs": [],
   "source": [
    "sns.scatterplot(data=africa, x=\"Literacy\", y=\"IMR\")\n",
    "plt.axline( (x_bar,y_bar), slope = m, color=\"black\")\n",
    "plt.axline( (x_bar, y_bar), slope = m_sd, linestyle='--', color=\"black\")\n",
    "plt.title(\"IMR vs Literacy: Regression line (solid) and SD line (dashed)\")\n",
    "plt.plot(x_bar,y_bar,'ok')\n",
    "# plt.savefig(\"literacy_imr_both_lines.png\")"
   ]
  },
  {
   "cell_type": "code",
   "execution_count": null,
   "id": "d228f105",
   "metadata": {},
   "outputs": [],
   "source": [
    "africa_model = smf.ols('IMR ~ Literacy', data = africa)"
   ]
  },
  {
   "cell_type": "code",
   "execution_count": null,
   "id": "e29457ec",
   "metadata": {},
   "outputs": [],
   "source": [
    "africa_fit = africa_model.fit()"
   ]
  },
  {
   "cell_type": "code",
   "execution_count": null,
   "id": "770ed331",
   "metadata": {},
   "outputs": [],
   "source": [
    "africa_fit.params"
   ]
  },
  {
   "cell_type": "code",
   "execution_count": null,
   "id": "eaddb469",
   "metadata": {},
   "outputs": [],
   "source": [
    "africa_null = smf.ols('IMR ~ 1', data = africa)"
   ]
  },
  {
   "cell_type": "code",
   "execution_count": null,
   "id": "7627fe44",
   "metadata": {},
   "outputs": [],
   "source": [
    "africa_null = africa_null.fit()"
   ]
  },
  {
   "cell_type": "code",
   "execution_count": null,
   "id": "a937cc80",
   "metadata": {},
   "outputs": [],
   "source": [
    "africa_null.params"
   ]
  },
  {
   "cell_type": "code",
   "execution_count": null,
   "id": "fbb0b04b",
   "metadata": {},
   "outputs": [],
   "source": [
    "print( africa_fit.summary() )"
   ]
  },
  {
   "cell_type": "code",
   "execution_count": null,
   "id": "94a3ce2d",
   "metadata": {},
   "outputs": [],
   "source": [
    "africa_ssr = (africa_fit.resid**2).sum()\n",
    "africa_ssr"
   ]
  },
  {
   "cell_type": "code",
   "execution_count": null,
   "id": "023b9870",
   "metadata": {},
   "outputs": [],
   "source": [
    "africa_fit.ssr"
   ]
  },
  {
   "cell_type": "code",
   "execution_count": null,
   "id": "0770e649",
   "metadata": {},
   "outputs": [],
   "source": [
    "africa_ssr / (n_countries - 2)"
   ]
  },
  {
   "cell_type": "code",
   "execution_count": null,
   "id": "f8d4ceca",
   "metadata": {},
   "outputs": [],
   "source": [
    "np.sqrt( africa_ssr / (n_countries - 2) )"
   ]
  },
  {
   "cell_type": "code",
   "execution_count": null,
   "id": "6fb4516e",
   "metadata": {},
   "outputs": [],
   "source": [
    "africa_fit.scale"
   ]
  },
  {
   "cell_type": "code",
   "execution_count": null,
   "id": "3574a916",
   "metadata": {},
   "outputs": [],
   "source": [
    "africa_rse = np.sqrt( africa_fit.scale )\n",
    "africa_rse"
   ]
  },
  {
   "cell_type": "code",
   "execution_count": null,
   "id": "a0fff80f",
   "metadata": {},
   "outputs": [],
   "source": [
    "africa_fit.rsquared"
   ]
  },
  {
   "cell_type": "code",
   "execution_count": null,
   "id": "e8c80750",
   "metadata": {},
   "outputs": [],
   "source": [
    "1 - (africa_ssr / africa_tss)"
   ]
  },
  {
   "cell_type": "code",
   "execution_count": null,
   "id": "8610c5b5",
   "metadata": {},
   "outputs": [],
   "source": [
    "sns.residplot(data=africa, x=\"Literacy\", y=\"IMR\", line_kws={\"color\":\"black\"})\n",
    "plt.axhline( 2*africa_rse, linestyle=\":\", color=\"black\")\n",
    "plt.axhline( -2*africa_rse, linestyle=\":\", color=\"black\")\n",
    "plt.title(\"IMR versus Literacy residuals\")\n",
    "# plt.savefig(\"literacy_imr_residuals.png\")"
   ]
  },
  {
   "cell_type": "code",
   "execution_count": null,
   "id": "02bf6e3e",
   "metadata": {},
   "outputs": [],
   "source": [
    "import scipy.stats as st"
   ]
  },
  {
   "cell_type": "code",
   "execution_count": null,
   "id": "dd65a140",
   "metadata": {},
   "outputs": [],
   "source": [
    "st.norm.ppf(.975 )"
   ]
  },
  {
   "cell_type": "code",
   "execution_count": null,
   "id": "c5d28554",
   "metadata": {},
   "outputs": [],
   "source": [
    "st.t.ppf(.975, df=45)"
   ]
  },
  {
   "cell_type": "code",
   "execution_count": null,
   "id": "f602b49b",
   "metadata": {},
   "outputs": [],
   "source": [
    "st.t.ppf(.995, df=45)"
   ]
  },
  {
   "cell_type": "code",
   "execution_count": null,
   "id": "6632f262",
   "metadata": {},
   "outputs": [],
   "source": [
    "2*st.t.cdf(-5.26,df=45)"
   ]
  },
  {
   "cell_type": "code",
   "execution_count": null,
   "id": "801ee1ca",
   "metadata": {},
   "outputs": [],
   "source": [
    "africa_fit.conf_int()"
   ]
  },
  {
   "cell_type": "code",
   "execution_count": null,
   "id": "6f1995d1",
   "metadata": {},
   "outputs": [],
   "source": [
    "new = pd.DataFrame(data = {\"Literacy\":[50,80]})\n",
    "africa_fit.predict( new )"
   ]
  },
  {
   "cell_type": "code",
   "execution_count": null,
   "id": "68b49d00",
   "metadata": {},
   "outputs": [],
   "source": [
    "africa_fit.get_prediction( new ).summary_frame()"
   ]
  },
  {
   "cell_type": "code",
   "execution_count": null,
   "id": "c0d50455",
   "metadata": {},
   "outputs": [],
   "source": [
    "sns.regplot(data=africa, x=\"Literacy\", y=\"IMR\", line_kws={\"color\":\"black\"})\n",
    "plt.title(\"IMR vs Literacy with confidence bands\")\n",
    "# plt.savefig(\"literacy_imr_with_ci.png\")"
   ]
  },
  {
   "cell_type": "code",
   "execution_count": null,
   "id": "53f12fbd",
   "metadata": {},
   "outputs": [],
   "source": [
    "x = africa.Literacy.sort_values(ignore_index=True)\n",
    "endpts = africa_fit.get_prediction(x).summary_frame()"
   ]
  },
  {
   "cell_type": "code",
   "execution_count": null,
   "id": "2f1aa864",
   "metadata": {},
   "outputs": [],
   "source": [
    "sns.regplot(data=africa, x=\"Literacy\", y=\"IMR\", line_kws={\"color\":\"black\"})\n",
    "plt.plot(x, endpts.obs_ci_upper, ':', color=\"black\")\n",
    "plt.plot(x, endpts.obs_ci_lower, ':', color=\"black\")\n",
    "plt.title(\"IMR vs Literacy with confidence and prediction bands\")\n",
    "# plt.savefig(\"literacy_imr_ci_preds.png\")"
   ]
  },
  {
   "cell_type": "code",
   "execution_count": null,
   "id": "d80f9640",
   "metadata": {},
   "outputs": [],
   "source": []
  }
 ],
 "metadata": {
  "kernelspec": {
   "display_name": "Python 3 (ipykernel)",
   "language": "python",
   "name": "python3"
  },
  "language_info": {
   "codemirror_mode": {
    "name": "ipython",
    "version": 3
   },
   "file_extension": ".py",
   "mimetype": "text/x-python",
   "name": "python",
   "nbconvert_exporter": "python",
   "pygments_lexer": "ipython3",
   "version": "3.8.12"
  }
 },
 "nbformat": 4,
 "nbformat_minor": 5
}
