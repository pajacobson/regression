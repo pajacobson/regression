{
 "cells": [
  {
   "cell_type": "code",
   "execution_count": null,
   "id": "fe5b5f9f",
   "metadata": {},
   "outputs": [],
   "source": [
    "import numpy as np\n",
    "import pandas as pd\n",
    "import matplotlib.pyplot as plt\n",
    "import seaborn as sns\n",
    "import statsmodels.formula.api as smf"
   ]
  },
  {
   "cell_type": "code",
   "execution_count": null,
   "id": "cbb74754",
   "metadata": {},
   "outputs": [],
   "source": [
    "import warnings\n",
    "warnings.filterwarnings('ignore')"
   ]
  },
  {
   "cell_type": "code",
   "execution_count": null,
   "id": "7c70fa0c",
   "metadata": {},
   "outputs": [],
   "source": [
    "sns.set_theme()\n",
    "plt.rcParams['figure.figsize'] = [8,8]"
   ]
  },
  {
   "cell_type": "code",
   "execution_count": null,
   "id": "958e817f",
   "metadata": {},
   "outputs": [],
   "source": [
    "fish = pd.read_csv(\"../datasets/fish.csv\")\n",
    "fish.shape"
   ]
  },
  {
   "cell_type": "code",
   "execution_count": null,
   "id": "cf8a5032",
   "metadata": {},
   "outputs": [],
   "source": [
    "fish.columns"
   ]
  },
  {
   "cell_type": "code",
   "execution_count": null,
   "id": "d77bc999",
   "metadata": {},
   "outputs": [],
   "source": [
    "fish = fish.filter([\"Species\",\"Length\",\"Weight\"])\n",
    "fish"
   ]
  },
  {
   "cell_type": "code",
   "execution_count": null,
   "id": "c7b0c6ab",
   "metadata": {},
   "outputs": [],
   "source": [
    "train = fish.dropna(axis='index')\n",
    "train"
   ]
  },
  {
   "cell_type": "code",
   "execution_count": null,
   "id": "b3faf711",
   "metadata": {},
   "outputs": [],
   "source": [
    "sns.scatterplot(data=train, x=\"Length\", y=\"Weight\")\n",
    "plt.title(\"Fish weights versus fish lengths\")\n",
    "# plt.savefig(\"fish_lw.png\")"
   ]
  },
  {
   "cell_type": "code",
   "execution_count": null,
   "id": "55d3624d",
   "metadata": {},
   "outputs": [],
   "source": [
    "train = train.assign(LogLength = np.log(train.Length), LogWeight = np.log(train.Weight))"
   ]
  },
  {
   "cell_type": "code",
   "execution_count": null,
   "id": "b1b75d13",
   "metadata": {},
   "outputs": [],
   "source": [
    "sns.scatterplot(data=train, x=\"LogLength\", y=\"LogWeight\")\n",
    "plt.title(\"Log(Weight) versus Log(Length)\")\n",
    "# plt.savefig(\"fish_logs.png\")"
   ]
  },
  {
   "cell_type": "code",
   "execution_count": null,
   "id": "e81f1155",
   "metadata": {},
   "outputs": [],
   "source": [
    "train.LogLength.corr( train.LogWeight )"
   ]
  },
  {
   "cell_type": "code",
   "execution_count": null,
   "id": "5edf7e45",
   "metadata": {},
   "outputs": [],
   "source": [
    "train_model = smf.ols( \"LogWeight ~ LogLength\", data=train)\n",
    "train_fit = train_model.fit()\n",
    "train_fit.params"
   ]
  },
  {
   "cell_type": "code",
   "execution_count": null,
   "id": "25fd509a",
   "metadata": {},
   "outputs": [],
   "source": [
    "train_fit.rsquared"
   ]
  },
  {
   "cell_type": "code",
   "execution_count": null,
   "id": "fc9c919a",
   "metadata": {},
   "outputs": [],
   "source": [
    "sharks = pd.read_csv(\"../datasets/chondrichthyes.csv\")\n",
    "sharks.head()"
   ]
  },
  {
   "cell_type": "code",
   "execution_count": null,
   "id": "865fff04",
   "metadata": {},
   "outputs": [],
   "source": [
    "sharks = sharks.join( fish.set_index(\"Species\"), on=\"Species\")\n",
    "sharks.head()"
   ]
  },
  {
   "cell_type": "code",
   "execution_count": null,
   "id": "dea1994e",
   "metadata": {},
   "outputs": [],
   "source": [
    "sharks = sharks[ sharks.Length.notna() ]\n",
    "sharks = sharks[ sharks.Category != \"Data Deficient\" ]\n",
    "sharks.head()"
   ]
  },
  {
   "cell_type": "code",
   "execution_count": null,
   "id": "a8c9cfa0",
   "metadata": {},
   "outputs": [],
   "source": [
    "imp = np.exp( train_fit.params.Intercept )*np.power( sharks.Length, \n",
    "                                                    train_fit.params.LogLength )\n",
    "sharks.Weight = sharks.Weight.where( sharks.Weight.notna(), imp )\n",
    "sharks"
   ]
  },
  {
   "cell_type": "code",
   "execution_count": null,
   "id": "befd55cf",
   "metadata": {},
   "outputs": [],
   "source": [
    "sharks = sharks.assign(LogLength = np.log(sharks.Length), \n",
    "                       LogWeight = np.log(sharks.Weight))"
   ]
  },
  {
   "cell_type": "code",
   "execution_count": null,
   "id": "2d1733c8",
   "metadata": {},
   "outputs": [],
   "source": [
    "sns.scatterplot( data=sharks, x=\"LogLength\", y=\"LogWeight\")\n",
    "plt.title(\"Log(Weight) versus Log(Length) for sharks\")\n",
    "# plt.savefig(\"sharks_lw.png\")"
   ]
  },
  {
   "cell_type": "code",
   "execution_count": null,
   "id": "785e0151",
   "metadata": {},
   "outputs": [],
   "source": []
  }
 ],
 "metadata": {
  "kernelspec": {
   "display_name": "Python 3 (ipykernel)",
   "language": "python",
   "name": "python3"
  },
  "language_info": {
   "codemirror_mode": {
    "name": "ipython",
    "version": 3
   },
   "file_extension": ".py",
   "mimetype": "text/x-python",
   "name": "python",
   "nbconvert_exporter": "python",
   "pygments_lexer": "ipython3",
   "version": "3.8.12"
  }
 },
 "nbformat": 4,
 "nbformat_minor": 5
}
