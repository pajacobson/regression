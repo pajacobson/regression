{
 "cells": [
  {
   "cell_type": "code",
   "execution_count": null,
   "id": "2581ec56",
   "metadata": {},
   "outputs": [],
   "source": [
    "import numpy as np\n",
    "import pandas as pd\n",
    "import matplotlib.pyplot as plt\n",
    "import seaborn as sns\n",
    "import statsmodels.api as sm\n",
    "import statsmodels.formula.api as smf\n",
    "from scipy.stats import chi2\n",
    "from sklearn import metrics"
   ]
  },
  {
   "cell_type": "code",
   "execution_count": null,
   "id": "7048060b",
   "metadata": {},
   "outputs": [],
   "source": [
    "import warnings\n",
    "warnings.filterwarnings('ignore')"
   ]
  },
  {
   "cell_type": "code",
   "execution_count": null,
   "id": "6038e25c",
   "metadata": {},
   "outputs": [],
   "source": [
    "sns.set_theme()\n",
    "plt.rcParams['figure.figsize'] = [8,8]"
   ]
  },
  {
   "cell_type": "code",
   "execution_count": null,
   "id": "f28b5a10",
   "metadata": {},
   "outputs": [],
   "source": [
    "sharks = pd.read_csv(\"../datasets/sharks.csv\")\n",
    "sharks"
   ]
  },
  {
   "cell_type": "code",
   "execution_count": null,
   "id": "9327bcdd",
   "metadata": {},
   "outputs": [],
   "source": [
    "threatened = [\"Critically Endangered\",\"Endangered\",\"Vulnerable\"]"
   ]
  },
  {
   "cell_type": "code",
   "execution_count": null,
   "id": "47f30f18",
   "metadata": {},
   "outputs": [],
   "source": [
    "sharks[\"Threatened\"] = sharks[\"Category\"].isin( threatened ).astype('int')\n",
    "sharks = sharks.drop(columns = \"Category\")\n",
    "sharks"
   ]
  },
  {
   "cell_type": "code",
   "execution_count": null,
   "id": "688094ad",
   "metadata": {},
   "outputs": [],
   "source": [
    "sharks[\"LogWeight\"] = np.log(sharks[\"Weight\"])\n",
    "sharks_model = smf.glm(\"Threatened ~ LogWeight\", data=sharks, family=sm.families.Binomial())\n",
    "sharks_fit = sharks_model.fit()\n",
    "sharks_fit.params"
   ]
  },
  {
   "cell_type": "code",
   "execution_count": null,
   "id": "a78e25f4",
   "metadata": {},
   "outputs": [],
   "source": [
    "1 - chi2.cdf(sharks_fit.null_deviance - sharks_fit.deviance, df=1)"
   ]
  },
  {
   "cell_type": "code",
   "execution_count": null,
   "id": "a3175fcd",
   "metadata": {},
   "outputs": [],
   "source": [
    "sns.regplot(data=sharks, x=\"LogWeight\", y=\"Threatened\", logistic=True, ci=None)\n",
    "# plt.savefig(\"sharks_fit.png\")"
   ]
  },
  {
   "cell_type": "code",
   "execution_count": null,
   "id": "dd742e6a",
   "metadata": {},
   "outputs": [],
   "source": [
    "sharks[\"Class\"] = (sharks_fit.fittedvalues > 0.50).astype(int)\n",
    "sharks"
   ]
  },
  {
   "cell_type": "code",
   "execution_count": null,
   "id": "04643b86",
   "metadata": {},
   "outputs": [],
   "source": [
    "pd.crosstab(sharks[\"Threatened\"], sharks[\"Class\"])"
   ]
  },
  {
   "cell_type": "code",
   "execution_count": null,
   "id": "78a90087",
   "metadata": {},
   "outputs": [],
   "source": [
    "np.mean( sharks[\"Threatened\"] == sharks[\"Class\"] )"
   ]
  },
  {
   "cell_type": "code",
   "execution_count": null,
   "id": "265027b5",
   "metadata": {},
   "outputs": [],
   "source": [
    "fpr, tpr, thresholds = metrics.roc_curve(sharks[\"Threatened\"], sharks_fit.fittedvalues)\n",
    "chronic_auc = metrics.auc(fpr, tpr)\n",
    "chronic_auc"
   ]
  },
  {
   "cell_type": "code",
   "execution_count": null,
   "id": "c796acbc",
   "metadata": {},
   "outputs": [],
   "source": [
    "plt.figure()\n",
    "plt.plot(fpr, tpr, label='ROC curve    AUC: %0.2f' % chronic_auc)\n",
    "plt.plot([0,1], [0,1], 'r--', label='Random classification')\n",
    "plt.xlabel('False Positive Rate (1-Specificity)')\n",
    "plt.ylabel('True Positive Rate (Sensitivity)')\n",
    "plt.title('ROC curve for shark extinction risk classifier')\n",
    "plt.legend(loc=\"lower right\")\n",
    "# plt.savefig(\"sharks_roc.png\")"
   ]
  },
  {
   "cell_type": "code",
   "execution_count": null,
   "id": "ea2623bb",
   "metadata": {},
   "outputs": [],
   "source": []
  }
 ],
 "metadata": {
  "kernelspec": {
   "display_name": "Python 3 (ipykernel)",
   "language": "python",
   "name": "python3"
  },
  "language_info": {
   "codemirror_mode": {
    "name": "ipython",
    "version": 3
   },
   "file_extension": ".py",
   "mimetype": "text/x-python",
   "name": "python",
   "nbconvert_exporter": "python",
   "pygments_lexer": "ipython3",
   "version": "3.8.12"
  }
 },
 "nbformat": 4,
 "nbformat_minor": 5
}
