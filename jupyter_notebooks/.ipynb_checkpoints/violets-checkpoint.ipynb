{
 "cells": [
  {
   "cell_type": "code",
   "execution_count": null,
   "id": "579d7777",
   "metadata": {},
   "outputs": [],
   "source": [
    "import numpy as np\n",
    "import pandas as pd\n",
    "import matplotlib.pyplot as plt\n",
    "import seaborn as sns\n",
    "import statsmodels.api as sm\n",
    "import statsmodels.formula.api as smf\n",
    "import scipy.stats as st\n",
    "from scipy.special import expit, logit\n",
    "from sklearn import metrics"
   ]
  },
  {
   "cell_type": "code",
   "execution_count": null,
   "id": "8d4f6290",
   "metadata": {},
   "outputs": [],
   "source": [
    "import warnings\n",
    "warnings.filterwarnings('ignore')"
   ]
  },
  {
   "cell_type": "code",
   "execution_count": null,
   "id": "63ff6b21",
   "metadata": {},
   "outputs": [],
   "source": [
    "sns.set_theme()\n",
    "plt.rcParams['figure.figsize'] = [8,8]"
   ]
  },
  {
   "cell_type": "code",
   "execution_count": null,
   "id": "d8ced8b4",
   "metadata": {},
   "outputs": [],
   "source": [
    "violets = pd.read_csv(\"../datasets/violets.csv\")\n",
    "violets.columns"
   ]
  },
  {
   "cell_type": "code",
   "execution_count": null,
   "id": "ae05bb09",
   "metadata": {},
   "outputs": [],
   "source": [
    "violets = violets[['Year','Plot','Day','Photoperiod','Bud type','Bud counts']]\n",
    "violets"
   ]
  },
  {
   "cell_type": "code",
   "execution_count": null,
   "id": "9c5e105d",
   "metadata": {},
   "outputs": [],
   "source": [
    "chasm = violets[ violets['Bud type']==\"Chasmogamous\" ]\n",
    "chasm[\"Bud\"] = (violets['Bud counts'] > 0).astype('int')\n",
    "chasm = chasm[[\"Photoperiod\",\"Bud\"]]\n",
    "chasm"
   ]
  },
  {
   "cell_type": "code",
   "execution_count": null,
   "id": "70540972",
   "metadata": {},
   "outputs": [],
   "source": [
    "sns.scatterplot(data=chasm, x=\"Photoperiod\", y=\"Bud\")\n",
    "# plt.savefig(\"chasm.png\")"
   ]
  },
  {
   "cell_type": "code",
   "execution_count": null,
   "id": "18afa988",
   "metadata": {},
   "outputs": [],
   "source": [
    "chasm.agg( N=('Bud','size'),\n",
    "           Successes=('Bud','sum'),\n",
    "           Percentage=('Bud','mean'))"
   ]
  },
  {
   "cell_type": "code",
   "execution_count": null,
   "id": "2c137280",
   "metadata": {},
   "outputs": [],
   "source": [
    "pi_hat = chasm[\"Bud\"].mean()\n",
    "pi_hat"
   ]
  },
  {
   "cell_type": "code",
   "execution_count": null,
   "id": "933b33e4",
   "metadata": {},
   "outputs": [],
   "source": [
    "chasm[\"Null_prob\"] = (pi_hat**chasm.Bud)*((1-pi_hat)**(1-chasm.Bud))\n",
    "chasm"
   ]
  },
  {
   "cell_type": "code",
   "execution_count": null,
   "id": "e06d14e1",
   "metadata": {},
   "outputs": [],
   "source": [
    "null_likelihood = chasm[\"Null_prob\"].product()\n",
    "null_likelihood"
   ]
  },
  {
   "cell_type": "code",
   "execution_count": null,
   "id": "f10b7072",
   "metadata": {},
   "outputs": [],
   "source": [
    "null_deviance = -2*np.log( null_likelihood )\n",
    "null_deviance"
   ]
  },
  {
   "cell_type": "code",
   "execution_count": null,
   "id": "658df4ca",
   "metadata": {},
   "outputs": [],
   "source": [
    "null_model = smf.glm(\"Bud ~ 1\", data=chasm, family=sm.families.Binomial())\n",
    "null_fit = null_model.fit()\n",
    "null_fit.params"
   ]
  },
  {
   "cell_type": "code",
   "execution_count": null,
   "id": "9b198f47",
   "metadata": {},
   "outputs": [],
   "source": [
    "print( null_fit.summary() )"
   ]
  },
  {
   "cell_type": "code",
   "execution_count": null,
   "id": "b98e712b",
   "metadata": {},
   "outputs": [],
   "source": [
    "null_fit.deviance"
   ]
  },
  {
   "cell_type": "code",
   "execution_count": null,
   "id": "c3d5e03a",
   "metadata": {},
   "outputs": [],
   "source": [
    "chasm_model = smf.glm(\"Bud ~ Photoperiod\", data=chasm, family=sm.families.Binomial())\n",
    "chasm_fit = chasm_model.fit()\n",
    "chasm_fit.params"
   ]
  },
  {
   "cell_type": "code",
   "execution_count": null,
   "id": "8402c2ea",
   "metadata": {},
   "outputs": [],
   "source": [
    "print( chasm_fit.summary() )"
   ]
  },
  {
   "cell_type": "code",
   "execution_count": null,
   "id": "321bc78a",
   "metadata": {},
   "outputs": [],
   "source": [
    "chasm[\"Fit_prob\"] = chasm_fit.fittedvalues\n",
    "chasm"
   ]
  },
  {
   "cell_type": "code",
   "execution_count": null,
   "id": "ba20f907",
   "metadata": {},
   "outputs": [],
   "source": [
    "1 - st.chi2.cdf( (74.5837/12.132)**2, df=1 )"
   ]
  },
  {
   "cell_type": "code",
   "execution_count": null,
   "id": "0abea336",
   "metadata": {},
   "outputs": [],
   "source": [
    "1 - st.chi2.cdf( (-5.5250/0.900)**2, df=1 )"
   ]
  },
  {
   "cell_type": "code",
   "execution_count": null,
   "id": "ba47e215",
   "metadata": {},
   "outputs": [],
   "source": [
    "chasm_fit.conf_int()"
   ]
  },
  {
   "cell_type": "code",
   "execution_count": null,
   "id": "cc4482ed",
   "metadata": {},
   "outputs": [],
   "source": [
    "sns.scatterplot( data=chasm, x=\"Photoperiod\", y=\"Fit_prob\")\n",
    "sns.lineplot( data=chasm, x=\"Photoperiod\", y=\"Fit_prob\")\n",
    "sns.scatterplot( data=chasm, x=\"Photoperiod\", y=\"Bud\" )\n",
    "plt.ylabel(\"Bud\")\n",
    "plt.title(\"Bud observations and fitted probabilities\")\n",
    "# plt.savefig(\"chasm_fit.png\")"
   ]
  },
  {
   "cell_type": "code",
   "execution_count": null,
   "id": "892b189f",
   "metadata": {},
   "outputs": [],
   "source": [
    "sns.regplot(data=chasm, x=\"Photoperiod\", y=\"Bud\", logistic=True, ci=None)"
   ]
  },
  {
   "cell_type": "code",
   "execution_count": null,
   "id": "799919d8",
   "metadata": {},
   "outputs": [],
   "source": [
    "chasm[\"Likelihood\"] = (chasm.Fit_prob**chasm.Bud)*((1-chasm.Fit_prob)**(1-chasm.Bud))\n",
    "chasm"
   ]
  },
  {
   "cell_type": "code",
   "execution_count": null,
   "id": "b3c72f9a",
   "metadata": {},
   "outputs": [],
   "source": [
    "max_likelihood = chasm[\"Likelihood\"].product()\n",
    "max_likelihood"
   ]
  },
  {
   "cell_type": "code",
   "execution_count": null,
   "id": "cc9b3e51",
   "metadata": {},
   "outputs": [],
   "source": [
    "max_likelihood / null_likelihood"
   ]
  },
  {
   "cell_type": "code",
   "execution_count": null,
   "id": "6c228b7b",
   "metadata": {},
   "outputs": [],
   "source": [
    "np.log(max_likelihood)"
   ]
  },
  {
   "cell_type": "code",
   "execution_count": null,
   "id": "99e5cf1b",
   "metadata": {},
   "outputs": [],
   "source": [
    "residual_deviance = -2*np.log(max_likelihood)\n",
    "residual_deviance"
   ]
  },
  {
   "cell_type": "code",
   "execution_count": null,
   "id": "59c61ba8",
   "metadata": {},
   "outputs": [],
   "source": [
    "G2 = -2*np.log( null_likelihood / max_likelihood)\n",
    "G2"
   ]
  },
  {
   "cell_type": "code",
   "execution_count": null,
   "id": "2ffb0b52",
   "metadata": {},
   "outputs": [],
   "source": [
    "null_deviance - residual_deviance"
   ]
  },
  {
   "cell_type": "code",
   "execution_count": null,
   "id": "5ce44d27",
   "metadata": {},
   "outputs": [],
   "source": [
    "chasm_fit.null_deviance - chasm_fit.deviance"
   ]
  },
  {
   "cell_type": "code",
   "execution_count": null,
   "id": "24f8919c",
   "metadata": {},
   "outputs": [],
   "source": [
    "1 - st.chi2.cdf(G2, df=1)"
   ]
  },
  {
   "cell_type": "code",
   "execution_count": null,
   "id": "34529611",
   "metadata": {},
   "outputs": [],
   "source": [
    "R2_M = 1 - (chasm_fit.deviance / chasm_fit.null_deviance)\n",
    "R2_M"
   ]
  },
  {
   "cell_type": "code",
   "execution_count": null,
   "id": "cfdfeaf9",
   "metadata": {},
   "outputs": [],
   "source": [
    "chasm[\"Null_residual\"] = chasm[\"Bud\"] - pi_hat\n",
    "chasm[\"Residual\"] = chasm[\"Bud\"] - chasm[\"Fit_prob\"]\n",
    "chasm[\"Difference\"] = chasm[\"Fit_prob\"] - pi_hat\n",
    "R2_S = np.sum(chasm[\"Difference\"]**2) / np.sum(chasm[\"Null_residual\"]**2)\n",
    "R2_S"
   ]
  },
  {
   "cell_type": "code",
   "execution_count": null,
   "id": "61498227",
   "metadata": {},
   "outputs": [],
   "source": [
    "1 - ( np.sum( chasm[\"Residual\"]**2 ) / np.sum(chasm[\"Null_residual\"]**2) )"
   ]
  },
  {
   "cell_type": "code",
   "execution_count": null,
   "id": "0619b21a",
   "metadata": {},
   "outputs": [],
   "source": [
    "sns.displot( data=chasm, x=\"Fit_prob\", col=\"Bud\", binwidth=0.2)\n",
    "# plt.savefig(\"chasm_rd_hist.png\")"
   ]
  },
  {
   "cell_type": "code",
   "execution_count": null,
   "id": "1913522b",
   "metadata": {},
   "outputs": [],
   "source": [
    "fit_avgs = chasm.groupby(\"Bud\").agg(Fit_average=('Fit_prob','mean'))\n",
    "fit_avgs"
   ]
  },
  {
   "cell_type": "code",
   "execution_count": null,
   "id": "9106c1a9",
   "metadata": {},
   "outputs": [],
   "source": [
    "R2_D = fit_avgs[\"Fit_average\"][1] - fit_avgs[\"Fit_average\"][0]\n",
    "R2_D"
   ]
  },
  {
   "cell_type": "code",
   "execution_count": null,
   "id": "cbe725d5",
   "metadata": {},
   "outputs": [],
   "source": [
    "st.norm.cdf(-6.136)"
   ]
  },
  {
   "cell_type": "code",
   "execution_count": null,
   "id": "4a4be125",
   "metadata": {},
   "outputs": [],
   "source": [
    "X = pd.DataFrame({\"Bias\":[1,1,1],\n",
    "                  \"Photoperiod\":[13,13.5,14]})\n",
    "predictions = pd.DataFrame({\"Photoperiod\":[13,13.5,14],\n",
    "                            \"Probability\":chasm_fit.predict( X )})\n",
    "predictions"
   ]
  },
  {
   "cell_type": "code",
   "execution_count": null,
   "id": "1c364384",
   "metadata": {},
   "outputs": [],
   "source": [
    "links = pd.DataFrame({\"Photoperiod\":[13,13.5,14],\n",
    "                      \"Link\":np.dot( chasm_fit.params, X.T)})\n",
    "links"
   ]
  },
  {
   "cell_type": "code",
   "execution_count": null,
   "id": "87a4c977",
   "metadata": {},
   "outputs": [],
   "source": [
    "logit( predictions[\"Probability\"] )"
   ]
  },
  {
   "cell_type": "code",
   "execution_count": null,
   "id": "f97cb0e5",
   "metadata": {},
   "outputs": [],
   "source": [
    "chasm_fit.cov_params()"
   ]
  },
  {
   "cell_type": "code",
   "execution_count": null,
   "id": "8f924201",
   "metadata": {},
   "outputs": [],
   "source": [
    "np.sqrt(147.190287 + 2*13*(-10.920255) + (13**2)*0.810638)"
   ]
  },
  {
   "cell_type": "code",
   "execution_count": null,
   "id": "a4cfa0d8",
   "metadata": {},
   "outputs": [],
   "source": [
    "links[\"SE\"] = np.sqrt( np.diag( np.dot( np.dot(X,\n",
    "                                               chasm_fit.cov_params()),\n",
    "                                        X.T)))\n",
    "links"
   ]
  },
  {
   "cell_type": "code",
   "execution_count": null,
   "id": "bc883a36",
   "metadata": {},
   "outputs": [],
   "source": [
    "links[\"Lower\"] = links[\"Link\"] - 1.96*links[\"SE\"]\n",
    "links[\"Upper\"] = links[\"Link\"] + 1.96*links[\"SE\"]\n",
    "links"
   ]
  },
  {
   "cell_type": "code",
   "execution_count": null,
   "id": "e7233fa3",
   "metadata": {},
   "outputs": [],
   "source": [
    "predictions[\"Lower\"] = expit( links[\"Lower\"])\n",
    "predictions[\"Upper\"] = expit( links[\"Upper\"])\n",
    "predictions"
   ]
  },
  {
   "cell_type": "code",
   "execution_count": null,
   "id": "21d7c9c6",
   "metadata": {},
   "outputs": [],
   "source": [
    "sns.regplot(data=chasm, x=\"Photoperiod\", y=\"Bud\", logistic=True, ci=95)\n",
    "# plt.savefig(\"chasm_fit_ci.png\")"
   ]
  },
  {
   "cell_type": "code",
   "execution_count": null,
   "id": "a819a89f",
   "metadata": {},
   "outputs": [],
   "source": []
  }
 ],
 "metadata": {
  "kernelspec": {
   "display_name": "Python 3 (ipykernel)",
   "language": "python",
   "name": "python3"
  },
  "language_info": {
   "codemirror_mode": {
    "name": "ipython",
    "version": 3
   },
   "file_extension": ".py",
   "mimetype": "text/x-python",
   "name": "python",
   "nbconvert_exporter": "python",
   "pygments_lexer": "ipython3",
   "version": "3.8.12"
  }
 },
 "nbformat": 4,
 "nbformat_minor": 5
}
