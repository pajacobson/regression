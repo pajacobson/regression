{
 "cells": [
  {
   "cell_type": "code",
   "execution_count": null,
   "id": "d47f6ba5",
   "metadata": {},
   "outputs": [],
   "source": [
    "import numpy as np\n",
    "import pandas as pd\n",
    "import matplotlib.pyplot as plt\n",
    "import seaborn as sns\n",
    "import scipy.stats as st"
   ]
  },
  {
   "cell_type": "code",
   "execution_count": null,
   "id": "71b788a7",
   "metadata": {},
   "outputs": [],
   "source": [
    "sns.set_theme()\n",
    "plt.rcParams['figure.figsize'] = [8,8]"
   ]
  },
  {
   "cell_type": "code",
   "execution_count": null,
   "id": "b667439c",
   "metadata": {},
   "outputs": [],
   "source": [
    "st.binom.pmf(k=np.linspace(0,4,num=5),n=4,p=0.5)"
   ]
  },
  {
   "cell_type": "code",
   "execution_count": null,
   "id": "a37e4f61",
   "metadata": {},
   "outputs": [],
   "source": [
    "x = np.linspace(0,20,num=1000)\n",
    "plt.plot(x, st.norm.pdf(x,loc=10,scale=np.sqrt(5)), color='m', lw=3 )\n",
    "x = np.linspace(0,20,num=21)\n",
    "plt.plot( x, st.binom.pmf(x,n=20,p=0.5), 'bo')\n",
    "plt.vlines(x, 0, st.binom.pmf(x, n=20, p=0.5), color='b', lw=5, alpha=0.5)\n",
    "plt.xlabel(\"Number of successes\")\n",
    "plt.ylabel(\"Probability\")\n",
    "plt.title(\"Binomial distribution: n=20, p=0.5\")"
   ]
  },
  {
   "cell_type": "code",
   "execution_count": null,
   "id": "9787d8c8",
   "metadata": {},
   "outputs": [],
   "source": [
    "x = np.linspace(0,50,num=1000)\n",
    "plt.plot(x, st.norm.pdf(x,loc=25,scale=np.sqrt(22.5)), color='m', lw=3 )\n",
    "x = np.linspace(0,50,num=51)\n",
    "plt.plot( x, st.binom.pmf(x,n=250,p=0.1), 'bo')\n",
    "plt.vlines(x, 0, st.binom.pmf(x, n=250, p=0.1), color='b', lw=3, alpha=0.5)\n",
    "plt.xlabel(\"Number of successes\")\n",
    "plt.ylabel(\"Probability\")\n",
    "plt.title(\"Binomial distribution: n=250, p=0.1\")\n"
   ]
  },
  {
   "cell_type": "code",
   "execution_count": null,
   "id": "713fe69e",
   "metadata": {},
   "outputs": [],
   "source": [
    "fig, (ax1, ax2) = plt.subplots(1, 2)\n",
    "\n",
    "x = np.linspace(0,20,num=1000)\n",
    "ax1.plot(x, st.norm.pdf(x,loc=10,scale=np.sqrt(5)), color='m', lw=3 )\n",
    "x = np.linspace(0,20,num=21)\n",
    "ax1.plot( x, st.binom.pmf(x,n=20,p=0.5), 'bo')\n",
    "ax1.vlines(x, 0, st.binom.pmf(x, n=20, p=0.5), color='b', lw=3, alpha=0.5)\n",
    "ax1.set_xlabel(\"Number of successes\")\n",
    "ax1.set_ylabel(\"Probability\")\n",
    "ax1.set_title(\"Binomial distribution: n=20, p=0.5\")\n",
    "\n",
    "x = np.linspace(0,50,num=1000)\n",
    "ax2.plot(x, st.norm.pdf(x,loc=25,scale=np.sqrt(22.5)), color='m', lw=3 )\n",
    "x = np.linspace(0,50,num=51)\n",
    "ax2.plot( x, st.binom.pmf(x,n=250,p=0.1), 'bo')\n",
    "ax2.vlines(x, 0, st.binom.pmf(x, n=250, p=0.1), color='b', lw=2, alpha=0.5)\n",
    "ax2.set_xlabel(\"Number of successes\")\n",
    "ax2.set_title(\"Binomial distribution: n=250, p=0.1\")\n",
    "plt.savefig(\"binorm.png\")"
   ]
  },
  {
   "cell_type": "code",
   "execution_count": null,
   "id": "5f051e21",
   "metadata": {},
   "outputs": [],
   "source": [
    "fig, (ax1, ax2) = plt.subplots(1, 2)\n",
    "\n",
    "x = np.linspace(0,6,num=1000)\n",
    "ax1.plot(x, st.norm.pdf(x,loc=1.8,scale=np.sqrt(1.122)), color='m', lw=3 )\n",
    "x = np.linspace(0,6,num=7)\n",
    "ax1.plot( x, st.binom.pmf(x,n=6,p=0.3), 'bo')\n",
    "ax1.vlines(x, 0, st.binom.pmf(x, n=6, p=0.3), color='b', lw=3, alpha=0.5)\n",
    "ax1.set_xlabel(\"Number of successes\")# ax1.ylabel(\"Probability\")\n",
    "ax1.set_ylabel(\"Probability\")\n",
    "ax1.set_title(\"Binomial distribution: n=6, p=0.3\")\n",
    "\n",
    "x = np.linspace(0,20,num=1000)\n",
    "ax2.plot(x, st.norm.pdf(x,loc=18,scale=np.sqrt(1.342)), color='m', lw=3 )\n",
    "x = np.linspace(0,20,num=21)\n",
    "ax2.plot( x, st.binom.pmf(x,n=20,p=0.9), 'bo')\n",
    "ax2.vlines(x, 0, st.binom.pmf(x, n=20, p=0.9), color='b', lw=2, alpha=0.5)\n",
    "ax2.set_xlabel(\"Number of successes\")\n",
    "ax2.set_title(\"Binomial distribution: n=20, p=0.9\")\n",
    "plt.savefig(\"binosymm.png\")"
   ]
  },
  {
   "cell_type": "code",
   "execution_count": null,
   "id": "4b5b8f2b",
   "metadata": {},
   "outputs": [],
   "source": []
  }
 ],
 "metadata": {
  "kernelspec": {
   "display_name": "Python 3 (ipykernel)",
   "language": "python",
   "name": "python3"
  },
  "language_info": {
   "codemirror_mode": {
    "name": "ipython",
    "version": 3
   },
   "file_extension": ".py",
   "mimetype": "text/x-python",
   "name": "python",
   "nbconvert_exporter": "python",
   "pygments_lexer": "ipython3",
   "version": "3.8.12"
  }
 },
 "nbformat": 4,
 "nbformat_minor": 5
}
