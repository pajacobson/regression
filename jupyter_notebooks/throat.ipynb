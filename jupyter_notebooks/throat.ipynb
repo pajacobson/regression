{
 "cells": [
  {
   "cell_type": "code",
   "execution_count": null,
   "id": "96e61e58",
   "metadata": {},
   "outputs": [],
   "source": [
    "import numpy as np\n",
    "import pandas as pd\n",
    "import matplotlib.pyplot as plt\n",
    "import seaborn as sns\n",
    "import statsmodels.api as sm\n",
    "import statsmodels.formula.api as smf\n",
    "from scipy.stats import chi2\n",
    "from sklearn import metrics"
   ]
  },
  {
   "cell_type": "code",
   "execution_count": null,
   "id": "b16bce57",
   "metadata": {},
   "outputs": [],
   "source": [
    "import warnings\n",
    "warnings.filterwarnings('ignore')"
   ]
  },
  {
   "cell_type": "code",
   "execution_count": null,
   "id": "988fad3a",
   "metadata": {},
   "outputs": [],
   "source": [
    "sns.set_theme()\n",
    "plt.rcParams['figure.figsize'] = [8,8]"
   ]
  },
  {
   "cell_type": "code",
   "execution_count": null,
   "id": "24e9f302",
   "metadata": {},
   "outputs": [],
   "source": [
    "throat = pd.read_csv(\"../datasets/throat.csv\")\n",
    "throat"
   ]
  },
  {
   "cell_type": "code",
   "execution_count": null,
   "id": "f416d355",
   "metadata": {},
   "outputs": [],
   "source": [
    "pi_null = throat[\"SoreThroat\"].mean()\n",
    "pi_null"
   ]
  },
  {
   "cell_type": "code",
   "execution_count": null,
   "id": "34957ed6",
   "metadata": {},
   "outputs": [],
   "source": [
    "throat_null = np.log( pi_null / (1 - pi_null) )\n",
    "throat_null"
   ]
  },
  {
   "cell_type": "code",
   "execution_count": null,
   "id": "fbd2bcab",
   "metadata": {},
   "outputs": [],
   "source": [
    "throat_model = smf.glm(\"SoreThroat ~ Duration\", data=throat, family=sm.families.Binomial())\n",
    "throat_fit = throat_model.fit()\n",
    "throat_fit.params"
   ]
  },
  {
   "cell_type": "code",
   "execution_count": null,
   "id": "167e96d7",
   "metadata": {},
   "outputs": [],
   "source": [
    "1 - chi2.cdf(throat_fit.null_deviance - throat_fit.deviance, df=1)"
   ]
  },
  {
   "cell_type": "code",
   "execution_count": null,
   "id": "399ada58",
   "metadata": {},
   "outputs": [],
   "source": [
    "transition = -throat_fit.params[0] / throat_fit.params[1]\n",
    "transition"
   ]
  },
  {
   "cell_type": "code",
   "execution_count": null,
   "id": "d2657e11",
   "metadata": {},
   "outputs": [],
   "source": [
    "sns.regplot(data=throat, x=\"Duration\", y=\"SoreThroat\", logistic=True, ci=None)\n",
    "plt.axvline( transition, linestyle='--')\n",
    "plt.xlim(10,140)\n",
    "# plt.savefig(\"throat_fit.png\")"
   ]
  },
  {
   "cell_type": "code",
   "execution_count": null,
   "id": "6c834652",
   "metadata": {},
   "outputs": [],
   "source": [
    "R2_M = 1 - (throat_fit.deviance / throat_fit.null_deviance )\n",
    "R2_M"
   ]
  },
  {
   "cell_type": "code",
   "execution_count": null,
   "id": "ef1d26af",
   "metadata": {},
   "outputs": [],
   "source": [
    "throat[\"Null_residual\"] = throat[\"SoreThroat\"] - pi_null\n",
    "throat[\"Residual\"] = throat[\"SoreThroat\"] - throat_fit.fittedvalues\n",
    "throat[\"Difference\"] = throat_fit.fittedvalues - pi_null\n",
    "R2_S = np.sum(throat[\"Difference\"]**2) / np.sum(throat[\"Null_residual\"]**2)\n",
    "R2_S"
   ]
  },
  {
   "cell_type": "code",
   "execution_count": null,
   "id": "63ef45f1",
   "metadata": {},
   "outputs": [],
   "source": [
    "throat[\"Fit_prob\"] = throat_fit.fittedvalues\n",
    "sns.displot( data=throat, x=\"Fit_prob\", col=\"SoreThroat\", binwidth=0.2)\n",
    "# plt.savefig(\"throat_rd_hist.png\")"
   ]
  },
  {
   "cell_type": "code",
   "execution_count": null,
   "id": "86461d1d",
   "metadata": {},
   "outputs": [],
   "source": [
    "fit_avgs = throat.groupby(\"SoreThroat\").agg(Fit_average=('Fit_prob','mean'))\n",
    "fit_avgs"
   ]
  },
  {
   "cell_type": "code",
   "execution_count": null,
   "id": "0a90af2a",
   "metadata": {},
   "outputs": [],
   "source": [
    "R2_D = fit_avgs[\"Fit_average\"][1] - fit_avgs[\"Fit_average\"][0]\n",
    "R2_D"
   ]
  },
  {
   "cell_type": "code",
   "execution_count": null,
   "id": "9dfe8250",
   "metadata": {},
   "outputs": [],
   "source": [
    "print( throat_fit.summary())"
   ]
  },
  {
   "cell_type": "code",
   "execution_count": null,
   "id": "6c5bee40",
   "metadata": {},
   "outputs": [],
   "source": [
    "throat.groupby(\"Duration\").agg(Number=(\"Duration\",\"size\"),\n",
    "                               Percentage=(\"SoreThroat\",\"mean\"))"
   ]
  },
  {
   "cell_type": "code",
   "execution_count": null,
   "id": "e413514b",
   "metadata": {},
   "outputs": [],
   "source": [
    "np.sum( throat_fit.resid_response**2 )"
   ]
  },
  {
   "cell_type": "code",
   "execution_count": null,
   "id": "921c950d",
   "metadata": {},
   "outputs": [],
   "source": []
  }
 ],
 "metadata": {
  "kernelspec": {
   "display_name": "Python 3 (ipykernel)",
   "language": "python",
   "name": "python3"
  },
  "language_info": {
   "codemirror_mode": {
    "name": "ipython",
    "version": 3
   },
   "file_extension": ".py",
   "mimetype": "text/x-python",
   "name": "python",
   "nbconvert_exporter": "python",
   "pygments_lexer": "ipython3",
   "version": "3.8.12"
  }
 },
 "nbformat": 4,
 "nbformat_minor": 5
}
